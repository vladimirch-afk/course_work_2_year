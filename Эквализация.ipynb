{
  "nbformat": 4,
  "nbformat_minor": 0,
  "metadata": {
    "colab": {
      "provenance": []
    },
    "kernelspec": {
      "name": "python3",
      "display_name": "Python 3"
    },
    "language_info": {
      "name": "python"
    },
    "widgets": {
      "application/vnd.jupyter.widget-state+json": {
        "70fc2e78762e405daf7ea33db916ec6e": {
          "model_module": "@jupyter-widgets/controls",
          "model_name": "HBoxModel",
          "model_module_version": "1.5.0",
          "state": {
            "_dom_classes": [],
            "_model_module": "@jupyter-widgets/controls",
            "_model_module_version": "1.5.0",
            "_model_name": "HBoxModel",
            "_view_count": null,
            "_view_module": "@jupyter-widgets/controls",
            "_view_module_version": "1.5.0",
            "_view_name": "HBoxView",
            "box_style": "",
            "children": [
              "IPY_MODEL_21ad14db366541f49f6ba5c18112776f",
              "IPY_MODEL_fe7b4e919e064b968becf972a3764b30",
              "IPY_MODEL_3cab9e81725a438ea97a8f5491888e84"
            ],
            "layout": "IPY_MODEL_f4b40a09bbf4479bb6334ff489219624"
          }
        },
        "21ad14db366541f49f6ba5c18112776f": {
          "model_module": "@jupyter-widgets/controls",
          "model_name": "HTMLModel",
          "model_module_version": "1.5.0",
          "state": {
            "_dom_classes": [],
            "_model_module": "@jupyter-widgets/controls",
            "_model_module_version": "1.5.0",
            "_model_name": "HTMLModel",
            "_view_count": null,
            "_view_module": "@jupyter-widgets/controls",
            "_view_module_version": "1.5.0",
            "_view_name": "HTMLView",
            "description": "",
            "description_tooltip": null,
            "layout": "IPY_MODEL_17bf99ba7a5343efbb09074f362ae983",
            "placeholder": "​",
            "style": "IPY_MODEL_3419bdd276924f8d83da53471c0e5482",
            "value": "100%"
          }
        },
        "fe7b4e919e064b968becf972a3764b30": {
          "model_module": "@jupyter-widgets/controls",
          "model_name": "FloatProgressModel",
          "model_module_version": "1.5.0",
          "state": {
            "_dom_classes": [],
            "_model_module": "@jupyter-widgets/controls",
            "_model_module_version": "1.5.0",
            "_model_name": "FloatProgressModel",
            "_view_count": null,
            "_view_module": "@jupyter-widgets/controls",
            "_view_module_version": "1.5.0",
            "_view_name": "ProgressView",
            "bar_style": "success",
            "description": "",
            "description_tooltip": null,
            "layout": "IPY_MODEL_e7886c9d73014a10888c6f637f46e2ef",
            "max": 100,
            "min": 0,
            "orientation": "horizontal",
            "style": "IPY_MODEL_ded554aa1e074b8480df2804346f48a5",
            "value": 100
          }
        },
        "3cab9e81725a438ea97a8f5491888e84": {
          "model_module": "@jupyter-widgets/controls",
          "model_name": "HTMLModel",
          "model_module_version": "1.5.0",
          "state": {
            "_dom_classes": [],
            "_model_module": "@jupyter-widgets/controls",
            "_model_module_version": "1.5.0",
            "_model_name": "HTMLModel",
            "_view_count": null,
            "_view_module": "@jupyter-widgets/controls",
            "_view_module_version": "1.5.0",
            "_view_name": "HTMLView",
            "description": "",
            "description_tooltip": null,
            "layout": "IPY_MODEL_aa46936250794e328af7a4f754e108a7",
            "placeholder": "​",
            "style": "IPY_MODEL_a5d16aa3af3a48b490be633642437a53",
            "value": " 100/100 [00:27&lt;00:00,  4.66epoch/s, loss=64.4, val_loss=53]"
          }
        },
        "f4b40a09bbf4479bb6334ff489219624": {
          "model_module": "@jupyter-widgets/base",
          "model_name": "LayoutModel",
          "model_module_version": "1.2.0",
          "state": {
            "_model_module": "@jupyter-widgets/base",
            "_model_module_version": "1.2.0",
            "_model_name": "LayoutModel",
            "_view_count": null,
            "_view_module": "@jupyter-widgets/base",
            "_view_module_version": "1.2.0",
            "_view_name": "LayoutView",
            "align_content": null,
            "align_items": null,
            "align_self": null,
            "border": null,
            "bottom": null,
            "display": null,
            "flex": null,
            "flex_flow": null,
            "grid_area": null,
            "grid_auto_columns": null,
            "grid_auto_flow": null,
            "grid_auto_rows": null,
            "grid_column": null,
            "grid_gap": null,
            "grid_row": null,
            "grid_template_areas": null,
            "grid_template_columns": null,
            "grid_template_rows": null,
            "height": null,
            "justify_content": null,
            "justify_items": null,
            "left": null,
            "margin": null,
            "max_height": null,
            "max_width": null,
            "min_height": null,
            "min_width": null,
            "object_fit": null,
            "object_position": null,
            "order": null,
            "overflow": null,
            "overflow_x": null,
            "overflow_y": null,
            "padding": null,
            "right": null,
            "top": null,
            "visibility": null,
            "width": null
          }
        },
        "17bf99ba7a5343efbb09074f362ae983": {
          "model_module": "@jupyter-widgets/base",
          "model_name": "LayoutModel",
          "model_module_version": "1.2.0",
          "state": {
            "_model_module": "@jupyter-widgets/base",
            "_model_module_version": "1.2.0",
            "_model_name": "LayoutModel",
            "_view_count": null,
            "_view_module": "@jupyter-widgets/base",
            "_view_module_version": "1.2.0",
            "_view_name": "LayoutView",
            "align_content": null,
            "align_items": null,
            "align_self": null,
            "border": null,
            "bottom": null,
            "display": null,
            "flex": null,
            "flex_flow": null,
            "grid_area": null,
            "grid_auto_columns": null,
            "grid_auto_flow": null,
            "grid_auto_rows": null,
            "grid_column": null,
            "grid_gap": null,
            "grid_row": null,
            "grid_template_areas": null,
            "grid_template_columns": null,
            "grid_template_rows": null,
            "height": null,
            "justify_content": null,
            "justify_items": null,
            "left": null,
            "margin": null,
            "max_height": null,
            "max_width": null,
            "min_height": null,
            "min_width": null,
            "object_fit": null,
            "object_position": null,
            "order": null,
            "overflow": null,
            "overflow_x": null,
            "overflow_y": null,
            "padding": null,
            "right": null,
            "top": null,
            "visibility": null,
            "width": null
          }
        },
        "3419bdd276924f8d83da53471c0e5482": {
          "model_module": "@jupyter-widgets/controls",
          "model_name": "DescriptionStyleModel",
          "model_module_version": "1.5.0",
          "state": {
            "_model_module": "@jupyter-widgets/controls",
            "_model_module_version": "1.5.0",
            "_model_name": "DescriptionStyleModel",
            "_view_count": null,
            "_view_module": "@jupyter-widgets/base",
            "_view_module_version": "1.2.0",
            "_view_name": "StyleView",
            "description_width": ""
          }
        },
        "e7886c9d73014a10888c6f637f46e2ef": {
          "model_module": "@jupyter-widgets/base",
          "model_name": "LayoutModel",
          "model_module_version": "1.2.0",
          "state": {
            "_model_module": "@jupyter-widgets/base",
            "_model_module_version": "1.2.0",
            "_model_name": "LayoutModel",
            "_view_count": null,
            "_view_module": "@jupyter-widgets/base",
            "_view_module_version": "1.2.0",
            "_view_name": "LayoutView",
            "align_content": null,
            "align_items": null,
            "align_self": null,
            "border": null,
            "bottom": null,
            "display": null,
            "flex": null,
            "flex_flow": null,
            "grid_area": null,
            "grid_auto_columns": null,
            "grid_auto_flow": null,
            "grid_auto_rows": null,
            "grid_column": null,
            "grid_gap": null,
            "grid_row": null,
            "grid_template_areas": null,
            "grid_template_columns": null,
            "grid_template_rows": null,
            "height": null,
            "justify_content": null,
            "justify_items": null,
            "left": null,
            "margin": null,
            "max_height": null,
            "max_width": null,
            "min_height": null,
            "min_width": null,
            "object_fit": null,
            "object_position": null,
            "order": null,
            "overflow": null,
            "overflow_x": null,
            "overflow_y": null,
            "padding": null,
            "right": null,
            "top": null,
            "visibility": null,
            "width": null
          }
        },
        "ded554aa1e074b8480df2804346f48a5": {
          "model_module": "@jupyter-widgets/controls",
          "model_name": "ProgressStyleModel",
          "model_module_version": "1.5.0",
          "state": {
            "_model_module": "@jupyter-widgets/controls",
            "_model_module_version": "1.5.0",
            "_model_name": "ProgressStyleModel",
            "_view_count": null,
            "_view_module": "@jupyter-widgets/base",
            "_view_module_version": "1.2.0",
            "_view_name": "StyleView",
            "bar_color": null,
            "description_width": ""
          }
        },
        "aa46936250794e328af7a4f754e108a7": {
          "model_module": "@jupyter-widgets/base",
          "model_name": "LayoutModel",
          "model_module_version": "1.2.0",
          "state": {
            "_model_module": "@jupyter-widgets/base",
            "_model_module_version": "1.2.0",
            "_model_name": "LayoutModel",
            "_view_count": null,
            "_view_module": "@jupyter-widgets/base",
            "_view_module_version": "1.2.0",
            "_view_name": "LayoutView",
            "align_content": null,
            "align_items": null,
            "align_self": null,
            "border": null,
            "bottom": null,
            "display": null,
            "flex": null,
            "flex_flow": null,
            "grid_area": null,
            "grid_auto_columns": null,
            "grid_auto_flow": null,
            "grid_auto_rows": null,
            "grid_column": null,
            "grid_gap": null,
            "grid_row": null,
            "grid_template_areas": null,
            "grid_template_columns": null,
            "grid_template_rows": null,
            "height": null,
            "justify_content": null,
            "justify_items": null,
            "left": null,
            "margin": null,
            "max_height": null,
            "max_width": null,
            "min_height": null,
            "min_width": null,
            "object_fit": null,
            "object_position": null,
            "order": null,
            "overflow": null,
            "overflow_x": null,
            "overflow_y": null,
            "padding": null,
            "right": null,
            "top": null,
            "visibility": null,
            "width": null
          }
        },
        "a5d16aa3af3a48b490be633642437a53": {
          "model_module": "@jupyter-widgets/controls",
          "model_name": "DescriptionStyleModel",
          "model_module_version": "1.5.0",
          "state": {
            "_model_module": "@jupyter-widgets/controls",
            "_model_module_version": "1.5.0",
            "_model_name": "DescriptionStyleModel",
            "_view_count": null,
            "_view_module": "@jupyter-widgets/base",
            "_view_module_version": "1.2.0",
            "_view_name": "StyleView",
            "description_width": ""
          }
        },
        "393aaad873654597a430edc7bd5f2c89": {
          "model_module": "@jupyter-widgets/controls",
          "model_name": "HBoxModel",
          "model_module_version": "1.5.0",
          "state": {
            "_dom_classes": [],
            "_model_module": "@jupyter-widgets/controls",
            "_model_module_version": "1.5.0",
            "_model_name": "HBoxModel",
            "_view_count": null,
            "_view_module": "@jupyter-widgets/controls",
            "_view_module_version": "1.5.0",
            "_view_name": "HBoxView",
            "box_style": "",
            "children": [
              "IPY_MODEL_9e438244f1dd465bb4e0b5d3d5a6eafd",
              "IPY_MODEL_1b67ae6490ed416eaaa3c812f207498d",
              "IPY_MODEL_ab4f999227a24131a6bbb04cc1f4e109"
            ],
            "layout": "IPY_MODEL_900693db1f1743619d7cf66efeec27dc"
          }
        },
        "9e438244f1dd465bb4e0b5d3d5a6eafd": {
          "model_module": "@jupyter-widgets/controls",
          "model_name": "HTMLModel",
          "model_module_version": "1.5.0",
          "state": {
            "_dom_classes": [],
            "_model_module": "@jupyter-widgets/controls",
            "_model_module_version": "1.5.0",
            "_model_name": "HTMLModel",
            "_view_count": null,
            "_view_module": "@jupyter-widgets/controls",
            "_view_module_version": "1.5.0",
            "_view_name": "HTMLView",
            "description": "",
            "description_tooltip": null,
            "layout": "IPY_MODEL_51d24332963b41069a48648eb1427b77",
            "placeholder": "​",
            "style": "IPY_MODEL_adc437e470114b0bb42f5df20db9b521",
            "value": " 57%"
          }
        },
        "1b67ae6490ed416eaaa3c812f207498d": {
          "model_module": "@jupyter-widgets/controls",
          "model_name": "FloatProgressModel",
          "model_module_version": "1.5.0",
          "state": {
            "_dom_classes": [],
            "_model_module": "@jupyter-widgets/controls",
            "_model_module_version": "1.5.0",
            "_model_name": "FloatProgressModel",
            "_view_count": null,
            "_view_module": "@jupyter-widgets/controls",
            "_view_module_version": "1.5.0",
            "_view_name": "ProgressView",
            "bar_style": "",
            "description": "",
            "description_tooltip": null,
            "layout": "IPY_MODEL_2691898680f34cf694f3caf061d1761f",
            "max": 7,
            "min": 0,
            "orientation": "horizontal",
            "style": "IPY_MODEL_bec2398e0a9e41879b57a2adab4d9573",
            "value": 7
          }
        },
        "ab4f999227a24131a6bbb04cc1f4e109": {
          "model_module": "@jupyter-widgets/controls",
          "model_name": "HTMLModel",
          "model_module_version": "1.5.0",
          "state": {
            "_dom_classes": [],
            "_model_module": "@jupyter-widgets/controls",
            "_model_module_version": "1.5.0",
            "_model_name": "HTMLModel",
            "_view_count": null,
            "_view_module": "@jupyter-widgets/controls",
            "_view_module_version": "1.5.0",
            "_view_name": "HTMLView",
            "description": "",
            "description_tooltip": null,
            "layout": "IPY_MODEL_b295a55967f6417f9ead6404a176ba18",
            "placeholder": "​",
            "style": "IPY_MODEL_a546bcec39a74eb4ae7d8cb15d1a811e",
            "value": " 4.00/7.00 [00:00&lt;00:00, 38.7batch/s, loss=69.6]"
          }
        },
        "900693db1f1743619d7cf66efeec27dc": {
          "model_module": "@jupyter-widgets/base",
          "model_name": "LayoutModel",
          "model_module_version": "1.2.0",
          "state": {
            "_model_module": "@jupyter-widgets/base",
            "_model_module_version": "1.2.0",
            "_model_name": "LayoutModel",
            "_view_count": null,
            "_view_module": "@jupyter-widgets/base",
            "_view_module_version": "1.2.0",
            "_view_name": "LayoutView",
            "align_content": null,
            "align_items": null,
            "align_self": null,
            "border": null,
            "bottom": null,
            "display": null,
            "flex": null,
            "flex_flow": null,
            "grid_area": null,
            "grid_auto_columns": null,
            "grid_auto_flow": null,
            "grid_auto_rows": null,
            "grid_column": null,
            "grid_gap": null,
            "grid_row": null,
            "grid_template_areas": null,
            "grid_template_columns": null,
            "grid_template_rows": null,
            "height": null,
            "justify_content": null,
            "justify_items": null,
            "left": null,
            "margin": null,
            "max_height": null,
            "max_width": null,
            "min_height": null,
            "min_width": null,
            "object_fit": null,
            "object_position": null,
            "order": null,
            "overflow": null,
            "overflow_x": null,
            "overflow_y": null,
            "padding": null,
            "right": null,
            "top": null,
            "visibility": "hidden",
            "width": null
          }
        },
        "51d24332963b41069a48648eb1427b77": {
          "model_module": "@jupyter-widgets/base",
          "model_name": "LayoutModel",
          "model_module_version": "1.2.0",
          "state": {
            "_model_module": "@jupyter-widgets/base",
            "_model_module_version": "1.2.0",
            "_model_name": "LayoutModel",
            "_view_count": null,
            "_view_module": "@jupyter-widgets/base",
            "_view_module_version": "1.2.0",
            "_view_name": "LayoutView",
            "align_content": null,
            "align_items": null,
            "align_self": null,
            "border": null,
            "bottom": null,
            "display": null,
            "flex": null,
            "flex_flow": null,
            "grid_area": null,
            "grid_auto_columns": null,
            "grid_auto_flow": null,
            "grid_auto_rows": null,
            "grid_column": null,
            "grid_gap": null,
            "grid_row": null,
            "grid_template_areas": null,
            "grid_template_columns": null,
            "grid_template_rows": null,
            "height": null,
            "justify_content": null,
            "justify_items": null,
            "left": null,
            "margin": null,
            "max_height": null,
            "max_width": null,
            "min_height": null,
            "min_width": null,
            "object_fit": null,
            "object_position": null,
            "order": null,
            "overflow": null,
            "overflow_x": null,
            "overflow_y": null,
            "padding": null,
            "right": null,
            "top": null,
            "visibility": null,
            "width": null
          }
        },
        "adc437e470114b0bb42f5df20db9b521": {
          "model_module": "@jupyter-widgets/controls",
          "model_name": "DescriptionStyleModel",
          "model_module_version": "1.5.0",
          "state": {
            "_model_module": "@jupyter-widgets/controls",
            "_model_module_version": "1.5.0",
            "_model_name": "DescriptionStyleModel",
            "_view_count": null,
            "_view_module": "@jupyter-widgets/base",
            "_view_module_version": "1.2.0",
            "_view_name": "StyleView",
            "description_width": ""
          }
        },
        "2691898680f34cf694f3caf061d1761f": {
          "model_module": "@jupyter-widgets/base",
          "model_name": "LayoutModel",
          "model_module_version": "1.2.0",
          "state": {
            "_model_module": "@jupyter-widgets/base",
            "_model_module_version": "1.2.0",
            "_model_name": "LayoutModel",
            "_view_count": null,
            "_view_module": "@jupyter-widgets/base",
            "_view_module_version": "1.2.0",
            "_view_name": "LayoutView",
            "align_content": null,
            "align_items": null,
            "align_self": null,
            "border": null,
            "bottom": null,
            "display": null,
            "flex": null,
            "flex_flow": null,
            "grid_area": null,
            "grid_auto_columns": null,
            "grid_auto_flow": null,
            "grid_auto_rows": null,
            "grid_column": null,
            "grid_gap": null,
            "grid_row": null,
            "grid_template_areas": null,
            "grid_template_columns": null,
            "grid_template_rows": null,
            "height": null,
            "justify_content": null,
            "justify_items": null,
            "left": null,
            "margin": null,
            "max_height": null,
            "max_width": null,
            "min_height": null,
            "min_width": null,
            "object_fit": null,
            "object_position": null,
            "order": null,
            "overflow": null,
            "overflow_x": null,
            "overflow_y": null,
            "padding": null,
            "right": null,
            "top": null,
            "visibility": null,
            "width": null
          }
        },
        "bec2398e0a9e41879b57a2adab4d9573": {
          "model_module": "@jupyter-widgets/controls",
          "model_name": "ProgressStyleModel",
          "model_module_version": "1.5.0",
          "state": {
            "_model_module": "@jupyter-widgets/controls",
            "_model_module_version": "1.5.0",
            "_model_name": "ProgressStyleModel",
            "_view_count": null,
            "_view_module": "@jupyter-widgets/base",
            "_view_module_version": "1.2.0",
            "_view_name": "StyleView",
            "bar_color": null,
            "description_width": ""
          }
        },
        "b295a55967f6417f9ead6404a176ba18": {
          "model_module": "@jupyter-widgets/base",
          "model_name": "LayoutModel",
          "model_module_version": "1.2.0",
          "state": {
            "_model_module": "@jupyter-widgets/base",
            "_model_module_version": "1.2.0",
            "_model_name": "LayoutModel",
            "_view_count": null,
            "_view_module": "@jupyter-widgets/base",
            "_view_module_version": "1.2.0",
            "_view_name": "LayoutView",
            "align_content": null,
            "align_items": null,
            "align_self": null,
            "border": null,
            "bottom": null,
            "display": null,
            "flex": null,
            "flex_flow": null,
            "grid_area": null,
            "grid_auto_columns": null,
            "grid_auto_flow": null,
            "grid_auto_rows": null,
            "grid_column": null,
            "grid_gap": null,
            "grid_row": null,
            "grid_template_areas": null,
            "grid_template_columns": null,
            "grid_template_rows": null,
            "height": null,
            "justify_content": null,
            "justify_items": null,
            "left": null,
            "margin": null,
            "max_height": null,
            "max_width": null,
            "min_height": null,
            "min_width": null,
            "object_fit": null,
            "object_position": null,
            "order": null,
            "overflow": null,
            "overflow_x": null,
            "overflow_y": null,
            "padding": null,
            "right": null,
            "top": null,
            "visibility": null,
            "width": null
          }
        },
        "a546bcec39a74eb4ae7d8cb15d1a811e": {
          "model_module": "@jupyter-widgets/controls",
          "model_name": "DescriptionStyleModel",
          "model_module_version": "1.5.0",
          "state": {
            "_model_module": "@jupyter-widgets/controls",
            "_model_module_version": "1.5.0",
            "_model_name": "DescriptionStyleModel",
            "_view_count": null,
            "_view_module": "@jupyter-widgets/base",
            "_view_module_version": "1.2.0",
            "_view_name": "StyleView",
            "description_width": ""
          }
        },
        "2aa6a1c453cb42ccae6d5c74d7497ebb": {
          "model_module": "@jupyter-widgets/controls",
          "model_name": "HBoxModel",
          "model_module_version": "1.5.0",
          "state": {
            "_dom_classes": [],
            "_model_module": "@jupyter-widgets/controls",
            "_model_module_version": "1.5.0",
            "_model_name": "HBoxModel",
            "_view_count": null,
            "_view_module": "@jupyter-widgets/controls",
            "_view_module_version": "1.5.0",
            "_view_name": "HBoxView",
            "box_style": "",
            "children": [
              "IPY_MODEL_539ddc88f27249dd8f78d2ca937e7064",
              "IPY_MODEL_33c7d23464be4fd5bbcb733e58b1a596",
              "IPY_MODEL_ac4e8a35b46a4f8abcdf0c277bf3593c"
            ],
            "layout": "IPY_MODEL_ffdcc832decf456c88302c41f93ea07a"
          }
        },
        "539ddc88f27249dd8f78d2ca937e7064": {
          "model_module": "@jupyter-widgets/controls",
          "model_name": "HTMLModel",
          "model_module_version": "1.5.0",
          "state": {
            "_dom_classes": [],
            "_model_module": "@jupyter-widgets/controls",
            "_model_module_version": "1.5.0",
            "_model_name": "HTMLModel",
            "_view_count": null,
            "_view_module": "@jupyter-widgets/controls",
            "_view_module_version": "1.5.0",
            "_view_name": "HTMLView",
            "description": "",
            "description_tooltip": null,
            "layout": "IPY_MODEL_22cff231fc404a129b316243be6715d7",
            "placeholder": "​",
            "style": "IPY_MODEL_8ec3ab999e85412ea1c4afefd34d77ab",
            "value": "100%"
          }
        },
        "33c7d23464be4fd5bbcb733e58b1a596": {
          "model_module": "@jupyter-widgets/controls",
          "model_name": "FloatProgressModel",
          "model_module_version": "1.5.0",
          "state": {
            "_dom_classes": [],
            "_model_module": "@jupyter-widgets/controls",
            "_model_module_version": "1.5.0",
            "_model_name": "FloatProgressModel",
            "_view_count": null,
            "_view_module": "@jupyter-widgets/controls",
            "_view_module_version": "1.5.0",
            "_view_name": "ProgressView",
            "bar_style": "success",
            "description": "",
            "description_tooltip": null,
            "layout": "IPY_MODEL_6bde20674b184cae94cc37755ac90af1",
            "max": 100,
            "min": 0,
            "orientation": "horizontal",
            "style": "IPY_MODEL_92779abf0d0f4c29886198a6bca5f4ba",
            "value": 100
          }
        },
        "ac4e8a35b46a4f8abcdf0c277bf3593c": {
          "model_module": "@jupyter-widgets/controls",
          "model_name": "HTMLModel",
          "model_module_version": "1.5.0",
          "state": {
            "_dom_classes": [],
            "_model_module": "@jupyter-widgets/controls",
            "_model_module_version": "1.5.0",
            "_model_name": "HTMLModel",
            "_view_count": null,
            "_view_module": "@jupyter-widgets/controls",
            "_view_module_version": "1.5.0",
            "_view_name": "HTMLView",
            "description": "",
            "description_tooltip": null,
            "layout": "IPY_MODEL_3bee694576d540eca522c4703536cc73",
            "placeholder": "​",
            "style": "IPY_MODEL_3bd667050569466ab0bee88733acc8a4",
            "value": " 100/100 [03:00&lt;00:00,  1.82s/epoch, loss=0.0342, val_loss=0.0363]"
          }
        },
        "ffdcc832decf456c88302c41f93ea07a": {
          "model_module": "@jupyter-widgets/base",
          "model_name": "LayoutModel",
          "model_module_version": "1.2.0",
          "state": {
            "_model_module": "@jupyter-widgets/base",
            "_model_module_version": "1.2.0",
            "_model_name": "LayoutModel",
            "_view_count": null,
            "_view_module": "@jupyter-widgets/base",
            "_view_module_version": "1.2.0",
            "_view_name": "LayoutView",
            "align_content": null,
            "align_items": null,
            "align_self": null,
            "border": null,
            "bottom": null,
            "display": null,
            "flex": null,
            "flex_flow": null,
            "grid_area": null,
            "grid_auto_columns": null,
            "grid_auto_flow": null,
            "grid_auto_rows": null,
            "grid_column": null,
            "grid_gap": null,
            "grid_row": null,
            "grid_template_areas": null,
            "grid_template_columns": null,
            "grid_template_rows": null,
            "height": null,
            "justify_content": null,
            "justify_items": null,
            "left": null,
            "margin": null,
            "max_height": null,
            "max_width": null,
            "min_height": null,
            "min_width": null,
            "object_fit": null,
            "object_position": null,
            "order": null,
            "overflow": null,
            "overflow_x": null,
            "overflow_y": null,
            "padding": null,
            "right": null,
            "top": null,
            "visibility": null,
            "width": null
          }
        },
        "22cff231fc404a129b316243be6715d7": {
          "model_module": "@jupyter-widgets/base",
          "model_name": "LayoutModel",
          "model_module_version": "1.2.0",
          "state": {
            "_model_module": "@jupyter-widgets/base",
            "_model_module_version": "1.2.0",
            "_model_name": "LayoutModel",
            "_view_count": null,
            "_view_module": "@jupyter-widgets/base",
            "_view_module_version": "1.2.0",
            "_view_name": "LayoutView",
            "align_content": null,
            "align_items": null,
            "align_self": null,
            "border": null,
            "bottom": null,
            "display": null,
            "flex": null,
            "flex_flow": null,
            "grid_area": null,
            "grid_auto_columns": null,
            "grid_auto_flow": null,
            "grid_auto_rows": null,
            "grid_column": null,
            "grid_gap": null,
            "grid_row": null,
            "grid_template_areas": null,
            "grid_template_columns": null,
            "grid_template_rows": null,
            "height": null,
            "justify_content": null,
            "justify_items": null,
            "left": null,
            "margin": null,
            "max_height": null,
            "max_width": null,
            "min_height": null,
            "min_width": null,
            "object_fit": null,
            "object_position": null,
            "order": null,
            "overflow": null,
            "overflow_x": null,
            "overflow_y": null,
            "padding": null,
            "right": null,
            "top": null,
            "visibility": null,
            "width": null
          }
        },
        "8ec3ab999e85412ea1c4afefd34d77ab": {
          "model_module": "@jupyter-widgets/controls",
          "model_name": "DescriptionStyleModel",
          "model_module_version": "1.5.0",
          "state": {
            "_model_module": "@jupyter-widgets/controls",
            "_model_module_version": "1.5.0",
            "_model_name": "DescriptionStyleModel",
            "_view_count": null,
            "_view_module": "@jupyter-widgets/base",
            "_view_module_version": "1.2.0",
            "_view_name": "StyleView",
            "description_width": ""
          }
        },
        "6bde20674b184cae94cc37755ac90af1": {
          "model_module": "@jupyter-widgets/base",
          "model_name": "LayoutModel",
          "model_module_version": "1.2.0",
          "state": {
            "_model_module": "@jupyter-widgets/base",
            "_model_module_version": "1.2.0",
            "_model_name": "LayoutModel",
            "_view_count": null,
            "_view_module": "@jupyter-widgets/base",
            "_view_module_version": "1.2.0",
            "_view_name": "LayoutView",
            "align_content": null,
            "align_items": null,
            "align_self": null,
            "border": null,
            "bottom": null,
            "display": null,
            "flex": null,
            "flex_flow": null,
            "grid_area": null,
            "grid_auto_columns": null,
            "grid_auto_flow": null,
            "grid_auto_rows": null,
            "grid_column": null,
            "grid_gap": null,
            "grid_row": null,
            "grid_template_areas": null,
            "grid_template_columns": null,
            "grid_template_rows": null,
            "height": null,
            "justify_content": null,
            "justify_items": null,
            "left": null,
            "margin": null,
            "max_height": null,
            "max_width": null,
            "min_height": null,
            "min_width": null,
            "object_fit": null,
            "object_position": null,
            "order": null,
            "overflow": null,
            "overflow_x": null,
            "overflow_y": null,
            "padding": null,
            "right": null,
            "top": null,
            "visibility": null,
            "width": null
          }
        },
        "92779abf0d0f4c29886198a6bca5f4ba": {
          "model_module": "@jupyter-widgets/controls",
          "model_name": "ProgressStyleModel",
          "model_module_version": "1.5.0",
          "state": {
            "_model_module": "@jupyter-widgets/controls",
            "_model_module_version": "1.5.0",
            "_model_name": "ProgressStyleModel",
            "_view_count": null,
            "_view_module": "@jupyter-widgets/base",
            "_view_module_version": "1.2.0",
            "_view_name": "StyleView",
            "bar_color": null,
            "description_width": ""
          }
        },
        "3bee694576d540eca522c4703536cc73": {
          "model_module": "@jupyter-widgets/base",
          "model_name": "LayoutModel",
          "model_module_version": "1.2.0",
          "state": {
            "_model_module": "@jupyter-widgets/base",
            "_model_module_version": "1.2.0",
            "_model_name": "LayoutModel",
            "_view_count": null,
            "_view_module": "@jupyter-widgets/base",
            "_view_module_version": "1.2.0",
            "_view_name": "LayoutView",
            "align_content": null,
            "align_items": null,
            "align_self": null,
            "border": null,
            "bottom": null,
            "display": null,
            "flex": null,
            "flex_flow": null,
            "grid_area": null,
            "grid_auto_columns": null,
            "grid_auto_flow": null,
            "grid_auto_rows": null,
            "grid_column": null,
            "grid_gap": null,
            "grid_row": null,
            "grid_template_areas": null,
            "grid_template_columns": null,
            "grid_template_rows": null,
            "height": null,
            "justify_content": null,
            "justify_items": null,
            "left": null,
            "margin": null,
            "max_height": null,
            "max_width": null,
            "min_height": null,
            "min_width": null,
            "object_fit": null,
            "object_position": null,
            "order": null,
            "overflow": null,
            "overflow_x": null,
            "overflow_y": null,
            "padding": null,
            "right": null,
            "top": null,
            "visibility": null,
            "width": null
          }
        },
        "3bd667050569466ab0bee88733acc8a4": {
          "model_module": "@jupyter-widgets/controls",
          "model_name": "DescriptionStyleModel",
          "model_module_version": "1.5.0",
          "state": {
            "_model_module": "@jupyter-widgets/controls",
            "_model_module_version": "1.5.0",
            "_model_name": "DescriptionStyleModel",
            "_view_count": null,
            "_view_module": "@jupyter-widgets/base",
            "_view_module_version": "1.2.0",
            "_view_name": "StyleView",
            "description_width": ""
          }
        },
        "e39e6325510c4a0083c153880e9da158": {
          "model_module": "@jupyter-widgets/controls",
          "model_name": "HBoxModel",
          "model_module_version": "1.5.0",
          "state": {
            "_dom_classes": [],
            "_model_module": "@jupyter-widgets/controls",
            "_model_module_version": "1.5.0",
            "_model_name": "HBoxModel",
            "_view_count": null,
            "_view_module": "@jupyter-widgets/controls",
            "_view_module_version": "1.5.0",
            "_view_name": "HBoxView",
            "box_style": "",
            "children": [
              "IPY_MODEL_2a3e2ade8cf546dc9a7ac2de1dd31ccb",
              "IPY_MODEL_ad8a2bcd9f5949e9bd507c04d46525ff",
              "IPY_MODEL_2681726b62ef4074af66eb227efd3cbd"
            ],
            "layout": "IPY_MODEL_bc0d9b0ffc094c58b440a03e0fba4d85"
          }
        },
        "2a3e2ade8cf546dc9a7ac2de1dd31ccb": {
          "model_module": "@jupyter-widgets/controls",
          "model_name": "HTMLModel",
          "model_module_version": "1.5.0",
          "state": {
            "_dom_classes": [],
            "_model_module": "@jupyter-widgets/controls",
            "_model_module_version": "1.5.0",
            "_model_name": "HTMLModel",
            "_view_count": null,
            "_view_module": "@jupyter-widgets/controls",
            "_view_module_version": "1.5.0",
            "_view_name": "HTMLView",
            "description": "",
            "description_tooltip": null,
            "layout": "IPY_MODEL_97082460e4714475b305737a92b5096c",
            "placeholder": "​",
            "style": "IPY_MODEL_39b75b61f89745cab315a7be8bcfeab3",
            "value": "100%"
          }
        },
        "ad8a2bcd9f5949e9bd507c04d46525ff": {
          "model_module": "@jupyter-widgets/controls",
          "model_name": "FloatProgressModel",
          "model_module_version": "1.5.0",
          "state": {
            "_dom_classes": [],
            "_model_module": "@jupyter-widgets/controls",
            "_model_module_version": "1.5.0",
            "_model_name": "FloatProgressModel",
            "_view_count": null,
            "_view_module": "@jupyter-widgets/controls",
            "_view_module_version": "1.5.0",
            "_view_name": "ProgressView",
            "bar_style": "",
            "description": "",
            "description_tooltip": null,
            "layout": "IPY_MODEL_fb1435c7270148a7a0259a82b4759849",
            "max": 7,
            "min": 0,
            "orientation": "horizontal",
            "style": "IPY_MODEL_599b6746c55a4b0f8bdb70810cb86a6b",
            "value": 7
          }
        },
        "2681726b62ef4074af66eb227efd3cbd": {
          "model_module": "@jupyter-widgets/controls",
          "model_name": "HTMLModel",
          "model_module_version": "1.5.0",
          "state": {
            "_dom_classes": [],
            "_model_module": "@jupyter-widgets/controls",
            "_model_module_version": "1.5.0",
            "_model_name": "HTMLModel",
            "_view_count": null,
            "_view_module": "@jupyter-widgets/controls",
            "_view_module_version": "1.5.0",
            "_view_name": "HTMLView",
            "description": "",
            "description_tooltip": null,
            "layout": "IPY_MODEL_a8eb60ac63144bbead47cc3e604eb3ce",
            "placeholder": "​",
            "style": "IPY_MODEL_fe6fd76e214f45d49a87fb4237c514bc",
            "value": " 7.00/7.00 [00:01&lt;00:00, 4.78batch/s, loss=0.0342]"
          }
        },
        "bc0d9b0ffc094c58b440a03e0fba4d85": {
          "model_module": "@jupyter-widgets/base",
          "model_name": "LayoutModel",
          "model_module_version": "1.2.0",
          "state": {
            "_model_module": "@jupyter-widgets/base",
            "_model_module_version": "1.2.0",
            "_model_name": "LayoutModel",
            "_view_count": null,
            "_view_module": "@jupyter-widgets/base",
            "_view_module_version": "1.2.0",
            "_view_name": "LayoutView",
            "align_content": null,
            "align_items": null,
            "align_self": null,
            "border": null,
            "bottom": null,
            "display": null,
            "flex": null,
            "flex_flow": null,
            "grid_area": null,
            "grid_auto_columns": null,
            "grid_auto_flow": null,
            "grid_auto_rows": null,
            "grid_column": null,
            "grid_gap": null,
            "grid_row": null,
            "grid_template_areas": null,
            "grid_template_columns": null,
            "grid_template_rows": null,
            "height": null,
            "justify_content": null,
            "justify_items": null,
            "left": null,
            "margin": null,
            "max_height": null,
            "max_width": null,
            "min_height": null,
            "min_width": null,
            "object_fit": null,
            "object_position": null,
            "order": null,
            "overflow": null,
            "overflow_x": null,
            "overflow_y": null,
            "padding": null,
            "right": null,
            "top": null,
            "visibility": "hidden",
            "width": null
          }
        },
        "97082460e4714475b305737a92b5096c": {
          "model_module": "@jupyter-widgets/base",
          "model_name": "LayoutModel",
          "model_module_version": "1.2.0",
          "state": {
            "_model_module": "@jupyter-widgets/base",
            "_model_module_version": "1.2.0",
            "_model_name": "LayoutModel",
            "_view_count": null,
            "_view_module": "@jupyter-widgets/base",
            "_view_module_version": "1.2.0",
            "_view_name": "LayoutView",
            "align_content": null,
            "align_items": null,
            "align_self": null,
            "border": null,
            "bottom": null,
            "display": null,
            "flex": null,
            "flex_flow": null,
            "grid_area": null,
            "grid_auto_columns": null,
            "grid_auto_flow": null,
            "grid_auto_rows": null,
            "grid_column": null,
            "grid_gap": null,
            "grid_row": null,
            "grid_template_areas": null,
            "grid_template_columns": null,
            "grid_template_rows": null,
            "height": null,
            "justify_content": null,
            "justify_items": null,
            "left": null,
            "margin": null,
            "max_height": null,
            "max_width": null,
            "min_height": null,
            "min_width": null,
            "object_fit": null,
            "object_position": null,
            "order": null,
            "overflow": null,
            "overflow_x": null,
            "overflow_y": null,
            "padding": null,
            "right": null,
            "top": null,
            "visibility": null,
            "width": null
          }
        },
        "39b75b61f89745cab315a7be8bcfeab3": {
          "model_module": "@jupyter-widgets/controls",
          "model_name": "DescriptionStyleModel",
          "model_module_version": "1.5.0",
          "state": {
            "_model_module": "@jupyter-widgets/controls",
            "_model_module_version": "1.5.0",
            "_model_name": "DescriptionStyleModel",
            "_view_count": null,
            "_view_module": "@jupyter-widgets/base",
            "_view_module_version": "1.2.0",
            "_view_name": "StyleView",
            "description_width": ""
          }
        },
        "fb1435c7270148a7a0259a82b4759849": {
          "model_module": "@jupyter-widgets/base",
          "model_name": "LayoutModel",
          "model_module_version": "1.2.0",
          "state": {
            "_model_module": "@jupyter-widgets/base",
            "_model_module_version": "1.2.0",
            "_model_name": "LayoutModel",
            "_view_count": null,
            "_view_module": "@jupyter-widgets/base",
            "_view_module_version": "1.2.0",
            "_view_name": "LayoutView",
            "align_content": null,
            "align_items": null,
            "align_self": null,
            "border": null,
            "bottom": null,
            "display": null,
            "flex": null,
            "flex_flow": null,
            "grid_area": null,
            "grid_auto_columns": null,
            "grid_auto_flow": null,
            "grid_auto_rows": null,
            "grid_column": null,
            "grid_gap": null,
            "grid_row": null,
            "grid_template_areas": null,
            "grid_template_columns": null,
            "grid_template_rows": null,
            "height": null,
            "justify_content": null,
            "justify_items": null,
            "left": null,
            "margin": null,
            "max_height": null,
            "max_width": null,
            "min_height": null,
            "min_width": null,
            "object_fit": null,
            "object_position": null,
            "order": null,
            "overflow": null,
            "overflow_x": null,
            "overflow_y": null,
            "padding": null,
            "right": null,
            "top": null,
            "visibility": null,
            "width": null
          }
        },
        "599b6746c55a4b0f8bdb70810cb86a6b": {
          "model_module": "@jupyter-widgets/controls",
          "model_name": "ProgressStyleModel",
          "model_module_version": "1.5.0",
          "state": {
            "_model_module": "@jupyter-widgets/controls",
            "_model_module_version": "1.5.0",
            "_model_name": "ProgressStyleModel",
            "_view_count": null,
            "_view_module": "@jupyter-widgets/base",
            "_view_module_version": "1.2.0",
            "_view_name": "StyleView",
            "bar_color": null,
            "description_width": ""
          }
        },
        "a8eb60ac63144bbead47cc3e604eb3ce": {
          "model_module": "@jupyter-widgets/base",
          "model_name": "LayoutModel",
          "model_module_version": "1.2.0",
          "state": {
            "_model_module": "@jupyter-widgets/base",
            "_model_module_version": "1.2.0",
            "_model_name": "LayoutModel",
            "_view_count": null,
            "_view_module": "@jupyter-widgets/base",
            "_view_module_version": "1.2.0",
            "_view_name": "LayoutView",
            "align_content": null,
            "align_items": null,
            "align_self": null,
            "border": null,
            "bottom": null,
            "display": null,
            "flex": null,
            "flex_flow": null,
            "grid_area": null,
            "grid_auto_columns": null,
            "grid_auto_flow": null,
            "grid_auto_rows": null,
            "grid_column": null,
            "grid_gap": null,
            "grid_row": null,
            "grid_template_areas": null,
            "grid_template_columns": null,
            "grid_template_rows": null,
            "height": null,
            "justify_content": null,
            "justify_items": null,
            "left": null,
            "margin": null,
            "max_height": null,
            "max_width": null,
            "min_height": null,
            "min_width": null,
            "object_fit": null,
            "object_position": null,
            "order": null,
            "overflow": null,
            "overflow_x": null,
            "overflow_y": null,
            "padding": null,
            "right": null,
            "top": null,
            "visibility": null,
            "width": null
          }
        },
        "fe6fd76e214f45d49a87fb4237c514bc": {
          "model_module": "@jupyter-widgets/controls",
          "model_name": "DescriptionStyleModel",
          "model_module_version": "1.5.0",
          "state": {
            "_model_module": "@jupyter-widgets/controls",
            "_model_module_version": "1.5.0",
            "_model_name": "DescriptionStyleModel",
            "_view_count": null,
            "_view_module": "@jupyter-widgets/base",
            "_view_module_version": "1.2.0",
            "_view_name": "StyleView",
            "description_width": ""
          }
        },
        "7144390082df4d7ba920fb3a0721417d": {
          "model_module": "@jupyter-widgets/controls",
          "model_name": "HBoxModel",
          "model_module_version": "1.5.0",
          "state": {
            "_dom_classes": [],
            "_model_module": "@jupyter-widgets/controls",
            "_model_module_version": "1.5.0",
            "_model_name": "HBoxModel",
            "_view_count": null,
            "_view_module": "@jupyter-widgets/controls",
            "_view_module_version": "1.5.0",
            "_view_name": "HBoxView",
            "box_style": "",
            "children": [
              "IPY_MODEL_783831a1095d4a69bdcee8130e8654e9",
              "IPY_MODEL_1a6d4385bd6547b7994ee3940814c055",
              "IPY_MODEL_69d14840fdd34600b8de2e9a88ec1d65"
            ],
            "layout": "IPY_MODEL_629008817664407bbfd227d85384a1ea"
          }
        },
        "783831a1095d4a69bdcee8130e8654e9": {
          "model_module": "@jupyter-widgets/controls",
          "model_name": "HTMLModel",
          "model_module_version": "1.5.0",
          "state": {
            "_dom_classes": [],
            "_model_module": "@jupyter-widgets/controls",
            "_model_module_version": "1.5.0",
            "_model_name": "HTMLModel",
            "_view_count": null,
            "_view_module": "@jupyter-widgets/controls",
            "_view_module_version": "1.5.0",
            "_view_name": "HTMLView",
            "description": "",
            "description_tooltip": null,
            "layout": "IPY_MODEL_09473648a58d4f919a17122c955601a6",
            "placeholder": "​",
            "style": "IPY_MODEL_944336c2350e41a4ba9ec945350bb08a",
            "value": "100%"
          }
        },
        "1a6d4385bd6547b7994ee3940814c055": {
          "model_module": "@jupyter-widgets/controls",
          "model_name": "FloatProgressModel",
          "model_module_version": "1.5.0",
          "state": {
            "_dom_classes": [],
            "_model_module": "@jupyter-widgets/controls",
            "_model_module_version": "1.5.0",
            "_model_name": "FloatProgressModel",
            "_view_count": null,
            "_view_module": "@jupyter-widgets/controls",
            "_view_module_version": "1.5.0",
            "_view_name": "ProgressView",
            "bar_style": "success",
            "description": "",
            "description_tooltip": null,
            "layout": "IPY_MODEL_c6a63b9c9d4c4d7db1683cdc6c657db1",
            "max": 100,
            "min": 0,
            "orientation": "horizontal",
            "style": "IPY_MODEL_95ab9ed606594f66988a713db3a98529",
            "value": 100
          }
        },
        "69d14840fdd34600b8de2e9a88ec1d65": {
          "model_module": "@jupyter-widgets/controls",
          "model_name": "HTMLModel",
          "model_module_version": "1.5.0",
          "state": {
            "_dom_classes": [],
            "_model_module": "@jupyter-widgets/controls",
            "_model_module_version": "1.5.0",
            "_model_name": "HTMLModel",
            "_view_count": null,
            "_view_module": "@jupyter-widgets/controls",
            "_view_module_version": "1.5.0",
            "_view_name": "HTMLView",
            "description": "",
            "description_tooltip": null,
            "layout": "IPY_MODEL_a5122570ab304cde9d96b6a4cef587fa",
            "placeholder": "​",
            "style": "IPY_MODEL_511c555eb6344f5ab036b0fd7295d7ab",
            "value": " 100/100 [01:09&lt;00:00,  2.01epoch/s, loss=0.117, val_loss=0.142]"
          }
        },
        "629008817664407bbfd227d85384a1ea": {
          "model_module": "@jupyter-widgets/base",
          "model_name": "LayoutModel",
          "model_module_version": "1.2.0",
          "state": {
            "_model_module": "@jupyter-widgets/base",
            "_model_module_version": "1.2.0",
            "_model_name": "LayoutModel",
            "_view_count": null,
            "_view_module": "@jupyter-widgets/base",
            "_view_module_version": "1.2.0",
            "_view_name": "LayoutView",
            "align_content": null,
            "align_items": null,
            "align_self": null,
            "border": null,
            "bottom": null,
            "display": null,
            "flex": null,
            "flex_flow": null,
            "grid_area": null,
            "grid_auto_columns": null,
            "grid_auto_flow": null,
            "grid_auto_rows": null,
            "grid_column": null,
            "grid_gap": null,
            "grid_row": null,
            "grid_template_areas": null,
            "grid_template_columns": null,
            "grid_template_rows": null,
            "height": null,
            "justify_content": null,
            "justify_items": null,
            "left": null,
            "margin": null,
            "max_height": null,
            "max_width": null,
            "min_height": null,
            "min_width": null,
            "object_fit": null,
            "object_position": null,
            "order": null,
            "overflow": null,
            "overflow_x": null,
            "overflow_y": null,
            "padding": null,
            "right": null,
            "top": null,
            "visibility": null,
            "width": null
          }
        },
        "09473648a58d4f919a17122c955601a6": {
          "model_module": "@jupyter-widgets/base",
          "model_name": "LayoutModel",
          "model_module_version": "1.2.0",
          "state": {
            "_model_module": "@jupyter-widgets/base",
            "_model_module_version": "1.2.0",
            "_model_name": "LayoutModel",
            "_view_count": null,
            "_view_module": "@jupyter-widgets/base",
            "_view_module_version": "1.2.0",
            "_view_name": "LayoutView",
            "align_content": null,
            "align_items": null,
            "align_self": null,
            "border": null,
            "bottom": null,
            "display": null,
            "flex": null,
            "flex_flow": null,
            "grid_area": null,
            "grid_auto_columns": null,
            "grid_auto_flow": null,
            "grid_auto_rows": null,
            "grid_column": null,
            "grid_gap": null,
            "grid_row": null,
            "grid_template_areas": null,
            "grid_template_columns": null,
            "grid_template_rows": null,
            "height": null,
            "justify_content": null,
            "justify_items": null,
            "left": null,
            "margin": null,
            "max_height": null,
            "max_width": null,
            "min_height": null,
            "min_width": null,
            "object_fit": null,
            "object_position": null,
            "order": null,
            "overflow": null,
            "overflow_x": null,
            "overflow_y": null,
            "padding": null,
            "right": null,
            "top": null,
            "visibility": null,
            "width": null
          }
        },
        "944336c2350e41a4ba9ec945350bb08a": {
          "model_module": "@jupyter-widgets/controls",
          "model_name": "DescriptionStyleModel",
          "model_module_version": "1.5.0",
          "state": {
            "_model_module": "@jupyter-widgets/controls",
            "_model_module_version": "1.5.0",
            "_model_name": "DescriptionStyleModel",
            "_view_count": null,
            "_view_module": "@jupyter-widgets/base",
            "_view_module_version": "1.2.0",
            "_view_name": "StyleView",
            "description_width": ""
          }
        },
        "c6a63b9c9d4c4d7db1683cdc6c657db1": {
          "model_module": "@jupyter-widgets/base",
          "model_name": "LayoutModel",
          "model_module_version": "1.2.0",
          "state": {
            "_model_module": "@jupyter-widgets/base",
            "_model_module_version": "1.2.0",
            "_model_name": "LayoutModel",
            "_view_count": null,
            "_view_module": "@jupyter-widgets/base",
            "_view_module_version": "1.2.0",
            "_view_name": "LayoutView",
            "align_content": null,
            "align_items": null,
            "align_self": null,
            "border": null,
            "bottom": null,
            "display": null,
            "flex": null,
            "flex_flow": null,
            "grid_area": null,
            "grid_auto_columns": null,
            "grid_auto_flow": null,
            "grid_auto_rows": null,
            "grid_column": null,
            "grid_gap": null,
            "grid_row": null,
            "grid_template_areas": null,
            "grid_template_columns": null,
            "grid_template_rows": null,
            "height": null,
            "justify_content": null,
            "justify_items": null,
            "left": null,
            "margin": null,
            "max_height": null,
            "max_width": null,
            "min_height": null,
            "min_width": null,
            "object_fit": null,
            "object_position": null,
            "order": null,
            "overflow": null,
            "overflow_x": null,
            "overflow_y": null,
            "padding": null,
            "right": null,
            "top": null,
            "visibility": null,
            "width": null
          }
        },
        "95ab9ed606594f66988a713db3a98529": {
          "model_module": "@jupyter-widgets/controls",
          "model_name": "ProgressStyleModel",
          "model_module_version": "1.5.0",
          "state": {
            "_model_module": "@jupyter-widgets/controls",
            "_model_module_version": "1.5.0",
            "_model_name": "ProgressStyleModel",
            "_view_count": null,
            "_view_module": "@jupyter-widgets/base",
            "_view_module_version": "1.2.0",
            "_view_name": "StyleView",
            "bar_color": null,
            "description_width": ""
          }
        },
        "a5122570ab304cde9d96b6a4cef587fa": {
          "model_module": "@jupyter-widgets/base",
          "model_name": "LayoutModel",
          "model_module_version": "1.2.0",
          "state": {
            "_model_module": "@jupyter-widgets/base",
            "_model_module_version": "1.2.0",
            "_model_name": "LayoutModel",
            "_view_count": null,
            "_view_module": "@jupyter-widgets/base",
            "_view_module_version": "1.2.0",
            "_view_name": "LayoutView",
            "align_content": null,
            "align_items": null,
            "align_self": null,
            "border": null,
            "bottom": null,
            "display": null,
            "flex": null,
            "flex_flow": null,
            "grid_area": null,
            "grid_auto_columns": null,
            "grid_auto_flow": null,
            "grid_auto_rows": null,
            "grid_column": null,
            "grid_gap": null,
            "grid_row": null,
            "grid_template_areas": null,
            "grid_template_columns": null,
            "grid_template_rows": null,
            "height": null,
            "justify_content": null,
            "justify_items": null,
            "left": null,
            "margin": null,
            "max_height": null,
            "max_width": null,
            "min_height": null,
            "min_width": null,
            "object_fit": null,
            "object_position": null,
            "order": null,
            "overflow": null,
            "overflow_x": null,
            "overflow_y": null,
            "padding": null,
            "right": null,
            "top": null,
            "visibility": null,
            "width": null
          }
        },
        "511c555eb6344f5ab036b0fd7295d7ab": {
          "model_module": "@jupyter-widgets/controls",
          "model_name": "DescriptionStyleModel",
          "model_module_version": "1.5.0",
          "state": {
            "_model_module": "@jupyter-widgets/controls",
            "_model_module_version": "1.5.0",
            "_model_name": "DescriptionStyleModel",
            "_view_count": null,
            "_view_module": "@jupyter-widgets/base",
            "_view_module_version": "1.2.0",
            "_view_name": "StyleView",
            "description_width": ""
          }
        },
        "0e3986e719de4d3a8c2f17eaa97ad53d": {
          "model_module": "@jupyter-widgets/controls",
          "model_name": "HBoxModel",
          "model_module_version": "1.5.0",
          "state": {
            "_dom_classes": [],
            "_model_module": "@jupyter-widgets/controls",
            "_model_module_version": "1.5.0",
            "_model_name": "HBoxModel",
            "_view_count": null,
            "_view_module": "@jupyter-widgets/controls",
            "_view_module_version": "1.5.0",
            "_view_name": "HBoxView",
            "box_style": "",
            "children": [
              "IPY_MODEL_ec665463aaa644d789d71af48e91151d",
              "IPY_MODEL_a1d59a04daec4a058962814c34bd9f92",
              "IPY_MODEL_b0ad039c42ec4613bb133815d609c781"
            ],
            "layout": "IPY_MODEL_e3fde6762d4a40c3948a9f57be61483c"
          }
        },
        "ec665463aaa644d789d71af48e91151d": {
          "model_module": "@jupyter-widgets/controls",
          "model_name": "HTMLModel",
          "model_module_version": "1.5.0",
          "state": {
            "_dom_classes": [],
            "_model_module": "@jupyter-widgets/controls",
            "_model_module_version": "1.5.0",
            "_model_name": "HTMLModel",
            "_view_count": null,
            "_view_module": "@jupyter-widgets/controls",
            "_view_module_version": "1.5.0",
            "_view_name": "HTMLView",
            "description": "",
            "description_tooltip": null,
            "layout": "IPY_MODEL_1b510def42ec439dbae9a74ecebb1c83",
            "placeholder": "​",
            "style": "IPY_MODEL_0a174d6098d246868342984bd3757a46",
            "value": "100%"
          }
        },
        "a1d59a04daec4a058962814c34bd9f92": {
          "model_module": "@jupyter-widgets/controls",
          "model_name": "FloatProgressModel",
          "model_module_version": "1.5.0",
          "state": {
            "_dom_classes": [],
            "_model_module": "@jupyter-widgets/controls",
            "_model_module_version": "1.5.0",
            "_model_name": "FloatProgressModel",
            "_view_count": null,
            "_view_module": "@jupyter-widgets/controls",
            "_view_module_version": "1.5.0",
            "_view_name": "ProgressView",
            "bar_style": "",
            "description": "",
            "description_tooltip": null,
            "layout": "IPY_MODEL_61ae18782d614d6980a9dbb5fe243018",
            "max": 2,
            "min": 0,
            "orientation": "horizontal",
            "style": "IPY_MODEL_c866dff0c5244fd089435d31f3602426",
            "value": 2
          }
        },
        "b0ad039c42ec4613bb133815d609c781": {
          "model_module": "@jupyter-widgets/controls",
          "model_name": "HTMLModel",
          "model_module_version": "1.5.0",
          "state": {
            "_dom_classes": [],
            "_model_module": "@jupyter-widgets/controls",
            "_model_module_version": "1.5.0",
            "_model_name": "HTMLModel",
            "_view_count": null,
            "_view_module": "@jupyter-widgets/controls",
            "_view_module_version": "1.5.0",
            "_view_name": "HTMLView",
            "description": "",
            "description_tooltip": null,
            "layout": "IPY_MODEL_a4ddf59710044718952415477fd667d1",
            "placeholder": "​",
            "style": "IPY_MODEL_c03a5020bf764ad28579eb7dadde44db",
            "value": " 2.00/2.00 [00:00&lt;00:00, 5.87batch/s, loss=0.117]"
          }
        },
        "e3fde6762d4a40c3948a9f57be61483c": {
          "model_module": "@jupyter-widgets/base",
          "model_name": "LayoutModel",
          "model_module_version": "1.2.0",
          "state": {
            "_model_module": "@jupyter-widgets/base",
            "_model_module_version": "1.2.0",
            "_model_name": "LayoutModel",
            "_view_count": null,
            "_view_module": "@jupyter-widgets/base",
            "_view_module_version": "1.2.0",
            "_view_name": "LayoutView",
            "align_content": null,
            "align_items": null,
            "align_self": null,
            "border": null,
            "bottom": null,
            "display": null,
            "flex": null,
            "flex_flow": null,
            "grid_area": null,
            "grid_auto_columns": null,
            "grid_auto_flow": null,
            "grid_auto_rows": null,
            "grid_column": null,
            "grid_gap": null,
            "grid_row": null,
            "grid_template_areas": null,
            "grid_template_columns": null,
            "grid_template_rows": null,
            "height": null,
            "justify_content": null,
            "justify_items": null,
            "left": null,
            "margin": null,
            "max_height": null,
            "max_width": null,
            "min_height": null,
            "min_width": null,
            "object_fit": null,
            "object_position": null,
            "order": null,
            "overflow": null,
            "overflow_x": null,
            "overflow_y": null,
            "padding": null,
            "right": null,
            "top": null,
            "visibility": "hidden",
            "width": null
          }
        },
        "1b510def42ec439dbae9a74ecebb1c83": {
          "model_module": "@jupyter-widgets/base",
          "model_name": "LayoutModel",
          "model_module_version": "1.2.0",
          "state": {
            "_model_module": "@jupyter-widgets/base",
            "_model_module_version": "1.2.0",
            "_model_name": "LayoutModel",
            "_view_count": null,
            "_view_module": "@jupyter-widgets/base",
            "_view_module_version": "1.2.0",
            "_view_name": "LayoutView",
            "align_content": null,
            "align_items": null,
            "align_self": null,
            "border": null,
            "bottom": null,
            "display": null,
            "flex": null,
            "flex_flow": null,
            "grid_area": null,
            "grid_auto_columns": null,
            "grid_auto_flow": null,
            "grid_auto_rows": null,
            "grid_column": null,
            "grid_gap": null,
            "grid_row": null,
            "grid_template_areas": null,
            "grid_template_columns": null,
            "grid_template_rows": null,
            "height": null,
            "justify_content": null,
            "justify_items": null,
            "left": null,
            "margin": null,
            "max_height": null,
            "max_width": null,
            "min_height": null,
            "min_width": null,
            "object_fit": null,
            "object_position": null,
            "order": null,
            "overflow": null,
            "overflow_x": null,
            "overflow_y": null,
            "padding": null,
            "right": null,
            "top": null,
            "visibility": null,
            "width": null
          }
        },
        "0a174d6098d246868342984bd3757a46": {
          "model_module": "@jupyter-widgets/controls",
          "model_name": "DescriptionStyleModel",
          "model_module_version": "1.5.0",
          "state": {
            "_model_module": "@jupyter-widgets/controls",
            "_model_module_version": "1.5.0",
            "_model_name": "DescriptionStyleModel",
            "_view_count": null,
            "_view_module": "@jupyter-widgets/base",
            "_view_module_version": "1.2.0",
            "_view_name": "StyleView",
            "description_width": ""
          }
        },
        "61ae18782d614d6980a9dbb5fe243018": {
          "model_module": "@jupyter-widgets/base",
          "model_name": "LayoutModel",
          "model_module_version": "1.2.0",
          "state": {
            "_model_module": "@jupyter-widgets/base",
            "_model_module_version": "1.2.0",
            "_model_name": "LayoutModel",
            "_view_count": null,
            "_view_module": "@jupyter-widgets/base",
            "_view_module_version": "1.2.0",
            "_view_name": "LayoutView",
            "align_content": null,
            "align_items": null,
            "align_self": null,
            "border": null,
            "bottom": null,
            "display": null,
            "flex": null,
            "flex_flow": null,
            "grid_area": null,
            "grid_auto_columns": null,
            "grid_auto_flow": null,
            "grid_auto_rows": null,
            "grid_column": null,
            "grid_gap": null,
            "grid_row": null,
            "grid_template_areas": null,
            "grid_template_columns": null,
            "grid_template_rows": null,
            "height": null,
            "justify_content": null,
            "justify_items": null,
            "left": null,
            "margin": null,
            "max_height": null,
            "max_width": null,
            "min_height": null,
            "min_width": null,
            "object_fit": null,
            "object_position": null,
            "order": null,
            "overflow": null,
            "overflow_x": null,
            "overflow_y": null,
            "padding": null,
            "right": null,
            "top": null,
            "visibility": null,
            "width": null
          }
        },
        "c866dff0c5244fd089435d31f3602426": {
          "model_module": "@jupyter-widgets/controls",
          "model_name": "ProgressStyleModel",
          "model_module_version": "1.5.0",
          "state": {
            "_model_module": "@jupyter-widgets/controls",
            "_model_module_version": "1.5.0",
            "_model_name": "ProgressStyleModel",
            "_view_count": null,
            "_view_module": "@jupyter-widgets/base",
            "_view_module_version": "1.2.0",
            "_view_name": "StyleView",
            "bar_color": null,
            "description_width": ""
          }
        },
        "a4ddf59710044718952415477fd667d1": {
          "model_module": "@jupyter-widgets/base",
          "model_name": "LayoutModel",
          "model_module_version": "1.2.0",
          "state": {
            "_model_module": "@jupyter-widgets/base",
            "_model_module_version": "1.2.0",
            "_model_name": "LayoutModel",
            "_view_count": null,
            "_view_module": "@jupyter-widgets/base",
            "_view_module_version": "1.2.0",
            "_view_name": "LayoutView",
            "align_content": null,
            "align_items": null,
            "align_self": null,
            "border": null,
            "bottom": null,
            "display": null,
            "flex": null,
            "flex_flow": null,
            "grid_area": null,
            "grid_auto_columns": null,
            "grid_auto_flow": null,
            "grid_auto_rows": null,
            "grid_column": null,
            "grid_gap": null,
            "grid_row": null,
            "grid_template_areas": null,
            "grid_template_columns": null,
            "grid_template_rows": null,
            "height": null,
            "justify_content": null,
            "justify_items": null,
            "left": null,
            "margin": null,
            "max_height": null,
            "max_width": null,
            "min_height": null,
            "min_width": null,
            "object_fit": null,
            "object_position": null,
            "order": null,
            "overflow": null,
            "overflow_x": null,
            "overflow_y": null,
            "padding": null,
            "right": null,
            "top": null,
            "visibility": null,
            "width": null
          }
        },
        "c03a5020bf764ad28579eb7dadde44db": {
          "model_module": "@jupyter-widgets/controls",
          "model_name": "DescriptionStyleModel",
          "model_module_version": "1.5.0",
          "state": {
            "_model_module": "@jupyter-widgets/controls",
            "_model_module_version": "1.5.0",
            "_model_name": "DescriptionStyleModel",
            "_view_count": null,
            "_view_module": "@jupyter-widgets/base",
            "_view_module_version": "1.2.0",
            "_view_name": "StyleView",
            "description_width": ""
          }
        },
        "6b51c6d0a58449aa9192680c5d7ecbd4": {
          "model_module": "@jupyter-widgets/controls",
          "model_name": "HBoxModel",
          "model_module_version": "1.5.0",
          "state": {
            "_dom_classes": [],
            "_model_module": "@jupyter-widgets/controls",
            "_model_module_version": "1.5.0",
            "_model_name": "HBoxModel",
            "_view_count": null,
            "_view_module": "@jupyter-widgets/controls",
            "_view_module_version": "1.5.0",
            "_view_name": "HBoxView",
            "box_style": "",
            "children": [
              "IPY_MODEL_9b2ea64b873c45f9a9faf76157b2d946",
              "IPY_MODEL_b1215f33fb954dd4a8557bf4bd5ee3d7",
              "IPY_MODEL_5ece7b9071be4764a92e4ae45fe34699"
            ],
            "layout": "IPY_MODEL_0fd288b83615411ab5fb15615df94df4"
          }
        },
        "9b2ea64b873c45f9a9faf76157b2d946": {
          "model_module": "@jupyter-widgets/controls",
          "model_name": "HTMLModel",
          "model_module_version": "1.5.0",
          "state": {
            "_dom_classes": [],
            "_model_module": "@jupyter-widgets/controls",
            "_model_module_version": "1.5.0",
            "_model_name": "HTMLModel",
            "_view_count": null,
            "_view_module": "@jupyter-widgets/controls",
            "_view_module_version": "1.5.0",
            "_view_name": "HTMLView",
            "description": "",
            "description_tooltip": null,
            "layout": "IPY_MODEL_8a7ee387f6ce4d31b25c506a04799768",
            "placeholder": "​",
            "style": "IPY_MODEL_290b8f14f6d94ffc92faa391d9d46485",
            "value": "100%"
          }
        },
        "b1215f33fb954dd4a8557bf4bd5ee3d7": {
          "model_module": "@jupyter-widgets/controls",
          "model_name": "FloatProgressModel",
          "model_module_version": "1.5.0",
          "state": {
            "_dom_classes": [],
            "_model_module": "@jupyter-widgets/controls",
            "_model_module_version": "1.5.0",
            "_model_name": "FloatProgressModel",
            "_view_count": null,
            "_view_module": "@jupyter-widgets/controls",
            "_view_module_version": "1.5.0",
            "_view_name": "ProgressView",
            "bar_style": "success",
            "description": "",
            "description_tooltip": null,
            "layout": "IPY_MODEL_fe07e0ef10d04fe7b5bbf11d50a805cb",
            "max": 100,
            "min": 0,
            "orientation": "horizontal",
            "style": "IPY_MODEL_1a576a2d89b946859ee7ed08b8395908",
            "value": 100
          }
        },
        "5ece7b9071be4764a92e4ae45fe34699": {
          "model_module": "@jupyter-widgets/controls",
          "model_name": "HTMLModel",
          "model_module_version": "1.5.0",
          "state": {
            "_dom_classes": [],
            "_model_module": "@jupyter-widgets/controls",
            "_model_module_version": "1.5.0",
            "_model_name": "HTMLModel",
            "_view_count": null,
            "_view_module": "@jupyter-widgets/controls",
            "_view_module_version": "1.5.0",
            "_view_name": "HTMLView",
            "description": "",
            "description_tooltip": null,
            "layout": "IPY_MODEL_647251f730324d5d9f70cb04ff89461d",
            "placeholder": "​",
            "style": "IPY_MODEL_ec6f99148f6f461682480d7d4d3ca72f",
            "value": " 100/100 [00:16&lt;00:00,  7.90epoch/s, loss=0.123, val_loss=0.106]"
          }
        },
        "0fd288b83615411ab5fb15615df94df4": {
          "model_module": "@jupyter-widgets/base",
          "model_name": "LayoutModel",
          "model_module_version": "1.2.0",
          "state": {
            "_model_module": "@jupyter-widgets/base",
            "_model_module_version": "1.2.0",
            "_model_name": "LayoutModel",
            "_view_count": null,
            "_view_module": "@jupyter-widgets/base",
            "_view_module_version": "1.2.0",
            "_view_name": "LayoutView",
            "align_content": null,
            "align_items": null,
            "align_self": null,
            "border": null,
            "bottom": null,
            "display": null,
            "flex": null,
            "flex_flow": null,
            "grid_area": null,
            "grid_auto_columns": null,
            "grid_auto_flow": null,
            "grid_auto_rows": null,
            "grid_column": null,
            "grid_gap": null,
            "grid_row": null,
            "grid_template_areas": null,
            "grid_template_columns": null,
            "grid_template_rows": null,
            "height": null,
            "justify_content": null,
            "justify_items": null,
            "left": null,
            "margin": null,
            "max_height": null,
            "max_width": null,
            "min_height": null,
            "min_width": null,
            "object_fit": null,
            "object_position": null,
            "order": null,
            "overflow": null,
            "overflow_x": null,
            "overflow_y": null,
            "padding": null,
            "right": null,
            "top": null,
            "visibility": null,
            "width": null
          }
        },
        "8a7ee387f6ce4d31b25c506a04799768": {
          "model_module": "@jupyter-widgets/base",
          "model_name": "LayoutModel",
          "model_module_version": "1.2.0",
          "state": {
            "_model_module": "@jupyter-widgets/base",
            "_model_module_version": "1.2.0",
            "_model_name": "LayoutModel",
            "_view_count": null,
            "_view_module": "@jupyter-widgets/base",
            "_view_module_version": "1.2.0",
            "_view_name": "LayoutView",
            "align_content": null,
            "align_items": null,
            "align_self": null,
            "border": null,
            "bottom": null,
            "display": null,
            "flex": null,
            "flex_flow": null,
            "grid_area": null,
            "grid_auto_columns": null,
            "grid_auto_flow": null,
            "grid_auto_rows": null,
            "grid_column": null,
            "grid_gap": null,
            "grid_row": null,
            "grid_template_areas": null,
            "grid_template_columns": null,
            "grid_template_rows": null,
            "height": null,
            "justify_content": null,
            "justify_items": null,
            "left": null,
            "margin": null,
            "max_height": null,
            "max_width": null,
            "min_height": null,
            "min_width": null,
            "object_fit": null,
            "object_position": null,
            "order": null,
            "overflow": null,
            "overflow_x": null,
            "overflow_y": null,
            "padding": null,
            "right": null,
            "top": null,
            "visibility": null,
            "width": null
          }
        },
        "290b8f14f6d94ffc92faa391d9d46485": {
          "model_module": "@jupyter-widgets/controls",
          "model_name": "DescriptionStyleModel",
          "model_module_version": "1.5.0",
          "state": {
            "_model_module": "@jupyter-widgets/controls",
            "_model_module_version": "1.5.0",
            "_model_name": "DescriptionStyleModel",
            "_view_count": null,
            "_view_module": "@jupyter-widgets/base",
            "_view_module_version": "1.2.0",
            "_view_name": "StyleView",
            "description_width": ""
          }
        },
        "fe07e0ef10d04fe7b5bbf11d50a805cb": {
          "model_module": "@jupyter-widgets/base",
          "model_name": "LayoutModel",
          "model_module_version": "1.2.0",
          "state": {
            "_model_module": "@jupyter-widgets/base",
            "_model_module_version": "1.2.0",
            "_model_name": "LayoutModel",
            "_view_count": null,
            "_view_module": "@jupyter-widgets/base",
            "_view_module_version": "1.2.0",
            "_view_name": "LayoutView",
            "align_content": null,
            "align_items": null,
            "align_self": null,
            "border": null,
            "bottom": null,
            "display": null,
            "flex": null,
            "flex_flow": null,
            "grid_area": null,
            "grid_auto_columns": null,
            "grid_auto_flow": null,
            "grid_auto_rows": null,
            "grid_column": null,
            "grid_gap": null,
            "grid_row": null,
            "grid_template_areas": null,
            "grid_template_columns": null,
            "grid_template_rows": null,
            "height": null,
            "justify_content": null,
            "justify_items": null,
            "left": null,
            "margin": null,
            "max_height": null,
            "max_width": null,
            "min_height": null,
            "min_width": null,
            "object_fit": null,
            "object_position": null,
            "order": null,
            "overflow": null,
            "overflow_x": null,
            "overflow_y": null,
            "padding": null,
            "right": null,
            "top": null,
            "visibility": null,
            "width": null
          }
        },
        "1a576a2d89b946859ee7ed08b8395908": {
          "model_module": "@jupyter-widgets/controls",
          "model_name": "ProgressStyleModel",
          "model_module_version": "1.5.0",
          "state": {
            "_model_module": "@jupyter-widgets/controls",
            "_model_module_version": "1.5.0",
            "_model_name": "ProgressStyleModel",
            "_view_count": null,
            "_view_module": "@jupyter-widgets/base",
            "_view_module_version": "1.2.0",
            "_view_name": "StyleView",
            "bar_color": null,
            "description_width": ""
          }
        },
        "647251f730324d5d9f70cb04ff89461d": {
          "model_module": "@jupyter-widgets/base",
          "model_name": "LayoutModel",
          "model_module_version": "1.2.0",
          "state": {
            "_model_module": "@jupyter-widgets/base",
            "_model_module_version": "1.2.0",
            "_model_name": "LayoutModel",
            "_view_count": null,
            "_view_module": "@jupyter-widgets/base",
            "_view_module_version": "1.2.0",
            "_view_name": "LayoutView",
            "align_content": null,
            "align_items": null,
            "align_self": null,
            "border": null,
            "bottom": null,
            "display": null,
            "flex": null,
            "flex_flow": null,
            "grid_area": null,
            "grid_auto_columns": null,
            "grid_auto_flow": null,
            "grid_auto_rows": null,
            "grid_column": null,
            "grid_gap": null,
            "grid_row": null,
            "grid_template_areas": null,
            "grid_template_columns": null,
            "grid_template_rows": null,
            "height": null,
            "justify_content": null,
            "justify_items": null,
            "left": null,
            "margin": null,
            "max_height": null,
            "max_width": null,
            "min_height": null,
            "min_width": null,
            "object_fit": null,
            "object_position": null,
            "order": null,
            "overflow": null,
            "overflow_x": null,
            "overflow_y": null,
            "padding": null,
            "right": null,
            "top": null,
            "visibility": null,
            "width": null
          }
        },
        "ec6f99148f6f461682480d7d4d3ca72f": {
          "model_module": "@jupyter-widgets/controls",
          "model_name": "DescriptionStyleModel",
          "model_module_version": "1.5.0",
          "state": {
            "_model_module": "@jupyter-widgets/controls",
            "_model_module_version": "1.5.0",
            "_model_name": "DescriptionStyleModel",
            "_view_count": null,
            "_view_module": "@jupyter-widgets/base",
            "_view_module_version": "1.2.0",
            "_view_name": "StyleView",
            "description_width": ""
          }
        },
        "7f1e5fb539b14bfb9b9325bf7ba43041": {
          "model_module": "@jupyter-widgets/controls",
          "model_name": "HBoxModel",
          "model_module_version": "1.5.0",
          "state": {
            "_dom_classes": [],
            "_model_module": "@jupyter-widgets/controls",
            "_model_module_version": "1.5.0",
            "_model_name": "HBoxModel",
            "_view_count": null,
            "_view_module": "@jupyter-widgets/controls",
            "_view_module_version": "1.5.0",
            "_view_name": "HBoxView",
            "box_style": "",
            "children": [
              "IPY_MODEL_897b5ae2f8734b93bb55a63fb8448940",
              "IPY_MODEL_74da5291e23e4f2589b016017d5165b8",
              "IPY_MODEL_6ee3d9fdc14243f68d224d370b741cce"
            ],
            "layout": "IPY_MODEL_83a3d64651534a10b3688cdfa258f44a"
          }
        },
        "897b5ae2f8734b93bb55a63fb8448940": {
          "model_module": "@jupyter-widgets/controls",
          "model_name": "HTMLModel",
          "model_module_version": "1.5.0",
          "state": {
            "_dom_classes": [],
            "_model_module": "@jupyter-widgets/controls",
            "_model_module_version": "1.5.0",
            "_model_name": "HTMLModel",
            "_view_count": null,
            "_view_module": "@jupyter-widgets/controls",
            "_view_module_version": "1.5.0",
            "_view_name": "HTMLView",
            "description": "",
            "description_tooltip": null,
            "layout": "IPY_MODEL_b79c53034df1401dbda51ddd782bd758",
            "placeholder": "​",
            "style": "IPY_MODEL_5fd032e2eca74efab5db1ad1caf33f68",
            "value": "  0%"
          }
        },
        "74da5291e23e4f2589b016017d5165b8": {
          "model_module": "@jupyter-widgets/controls",
          "model_name": "FloatProgressModel",
          "model_module_version": "1.5.0",
          "state": {
            "_dom_classes": [],
            "_model_module": "@jupyter-widgets/controls",
            "_model_module_version": "1.5.0",
            "_model_name": "FloatProgressModel",
            "_view_count": null,
            "_view_module": "@jupyter-widgets/controls",
            "_view_module_version": "1.5.0",
            "_view_name": "ProgressView",
            "bar_style": "",
            "description": "",
            "description_tooltip": null,
            "layout": "IPY_MODEL_2c1abb1efb494abf9357c2a21737d251",
            "max": 2,
            "min": 0,
            "orientation": "horizontal",
            "style": "IPY_MODEL_142d9f81d9404f9e9d4a56411db3c23f",
            "value": 2
          }
        },
        "6ee3d9fdc14243f68d224d370b741cce": {
          "model_module": "@jupyter-widgets/controls",
          "model_name": "HTMLModel",
          "model_module_version": "1.5.0",
          "state": {
            "_dom_classes": [],
            "_model_module": "@jupyter-widgets/controls",
            "_model_module_version": "1.5.0",
            "_model_name": "HTMLModel",
            "_view_count": null,
            "_view_module": "@jupyter-widgets/controls",
            "_view_module_version": "1.5.0",
            "_view_name": "HTMLView",
            "description": "",
            "description_tooltip": null,
            "layout": "IPY_MODEL_d25f800e2a44428db37c37073eb6e29c",
            "placeholder": "​",
            "style": "IPY_MODEL_a4d5c428e28c46f1a777d32dca10b8b5",
            "value": " 0.00/2.00 [00:00&lt;?, ?batch/s, loss=0.123]"
          }
        },
        "83a3d64651534a10b3688cdfa258f44a": {
          "model_module": "@jupyter-widgets/base",
          "model_name": "LayoutModel",
          "model_module_version": "1.2.0",
          "state": {
            "_model_module": "@jupyter-widgets/base",
            "_model_module_version": "1.2.0",
            "_model_name": "LayoutModel",
            "_view_count": null,
            "_view_module": "@jupyter-widgets/base",
            "_view_module_version": "1.2.0",
            "_view_name": "LayoutView",
            "align_content": null,
            "align_items": null,
            "align_self": null,
            "border": null,
            "bottom": null,
            "display": null,
            "flex": null,
            "flex_flow": null,
            "grid_area": null,
            "grid_auto_columns": null,
            "grid_auto_flow": null,
            "grid_auto_rows": null,
            "grid_column": null,
            "grid_gap": null,
            "grid_row": null,
            "grid_template_areas": null,
            "grid_template_columns": null,
            "grid_template_rows": null,
            "height": null,
            "justify_content": null,
            "justify_items": null,
            "left": null,
            "margin": null,
            "max_height": null,
            "max_width": null,
            "min_height": null,
            "min_width": null,
            "object_fit": null,
            "object_position": null,
            "order": null,
            "overflow": null,
            "overflow_x": null,
            "overflow_y": null,
            "padding": null,
            "right": null,
            "top": null,
            "visibility": "hidden",
            "width": null
          }
        },
        "b79c53034df1401dbda51ddd782bd758": {
          "model_module": "@jupyter-widgets/base",
          "model_name": "LayoutModel",
          "model_module_version": "1.2.0",
          "state": {
            "_model_module": "@jupyter-widgets/base",
            "_model_module_version": "1.2.0",
            "_model_name": "LayoutModel",
            "_view_count": null,
            "_view_module": "@jupyter-widgets/base",
            "_view_module_version": "1.2.0",
            "_view_name": "LayoutView",
            "align_content": null,
            "align_items": null,
            "align_self": null,
            "border": null,
            "bottom": null,
            "display": null,
            "flex": null,
            "flex_flow": null,
            "grid_area": null,
            "grid_auto_columns": null,
            "grid_auto_flow": null,
            "grid_auto_rows": null,
            "grid_column": null,
            "grid_gap": null,
            "grid_row": null,
            "grid_template_areas": null,
            "grid_template_columns": null,
            "grid_template_rows": null,
            "height": null,
            "justify_content": null,
            "justify_items": null,
            "left": null,
            "margin": null,
            "max_height": null,
            "max_width": null,
            "min_height": null,
            "min_width": null,
            "object_fit": null,
            "object_position": null,
            "order": null,
            "overflow": null,
            "overflow_x": null,
            "overflow_y": null,
            "padding": null,
            "right": null,
            "top": null,
            "visibility": null,
            "width": null
          }
        },
        "5fd032e2eca74efab5db1ad1caf33f68": {
          "model_module": "@jupyter-widgets/controls",
          "model_name": "DescriptionStyleModel",
          "model_module_version": "1.5.0",
          "state": {
            "_model_module": "@jupyter-widgets/controls",
            "_model_module_version": "1.5.0",
            "_model_name": "DescriptionStyleModel",
            "_view_count": null,
            "_view_module": "@jupyter-widgets/base",
            "_view_module_version": "1.2.0",
            "_view_name": "StyleView",
            "description_width": ""
          }
        },
        "2c1abb1efb494abf9357c2a21737d251": {
          "model_module": "@jupyter-widgets/base",
          "model_name": "LayoutModel",
          "model_module_version": "1.2.0",
          "state": {
            "_model_module": "@jupyter-widgets/base",
            "_model_module_version": "1.2.0",
            "_model_name": "LayoutModel",
            "_view_count": null,
            "_view_module": "@jupyter-widgets/base",
            "_view_module_version": "1.2.0",
            "_view_name": "LayoutView",
            "align_content": null,
            "align_items": null,
            "align_self": null,
            "border": null,
            "bottom": null,
            "display": null,
            "flex": null,
            "flex_flow": null,
            "grid_area": null,
            "grid_auto_columns": null,
            "grid_auto_flow": null,
            "grid_auto_rows": null,
            "grid_column": null,
            "grid_gap": null,
            "grid_row": null,
            "grid_template_areas": null,
            "grid_template_columns": null,
            "grid_template_rows": null,
            "height": null,
            "justify_content": null,
            "justify_items": null,
            "left": null,
            "margin": null,
            "max_height": null,
            "max_width": null,
            "min_height": null,
            "min_width": null,
            "object_fit": null,
            "object_position": null,
            "order": null,
            "overflow": null,
            "overflow_x": null,
            "overflow_y": null,
            "padding": null,
            "right": null,
            "top": null,
            "visibility": null,
            "width": null
          }
        },
        "142d9f81d9404f9e9d4a56411db3c23f": {
          "model_module": "@jupyter-widgets/controls",
          "model_name": "ProgressStyleModel",
          "model_module_version": "1.5.0",
          "state": {
            "_model_module": "@jupyter-widgets/controls",
            "_model_module_version": "1.5.0",
            "_model_name": "ProgressStyleModel",
            "_view_count": null,
            "_view_module": "@jupyter-widgets/base",
            "_view_module_version": "1.2.0",
            "_view_name": "StyleView",
            "bar_color": null,
            "description_width": ""
          }
        },
        "d25f800e2a44428db37c37073eb6e29c": {
          "model_module": "@jupyter-widgets/base",
          "model_name": "LayoutModel",
          "model_module_version": "1.2.0",
          "state": {
            "_model_module": "@jupyter-widgets/base",
            "_model_module_version": "1.2.0",
            "_model_name": "LayoutModel",
            "_view_count": null,
            "_view_module": "@jupyter-widgets/base",
            "_view_module_version": "1.2.0",
            "_view_name": "LayoutView",
            "align_content": null,
            "align_items": null,
            "align_self": null,
            "border": null,
            "bottom": null,
            "display": null,
            "flex": null,
            "flex_flow": null,
            "grid_area": null,
            "grid_auto_columns": null,
            "grid_auto_flow": null,
            "grid_auto_rows": null,
            "grid_column": null,
            "grid_gap": null,
            "grid_row": null,
            "grid_template_areas": null,
            "grid_template_columns": null,
            "grid_template_rows": null,
            "height": null,
            "justify_content": null,
            "justify_items": null,
            "left": null,
            "margin": null,
            "max_height": null,
            "max_width": null,
            "min_height": null,
            "min_width": null,
            "object_fit": null,
            "object_position": null,
            "order": null,
            "overflow": null,
            "overflow_x": null,
            "overflow_y": null,
            "padding": null,
            "right": null,
            "top": null,
            "visibility": null,
            "width": null
          }
        },
        "a4d5c428e28c46f1a777d32dca10b8b5": {
          "model_module": "@jupyter-widgets/controls",
          "model_name": "DescriptionStyleModel",
          "model_module_version": "1.5.0",
          "state": {
            "_model_module": "@jupyter-widgets/controls",
            "_model_module_version": "1.5.0",
            "_model_name": "DescriptionStyleModel",
            "_view_count": null,
            "_view_module": "@jupyter-widgets/base",
            "_view_module_version": "1.2.0",
            "_view_name": "StyleView",
            "description_width": ""
          }
        }
      }
    }
  },
  "cells": [
    {
      "cell_type": "markdown",
      "source": [
        "# Установка зависимостей"
      ],
      "metadata": {
        "id": "nTQeuyjnptdO"
      }
    },
    {
      "cell_type": "code",
      "execution_count": 1,
      "metadata": {
        "id": "B-pclwcpjROA",
        "colab": {
          "base_uri": "https://localhost:8080/"
        },
        "outputId": "87aeaa2b-d1cc-44b8-b463-a191ab08d4f9"
      },
      "outputs": [
        {
          "output_type": "stream",
          "name": "stdout",
          "text": [
            "Requirement already satisfied: librosa in /usr/local/lib/python3.10/dist-packages (0.10.1)\n",
            "Requirement already satisfied: numpy in /usr/local/lib/python3.10/dist-packages (1.25.2)\n",
            "Requirement already satisfied: tqdm in /usr/local/lib/python3.10/dist-packages (4.66.2)\n",
            "Requirement already satisfied: audioread>=2.1.9 in /usr/local/lib/python3.10/dist-packages (from librosa) (3.0.1)\n",
            "Requirement already satisfied: scipy>=1.2.0 in /usr/local/lib/python3.10/dist-packages (from librosa) (1.11.4)\n",
            "Requirement already satisfied: scikit-learn>=0.20.0 in /usr/local/lib/python3.10/dist-packages (from librosa) (1.2.2)\n",
            "Requirement already satisfied: joblib>=0.14 in /usr/local/lib/python3.10/dist-packages (from librosa) (1.3.2)\n",
            "Requirement already satisfied: decorator>=4.3.0 in /usr/local/lib/python3.10/dist-packages (from librosa) (4.4.2)\n",
            "Requirement already satisfied: numba>=0.51.0 in /usr/local/lib/python3.10/dist-packages (from librosa) (0.58.1)\n",
            "Requirement already satisfied: soundfile>=0.12.1 in /usr/local/lib/python3.10/dist-packages (from librosa) (0.12.1)\n",
            "Requirement already satisfied: pooch>=1.0 in /usr/local/lib/python3.10/dist-packages (from librosa) (1.8.1)\n",
            "Requirement already satisfied: soxr>=0.3.2 in /usr/local/lib/python3.10/dist-packages (from librosa) (0.3.7)\n",
            "Requirement already satisfied: typing-extensions>=4.1.1 in /usr/local/lib/python3.10/dist-packages (from librosa) (4.10.0)\n",
            "Requirement already satisfied: lazy-loader>=0.1 in /usr/local/lib/python3.10/dist-packages (from librosa) (0.3)\n",
            "Requirement already satisfied: msgpack>=1.0 in /usr/local/lib/python3.10/dist-packages (from librosa) (1.0.8)\n",
            "Requirement already satisfied: llvmlite<0.42,>=0.41.0dev0 in /usr/local/lib/python3.10/dist-packages (from numba>=0.51.0->librosa) (0.41.1)\n",
            "Requirement already satisfied: platformdirs>=2.5.0 in /usr/local/lib/python3.10/dist-packages (from pooch>=1.0->librosa) (4.2.0)\n",
            "Requirement already satisfied: packaging>=20.0 in /usr/local/lib/python3.10/dist-packages (from pooch>=1.0->librosa) (24.0)\n",
            "Requirement already satisfied: requests>=2.19.0 in /usr/local/lib/python3.10/dist-packages (from pooch>=1.0->librosa) (2.31.0)\n",
            "Requirement already satisfied: threadpoolctl>=2.0.0 in /usr/local/lib/python3.10/dist-packages (from scikit-learn>=0.20.0->librosa) (3.4.0)\n",
            "Requirement already satisfied: cffi>=1.0 in /usr/local/lib/python3.10/dist-packages (from soundfile>=0.12.1->librosa) (1.16.0)\n",
            "Requirement already satisfied: pycparser in /usr/local/lib/python3.10/dist-packages (from cffi>=1.0->soundfile>=0.12.1->librosa) (2.21)\n",
            "Requirement already satisfied: charset-normalizer<4,>=2 in /usr/local/lib/python3.10/dist-packages (from requests>=2.19.0->pooch>=1.0->librosa) (3.3.2)\n",
            "Requirement already satisfied: idna<4,>=2.5 in /usr/local/lib/python3.10/dist-packages (from requests>=2.19.0->pooch>=1.0->librosa) (3.6)\n",
            "Requirement already satisfied: urllib3<3,>=1.21.1 in /usr/local/lib/python3.10/dist-packages (from requests>=2.19.0->pooch>=1.0->librosa) (2.0.7)\n",
            "Requirement already satisfied: certifi>=2017.4.17 in /usr/local/lib/python3.10/dist-packages (from requests>=2.19.0->pooch>=1.0->librosa) (2024.2.2)\n"
          ]
        }
      ],
      "source": [
        "!pip install librosa numpy tqdm"
      ]
    },
    {
      "cell_type": "code",
      "source": [
        "# Загрузка натренированных моделей\n",
        "!gdown https://drive.google.com/uc?id=1PPrH-wJ_Bk14I91ddBxfkaZ8FOyUBuJx"
      ],
      "metadata": {
        "colab": {
          "base_uri": "https://localhost:8080/"
        },
        "id": "oiK83APujoS4",
        "outputId": "0abe95cc-83f1-4b85-8845-044c61cb91d8"
      },
      "execution_count": 2,
      "outputs": [
        {
          "output_type": "stream",
          "name": "stdout",
          "text": [
            "Downloading...\n",
            "From: https://drive.google.com/uc?id=1PPrH-wJ_Bk14I91ddBxfkaZ8FOyUBuJx\n",
            "To: /content/models.zip\n",
            "100% 5.75M/5.75M [00:00<00:00, 19.3MB/s]\n"
          ]
        }
      ]
    },
    {
      "cell_type": "code",
      "source": [
        "# Распаковка архива\n",
        "!unzip models"
      ],
      "metadata": {
        "colab": {
          "base_uri": "https://localhost:8080/"
        },
        "id": "X8P8vDUojyhI",
        "outputId": "550e204f-b532-4052-c5cc-d334a2f72c9c"
      },
      "execution_count": 3,
      "outputs": [
        {
          "output_type": "stream",
          "name": "stdout",
          "text": [
            "Archive:  models.zip\n",
            "   creating: models/\n",
            "  inflating: models/eq_linear_ready.h5  \n",
            "  inflating: models/eq_nonlinear_ready.h5  \n",
            "  inflating: models/eq_weakly_nonlinear_ready.h5  \n",
            "  inflating: models/noise_cancel_conv.h5  \n",
            "  inflating: models/noise_cancel_lstm.h5  \n"
          ]
        }
      ]
    },
    {
      "cell_type": "code",
      "source": [
        "# Загрузка noise_utils\n",
        "!pip install git+https://github.com/vladimirch-afk/noise_utils.git"
      ],
      "metadata": {
        "id": "20YGrf4Wj14x",
        "colab": {
          "base_uri": "https://localhost:8080/"
        },
        "outputId": "af76b072-3f39-4e9d-f0a9-0b2b77a3f410"
      },
      "execution_count": 4,
      "outputs": [
        {
          "output_type": "stream",
          "name": "stdout",
          "text": [
            "Collecting git+https://github.com/vladimirch-afk/noise_utils.git\n",
            "  Cloning https://github.com/vladimirch-afk/noise_utils.git to /tmp/pip-req-build-r1kr9doe\n",
            "  Running command git clone --filter=blob:none --quiet https://github.com/vladimirch-afk/noise_utils.git /tmp/pip-req-build-r1kr9doe\n",
            "  Resolved https://github.com/vladimirch-afk/noise_utils.git to commit 18b79cc139a205c7785071e95814802faf75c43c\n",
            "  Preparing metadata (setup.py) ... \u001b[?25l\u001b[?25hdone\n",
            "Requirement already satisfied: numpy in /usr/local/lib/python3.10/dist-packages (from noise-utils==0.0.10) (1.25.2)\n",
            "Collecting perlin-noise (from noise-utils==0.0.10)\n",
            "  Downloading perlin_noise-1.12-py3-none-any.whl (5.3 kB)\n",
            "Requirement already satisfied: librosa in /usr/local/lib/python3.10/dist-packages (from noise-utils==0.0.10) (0.10.1)\n",
            "Requirement already satisfied: soundfile in /usr/local/lib/python3.10/dist-packages (from noise-utils==0.0.10) (0.12.1)\n",
            "Requirement already satisfied: tqdm in /usr/local/lib/python3.10/dist-packages (from noise-utils==0.0.10) (4.66.2)\n",
            "Requirement already satisfied: audioread>=2.1.9 in /usr/local/lib/python3.10/dist-packages (from librosa->noise-utils==0.0.10) (3.0.1)\n",
            "Requirement already satisfied: scipy>=1.2.0 in /usr/local/lib/python3.10/dist-packages (from librosa->noise-utils==0.0.10) (1.11.4)\n",
            "Requirement already satisfied: scikit-learn>=0.20.0 in /usr/local/lib/python3.10/dist-packages (from librosa->noise-utils==0.0.10) (1.2.2)\n",
            "Requirement already satisfied: joblib>=0.14 in /usr/local/lib/python3.10/dist-packages (from librosa->noise-utils==0.0.10) (1.3.2)\n",
            "Requirement already satisfied: decorator>=4.3.0 in /usr/local/lib/python3.10/dist-packages (from librosa->noise-utils==0.0.10) (4.4.2)\n",
            "Requirement already satisfied: numba>=0.51.0 in /usr/local/lib/python3.10/dist-packages (from librosa->noise-utils==0.0.10) (0.58.1)\n",
            "Requirement already satisfied: pooch>=1.0 in /usr/local/lib/python3.10/dist-packages (from librosa->noise-utils==0.0.10) (1.8.1)\n",
            "Requirement already satisfied: soxr>=0.3.2 in /usr/local/lib/python3.10/dist-packages (from librosa->noise-utils==0.0.10) (0.3.7)\n",
            "Requirement already satisfied: typing-extensions>=4.1.1 in /usr/local/lib/python3.10/dist-packages (from librosa->noise-utils==0.0.10) (4.10.0)\n",
            "Requirement already satisfied: lazy-loader>=0.1 in /usr/local/lib/python3.10/dist-packages (from librosa->noise-utils==0.0.10) (0.3)\n",
            "Requirement already satisfied: msgpack>=1.0 in /usr/local/lib/python3.10/dist-packages (from librosa->noise-utils==0.0.10) (1.0.8)\n",
            "Requirement already satisfied: cffi>=1.0 in /usr/local/lib/python3.10/dist-packages (from soundfile->noise-utils==0.0.10) (1.16.0)\n",
            "Requirement already satisfied: pycparser in /usr/local/lib/python3.10/dist-packages (from cffi>=1.0->soundfile->noise-utils==0.0.10) (2.21)\n",
            "Requirement already satisfied: llvmlite<0.42,>=0.41.0dev0 in /usr/local/lib/python3.10/dist-packages (from numba>=0.51.0->librosa->noise-utils==0.0.10) (0.41.1)\n",
            "Requirement already satisfied: platformdirs>=2.5.0 in /usr/local/lib/python3.10/dist-packages (from pooch>=1.0->librosa->noise-utils==0.0.10) (4.2.0)\n",
            "Requirement already satisfied: packaging>=20.0 in /usr/local/lib/python3.10/dist-packages (from pooch>=1.0->librosa->noise-utils==0.0.10) (24.0)\n",
            "Requirement already satisfied: requests>=2.19.0 in /usr/local/lib/python3.10/dist-packages (from pooch>=1.0->librosa->noise-utils==0.0.10) (2.31.0)\n",
            "Requirement already satisfied: threadpoolctl>=2.0.0 in /usr/local/lib/python3.10/dist-packages (from scikit-learn>=0.20.0->librosa->noise-utils==0.0.10) (3.4.0)\n",
            "Requirement already satisfied: charset-normalizer<4,>=2 in /usr/local/lib/python3.10/dist-packages (from requests>=2.19.0->pooch>=1.0->librosa->noise-utils==0.0.10) (3.3.2)\n",
            "Requirement already satisfied: idna<4,>=2.5 in /usr/local/lib/python3.10/dist-packages (from requests>=2.19.0->pooch>=1.0->librosa->noise-utils==0.0.10) (3.6)\n",
            "Requirement already satisfied: urllib3<3,>=1.21.1 in /usr/local/lib/python3.10/dist-packages (from requests>=2.19.0->pooch>=1.0->librosa->noise-utils==0.0.10) (2.0.7)\n",
            "Requirement already satisfied: certifi>=2017.4.17 in /usr/local/lib/python3.10/dist-packages (from requests>=2.19.0->pooch>=1.0->librosa->noise-utils==0.0.10) (2024.2.2)\n",
            "Building wheels for collected packages: noise-utils\n",
            "  Building wheel for noise-utils (setup.py) ... \u001b[?25l\u001b[?25hdone\n",
            "  Created wheel for noise-utils: filename=noise_utils-0.0.10-py3-none-any.whl size=5142 sha256=6fa92222e820d42f5a8d7fce1d2133783b5c0fa408965f6123ebf9ef968a9a7a\n",
            "  Stored in directory: /tmp/pip-ephem-wheel-cache-a2vugl6c/wheels/aa/99/4b/15da170997d26161b173dbfe80a7c92273af44a9392157d9a4\n",
            "Successfully built noise-utils\n",
            "Installing collected packages: perlin-noise, noise-utils\n",
            "Successfully installed noise-utils-0.0.10 perlin-noise-1.12\n"
          ]
        }
      ]
    },
    {
      "cell_type": "code",
      "source": [
        "import keras\n",
        "import librosa\n",
        "import matplotlib.pyplot as plt\n",
        "import numpy as np\n",
        "import os\n",
        "import random\n",
        "import soundfile as sf\n",
        "import tensorflow as tf\n",
        "from tqdm import tqdm\n",
        "from tqdm.keras import TqdmCallback\n",
        "# Собственная библиотека\n",
        "from noise_utils import Noisemaker, SignalGenerator, DataPreparator\n",
        "from tensorflow.keras import layers, models"
      ],
      "metadata": {
        "id": "qZ8RUx81j7xK"
      },
      "execution_count": 5,
      "outputs": []
    },
    {
      "cell_type": "markdown",
      "source": [
        "# Эквализация сигнала"
      ],
      "metadata": {
        "id": "yVQYdxcnPNJO"
      }
    },
    {
      "cell_type": "markdown",
      "source": [
        "Эквализация сигнала - это процесс избавления сигнала от искажений, часто возникающих в процессе передачи. Существует множество агоритмов по эквализации сигнала, далее будут рассмотрены возможные нейросетевые алгоритмы."
      ],
      "metadata": {
        "id": "gqxqa1lMPR3E"
      }
    },
    {
      "cell_type": "markdown",
      "source": [
        "# Эквалайзер для линейного сигнала"
      ],
      "metadata": {
        "id": "dvMyZ8i_ljBK"
      }
    },
    {
      "cell_type": "markdown",
      "source": [
        "Линейный сигнал - это тип сигнала, который изменяется линейно с течением времени. Математически, линейный сигнал может быть представлен как функция $y=f(t)$, которая зависит линейно от времени или от какой-либо другой переменной."
      ],
      "metadata": {
        "id": "gVq5OGa-Luhm"
      }
    },
    {
      "cell_type": "markdown",
      "source": [
        "Подготовим данные. `DataPreparator().generate_linear_dataset()` генерирует случайные линейные сигналы по формуле $y=ax+b$, где $a$, $b$ - случайные коэффициенты."
      ],
      "metadata": {
        "id": "FNMBYaw-lovk"
      }
    },
    {
      "cell_type": "code",
      "execution_count": 6,
      "metadata": {
        "colab": {
          "base_uri": "https://localhost:8080/",
          "height": 472
        },
        "id": "VDcluDKqjZi1",
        "outputId": "9c579a2c-f3eb-4664-a219-7841aeee0e2b"
      },
      "outputs": [
        {
          "output_type": "display_data",
          "data": {
            "text/plain": [
              "<Figure size 640x480 with 2 Axes>"
            ],
            "image/png": "[encoded data removed]"
          },
          "metadata": {}
        }
      ],
      "source": [
        "# Генерация обучающего набора данных\n",
        "train_x, train_y = DataPreparator().generate_linear_dataset(200, 100, Noisemaker().add_perlin_noise)\n",
        "# Генерация валидационного набора данных\n",
        "val_x, val_y = DataPreparator().generate_linear_dataset(50, 100, Noisemaker().add_perlin_noise)\n",
        "# Генерация тестового набора данных\n",
        "test_x, test_y = DataPreparator().generate_linear_dataset(100, 100, Noisemaker().add_perlin_noise)\n",
        "\n",
        "# Индекс для вывода случайного сигнала с зашумлением и без\n",
        "index = 45\n",
        "\n",
        "# Создание графика\n",
        "fig, axs = plt.subplots(1, 2)\n",
        "\n",
        "# Вывод зашумленного сигнала на первом графике\n",
        "axs[0].plot(np.linspace(0, train_x[index].shape[0], train_x[index].shape[0]), train_x[index].flatten(), color='r')\n",
        "axs[0].set_title(\"Искаженный сигнал\")\n",
        "axs[0].set_xlabel(\"Момент времени\")\n",
        "axs[0].set_ylabel(\"Значение сигнала\")\n",
        "\n",
        "# Вывод чистого сигнала на втором графике\n",
        "axs[1].plot(np.linspace(0, train_y[index].shape[0], train_y[index].shape[0]), train_y[index].flatten(), color='b')\n",
        "axs[1].set_title(\"Чистый сигнал\")\n",
        "axs[1].set_xlabel(\"Момент времени\")\n",
        "plt.show()\n",
        "\n",
        "# Изменение формы обучающего набора данных для подготовки к обучению модели\n",
        "train_x = train_x.reshape(-1, 100, 1)\n",
        "train_y = train_y.reshape(-1, 100, 1)\n",
        "\n",
        "# Изменение формы валидационного набора данных для подготовки к обучению модели\n",
        "val_x = val_x.reshape(-1, 100, 1)\n",
        "val_y = val_y.reshape(-1, 100, 1)\n",
        "\n",
        "# Изменение формы тестового набора данных для подготовки к обучению модели\n",
        "test_x = test_x.reshape(-1, 100, 1)\n",
        "test_y = test_y.reshape(-1, 100, 1)\n"
      ]
    },
    {
      "cell_type": "markdown",
      "source": [
        "Создание и обучение модели."
      ],
      "metadata": {
        "id": "rqNXhsfRlrU7"
      }
    },
    {
      "cell_type": "code",
      "source": [
        "\"\"\"\n",
        "Эквалайзер для линейного сигнала\n",
        "\"\"\"\n",
        "\n",
        "# Создание модели для шумоочистки сигнала\n",
        "def create_noise_canceling_model(input_shape):\n",
        "    model = models.Sequential([\n",
        "        layers.Conv1D(filters=30, kernel_size=4, activation='linear', padding='same', input_shape=input_shape),\n",
        "        layers.MaxPooling1D(pool_size=2),\n",
        "        layers.Conv1D(filters=60, kernel_size=4, activation='relu', padding='same'),\n",
        "        layers.MaxPooling1D(pool_size=2),\n",
        "        layers.Conv1D(filters=120, kernel_size=4, activation='relu', padding='same'),\n",
        "        layers.UpSampling1D(size=2),\n",
        "        layers.Conv1D(filters=60, kernel_size=4, activation='relu', padding='same'),\n",
        "        layers.UpSampling1D(size=2),\n",
        "        layers.Conv1D(filters=1, kernel_size=4, activation='linear', padding='same'),\n",
        "    ])\n",
        "    return model\n",
        "\n",
        "# Определение размера окна\n",
        "window_size = 20\n",
        "\n",
        "# Генерация обучающего набора данных\n",
        "X, y = DataPreparator().generate_linear_dataset(200, 100, Noisemaker().add_perlin_noise)\n",
        "\n",
        "# Определение формы входных данных для модели\n",
        "input_shape = (100, 1)\n",
        "\n",
        "# Создание модели\n",
        "model = create_noise_canceling_model(input_shape)\n",
        "\n",
        "# Компиляция модели и обучение модели\n",
        "model.compile(optimizer=\"adam\", loss='mse')\n",
        "print(model.summary())\n",
        "model.fit(train_x,\n",
        "          train_y,\n",
        "          epochs=100,\n",
        "          batch_size=32,\n",
        "          callbacks=[TqdmCallback(verbose=1)],\n",
        "          validation_data=(val_x, val_y),\n",
        "          verbose=0)\n",
        "\n",
        "# Сохранение обученной модели\n",
        "model.save(\"eq_linear.h5\")"
      ],
      "metadata": {
        "colab": {
          "base_uri": "https://localhost:8080/",
          "height": 659,
          "referenced_widgets": [
            "70fc2e78762e405daf7ea33db916ec6e",
            "21ad14db366541f49f6ba5c18112776f",
            "fe7b4e919e064b968becf972a3764b30",
            "3cab9e81725a438ea97a8f5491888e84",
            "f4b40a09bbf4479bb6334ff489219624",
            "17bf99ba7a5343efbb09074f362ae983",
            "3419bdd276924f8d83da53471c0e5482",
            "e7886c9d73014a10888c6f637f46e2ef",
            "ded554aa1e074b8480df2804346f48a5",
            "aa46936250794e328af7a4f754e108a7",
            "a5d16aa3af3a48b490be633642437a53",
            "393aaad873654597a430edc7bd5f2c89",
            "9e438244f1dd465bb4e0b5d3d5a6eafd",
            "1b67ae6490ed416eaaa3c812f207498d",
            "ab4f999227a24131a6bbb04cc1f4e109",
            "900693db1f1743619d7cf66efeec27dc",
            "51d24332963b41069a48648eb1427b77",
            "adc437e470114b0bb42f5df20db9b521",
            "2691898680f34cf694f3caf061d1761f",
            "bec2398e0a9e41879b57a2adab4d9573",
            "b295a55967f6417f9ead6404a176ba18",
            "a546bcec39a74eb4ae7d8cb15d1a811e"
          ]
        },
        "id": "wIIkB3q6lwUm",
        "outputId": "f749f8f2-90d7-4c28-b4aa-71e08d13e705"
      },
      "execution_count": 7,
      "outputs": [
        {
          "output_type": "stream",
          "name": "stdout",
          "text": [
            "Model: \"sequential\"\n",
            "_________________________________________________________________\n",
            " Layer (type)                Output Shape              Param #   \n",
            "=================================================================\n",
            " conv1d (Conv1D)             (None, 100, 30)           150       \n",
            "                                                                 \n",
            " max_pooling1d (MaxPooling1  (None, 50, 30)            0         \n",
            " D)                                                              \n",
            "                                                                 \n",
            " conv1d_1 (Conv1D)           (None, 50, 60)            7260      \n",
            "                                                                 \n",
            " max_pooling1d_1 (MaxPoolin  (None, 25, 60)            0         \n",
            " g1D)                                                            \n",
            "                                                                 \n",
            " conv1d_2 (Conv1D)           (None, 25, 120)           28920     \n",
            "                                                                 \n",
            " up_sampling1d (UpSampling1  (None, 50, 120)           0         \n",
            " D)                                                              \n",
            "                                                                 \n",
            " conv1d_3 (Conv1D)           (None, 50, 60)            28860     \n",
            "                                                                 \n",
            " up_sampling1d_1 (UpSamplin  (None, 100, 60)           0         \n",
            " g1D)                                                            \n",
            "                                                                 \n",
            " conv1d_4 (Conv1D)           (None, 100, 1)            241       \n",
            "                                                                 \n",
            "=================================================================\n",
            "Total params: 65431 (255.59 KB)\n",
            "Trainable params: 65431 (255.59 KB)\n",
            "Non-trainable params: 0 (0.00 Byte)\n",
            "_________________________________________________________________\n",
            "None\n"
          ]
        },
        {
          "output_type": "display_data",
          "data": {
            "text/plain": [
              "0epoch [00:00, ?epoch/s]"
            ],
            "application/vnd.jupyter.widget-view+json": {
              "version_major": 2,
              "version_minor": 0,
              "model_id": "70fc2e78762e405daf7ea33db916ec6e"
            }
          },
          "metadata": {}
        },
        {
          "output_type": "display_data",
          "data": {
            "text/plain": [
              "0batch [00:00, ?batch/s]"
            ],
            "application/vnd.jupyter.widget-view+json": {
              "version_major": 2,
              "version_minor": 0,
              "model_id": "393aaad873654597a430edc7bd5f2c89"
            }
          },
          "metadata": {}
        },
        {
          "output_type": "stream",
          "name": "stderr",
          "text": [
            "/usr/local/lib/python3.10/dist-packages/keras/src/engine/training.py:3103: UserWarning: You are saving your model as an HDF5 file via `model.save()`. This file format is considered legacy. We recommend using instead the native Keras format, e.g. `model.save('my_model.keras')`.\n",
            "  saving_api.save_model(\n"
          ]
        }
      ]
    },
    {
      "cell_type": "markdown",
      "source": [
        "Загружаем заранее натренированную модель, чтобы не ждать окончание обучения."
      ],
      "metadata": {
        "id": "3kNgW2lLlzVx"
      }
    },
    {
      "cell_type": "code",
      "source": [
        "model = keras.saving.load_model(\"models/eq_linear_ready.h5\")"
      ],
      "metadata": {
        "id": "Uj8AxpgemAPk"
      },
      "execution_count": 9,
      "outputs": []
    },
    {
      "cell_type": "markdown",
      "source": [
        "Оцениваем модель."
      ],
      "metadata": {
        "id": "9ukXr5grmRS3"
      }
    },
    {
      "cell_type": "code",
      "source": [
        "results = model.evaluate(test_x, test_y, batch_size=32)\n",
        "display(results)"
      ],
      "metadata": {
        "colab": {
          "base_uri": "https://localhost:8080/",
          "height": 52
        },
        "id": "PfSK2vismRoZ",
        "outputId": "2228dd57-dcd6-4876-8e8c-960c9e2673a4"
      },
      "execution_count": 8,
      "outputs": [
        {
          "output_type": "stream",
          "name": "stdout",
          "text": [
            "4/4 [==============================] - 0s 7ms/step - loss: 76.2459\n"
          ]
        },
        {
          "output_type": "display_data",
          "data": {
            "text/plain": [
              "76.2458724975586"
            ]
          },
          "metadata": {}
        }
      ]
    },
    {
      "cell_type": "markdown",
      "source": [
        "Рассмотрим пример работы модели на одном конкретном сигнале."
      ],
      "metadata": {
        "id": "ekVhRL4smb6m"
      }
    },
    {
      "cell_type": "code",
      "source": [
        "# Генерация линейного набора данных с шумом\n",
        "x, y = DataPreparator().generate_linear_dataset(1, 100, Noisemaker().add_perlin_noise)\n",
        "x = x.reshape(-1, 100)\n",
        "y = y.flatten()\n",
        "\n",
        "# Предсказание модели и выравнивание результатов\n",
        "eq = model.predict(x).flatten()\n",
        "\n",
        "# Создание графика\n",
        "fig, axs = plt.subplots(1, 2)\n",
        "lin_space = np.linspace(0, 100, 100)\n",
        "\n",
        "# Построение графика зашумленного сигнала на первом графике\n",
        "axs[0].plot(lin_space, x.flatten(), color='r')  # Красный - зашумленный\n",
        "axs[0].set_title(\"Искаженный сигнал\")\n",
        "axs[0].set_xlabel(\"Момент времени\")\n",
        "axs[0].set_ylabel(\"Значение сигнала\")\n",
        "\n",
        "# Построение графика выравненного сигнала на втором графике\n",
        "axs[1].plot(lin_space, eq.flatten(), color='g')  # Зеленый - очищенный\n",
        "axs[1].set_title(\"Выравненный сигнал\")\n",
        "axs[1].set_xlabel(\"Момент времени\")\n",
        "plt.show()\n"
      ],
      "metadata": {
        "colab": {
          "base_uri": "https://localhost:8080/",
          "height": 489
        },
        "id": "paY3W6H7mcxU",
        "outputId": "1a426831-7f44-4edd-84f2-b6d9e5d5ae03"
      },
      "execution_count": 9,
      "outputs": [
        {
          "output_type": "stream",
          "name": "stdout",
          "text": [
            "1/1 [==============================] - 0s 170ms/step\n"
          ]
        },
        {
          "output_type": "display_data",
          "data": {
            "text/plain": [
              "<Figure size 640x480 with 2 Axes>"
            ],
            "image/png": "[encoded data removed]"
          },
          "metadata": {}
        }
      ]
    },
    {
      "cell_type": "markdown",
      "source": [
        "# Эквалайзер для слабо нелинейного сигнала"
      ],
      "metadata": {
        "id": "YTfDJ8BoA0oH"
      }
    },
    {
      "cell_type": "markdown",
      "source": [
        "Слабонелинейный сигнал - это тип сигнала, характеризующийся небольшой степенью нелинейности в своем поведении или динамике. Некоторые слабонелинейные сигналы математически можно представить в виде функций $cos()$, $sin()$."
      ],
      "metadata": {
        "id": "_R-KXFTASX1X"
      }
    },
    {
      "cell_type": "markdown",
      "source": [
        "Подготовка данных. `DataPreparator().generate_weakly_nonlinear_dataset()` генерирует случайные слабо линейные сигналы."
      ],
      "metadata": {
        "id": "TWC3aJ94jh0R"
      }
    },
    {
      "cell_type": "code",
      "source": [
        "# Генерация обучающего набора данных: создание слабо нелинейного набора данных с шумом\n",
        "train_x, train_y, _ = DataPreparator().generate_weakly_nonlinear_dataset(200, 100, Noisemaker().add_perlin_noise)\n",
        "# Генерация валидационного набора данных: создание слабо нелинейного набора данных с шумом\n",
        "val_x, val_y, _ = DataPreparator().generate_weakly_nonlinear_dataset(50, 100, Noisemaker().add_perlin_noise)\n",
        "# Генерация тестового набора данных: создание слабо нелинейного набора данных с шумом\n",
        "test_x, test_y, _ = DataPreparator().generate_weakly_nonlinear_dataset(100, 100, Noisemaker().add_perlin_noise)\n",
        "\n",
        "# Индекс для вывода случайного сигнала с зашумлением и без\n",
        "index = 45\n",
        "\n",
        "# Создание графика\n",
        "fig, axs = plt.subplots(1, 2)\n",
        "\n",
        "# Построение графика зашумленного сигнала на первом графике\n",
        "# Красный цвет для зашумленного сигнала\n",
        "axs[0].plot(np.linspace(0, train_x[index].shape[0], train_x[index].shape[0]), train_x[index].flatten(), color='r')\n",
        "axs[0].set_title(\"Искаженный сигнал\")\n",
        "axs[0].set_xlabel(\"Момент времени\")\n",
        "axs[0].set_ylabel(\"Значение сигнала\")\n",
        "\n",
        "# Построение графика чистого сигнала на втором графике\n",
        "# Синий цвет для чистого сигнала\n",
        "axs[1].plot(np.linspace(0, train_y[index].shape[0], train_y[index].shape[0]), train_y[index].flatten(), color='b')\n",
        "axs[1].set_title(\"Чистый сигнал\")\n",
        "axs[1].set_xlabel(\"Момент времени\")\n",
        "plt.show()\n",
        "\n",
        "# Изменение формы обучающего набора данных для подготовки к обучению модели\n",
        "train_x = train_x.reshape(-1, 100, 1)\n",
        "train_y = train_y.reshape(-1, 100, 1)\n",
        "\n",
        "# Изменение формы валидационного набора данных для подготовки к обучению модели\n",
        "val_x = val_x.reshape(-1, 100, 1)\n",
        "val_y = val_y.reshape(-1, 100, 1)\n",
        "\n",
        "# Изменение формы тестового набора данных для подготовки к обучению модели\n",
        "test_x = test_x.reshape(-1, 100, 1)\n",
        "test_y = test_y.reshape(-1, 100, 1)\n"
      ],
      "metadata": {
        "colab": {
          "base_uri": "https://localhost:8080/",
          "height": 472
        },
        "id": "K9LwEQIITahf",
        "outputId": "ae7d1029-5ea7-4401-96f0-fc8152879700"
      },
      "execution_count": 17,
      "outputs": [
        {
          "output_type": "display_data",
          "data": {
            "text/plain": [
              "<Figure size 640x480 with 2 Axes>"
            ],
            "image/png": "[encoded data removed]"
          },
          "metadata": {}
        }
      ]
    },
    {
      "cell_type": "markdown",
      "source": [
        "Создание и обучение модели."
      ],
      "metadata": {
        "id": "j5xsn4tckQCj"
      }
    },
    {
      "cell_type": "code",
      "source": [
        "\"\"\"\n",
        "Эквалайзер для слабо нелинейного сигнала\n",
        "\"\"\"\n",
        "\n",
        "# Создание модели для шумоочистки сигнала\n",
        "def create_noise_canceling_model(input_shape):\n",
        "    model = models.Sequential([\n",
        "        # LSTM слой с 64 блоками, возвращающий последовательности, и входной формой данных\n",
        "        layers.LSTM(64, return_sequences=True, input_shape=input_shape),\n",
        "        # LSTM слой с 64 блоками, возвращающий последовательности, и входной формой данных\n",
        "        layers.LSTM(64, return_sequences=True, input_shape=input_shape),\n",
        "        # Применение полносвязного слоя на каждом временном шаге\n",
        "        layers.TimeDistributed(layers.Dense(64)),\n",
        "        # LSTM слой с 64 блоками, возвращающий последовательности, и входной формой данных\n",
        "        layers.LSTM(64, return_sequences=True, input_shape=input_shape),\n",
        "        # LSTM слой с 64 блоками, возвращающий последовательности, и входной формой данных\n",
        "        layers.LSTM(64, return_sequences=True, input_shape=input_shape),\n",
        "        # Применение полносвязного слоя на каждом временном шаге\n",
        "        layers.TimeDistributed(layers.Dense(1)),\n",
        "    ])\n",
        "    return model\n",
        "\n",
        "# Создание модели\n",
        "window_size = 100 # Определение размера окна\n",
        "input_shape = (window_size, 1)\n",
        "model = create_noise_canceling_model(input_shape)\n",
        "\n",
        "# Компиляция и обучение модели\n",
        "model.compile(optimizer=\"adam\", loss='mse')\n",
        "print(model.summary())\n",
        "model.fit(train_x,\n",
        "          train_y,\n",
        "          epochs=100,\n",
        "          batch_size=32,\n",
        "          callbacks=[TqdmCallback(verbose=1)],\n",
        "          validation_data=(val_x, val_y),\n",
        "          verbose=0)\n",
        "\n",
        "# Сохранение обученной модели\n",
        "model.save(\"eq_weakly_nonlinear.h5\")"
      ],
      "metadata": {
        "colab": {
          "base_uri": "https://localhost:8080/",
          "height": 466,
          "referenced_widgets": [
            "2aa6a1c453cb42ccae6d5c74d7497ebb",
            "539ddc88f27249dd8f78d2ca937e7064",
            "33c7d23464be4fd5bbcb733e58b1a596",
            "ac4e8a35b46a4f8abcdf0c277bf3593c",
            "ffdcc832decf456c88302c41f93ea07a",
            "22cff231fc404a129b316243be6715d7",
            "8ec3ab999e85412ea1c4afefd34d77ab",
            "6bde20674b184cae94cc37755ac90af1",
            "92779abf0d0f4c29886198a6bca5f4ba",
            "3bee694576d540eca522c4703536cc73",
            "3bd667050569466ab0bee88733acc8a4",
            "e39e6325510c4a0083c153880e9da158",
            "2a3e2ade8cf546dc9a7ac2de1dd31ccb",
            "ad8a2bcd9f5949e9bd507c04d46525ff",
            "2681726b62ef4074af66eb227efd3cbd",
            "bc0d9b0ffc094c58b440a03e0fba4d85",
            "97082460e4714475b305737a92b5096c",
            "39b75b61f89745cab315a7be8bcfeab3",
            "fb1435c7270148a7a0259a82b4759849",
            "599b6746c55a4b0f8bdb70810cb86a6b",
            "a8eb60ac63144bbead47cc3e604eb3ce",
            "fe6fd76e214f45d49a87fb4237c514bc"
          ]
        },
        "id": "_Ozw9sblU59m",
        "outputId": "f7b1abec-4d31-4490-c91b-00aa38b0d6c0"
      },
      "execution_count": 18,
      "outputs": [
        {
          "output_type": "stream",
          "name": "stdout",
          "text": [
            "Model: \"sequential_1\"\n",
            "_________________________________________________________________\n",
            " Layer (type)                Output Shape              Param #   \n",
            "=================================================================\n",
            " lstm (LSTM)                 (None, 100, 64)           16896     \n",
            "                                                                 \n",
            " lstm_1 (LSTM)               (None, 100, 64)           33024     \n",
            "                                                                 \n",
            " time_distributed (TimeDist  (None, 100, 64)           4160      \n",
            " ributed)                                                        \n",
            "                                                                 \n",
            " lstm_2 (LSTM)               (None, 100, 64)           33024     \n",
            "                                                                 \n",
            " lstm_3 (LSTM)               (None, 100, 64)           33024     \n",
            "                                                                 \n",
            " time_distributed_1 (TimeDi  (None, 100, 1)            65        \n",
            " stributed)                                                      \n",
            "                                                                 \n",
            "=================================================================\n",
            "Total params: 120193 (469.50 KB)\n",
            "Trainable params: 120193 (469.50 KB)\n",
            "Non-trainable params: 0 (0.00 Byte)\n",
            "_________________________________________________________________\n",
            "None\n"
          ]
        },
        {
          "output_type": "display_data",
          "data": {
            "text/plain": [
              "0epoch [00:00, ?epoch/s]"
            ],
            "application/vnd.jupyter.widget-view+json": {
              "version_major": 2,
              "version_minor": 0,
              "model_id": "2aa6a1c453cb42ccae6d5c74d7497ebb"
            }
          },
          "metadata": {}
        },
        {
          "output_type": "display_data",
          "data": {
            "text/plain": [
              "0batch [00:00, ?batch/s]"
            ],
            "application/vnd.jupyter.widget-view+json": {
              "version_major": 2,
              "version_minor": 0,
              "model_id": "e39e6325510c4a0083c153880e9da158"
            }
          },
          "metadata": {}
        }
      ]
    },
    {
      "cell_type": "markdown",
      "source": [
        "Загружаем заранее натренированную модель, чтобы не ждать окончание обучения."
      ],
      "metadata": {
        "id": "hXvO6AOflXHH"
      }
    },
    {
      "cell_type": "code",
      "source": [
        "model = keras.saving.load_model(\"models/eq_weakly_nonlinear_ready.h5\")"
      ],
      "metadata": {
        "id": "n9lRq8fuNhYm"
      },
      "execution_count": 19,
      "outputs": []
    },
    {
      "cell_type": "markdown",
      "source": [
        "Оцениваем модель."
      ],
      "metadata": {
        "id": "vzi0u6ZClkim"
      }
    },
    {
      "cell_type": "code",
      "source": [
        "results = model.evaluate(test_x, test_y, batch_size=32)\n",
        "display(results)"
      ],
      "metadata": {
        "colab": {
          "base_uri": "https://localhost:8080/",
          "height": 52
        },
        "id": "pCDO9StPTZ2x",
        "outputId": "895a8893-e675-4a65-9e5e-6ad7f4843d5a"
      },
      "execution_count": 20,
      "outputs": [
        {
          "output_type": "stream",
          "name": "stdout",
          "text": [
            "4/4 [==============================] - 2s 53ms/step - loss: 0.0377\n"
          ]
        },
        {
          "output_type": "display_data",
          "data": {
            "text/plain": [
              "0.0377483069896698"
            ]
          },
          "metadata": {}
        }
      ]
    },
    {
      "cell_type": "markdown",
      "source": [
        "Рассмотрим пример работы модели на одном конкретном сигнале."
      ],
      "metadata": {
        "id": "Zph5M8K3mDGA"
      }
    },
    {
      "cell_type": "code",
      "source": [
        "# Генерация набора данных: создание слабо нелинейного набора данных с шумом\n",
        "x, y, _ = DataPreparator().generate_weakly_nonlinear_dataset(1, 100, Noisemaker().add_perlin_noise)\n",
        "\n",
        "# Изменение формы входных данных\n",
        "x = x.reshape(-1, 100)\n",
        "y = y.flatten()\n",
        "\n",
        "# Предсказание модели для выравнивания сигнала\n",
        "eq = model.predict(x).flatten()\n",
        "\n",
        "# Создание графика\n",
        "lin_space = np.linspace(0, 100, 100)\n",
        "fig, axs = plt.subplots(1, 2)\n",
        "\n",
        "# Построение графика зашумленного сигнала на первом графике\n",
        "axs[0].plot(lin_space, x.flatten(), color='r')  # Красный - зашумленный\n",
        "axs[0].set_title(\"Искаженный сигнал\")\n",
        "axs[0].set_xlabel(\"Момент времени\")\n",
        "axs[0].set_ylabel(\"Значение сигнала\")\n",
        "\n",
        "# Построение графика выравненного сигнала на втором графике\n",
        "axs[1].plot(lin_space, eq.flatten(), color='g')  # Зеленый - очищенный\n",
        "axs[1].set_title(\"Выравненный сигнал\")\n",
        "axs[1].set_xlabel(\"Момент времени\")\n",
        "plt.show()\n"
      ],
      "metadata": {
        "colab": {
          "base_uri": "https://localhost:8080/",
          "height": 489
        },
        "id": "wu192cx0NiF3",
        "outputId": "f911939a-8ec7-4eb1-b3f6-6454c77f4400"
      },
      "execution_count": 22,
      "outputs": [
        {
          "output_type": "stream",
          "name": "stdout",
          "text": [
            "1/1 [==============================] - 4s 4s/step\n"
          ]
        },
        {
          "output_type": "display_data",
          "data": {
            "text/plain": [
              "<Figure size 640x480 with 2 Axes>"
            ],
            "image/png": "[encoded data removed]"
          },
          "metadata": {}
        }
      ]
    },
    {
      "cell_type": "markdown",
      "source": [
        "# Эквалайзер для нелинейного сигнала\n"
      ],
      "metadata": {
        "id": "71p-sA70A-Gy"
      }
    },
    {
      "cell_type": "markdown",
      "source": [
        "Нелинейный сигнал - сигнал, который нельзя математически выразить линейно."
      ],
      "metadata": {
        "id": "N4xJRtZpUXxz"
      }
    },
    {
      "cell_type": "markdown",
      "source": [
        "Подготовка данных. `DataPreparator().generate_weakly_nonlinear_dataset()` генерирует случайные слабо линейные сигналы."
      ],
      "metadata": {
        "id": "DqYrQuPRmQjH"
      }
    },
    {
      "cell_type": "code",
      "source": [
        "# Генерация обучающего набора данных: создание нелинейного набора данных с шумом\n",
        "train_x, train_y = DataPreparator().generate_nonlinear_dataset(50, 100, Noisemaker().add_perlin_noise)\n",
        "# Генерация валидационного набора данных: создание нелинейного набора данных с шумом\n",
        "val_x, val_y = DataPreparator().generate_nonlinear_dataset(50, 100, Noisemaker().add_perlin_noise)\n",
        "# Генерация тестового набора данных: создание нелинейного набора данных с шумом\n",
        "test_x, test_y = DataPreparator().generate_nonlinear_dataset(50, 100, Noisemaker().add_perlin_noise)\n",
        "\n",
        "# Индекс для вывода случайного сигнала с зашумлением и без\n",
        "index = 45\n",
        "\n",
        "# Создание графика\n",
        "fig, axs = plt.subplots(1, 2)\n",
        "\n",
        "# Построение графика зашумленного сигнала на первом графике\n",
        "# Красный цвет для зашумленного сигнала\n",
        "axs[0].plot(np.linspace(0, train_x[index].shape[0], train_x[index].shape[0]), train_x[index].flatten(), color='r')\n",
        "axs[0].set_title(\"Искаженный сигнал\")\n",
        "axs[0].set_xlabel(\"Момент времени\")\n",
        "axs[0].set_ylabel(\"Значение сигнала\")\n",
        "\n",
        "# Синий цвет для чистого сигнала\n",
        "axs[1].plot(np.linspace(0, train_y[index].shape[0], train_y[index].shape[0]), train_y[index].flatten(), color='b')\n",
        "axs[1].set_title(\"Чистый сигнал\")\n",
        "axs[1].set_xlabel(\"Момент времени\")\n",
        "plt.show()\n",
        "\n",
        "# Изменение формы обучающего набора данных\n",
        "train_x = train_x.reshape(-1, 100, 1)\n",
        "train_y = train_y.reshape(-1, 100, 1)\n",
        "\n",
        "# Изменение формы валидационного набора данных\n",
        "val_x = val_x.reshape(-1, 100, 1)\n",
        "val_y = val_y.reshape(-1, 100, 1)\n",
        "\n",
        "# Изменение формы тестового набора данных\n",
        "test_x = test_x.reshape(-1, 100, 1)\n",
        "test_y = test_y.reshape(-1, 100, 1)\n"
      ],
      "metadata": {
        "colab": {
          "base_uri": "https://localhost:8080/",
          "height": 472
        },
        "id": "v5aZmSLKPMXL",
        "outputId": "e009293f-454d-4c92-b4fe-42c754ce9ff8"
      },
      "execution_count": 23,
      "outputs": [
        {
          "output_type": "display_data",
          "data": {
            "text/plain": [
              "<Figure size 640x480 with 2 Axes>"
            ],
            "image/png": "[encoded data removed]"
          },
          "metadata": {}
        }
      ]
    },
    {
      "cell_type": "markdown",
      "source": [
        "Создание и обучение модели"
      ],
      "metadata": {
        "id": "u8iwEkPOkSJj"
      }
    },
    {
      "cell_type": "code",
      "source": [
        "\"\"\"\n",
        "Эквалайзер для нелинейного сигнала\n",
        "\"\"\"\n",
        "\n",
        "# Создание LSTM-модели для шумоочистки сигнала\n",
        "def create_noise_canceling_model(input_shape):\n",
        "    model = models.Sequential([\n",
        "        # LSTM слой с 100 блоками\n",
        "        layers.LSTM(100, return_sequences=True, input_shape=input_shape),\n",
        "        # LSTM слой с 50 блоками\n",
        "        layers.LSTM(50, return_sequences=True, input_shape=input_shape),\n",
        "        # LSTM слой с 50 блоками\n",
        "        layers.LSTM(50, return_sequences=True, input_shape=input_shape),\n",
        "        # Применение полносвязного слоя на каждом временном шаге последовательности\n",
        "        layers.TimeDistributed(layers.Dense(1)),\n",
        "    ])\n",
        "    return model\n",
        "\n",
        "# Определение формы входных данных для модели\n",
        "window_size = 100 # Определение размера окна\n",
        "input_shape = (window_size, 1)\n",
        "\n",
        "# Создание модели\n",
        "model = create_noise_canceling_model(input_shape)\n",
        "\n",
        "# Компиляция и обучение модели\n",
        "model.compile(optimizer=\"adam\", loss='mse')\n",
        "print(model.summary())\n",
        "model.fit(train_x,\n",
        "          train_y,\n",
        "          epochs=100,\n",
        "          batch_size=32,\n",
        "          callbacks=[TqdmCallback(verbose=1)],\n",
        "          validation_data=(val_x, val_y),\n",
        "          verbose=0)\n",
        "\n",
        "# Сохранение обученной модели\n",
        "model.save(\"eq_nonlinear.h5\")\n"
      ],
      "metadata": {
        "colab": {
          "base_uri": "https://localhost:8080/",
          "height": 379,
          "referenced_widgets": [
            "7144390082df4d7ba920fb3a0721417d",
            "783831a1095d4a69bdcee8130e8654e9",
            "1a6d4385bd6547b7994ee3940814c055",
            "69d14840fdd34600b8de2e9a88ec1d65",
            "629008817664407bbfd227d85384a1ea",
            "09473648a58d4f919a17122c955601a6",
            "944336c2350e41a4ba9ec945350bb08a",
            "c6a63b9c9d4c4d7db1683cdc6c657db1",
            "95ab9ed606594f66988a713db3a98529",
            "a5122570ab304cde9d96b6a4cef587fa",
            "511c555eb6344f5ab036b0fd7295d7ab",
            "0e3986e719de4d3a8c2f17eaa97ad53d",
            "ec665463aaa644d789d71af48e91151d",
            "a1d59a04daec4a058962814c34bd9f92",
            "b0ad039c42ec4613bb133815d609c781",
            "e3fde6762d4a40c3948a9f57be61483c",
            "1b510def42ec439dbae9a74ecebb1c83",
            "0a174d6098d246868342984bd3757a46",
            "61ae18782d614d6980a9dbb5fe243018",
            "c866dff0c5244fd089435d31f3602426",
            "a4ddf59710044718952415477fd667d1",
            "c03a5020bf764ad28579eb7dadde44db"
          ]
        },
        "id": "3WNj07SGPxbl",
        "outputId": "0d72045d-6422-4307-e72f-a2e0f0a4386e"
      },
      "execution_count": 24,
      "outputs": [
        {
          "output_type": "stream",
          "name": "stdout",
          "text": [
            "Model: \"sequential_2\"\n",
            "_________________________________________________________________\n",
            " Layer (type)                Output Shape              Param #   \n",
            "=================================================================\n",
            " lstm_4 (LSTM)               (None, 100, 100)          40800     \n",
            "                                                                 \n",
            " lstm_5 (LSTM)               (None, 100, 50)           30200     \n",
            "                                                                 \n",
            " lstm_6 (LSTM)               (None, 100, 50)           20200     \n",
            "                                                                 \n",
            " time_distributed_2 (TimeDi  (None, 100, 1)            51        \n",
            " stributed)                                                      \n",
            "                                                                 \n",
            "=================================================================\n",
            "Total params: 91251 (356.45 KB)\n",
            "Trainable params: 91251 (356.45 KB)\n",
            "Non-trainable params: 0 (0.00 Byte)\n",
            "_________________________________________________________________\n",
            "None\n"
          ]
        },
        {
          "output_type": "display_data",
          "data": {
            "text/plain": [
              "0epoch [00:00, ?epoch/s]"
            ],
            "application/vnd.jupyter.widget-view+json": {
              "version_major": 2,
              "version_minor": 0,
              "model_id": "7144390082df4d7ba920fb3a0721417d"
            }
          },
          "metadata": {}
        },
        {
          "output_type": "display_data",
          "data": {
            "text/plain": [
              "0batch [00:00, ?batch/s]"
            ],
            "application/vnd.jupyter.widget-view+json": {
              "version_major": 2,
              "version_minor": 0,
              "model_id": "0e3986e719de4d3a8c2f17eaa97ad53d"
            }
          },
          "metadata": {}
        }
      ]
    },
    {
      "cell_type": "markdown",
      "source": [
        "Загружаем заранее натренированную модель, чтобы не ждать окончание обучения."
      ],
      "metadata": {
        "id": "ntHSlUIHlZHY"
      }
    },
    {
      "cell_type": "code",
      "source": [
        "model = keras.saving.load_model(\"models/eq_nonlinear_ready.h5\")"
      ],
      "metadata": {
        "id": "RsPqhYcpO7wr"
      },
      "execution_count": 26,
      "outputs": []
    },
    {
      "cell_type": "markdown",
      "source": [
        "Оцениваем модель"
      ],
      "metadata": {
        "id": "xaB0_Hm_lata"
      }
    },
    {
      "cell_type": "code",
      "source": [
        "results = model.evaluate(test_x, test_y, batch_size=32)\n",
        "display(results)"
      ],
      "metadata": {
        "colab": {
          "base_uri": "https://localhost:8080/",
          "height": 52
        },
        "id": "R62-TlSYVPBv",
        "outputId": "1ac2b060-3216-43ac-965f-bf282b3f83ad"
      },
      "execution_count": 27,
      "outputs": [
        {
          "output_type": "stream",
          "name": "stdout",
          "text": [
            "2/2 [==============================] - 2s 63ms/step - loss: 0.1138\n"
          ]
        },
        {
          "output_type": "display_data",
          "data": {
            "text/plain": [
              "0.1138373389840126"
            ]
          },
          "metadata": {}
        }
      ]
    },
    {
      "cell_type": "markdown",
      "source": [
        "Рассмотрим пример работы модели на одном конкретном сигнале."
      ],
      "metadata": {
        "id": "AGGNs7GSmFXB"
      }
    },
    {
      "cell_type": "code",
      "source": [
        "# Генерация нелинейного набора данных с шумом\n",
        "x, y = DataPreparator().generate_nonlinear_dataset(1, 100, Noisemaker().add_perlin_noise)\n",
        "\n",
        "# Изменение формы данных\n",
        "x = x.reshape(-1, 100, 1)\n",
        "y = y.flatten()\n",
        "\n",
        "# Предсказание модели для выравнивания сигнала\n",
        "eq = model.predict(x).flatten()\n",
        "\n",
        "# Создание графика\n",
        "lin_space = np.linspace(0, 100, 100)\n",
        "fig, axs = plt.subplots(1, 2)\n",
        "\n",
        "# Построение графика зашумленного сигнала на первом графике\n",
        "axs[0].plot(lin_space, x.flatten(), color='r')\n",
        "axs[0].set_title(\"Искаженный сигнал\")\n",
        "axs[0].set_xlabel(\"Момент времени\")\n",
        "axs[0].set_ylabel(\"Значение сигнала\")\n",
        "\n",
        "# Построение графика выравненного сигнала на втором графике\n",
        "axs[1].plot(lin_space, eq.flatten(), color='g')\n",
        "axs[1].set_title(\"Выравненный сигнал\")\n",
        "axs[1].set_xlabel(\"Момент времени\")\n",
        "plt.show()\n"
      ],
      "metadata": {
        "colab": {
          "base_uri": "https://localhost:8080/",
          "height": 489
        },
        "id": "S-tUA2VPO8Fq",
        "outputId": "82fdc353-6316-446a-a2d5-86446958e131"
      },
      "execution_count": 28,
      "outputs": [
        {
          "output_type": "stream",
          "name": "stdout",
          "text": [
            "1/1 [==============================] - 1s 1s/step\n"
          ]
        },
        {
          "output_type": "display_data",
          "data": {
            "text/plain": [
              "<Figure size 640x480 with 2 Axes>"
            ],
            "image/png": "[encoded data removed]"
          },
          "metadata": {}
        }
      ]
    },
    {
      "cell_type": "markdown",
      "source": [
        "# Задание"
      ],
      "metadata": {
        "id": "4VNtb9UPGbBQ"
      }
    },
    {
      "cell_type": "markdown",
      "source": [
        "Реализуйте свою сеть для выравнивания нелинейного сигнала."
      ],
      "metadata": {
        "id": "9CTxFECLGguE"
      }
    },
    {
      "cell_type": "markdown",
      "source": [
        "## Решение"
      ],
      "metadata": {
        "id": "muySte1ZGdmV"
      }
    },
    {
      "cell_type": "code",
      "source": [
        "# Генерация обучающего набора данных: создание нелинейного набора данных с шумом\n",
        "train_x, train_y = DataPreparator().generate_nonlinear_dataset(50, 100, Noisemaker().add_perlin_noise)\n",
        "# Генерация валидационного набора данных: создание нелинейного набора данных с шумом\n",
        "val_x, val_y = DataPreparator().generate_nonlinear_dataset(50, 100, Noisemaker().add_perlin_noise)\n",
        "# Генерация тестового набора данных: создание нелинейного набора данных с шумом\n",
        "test_x, test_y = DataPreparator().generate_nonlinear_dataset(50, 100, Noisemaker().add_perlin_noise)\n",
        "\n",
        "# Индекс для вывода случайного сигнала с зашумлением и без\n",
        "index = 45\n",
        "\n",
        "# Создание графика\n",
        "fig, axs = plt.subplots(1, 2)\n",
        "\n",
        "# Построение графика зашумленного сигнала на первом графике\n",
        "# Красный цвет для зашумленного сигнала\n",
        "axs[0].plot(np.linspace(0, train_x[index].shape[0], train_x[index].shape[0]), train_x[index].flatten(), color='r')\n",
        "axs[0].set_title(\"Искаженный сигнал\")\n",
        "axs[0].set_xlabel(\"Момент времени\")\n",
        "axs[0].set_ylabel(\"Значение сигнала\")\n",
        "\n",
        "# Синий цвет для чистого сигнала\n",
        "axs[1].plot(np.linspace(0, train_y[index].shape[0], train_y[index].shape[0]), train_y[index].flatten(), color='b')\n",
        "axs[1].set_title(\"Чистый сигнал\")\n",
        "axs[1].set_xlabel(\"Момент времени\")\n",
        "plt.show()\n",
        "\n",
        "# Изменение формы обучающего набора данных\n",
        "train_x = train_x.reshape(-1, 100, 1)\n",
        "train_y = train_y.reshape(-1, 100, 1)\n",
        "\n",
        "# Изменение формы валидационного набора данных\n",
        "val_x = val_x.reshape(-1, 100, 1)\n",
        "val_y = val_y.reshape(-1, 100, 1)\n",
        "\n",
        "# Изменение формы тестового набора данных\n",
        "test_x = test_x.reshape(-1, 100, 1)\n",
        "test_y = test_y.reshape(-1, 100, 1)"
      ],
      "metadata": {
        "colab": {
          "base_uri": "https://localhost:8080/",
          "height": 472
        },
        "id": "xfF_0nImGhsf",
        "outputId": "944a317c-16ce-4553-9b5b-24c71b8cee0d"
      },
      "execution_count": 29,
      "outputs": [
        {
          "output_type": "display_data",
          "data": {
            "text/plain": [
              "<Figure size 640x480 with 2 Axes>"
            ],
            "image/png": "[encoded data removed]"
          },
          "metadata": {}
        }
      ]
    },
    {
      "cell_type": "code",
      "source": [
        "# Создание LSTM-модели для шумоочистки сигнала\n",
        "def create_noise_canceling_model(input_shape):\n",
        "    model = models.Sequential([\n",
        "        layers.LSTM(50, return_sequences=True, input_shape=input_shape),\n",
        "        layers.TimeDistributed(layers.Dense(1)),\n",
        "    ])\n",
        "    return model\n",
        "\n",
        "# Определение формы входных данных для модели\n",
        "window_size = 100 # Определение размера окна\n",
        "input_shape = (window_size, 1)\n",
        "\n",
        "# Создание модели\n",
        "model = create_noise_canceling_model(input_shape)\n",
        "\n",
        "# Компиляция и обучение модели\n",
        "model.compile(optimizer=\"adam\", loss='mse')\n",
        "print(model.summary())\n",
        "model.fit(train_x,\n",
        "          train_y,\n",
        "          epochs=100,\n",
        "          batch_size=32,\n",
        "          callbacks=[TqdmCallback(verbose=1)],\n",
        "          validation_data=(val_x, val_y),\n",
        "          verbose=0)\n",
        "\n",
        "# Сохранение обученной модели\n",
        "model.save(\"hw_nn.h5\")"
      ],
      "metadata": {
        "colab": {
          "base_uri": "https://localhost:8080/",
          "height": 309,
          "referenced_widgets": [
            "6b51c6d0a58449aa9192680c5d7ecbd4",
            "9b2ea64b873c45f9a9faf76157b2d946",
            "b1215f33fb954dd4a8557bf4bd5ee3d7",
            "5ece7b9071be4764a92e4ae45fe34699",
            "0fd288b83615411ab5fb15615df94df4",
            "8a7ee387f6ce4d31b25c506a04799768",
            "290b8f14f6d94ffc92faa391d9d46485",
            "fe07e0ef10d04fe7b5bbf11d50a805cb",
            "1a576a2d89b946859ee7ed08b8395908",
            "647251f730324d5d9f70cb04ff89461d",
            "ec6f99148f6f461682480d7d4d3ca72f",
            "7f1e5fb539b14bfb9b9325bf7ba43041",
            "897b5ae2f8734b93bb55a63fb8448940",
            "74da5291e23e4f2589b016017d5165b8",
            "6ee3d9fdc14243f68d224d370b741cce",
            "83a3d64651534a10b3688cdfa258f44a",
            "b79c53034df1401dbda51ddd782bd758",
            "5fd032e2eca74efab5db1ad1caf33f68",
            "2c1abb1efb494abf9357c2a21737d251",
            "142d9f81d9404f9e9d4a56411db3c23f",
            "d25f800e2a44428db37c37073eb6e29c",
            "a4d5c428e28c46f1a777d32dca10b8b5"
          ]
        },
        "id": "nSZt8OZlHHZc",
        "outputId": "74b6f219-ecc1-4892-ffc3-ca2dab5b1f2a"
      },
      "execution_count": 39,
      "outputs": [
        {
          "output_type": "stream",
          "name": "stdout",
          "text": [
            "Model: \"sequential_8\"\n",
            "_________________________________________________________________\n",
            " Layer (type)                Output Shape              Param #   \n",
            "=================================================================\n",
            " lstm_7 (LSTM)               (None, 100, 50)           10400     \n",
            "                                                                 \n",
            " time_distributed_3 (TimeDi  (None, 100, 1)            51        \n",
            " stributed)                                                      \n",
            "                                                                 \n",
            "=================================================================\n",
            "Total params: 10451 (40.82 KB)\n",
            "Trainable params: 10451 (40.82 KB)\n",
            "Non-trainable params: 0 (0.00 Byte)\n",
            "_________________________________________________________________\n",
            "None\n"
          ]
        },
        {
          "output_type": "display_data",
          "data": {
            "text/plain": [
              "0epoch [00:00, ?epoch/s]"
            ],
            "application/vnd.jupyter.widget-view+json": {
              "version_major": 2,
              "version_minor": 0,
              "model_id": "6b51c6d0a58449aa9192680c5d7ecbd4"
            }
          },
          "metadata": {}
        },
        {
          "output_type": "display_data",
          "data": {
            "text/plain": [
              "0batch [00:00, ?batch/s]"
            ],
            "application/vnd.jupyter.widget-view+json": {
              "version_major": 2,
              "version_minor": 0,
              "model_id": "7f1e5fb539b14bfb9b9325bf7ba43041"
            }
          },
          "metadata": {}
        }
      ]
    },
    {
      "cell_type": "code",
      "source": [
        "# Генерация нелинейного набора данных с шумом\n",
        "x, y = DataPreparator().generate_nonlinear_dataset(1, 100, Noisemaker().add_perlin_noise)\n",
        "\n",
        "# Изменение формы данных\n",
        "x = x.reshape(-1, 100, 1)\n",
        "y = y.flatten()\n",
        "\n",
        "# Предсказание модели для выравнивания сигнала\n",
        "eq = model.predict(x).flatten()\n",
        "\n",
        "# Создание графика\n",
        "lin_space = np.linspace(0, 100, 100)\n",
        "fig, axs = plt.subplots(1, 2)\n",
        "\n",
        "# Построение графика зашумленного сигнала на первом графике\n",
        "axs[0].plot(lin_space, x.flatten(), color='r')\n",
        "axs[0].set_title(\"Искаженный сигнал\")\n",
        "axs[0].set_xlabel(\"Момент времени\")\n",
        "axs[0].set_ylabel(\"Значение сигнала\")\n",
        "\n",
        "# Построение графика выравненного сигнала на втором графике\n",
        "axs[1].plot(lin_space, eq.flatten(), color='g')\n",
        "axs[1].set_title(\"Выравненный сигнал\")\n",
        "axs[1].set_xlabel(\"Момент времени\")\n",
        "plt.show()\n"
      ],
      "metadata": {
        "colab": {
          "base_uri": "https://localhost:8080/",
          "height": 489
        },
        "id": "JKERHSuQHwUk",
        "outputId": "fca99164-dd33-416e-c07e-31bad06adcaf"
      },
      "execution_count": 40,
      "outputs": [
        {
          "output_type": "stream",
          "name": "stdout",
          "text": [
            "1/1 [==============================] - 0s 413ms/step\n"
          ]
        },
        {
          "output_type": "display_data",
          "data": {
            "text/plain": [
              "<Figure size 640x480 with 2 Axes>"
            ],
            "image/png": "[encoded data removed]"
          },
          "metadata": {}
        }
      ]
    }
  ]
}