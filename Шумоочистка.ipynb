{
  "cells": [
    {
      "cell_type": "markdown",
      "metadata": {
        "id": "9Mp_6_U9jgIM"
      },
      "source": [
        "# Установка зависимостей"
      ]
    },
    {
      "cell_type": "code",
      "execution_count": null,
      "metadata": {
        "colab": {
          "base_uri": "https://localhost:8080/"
        },
        "id": "B-pclwcpjROA",
        "outputId": "e0c7a165-a311-4007-d8ef-0d2d52c44548"
      },
      "outputs": [
        {
          "output_type": "stream",
          "name": "stdout",
          "text": [
            "Requirement already satisfied: librosa in /usr/local/lib/python3.10/dist-packages (0.10.1)\n",
            "Requirement already satisfied: numpy in /usr/local/lib/python3.10/dist-packages (1.25.2)\n",
            "Requirement already satisfied: tqdm in /usr/local/lib/python3.10/dist-packages (4.66.2)\n",
            "Requirement already satisfied: audioread>=2.1.9 in /usr/local/lib/python3.10/dist-packages (from librosa) (3.0.1)\n",
            "Requirement already satisfied: scipy>=1.2.0 in /usr/local/lib/python3.10/dist-packages (from librosa) (1.11.4)\n",
            "Requirement already satisfied: scikit-learn>=0.20.0 in /usr/local/lib/python3.10/dist-packages (from librosa) (1.2.2)\n",
            "Requirement already satisfied: joblib>=0.14 in /usr/local/lib/python3.10/dist-packages (from librosa) (1.3.2)\n",
            "Requirement already satisfied: decorator>=4.3.0 in /usr/local/lib/python3.10/dist-packages (from librosa) (4.4.2)\n",
            "Requirement already satisfied: numba>=0.51.0 in /usr/local/lib/python3.10/dist-packages (from librosa) (0.58.1)\n",
            "Requirement already satisfied: soundfile>=0.12.1 in /usr/local/lib/python3.10/dist-packages (from librosa) (0.12.1)\n",
            "Requirement already satisfied: pooch>=1.0 in /usr/local/lib/python3.10/dist-packages (from librosa) (1.8.1)\n",
            "Requirement already satisfied: soxr>=0.3.2 in /usr/local/lib/python3.10/dist-packages (from librosa) (0.3.7)\n",
            "Requirement already satisfied: typing-extensions>=4.1.1 in /usr/local/lib/python3.10/dist-packages (from librosa) (4.10.0)\n",
            "Requirement already satisfied: lazy-loader>=0.1 in /usr/local/lib/python3.10/dist-packages (from librosa) (0.3)\n",
            "Requirement already satisfied: msgpack>=1.0 in /usr/local/lib/python3.10/dist-packages (from librosa) (1.0.8)\n",
            "Requirement already satisfied: llvmlite<0.42,>=0.41.0dev0 in /usr/local/lib/python3.10/dist-packages (from numba>=0.51.0->librosa) (0.41.1)\n",
            "Requirement already satisfied: platformdirs>=2.5.0 in /usr/local/lib/python3.10/dist-packages (from pooch>=1.0->librosa) (4.2.0)\n",
            "Requirement already satisfied: packaging>=20.0 in /usr/local/lib/python3.10/dist-packages (from pooch>=1.0->librosa) (24.0)\n",
            "Requirement already satisfied: requests>=2.19.0 in /usr/local/lib/python3.10/dist-packages (from pooch>=1.0->librosa) (2.31.0)\n",
            "Requirement already satisfied: threadpoolctl>=2.0.0 in /usr/local/lib/python3.10/dist-packages (from scikit-learn>=0.20.0->librosa) (3.4.0)\n",
            "Requirement already satisfied: cffi>=1.0 in /usr/local/lib/python3.10/dist-packages (from soundfile>=0.12.1->librosa) (1.16.0)\n",
            "Requirement already satisfied: pycparser in /usr/local/lib/python3.10/dist-packages (from cffi>=1.0->soundfile>=0.12.1->librosa) (2.21)\n",
            "Requirement already satisfied: charset-normalizer<4,>=2 in /usr/local/lib/python3.10/dist-packages (from requests>=2.19.0->pooch>=1.0->librosa) (3.3.2)\n",
            "Requirement already satisfied: idna<4,>=2.5 in /usr/local/lib/python3.10/dist-packages (from requests>=2.19.0->pooch>=1.0->librosa) (3.6)\n",
            "Requirement already satisfied: urllib3<3,>=1.21.1 in /usr/local/lib/python3.10/dist-packages (from requests>=2.19.0->pooch>=1.0->librosa) (2.0.7)\n",
            "Requirement already satisfied: certifi>=2017.4.17 in /usr/local/lib/python3.10/dist-packages (from requests>=2.19.0->pooch>=1.0->librosa) (2024.2.2)\n"
          ]
        }
      ],
      "source": [
        "!pip install librosa numpy tqdm"
      ]
    },
    {
      "cell_type": "code",
      "execution_count": null,
      "metadata": {
        "colab": {
          "base_uri": "https://localhost:8080/"
        },
        "id": "oiK83APujoS4",
        "outputId": "1b6bd4bd-28d5-40d7-e91e-4c9fdeeb3beb"
      },
      "outputs": [
        {
          "output_type": "stream",
          "name": "stdout",
          "text": [
            "Downloading...\n",
            "From (original): https://drive.google.com/uc?id=1hiZcoW1cXt62MTah1quxE7GpmO7koPuY\n",
            "From (redirected): https://drive.google.com/uc?id=1hiZcoW1cXt62MTah1quxE7GpmO7koPuY&confirm=t&uuid=8ceca836-a415-48de-968f-1ec75c9e4600\n",
            "To: /content/test_x.zip\n",
            "100% 27.8M/27.8M [00:00<00:00, 40.0MB/s]\n",
            "Downloading...\n",
            "From: https://drive.google.com/uc?id=1cUQook4cFwOl-TdlEIxnZYE5AaCnFQjD\n",
            "To: /content/test_y.zip\n",
            "100% 10.7M/10.7M [00:00<00:00, 35.7MB/s]\n",
            "Downloading...\n",
            "From (original): https://drive.google.com/uc?id=1pwiA4txd7OauxZATCprKEqGd1z519I7C\n",
            "From (redirected): https://drive.google.com/uc?id=1pwiA4txd7OauxZATCprKEqGd1z519I7C&confirm=t&uuid=86e4792d-1c95-4002-b3d4-f03ef9239cba\n",
            "To: /content/train_x.zip\n",
            "100% 88.7M/88.7M [00:01<00:00, 49.9MB/s]\n",
            "Downloading...\n",
            "From (original): https://drive.google.com/uc?id=1BLj0eq85kTZmN-h0wvsONBkwQpuEQgXG\n",
            "From (redirected): https://drive.google.com/uc?id=1BLj0eq85kTZmN-h0wvsONBkwQpuEQgXG&confirm=t&uuid=1867da79-7d56-4884-8ea8-e4ad30d8ff41\n",
            "To: /content/train_y.zip\n",
            "100% 90.0M/90.0M [00:01<00:00, 55.4MB/s]\n",
            "Downloading...\n",
            "From (original): https://drive.google.com/uc?id=1MplVH6yVCcGH4hXTD0-0v8XnV19yHSN2\n",
            "From (redirected): https://drive.google.com/uc?id=1MplVH6yVCcGH4hXTD0-0v8XnV19yHSN2&confirm=t&uuid=3f70633b-efbe-4d01-a164-ccf1744476ff\n",
            "To: /content/valid_x.zip\n",
            "100% 35.2M/35.2M [00:00<00:00, 85.8MB/s]\n",
            "Downloading...\n",
            "From: https://drive.google.com/uc?id=1DPDA13NZVwDLRdb14In8is9ugD7Jg4XD\n",
            "To: /content/valid_y.zip\n",
            "100% 12.4M/12.4M [00:00<00:00, 49.5MB/s]\n",
            "Downloading...\n",
            "From: https://drive.google.com/uc?id=1_Gt7YnywmAqlWKD_zncTbBPTrkGAUoM_\n",
            "To: /content/music.wav\n",
            "100% 1.63M/1.63M [00:00<00:00, 84.9MB/s]\n",
            "Downloading...\n",
            "From: https://drive.google.com/uc?id=1PPrH-wJ_Bk14I91ddBxfkaZ8FOyUBuJx\n",
            "To: /content/models.zip\n",
            "100% 5.75M/5.75M [00:00<00:00, 68.5MB/s]\n"
          ]
        }
      ],
      "source": [
        "# Загрузка аудиофайлов и натренированных моделей\n",
        "!gdown https://drive.google.com/uc?id=1hiZcoW1cXt62MTah1quxE7GpmO7koPuY\n",
        "!gdown https://drive.google.com/uc?id=1cUQook4cFwOl-TdlEIxnZYE5AaCnFQjD\n",
        "!gdown https://drive.google.com/uc?id=1pwiA4txd7OauxZATCprKEqGd1z519I7C\n",
        "!gdown https://drive.google.com/uc?id=1BLj0eq85kTZmN-h0wvsONBkwQpuEQgXG\n",
        "!gdown https://drive.google.com/uc?id=1MplVH6yVCcGH4hXTD0-0v8XnV19yHSN2\n",
        "!gdown https://drive.google.com/uc?id=1DPDA13NZVwDLRdb14In8is9ugD7Jg4XD\n",
        "!gdown https://drive.google.com/uc?id=1_Gt7YnywmAqlWKD_zncTbBPTrkGAUoM_\n",
        "!gdown https://drive.google.com/uc?id=1PPrH-wJ_Bk14I91ddBxfkaZ8FOyUBuJx"
      ]
    },
    {
      "cell_type": "code",
      "execution_count": null,
      "metadata": {
        "id": "X8P8vDUojyhI"
      },
      "outputs": [],
      "source": [
        "# Распаковка архивов\n",
        "!unzip train_x &> /dev/null\n",
        "!unzip train_y &> /dev/null\n",
        "!unzip test_x &> /dev/null\n",
        "!unzip test_y &> /dev/null\n",
        "!unzip valid_x &> /dev/null\n",
        "!unzip valid_y &> /dev/null\n",
        "!unzip models &> /dev/null"
      ]
    },
    {
      "cell_type": "code",
      "execution_count": null,
      "metadata": {
        "colab": {
          "base_uri": "https://localhost:8080/"
        },
        "id": "20YGrf4Wj14x",
        "outputId": "ea91939e-91f6-4051-d862-01d1ab83ceaa"
      },
      "outputs": [
        {
          "output_type": "stream",
          "name": "stdout",
          "text": [
            "Collecting git+https://github.com/vladimirch-afk/noise_utils.git\n",
            "  Cloning https://github.com/vladimirch-afk/noise_utils.git to /tmp/pip-req-build-ce8alccv\n",
            "  Running command git clone --filter=blob:none --quiet https://github.com/vladimirch-afk/noise_utils.git /tmp/pip-req-build-ce8alccv\n",
            "  Resolved https://github.com/vladimirch-afk/noise_utils.git to commit 290338d2fb9b5f7bdd9734be28aeff6caa7e0c20\n",
            "  Preparing metadata (setup.py) ... \u001b[?25l\u001b[?25hdone\n",
            "Requirement already satisfied: numpy in /usr/local/lib/python3.10/dist-packages (from noise-utils==0.0.10) (1.25.2)\n",
            "Collecting perlin-noise (from noise-utils==0.0.10)\n",
            "  Downloading perlin_noise-1.12-py3-none-any.whl (5.3 kB)\n",
            "Requirement already satisfied: librosa in /usr/local/lib/python3.10/dist-packages (from noise-utils==0.0.10) (0.10.1)\n",
            "Requirement already satisfied: soundfile in /usr/local/lib/python3.10/dist-packages (from noise-utils==0.0.10) (0.12.1)\n",
            "Requirement already satisfied: tqdm in /usr/local/lib/python3.10/dist-packages (from noise-utils==0.0.10) (4.66.2)\n",
            "Requirement already satisfied: audioread>=2.1.9 in /usr/local/lib/python3.10/dist-packages (from librosa->noise-utils==0.0.10) (3.0.1)\n",
            "Requirement already satisfied: scipy>=1.2.0 in /usr/local/lib/python3.10/dist-packages (from librosa->noise-utils==0.0.10) (1.11.4)\n",
            "Requirement already satisfied: scikit-learn>=0.20.0 in /usr/local/lib/python3.10/dist-packages (from librosa->noise-utils==0.0.10) (1.2.2)\n",
            "Requirement already satisfied: joblib>=0.14 in /usr/local/lib/python3.10/dist-packages (from librosa->noise-utils==0.0.10) (1.3.2)\n",
            "Requirement already satisfied: decorator>=4.3.0 in /usr/local/lib/python3.10/dist-packages (from librosa->noise-utils==0.0.10) (4.4.2)\n",
            "Requirement already satisfied: numba>=0.51.0 in /usr/local/lib/python3.10/dist-packages (from librosa->noise-utils==0.0.10) (0.58.1)\n",
            "Requirement already satisfied: pooch>=1.0 in /usr/local/lib/python3.10/dist-packages (from librosa->noise-utils==0.0.10) (1.8.1)\n",
            "Requirement already satisfied: soxr>=0.3.2 in /usr/local/lib/python3.10/dist-packages (from librosa->noise-utils==0.0.10) (0.3.7)\n",
            "Requirement already satisfied: typing-extensions>=4.1.1 in /usr/local/lib/python3.10/dist-packages (from librosa->noise-utils==0.0.10) (4.10.0)\n",
            "Requirement already satisfied: lazy-loader>=0.1 in /usr/local/lib/python3.10/dist-packages (from librosa->noise-utils==0.0.10) (0.3)\n",
            "Requirement already satisfied: msgpack>=1.0 in /usr/local/lib/python3.10/dist-packages (from librosa->noise-utils==0.0.10) (1.0.8)\n",
            "Requirement already satisfied: cffi>=1.0 in /usr/local/lib/python3.10/dist-packages (from soundfile->noise-utils==0.0.10) (1.16.0)\n",
            "Requirement already satisfied: pycparser in /usr/local/lib/python3.10/dist-packages (from cffi>=1.0->soundfile->noise-utils==0.0.10) (2.21)\n",
            "Requirement already satisfied: llvmlite<0.42,>=0.41.0dev0 in /usr/local/lib/python3.10/dist-packages (from numba>=0.51.0->librosa->noise-utils==0.0.10) (0.41.1)\n",
            "Requirement already satisfied: platformdirs>=2.5.0 in /usr/local/lib/python3.10/dist-packages (from pooch>=1.0->librosa->noise-utils==0.0.10) (4.2.0)\n",
            "Requirement already satisfied: packaging>=20.0 in /usr/local/lib/python3.10/dist-packages (from pooch>=1.0->librosa->noise-utils==0.0.10) (24.0)\n",
            "Requirement already satisfied: requests>=2.19.0 in /usr/local/lib/python3.10/dist-packages (from pooch>=1.0->librosa->noise-utils==0.0.10) (2.31.0)\n",
            "Requirement already satisfied: threadpoolctl>=2.0.0 in /usr/local/lib/python3.10/dist-packages (from scikit-learn>=0.20.0->librosa->noise-utils==0.0.10) (3.4.0)\n",
            "Requirement already satisfied: charset-normalizer<4,>=2 in /usr/local/lib/python3.10/dist-packages (from requests>=2.19.0->pooch>=1.0->librosa->noise-utils==0.0.10) (3.3.2)\n",
            "Requirement already satisfied: idna<4,>=2.5 in /usr/local/lib/python3.10/dist-packages (from requests>=2.19.0->pooch>=1.0->librosa->noise-utils==0.0.10) (3.6)\n",
            "Requirement already satisfied: urllib3<3,>=1.21.1 in /usr/local/lib/python3.10/dist-packages (from requests>=2.19.0->pooch>=1.0->librosa->noise-utils==0.0.10) (2.0.7)\n",
            "Requirement already satisfied: certifi>=2017.4.17 in /usr/local/lib/python3.10/dist-packages (from requests>=2.19.0->pooch>=1.0->librosa->noise-utils==0.0.10) (2024.2.2)\n",
            "Building wheels for collected packages: noise-utils\n",
            "  Building wheel for noise-utils (setup.py) ... \u001b[?25l\u001b[?25hdone\n",
            "  Created wheel for noise-utils: filename=noise_utils-0.0.10-py3-none-any.whl size=4133 sha256=342ae075d6f30d203ef55292d65c563b6831f1dd38cf139c9e5921abb05190c3\n",
            "  Stored in directory: /tmp/pip-ephem-wheel-cache-wspxnr_5/wheels/aa/99/4b/15da170997d26161b173dbfe80a7c92273af44a9392157d9a4\n",
            "Successfully built noise-utils\n",
            "Installing collected packages: perlin-noise, noise-utils\n",
            "Successfully installed noise-utils-0.0.10 perlin-noise-1.12\n"
          ]
        }
      ],
      "source": [
        "# Загрузка noise_utils\n",
        "!pip install git+https://github.com/vladimirch-afk/noise_utils.git"
      ]
    },
    {
      "cell_type": "code",
      "execution_count": null,
      "metadata": {
        "id": "qZ8RUx81j7xK"
      },
      "outputs": [],
      "source": [
        "import keras\n",
        "import librosa\n",
        "import matplotlib.pyplot as plt\n",
        "import numpy as np\n",
        "import os\n",
        "import random\n",
        "import soundfile as sf\n",
        "import tensorflow as tf\n",
        "from perlin_noise import PerlinNoise\n",
        "from tqdm import tqdm\n",
        "from tqdm.keras import TqdmCallback\n",
        "# Собственная библиотека\n",
        "from noise_utils import Noisemaker, SignalGenerator, DataPreparator\n",
        "from tensorflow.keras import layers, models"
      ]
    },
    {
      "cell_type": "markdown",
      "metadata": {
        "id": "D1LSINkajxtc"
      },
      "source": [
        "# Добавление шума"
      ]
    },
    {
      "cell_type": "markdown",
      "metadata": {
        "id": "zmM8ony-kBhY"
      },
      "source": [
        "При помощи данного блока кода можно сгенерировать зашумленный датасет из файлов с чистым звуком."
      ]
    },
    {
      "cell_type": "code",
      "execution_count": null,
      "metadata": {
        "colab": {
          "base_uri": "https://localhost:8080/",
          "height": 484
        },
        "id": "6vaKzb-vkB8I",
        "outputId": "002d961d-ca3e-40cc-cdad-763a25555836"
      },
      "outputs": [
        {
          "name": "stderr",
          "output_type": "stream",
          "text": [
            "50it [16:29, 19.78s/it]\n"
          ]
        },
        {
          "data": {
            "text/plain": [
              "<librosa.display.AdaptiveWaveplot at 0x7b962eebeef0>"
            ]
          },
          "execution_count": 4,
          "metadata": {},
          "output_type": "execute_result"
        },
        {
          "data": {
            "image/png": "[encoded data removed]",
            "text/plain": [
              "<Figure size 640x480 with 1 Axes>"
            ]
          },
          "metadata": {},
          "output_type": "display_data"
        }
      ],
      "source": [
        "\"\"\"\n",
        "выполняется долго, готовые файлы есть в train_y\n",
        "\"\"\"\n",
        "# Названия директорий с чистыми и зашумленными данными\n",
        "clean_audio_files = \"train_x\"\n",
        "noisy_audio_files = \"train_y\"\n",
        "\n",
        "preparer = DataPreparator() # Класс для подготовки данных\n",
        "# X - зашумленный звук, y - чистый звук\n",
        "X, y, sr = preparer.generate_noised_audios(clean_audio_files, noisy_audio_files, Noisemaker().add_perlin_noise)\n",
        "librosa.display.waveshow(np.array(X[0]).flatten(), sr=sr)"
      ]
    },
    {
      "cell_type": "markdown",
      "source": [
        "# Загрузка данных"
      ],
      "metadata": {
        "id": "cKP-OjJR8i23"
      }
    },
    {
      "cell_type": "code",
      "source": [
        "# Пути к файлам с чистым и зашумленным звуком\n",
        "clean_audio_files = \"train_x\"\n",
        "noisy_audio_files = \"train_y\"\n",
        "val_x_dir = \"valid_x\"\n",
        "val_y_dir = \"valid_y\"\n",
        "test_x_dir = \"test_x\"\n",
        "test_y_dir = \"test_y\"\n",
        "\n",
        "window_size = 1000 # Размер обрабытываемого окна\n",
        "\n",
        "# Создать объект для предварительной обработки данных\n",
        "preparer = DataPreparator()\n",
        "\n",
        "# Загрузить данные из каталогов\n",
        "train_x, _, sr = preparer.load_files_from_directory(clean_audio_files)\n",
        "train_y, _, sr = preparer.load_files_from_directory(noisy_audio_files)\n",
        "\n",
        "val_x, _, sr = preparer.load_files_from_directory(val_x_dir)\n",
        "val_y, _, sr = preparer.load_files_from_directory(val_y_dir)\n",
        "\n",
        "test_x, _, sr = preparer.load_files_from_directory(test_x_dir)\n",
        "test_y, _, sr = preparer.load_files_from_directory(test_y_dir)\n",
        "\n",
        "# Измененить размерности данных для соответствия оконному размеру\n",
        "train_x = preparer.reshape_data(train_x, window_size)\n",
        "train_y = preparer.reshape_data(train_y, window_size)\n",
        "val_x = preparer.reshape_data(val_x, window_size)\n",
        "val_y = preparer.reshape_data(val_y, window_size)\n",
        "test_x = preparer.reshape_data(test_x, window_size)\n",
        "test_y = preparer.reshape_data(test_y, window_size)"
      ],
      "metadata": {
        "id": "cxmZVNqV8m01"
      },
      "execution_count": null,
      "outputs": []
    },
    {
      "cell_type": "markdown",
      "metadata": {
        "id": "eWsSt_kHkE7G"
      },
      "source": [
        "# Шумоочистка при помощи сверточного автоэнкодера"
      ]
    },
    {
      "cell_type": "markdown",
      "metadata": {
        "id": "XHr_VSswkPb4"
      },
      "source": [
        "Автоэнкодеры (автокодировщики) - это тип нейронных сетей, построенные на принципе сжатия данных в летентное пространство и дальнейшего восстановления данных. Основная идея состоит в том, чтобы представить данные в сжатой форме в скрытом слое (или слоях) латентного пространства, а затем использовать декодер для восстановления оригинальных данных из этого сжатого представления. В результате автоэнкодеры выучивают наиболее важные признаки и закономерности (которые запоминаются в латентном пространстве) в данных, что позволяет им эффективно удалять шум и восстанавливать чистые данные. \\\\\n",
        "\n"
      ]
    },
    {
      "cell_type": "markdown",
      "metadata": {
        "id": "j5xfjJh-E58f"
      },
      "source": [
        "![autoencoder.jpg](data:image/jpeg;base64,/9j/4AAQSkZJRgABAQIAHAAcAAD/2wBDAAMCAgICAgMCAgIDAwMDBAYEBAQEBAgGBgUGCQgKCgkICQkKDA8MCgsOCwkJDRENDg8QEBEQCgwSExIQEw8QEBD/2wBDAQMDAwQDBAgEBAgQCwkLEBAQEBAQEBAQEBAQEBAQEBAQEBAQEBAQEBAQEBAQEBAQEBAQEBAQEBAQEBAQEBAQEBD/wgARCALWBcQDASIAAhEBAxEB/8QAHAABAAIDAQEBAAAAAAAAAAAAAAUHBgMBBAII/8QAGwEBAAMBAQEBAAAAAAAAAAAAAAECAwQFBgf/2gAMAwEAAhADEAAAAf1SAAAAAAAAAAAAAAAAAAAAAAAAAAAAAAAAAAAAAAAAAAAAAAAAAAAAAAAAAAAAAAAAAAAAAAAAAAAAAAAAAAAAAAAAAAAAAAAAAAAAAAAAAAAAAAAAAAAAAAAAAAAAAAAAAAAAAAAAAAAAAAAAAAAAAAAAAAAAAAAAAAAAAAAAAAAAAAAAAAAAAAAAAAAAA8uNmXPJBmTgAAAAAAAAAAAAAAAAAAAAAAAAAAAAAAAAAAAAAAAAAAAAAAAAAAAAAAAAAAAAAAAAAAAAAAAAAAFGF3bfyJ+nCfAAAAAAAAAAAAA8vqjigPm/fz+YXgP6ZsglZEAAAAAAAAAAAAAAAAAAAAAAAAAAAAAAAAAAAAAAAAAAAAAAAAAAAAAAAAAAAAAAAAAAAAAAAAAB8nzWGC7i/MB/OGNn78Y5kYAAAAAAAAAAAAxXKsFMJoXNfQfo7BcVzUs3oAAAAAAAAAAAAAAAAAAAAAAAAAAAAAAAAAAAAAAAAAAAAAAAAAAAAAAAAAAAAAAAAAAAAAAAAAPJ64Y89VqkLCt/zQ5Z/dewAAAAAAAAAAAAAAAAAAAAAAAAAAAAAAAAAAAAAAAAAAAAAAAAAAAAAAAAAAAAAAAAAAAAAAAAAAAAAAAAAAAAAAAAAYplY/HMr+sR+csut8AAAAAAAAAAAAD4PtjXTJGNdhkjGhkrG+GSudkAAAAPk+nz9AAAAAAAAAAAAAAAAAAAAAAAAAAAAAAAAAAAAAAAAAAAAAAAAAAAAAAAAAAAA+IfbnZAAAADzHpY0hkrG0skY2MkY3thPiQAAAAAAAAADxe3xFaysbLcbW2oam0aoPIYCy19urb1gAAAENMwt6VzMY49Xys+mqn7z73T2n5fHeyWJTOO0o53PQAAAAAAAAAAAAAAAAAAAAAAAAAAAAAAAAAAAAAAAAAAAAAAAAAAAfEPtDw/JtmHxXEV53TY8PhTz+ibj/Jt8/ptrdp3fd+AFoAAAY1kuNQx77+/vjaW4aW4afDKR11nDqAAAAAAAAAAPF7fEVxLRUrxOiADH8gx+y2Nurb2AAAAELNQt6VcPX8gIAAemaxxS+fTNUsdrp7T8vjtZLEprHeTfP1noAAAAAAAAAAAAAAAAAAAAAAAAAAAAAAAAAAAAAAAAAAANcNiIheTbMddcxPn9FkwuFvP6pqJ1PP36MrhABt1bS2t2nd+gfPBaAAAGNZLjRCfevZxAgAjpGO0WcOoAAAAAAAAAA8Xt8RXMrFSvG6IBBj+QY/ZbG3Vt7AAAACFmoW9KuHr+QEAAAAAHeD1TOOItn01U/efe6PqnpnHeyGIzeG0m+fqmgAAAAAAAAAAAAAAAAAAAAAAAAAAAAAAAAAAA+IfaIh+TbL/AIrmJ8/pseHwp5+83FaXn9IY3AAAAAAbdW2VtbtO77/54LQAAAxrJcahB7NezjBABHSMdos4dQAAAAAAAAAB4vb4SupbEPdxshY6MiY90yCA+YqV3bdW3rAAAAIWahb0q4ev5AQAAAAAAAAAd4PTNY4pfPZup2Wt0/VOzWG9kMQncd5J8/WegAAAAAAAAAAAAwQztHxhkYAAAAAAAAAAAABrhsRENybZhrrqI8/psmGwp53RORGp5/SGVgSEwAEAAAAAAG3VtTbW7Tu/QPnQtAAADGslxmEJsxvZyMgY+MgY+MgjvBruuEdIAAAAAAAAAB4fd4iuZeHl+N1xUAgp2Astfbq29gAAABCzULelXD1/ICAAAAAAAAAAAAAAHpmscUvns3U7Ha6fqn5fHayWIzWG8o+fqmgAAAAAAAFe0n+rq4Pz5dX3boAAAAAAAAAPiH2iIXk2zHXXUT53TZELhbg6JyJ0vO6QzsAEAAAAAAAAAAAAG3VtLa3ad36B88FoAAAYzk2Mwhdmr74304OuIdjZGO0WcOoAAAAAAAAAA8Xt8RXEvEy3GCAQQE/AWWvt1bewAAAAhZqFvSrh6/kBAAAAAAAAAAAAAAAAAAEeqYx5TTPJqqWW10fVOzGG9lMRmsdpRzuegAAA8RVUBKwZbeC1T+rCRAAAAAPiH2iIXk2zH4riK87psiGwvnB0zcTqefsGOgTIAICAAAAAAAAAAAAAADbq2ltbtO79A+eC0AAAMZybGSE+/j74nRABHSMdos4dQAAAAAAAAAB4vb4iuZaJluMEAggJ+Astfbq29gAAABCzULelXD1/ICAAAAAAAAAAAAAAAAAAAAADvOptWVipXyPWCtwAAAAD4+wAAABjWS41xb4BzvPivcBAAAAAAAAAAAAAAAAAAAAADbq2zNtbtO77/wCdC0AAAMZybGYQmzXs4wQAR0jHaLOHUAAAAAAAAAAeL2+ErqWxP38idQSE6ghOwH1FSurbq29YAAABCzULelXD1/ICAAAAAAAAAAAA6cdHAAAAAAAAO86WrKxUr5HrhW4A856Fa78tbDV4ibDV4LDV5qmLIfH3rkAAAxnJsZ4t8B4fFe4EwEAAAB9TPyIgAAAAAAdOO8kEAAAAAAG3VtTbW7Tu/QPnQtAAADGcmxghdmP/AHxp1BCdQQnY7x6brgHSAAAAAAAAAAeH3eErqVipbicdHHUOQU7A2Wvt1bewAAAAhZqFvSrh6/kBAAAAJH18h0cd4DsOOpcEDvynp0haH/SP585+n9Bu86OY+vmYOjj6+YAAAAO86WrKxUr5HrhW4Dxe3xQrKTi5Px/d7wpp1wdi5SL0xtbbq2+x4gAADGcmxni3wB3nxXtgAAADp4fzn+mqC9XkvTf5/T5vUd5FggfXEcOp4IqOrYvT/wCivzt7XF+iHO+L2fL75L5d+k/D6+UBAAABt1bZW1u07vv/AJ4LQAAAxrJcahB/fxs4nHRx0cj5GO0WcOoAAAAAAAAAA8Pu8JXcrFSvEACHICfgLLY26tvYAAAAQs1C3pVw9fyAgAAAqLNaa5+mzozIqui9n1L+ifztEWlitxfnu1f0NVVh0LKysMvXG7V99eY7cVJxbZn35ms/RtWaMthrqP8AS/54rf8ARNTWJ+dlbgx3Lqxta0af/RP56ze67fZt6Of5d5egAADvCbWlYqV8j1grcB4vb4oVjJxkn43vBXQDsXKRd8bW26tvs+GAAAxnJsZ4t8B53nxXtgAAAfNSzmO+ty5JUH6c/P21L4wrN/y7he4sbz7Ad63VTvpjqsngLixzm1+MZrT9La51pkWVfmiX6Ar3EL0MYqz9JfnDav6NpvLauxtYvkn6ruzTDLqqW9Ir9D/P15vUHJoAAA26tpbW7Tu/QPngtAAADGslxqEHs17OMAEEdIx2izh1AAAAAAAAAAHh93hK6lomW4wQCHICfgLLY26tvYAAAAQs1C3pVw9fyAgAACceqS/quw3tKKxD23rmX57tar8dL/8Az1blTXi9KAu3FYWXG4b7tM6+taRr2l7T/L9tSdZw/K8trC0Wz+drQqqml/0DdON2pZcdhPs0zzShrSqrLX9Adgp3q5XO8gAAACbWlYqV8j1grcB4vb4oVjJxkn43uhXUBGScZfG1d2nd7PhgAAMZybGeLfAed58V7YAAAGCYvcdU+rzWr+fbGrfbO/fzPc/uztmPnq/34a/eGXdVO2VtRmJSPLrS36RiMP7M7J/NVl5lVTF4fNelt/m+0aq3pcdd29X+NrZicPk+bWWrHJMN7cLz74JDxu4KwAAA26tqba3ad36B86FoAAAY1kuNEHs17OIEAEdIx2izh1AAAAAAAAAAHh93hK7lsQ93IyFjyGQseGQwHzFSu3bq29YAAABCzULelXD1/ICAAADnRzoAc6DnSedEc6HHUudIOdHz3pITXvCJd4O8AAAAE2tKxUr5HrBW4Dxe3xFZyeLevyPZnkArpP8AIIT0V5vHpldW7Tu9XxwAAGM5NjPFvgPO8+K9sAAAAJfPek86RXnPpNuOjnQBDnQCeOojnQA50OdJBAAABt1bZW1u07vv/ngtAAADGslxghtmO95GQseGQseQyGOj9d1wjpAAAAAAAAAAPF7fCV1KxUtxAAEBPwErX26tvYAAAAQs1C3pVw9fyAgAAAAAAAAAAAAAAAAAAAAACbWlYqV8j1grcB4vb4oVnIx0j43vBTTriXYqUjL5Wtt1bfZ8IAABjOTYzxb4DzvPivbAAAAAAAAAAAAAAAAAAAAAAbdW0trdp3foHzwWgAABjOTYzCE+/jZxggAjpGOus4dYAAAAAAAAAB4fd4SuZeIl+IAAgJ+Ala+3Vt7AAAACFmoW9KuHr+QEAAAAAAAAAASCAAAAAAAAAAATa0rFSvkesFbgPF7fFCs5GOkfG94K6AIuUi742vt1bfZ8MAABjOTYzxb4DzvPivbAAAAAACQQAAACZCIAAAAAAAAAbdW0trdp3foHzwWgAABjOTYzCE2a9nGCACOkY7RZw6gAAAAAAAAADxe3xFcy0TLcQAIIGegbrW26tvWAAAAQs1C3pVw9fyAgAAAAAAAACWjfQlL5nZEbJTAWoA50VnZmCwuPRag25wAAAAATa0rFSvkesFbgPF7fFCs5GOkfG94K6AIuUi9MbX26tvseGAAAxnJsZ4t8B53nxXtgAAAAADkz5PJU+BevxfqweR2BAJnTW+NW16PLMud87qCIQE+1rh2Y0Lc/VnJjg2AAAAAbdW2Ztrdp3ff/ADoWgAABjOTYzCE2a9nGCACOkY7RZw6gAAAAAAAAADw+7wlayuNyPIkkahJI0SUJ6Ymy59urb1AAAAELNQt6VcPX8gIAAAADqeMNxLO9vsLzS1QtUcTjFbdzrn6c16dPKRdbZ6W6wyCLQYFns1+vzJ+maOz2u3ZhWa3yC9AAAAATa0rFSvkesFbgPF7fDCrpKA9/k+1II9S8gjxIRn34dcrm26d3q+OAAAxnJsZ4t8B53nxXtgAAAABJysYvtw90Hg94eny5yPnvSBCKlar6aYj+g6qtTfIefh6PR2gM07cLKV9nvPrj9YXp+WfS5P1KPH7QgAAAA26tqba3ad36B86FoAAAYzk2MmO7Iv640kjRJI0SXh16brcHSAAAAAAAAAAeH3eIrmWiZbiABBAz0DZa23Vt7AAAACFmoW9KuHr+QEAAAAFG2/8Ajvm67zuaotcVx79A4jlmuejAcNu6t4LJ6Av29PzV+gPzj+lcdpD42a+nlpi6PF8U0/Jd+0h+uObp/KP6u0bujm7V1o1vKIt+l7oiQ1xAAAABNrSsVK+R6wVuA8Xt8UKyko2S8b3groAi5SLvja27Tu9nwwAAGM5NjPFvgPO8+K9sAAAABTFyfjL1+O77f8vh5t/yR+yfyz+re/m59Hhd2LZPX1h9Wai7zoXozsTN8OzHm0YdmLO2EV7Yfm9Pl8llfXPO6uflP9XflL1OX9Uferb43WFZAAAAbdW2VtbtO77/AOeC0AAAMayXGoQf38ffE6ABHSMdos4dQAAAAAAAAAB4vb4iuZaJluMEAggZ6Bstbbq29gAAABCzULelXD1/ICAAAAGN/nP9Xfmvl6v0uruK6MbH8OGa874JdmBfOWuG/pWmbn0y/NV/VXmNdM683pxno5sZ+6Xy3k7Pr9CfnbKr55Lm+KZbvhyrbToml5e3sMzO1QvmAAAACbWlYqV8j1grcB4vb4oVlJRsl43vBXQBFykXfG1t2nd7PhgAAMZybGeLfAed58V7YAAAAHm/I37ApP2OS76i+os+MowK19qy+EYVdvPaosmn6o6KfoWl7owrzujyWFS1zn1XmW1raPbZNJ4F6HPbFt4llnmdXfyl+pPzh38/6XHi9oQAAAAbdW2Ztrdp3ff/ADoWgAABjWS41CE+/j74wAQR0jHaLOHUAAAAAAAAAAeH3eErqWiZbiBABAz0DK1turb2gAAAELNQt6VcPX8gIAAAAPj7RMJJ+hFuVNbUUnwVRlmUY6y/u+m/PjlWXtROG969iJjowi5DaIr0ezsPnrsxz8y2vo5umxdh08wAAAAAJtaVipXyPWCtwHi9vihWUlGyXje6FdQEXKRemNrbtO72PDAAAYzk2M8W+A87z4r2wAAAAAl3gdcIoTOc3p32eTOsZzuf49fj52OPf85fo7Bo30+Wyh5fUAPFKv8A0Yhevp8vHeeV1AAAAANuram2t2nd+gfOhaAAAGNZLjRCfevZxAgAjpGO0WcOoAAAAAAAAAA8Pu8RUkh9y3IhU0IVNCFicwg5Wtt1beoAAAAhZqFvSrh6/kBAAAAAAAJdcQCTVtRNf2DxE9cWr1xDvz0V5YZFgtUIAAAAAm1pWKlfI9YK3AeP2CmfdaTm6qsWmi1WLTFWeG4e2q2nRygAAMZybGeLfAed58V7YAAAAAAADEMv5rX75xlf65xMIaZWjnSshBGSazVtIABAAAABt1bZW1u07vv/AJ4LQAAAxjJ8ZMK+pbZyIVNCFTQhdc74LrPHQAAAAAAAAAAeL2+IriWipbiAAICfgZWtt1bewAAAAhZqFvSrh6/kBAAAAAAAAAAAAAAAAAAAAAAE2tKxUr5HrBW4AAAAAAAAADGcmxni3wHh8V7YAAAAAAAAAAAAAAAAAAAAADbq2ltbtO79A+eC0AAAMZybGSE2a/vidEAEfIR+izR1AAAAAAAAAAHi9viK5lomW4gACBnoGVrbdW3sAAAAIWahb0q4ev5AQAAAAAAAAAAAAAAAAACR3fE+dkE1jrg26zZXHatprMWO2jeYbgkAAAAAAAAAB4varOGw1lvM6qe13DFef0VmzKG8/ohm3Vx7hAEggAAAAAAAAAAAAAAABt1bU21u07v0D50LQAAAxnJsZIT7+PvidEAEfIR+izR1AAAAAAAAAAHi9viK4l4iX4wVAIGegZWtt1be0AAAAhZqFvSrh6/kBAAAAAAAAAAAAAAA7vifOyCbz1wXdZ0njtW03mLHaJlPphsEWAAAAAAAAAAAAAAAAAA1xM0ythkPZbz+mntdwRfndNZszhfP6IZt1cmwAQAAAAAAAAAAAAAbdW2Ztrdp3ff/ADoWgAABjOTYzCE+/j743RAJI+Qj7LNHWAAAAAAAAAAeH3eEqOQ9EpyINOiCTogonMoKVrbdW3qAAAAIWahb0q4ev5AQAAAAAAAAAAO70+dkE1lpgu+z5LHauJnMWG8TJ/bHYIsAAAAAAAAAAAAAAAAAAAAAAAAABqi5llbDIey3n9NPa7gi/P6KzZlD+d0wrZr49gAAAAAAAAAAG3VtLa3ad36B88FoAAAYxk+MwwjZM/XIg06lBJ0QWvIPBZZo6QAAAAAAAAADw+7wldysTLcQIAICfgLrX26tvWAAAAQs1C3pVw9fyAgAAAAAAPRLzsgm8dcE9FmyeG9bzWYsdoqS+2OwRYAAAAAAA1Quek+NMwD4+4BIAA+fqASAAAAHxD7EgAAAAAAAAAAANcVMsrYbDWW8/oqDVcEV53TWnM0hPP6YZs18mw4dc7AAAAABt1bS2t2nd+gfPBaAAAGM5NjMIX7+PvjBAJI+QjrLOHWAAAAAAAAAAeH3eErqWiZbiBADkFOwVlrbdW3sAAAAIWahb0q4ev5AQAAO70+dPzmOuC77NlMdq2msxY7RMp9MdgiwAAAAAAAAAADGMnxnn6cm82vwXpNfGOTUTHT2I5PS+z4x3cZD8xcPMZXsxubtSInsQybPb2Dq49f1j3qy3lfvGt1Zl/RFxxkvngJMk4HdD565h3zQm2E56fFFQnWL+ummRNG/o5gmAAAAAAAAAAAANcTNMrYZDWY8/pp7XcMV5/RWbMobzumGbdXJsESACG3Vtmba3ad33/zoWgAABjGT4xCG+/j74wQAR0jHXWcOsAAAAAAAAAA8Pu8JXUtEyvE64OuDsBPwErX26tvYAAAAQs1C3pVzu/1vJ87IJvLXBd9mSuO1bTeYMdomU+mGwRYAAAAAAAAAAAAAABjOQwHN0yHm9OuLROSQ8vEw0l4pWYxmd1fVbeqIko+Y+pWM9kxDzvk2EmOrk+cTy6F5+n1wWV+eY8n1p9FZx/MIv4i0ljc/HzX24/O/MWksQmtsxF5BByETIDq5AAAAAAAAAAAAAAAAANcVMsrYbC2Y8/pp/VcMT53TWjM4Xz+iG28+uTa2d2nd9/8APBaAAAGMZPjEIXZr2cg4h1wdjpCPss4dYAAAAAAAAABo3ivN+eKsC7niGBs8SwLzWMh8fZcAAAA83pIiZT6TARYAAAAAAAAAAAAAAAAAAAAAAAAAAAAAAAAAAAAAAAAAAAAAAAAAAAAAAAAADXFzDK3z9GlQkAAAiZYYB9Z6owJnowLmfDAdmdJBYAAAAAAAAAAAAAAAAAAAAAAAAAAAAAAAAAAAAAAAAAAAAAAAAAAAAAAAAAAAAAAAAAAAAAAAAAAAAAAAAAAAAAAAAAAAAAAAAAAAAAAAAAAAAAAAAAAAAAAAAAAAAAAAAAAAAAAAAAAAAAAAAAAAAAAAAAAAAAAAAAAAAAAAAAAAAAAAAAAAAAAAAAAAAAAOHUNM1BYAAAAAAAAAAAAAAAAAAAAAAAAAAAAAAAAAAAAAAAAAAAAAAAAAAAAAAAAAAAAAAAAAAAAAAAAAAYX3FmaH8NmTMZ3GQMb3k6xn6MkRuKwzxA/Vk4x7zwymB9OFUWU8GJ3Z2w31wydD48Zy1Y1ZlWnFe0TknhWW2ehinYZVyL81kFndd2JkDoAADHKsjFgAAAA1G0AAAAAAAAAAAAAAAAAAAAAAAAAAAAAAAAAAAAAAAAAAAAAAAAAAAAAAAAAAAAAAAAGH5NheRc6ClfZHHIfJIurMIrV9aonJ8UkKIr5m8UzWNh0xjN0j4Pd7aMgw3K8R0Zths1isLIg/br1eOF9cHgyXfshbsuh/j2XaPH4J6iF36JKrGrGxf12Qec1rnx7B0AAEPL4BkzvXyvzPPbispL18wbMapPThM4TvniYEz3E8lweGfbfN6dgSAAAAAAAAAAAAAAAAAAAAAAAAAAAAAAAAAAAAAAAAAAAAAAAAAAAAAAAAAAAAAAA46HOgD5+gc6HOjjo5z6DnQ50AfPehzo50OdDjofP0OdAAABhOaYjiy/BckhapL70/coXOcBn4Y3lmqWlBRUj46MwwnKofRLSMXKaAsAAAAAAAAAAAAAAAAAAAAAAAAAAAAAAAAAAAAAAAAAAAAAAAAAAAAAAAAAAAAAAAAAAAAGJUZaLgAAAB4Ie8SAAAAAAAAAAfP0MFzD1MwaAAAAAAAAAAAAAAAAAAAAAAAAAAAAAAAAAAAAAAAAAAAAAAAAAAAAAAAAAAAAAAAAAAAAAAAAPnGMpwjJk0RkeFVS85j0pKFkIPOao3w45kZIwcjAGV4Zn+GQyz1HQCQAAAAAAAAAAAAAAAAAAAAAAAAAAAAAAAAAAAAAAAAAAAAAAAAAAAAAAAAAAAAAAAAAAAAAAAAAAAAAAAAAAAHMFzmMyerEMq11REn6PuWGZxhmRUYzkU19aIHF8w+6PdhmYee7zTWndcFgAAAAAABFiURYlEWJRFiURYlEWJRFiURYlEWJRFiURYlEWJRFiURYlEWJRFiURYlEWJRFiURYlEWJRFiURYlEWJRFiURYlEWJRFiURYlEWJRFiURYlEWJRFiURYlEWJRFiURYlEWJRFiURYlEWJRFiURYlEWJRFiURYlEWJRFiURYlEWJRFiURYlEWJRFiURYlEWJRFiURYlEWJRFiURYlEWJRFiURYlEWJRFiURYlEWJRFiURYlEWJRFiURYlEWJRFiURYlEWJRFiU1eBCOnfGqlEWulEWJRFiURYlEWJRFiURYlEWJRFiURe89oAK2WSK2WSK2WSK2WSK2WSK2WSK2WSK2WSK2WSK2WSK2WSK2WSK2WSK2WSK2WSK2WSK2WSK2WSK2WSK2WSK2WSK2WSK2WSK2WSK2WSK2WSK2WSK2WSK2WSK2WSK2WSK2WSK2WSK2WSK2WSK2WSK2WSK2WSK2WSK2WSK2WSK2WSK2WSK2WSK2WSK2WSK2WSK2WSK2WSK2WSK2WSK2WSK2WSK2WSK2WSK2WSK2WSK2WSK2WSK2WSK2WSK2WSK2WSK2WSK2WSK2WSK2WSK2WSK2WSK2WSK2WSK2WSK2WSK2WSK2WSK2WSK2WSK2WSK2WSK2WSK2WSK2WSK2WSK2WSK2WSK2WSK2WSK2WSK2WSK2WSK2m8uAAAAAAAAAAAAAAAAAAAAAAAAAAAAAAAAAAAAAAAAAAAAAAAAAAAAAAAAAAAAAAAAAAAAAAAAAAAAAAAAAAAAAAAAAAAAAAAH/8QAOBAAAAUCAwYFAwMEAQUAAAAAAwUEAAIGARU0MDMXNSARQBMHEhQyUBAWcDEhYDYjJEEiJTeAkP/aAAgBAQABBQL/AOw0BAxO9Uqk6MJPVtNKhlStMiBQ1MQmQ36L1lXIoAwCasfLoQlO0B+h7pSoCSJy1Cq8yF/mHR9OldPUSlMq5FqZYAFUpfIeaH9FZzgHAmT0MVGCmyaaemgaQKhu6MEKcyRlhYjKEXnQZ+Gg8pC32dM3poikv/RWUrRtK6/zIN6xoKmy+naQFPK2nWo5YXHdOjqVBJ3NS1AmpsqobzDGqsw8zjGxtVxAisXE1QVUtT1J+iqpNBYmIiNFT6HzfMfa015MlnglaqkacWr7WtG3c1lTv5MSU6UVrTYBn5Sr/YAHHmaKlpKj8El+ipuapiUupPzNjUp15xGvujuikGG0xV1VqCVVD1ej9M6oJfyAkpsqqekRzPytODEtL6lr9MhpakFadf8A+xU5xDh+RFD/ACEpf5CUv8hKX+QlL/ISl/kJS/yEpdr9baUpWja17X/rm84xf76ahQElC/Iil/kJS/yEpf5CUv8AISl/kJS/yEpYJ4WDi9styZWHC6Dww34Yb8MN+GG/DDfhhs6hCKELZaRvkQlQ4LCPVkGFUIEmEZIxn1tf+sZTjGwpsiCYp/Zim60R2FEFEC2elUXCYBh+H4Yb8MN+GG/CDfhBPwgnOEYmfbLcmVcO5jzIBbLSN8hyBqlALCPFobCqACTCMkQz69f6plOMLCmqIJin9mKcLhHMYQS/3C+YOz0qh4UHs+YTiXbLcmVcO5jzIBbLSN8joBqlANwTxZBhVADdhGSIZ2va9v6glOELCmqIJin9mKcLRHMUQS/OF8wtnpVDwoPZ8wnEu2W5Mq4fzHmQC2Wkb5HUDVDhXCPFobCqAG7CMkYzte0rf0xKcIMU1RBMU/sxThaI5iiTvph/MLZ6VRcKD2XMJxLtluTK+H8x5kAtlpG+R7ANUOEwTxYGwqgBuwTFGO7XtL+kZThBimqIFin9mKbrRHIUSd9cL5g7PSqLhQey5hOJdstyZXw/mPMgFstI3yPaBqRwrhHiwNhVCDdhGKMZ2laX9EynCDFNUYTFP7MU3WCOQok+0C+YWz0qi4SHsuYTiXbLcmVcP5jzIBbLSN8j3AagcK4R6sDYVQhXYRijGdpRl/QMpwgxTRGExT+zGN1gjkKJPuAvmFs9KouFB7LmE4l2y7JITHwUmLvFni7xZ4s8WZmYe4ShbLSN8j3gakcJhHqwNg1CFdhGKMZ2lGXdmVb0uVDoTBEZpx6gKk5p3cpwixTRGExagsxThYK5iiCd4F8wtnpVHfoUxNekMWs8WeLPFrPFnizCW+4NO2XZMpvfDut31u+t36rv1Xfquzu9/YBbLSN8j9ADUjhMI9WQYNQBXYRkiGdpWl21cKDoIlTeS4w6dSXVR5bSoml1SSXbynCLFNUQTFP7MU4WiOYogn0AP5hbPSqPhId7+F1u+t31u+t31u+t2LxLtluTKuHcx5w8LZaRvkfogSkcFhnqyDBqEG7CMkYztK1+zqmrwSS1MUioiq7SU4RYpqiCY1QWsxDhaIxBRBfogXzC2elUfCQ9lzCcS7Zbkyrh3MecPC2Wkb5H6QGoHBYR4tgwagCkwjJEK7XtfWruuwKcCooWkUkzOqiEpT0IenVSrdeU4xsKaogmKf2YpwtEcxRBb/RwvmFs9KouEh7LmE4l2y3JlXDuY84eFstI3yP0wNQOCwjxaGwahCuwjNEK7X620Fnufa0zQMYSrHyqTmNyTydMxFBeXpCtJpylGFhTVEExT+zFOFojmKIJf6WF8wtnpVFwkPZcwnEu2W5Mq4fzHnDwtlpG+R+oFmS7g8y308L5hbPSqPhIey5hOJdstyZVw/mPOHhbLSN8j9QLMjq9L+rSPct9PC+YWz0qi4SHsuYTiXbLcmVcP5jzh4Wy0jfI/UCzI9we5b6eF8wtnpVHwkPZcwnEu2XZJBc1sj9R2/Udv1Hb9R2/Udv1HTM7mV0oWy0jfI970l2ZZkeZQJcIAE+OhwsYPXi568YPni568XPXjB6xD04BtC/qhoH2W1fTLX/m76X7IL5hbPSqPrhMJHXo9R4/UeP1Hj9R4/UeP1HjDuYXNO2XZIq4fzHeQC2Wkb5HvDZEpXJgxDdDVf8Az2JZkeZbky3IcxjlwtloH2W1FoIqlJUkD0lXp8rqnRWYmVqRVGU6o7EP5hbPSqLhUNnzCcS7Zdkyvh/MeZALZaRvkdTo/wBn/L6XfS/J0f7ffpyStdm3/kO/7v03+38vpd9L6hZkeZbkyzIcxjlwtnoH2W0/3fS78yeJp7f6r6X5Ol/v0vyWte7t/Eqa/vv7dPv0fS+mF8wtnpVFwqGy5hOJdsuyZXw/mPMgFstI3yOmqqBeem06S/wUzUikZYfl5yrdM1EYhqRKcXK7kx8ZIKg/5PqoWSMAaRveJPVChIdmhilKEZfE4quymm1SaFM1LjDVKgESZCZHVXKI08vSuSpSsrfp/wBR1UypSZRpK3hEx+vQHB+XHKp05URqCrqOR8QL0IwqlFpFmR5luTLMhzGOXC2egfZbSlKMLSqIyPzSNLKIXrIczmZpspVFT4FFFTatWCrMjOjTOAoYoaqo19Qm41LJ0ySjqoVrjCoT5NT6QvKTc8BMCg0JQqePwD5IbmiYmQldz2rIYQbFEaOGuprH9mIemNTmw9Jz9vSdSqF49ToKgsHSx2cLQVqo+Iak0gvmFs9KouFQ2XMJxLtl2SK+H8x5kAtlpG+R0qnVSRENCLYIRPyOzVJjFVVY/wAKCDhOpGb/AN/G6q6Ev8vgvcHrDp0nBX+ZSsT3BKFYAot+5kNhNbeZayYYVFp/bU8zH/yIaqZIy+jFkU5vaordKiBXGxz16hUQnsPU8g4TtplmR5luTLMhzGOXC2egfZbSrlYIjp/y1TwsXvzI4wk/hKqWyWVfOo43vVwox8iWqFZbQHlom/wXjGVi+nykrUVeruvqyFvTC8bStSiuSCrvMZVMU6Kk8EpVD5Ul/etZq5I6coNfEuC/JWCmMb1id8J8sQLdL2jeXXrpBfMLZ6VRcKhsuYTiXbLskVcP5jzIBbLSN8jpH6G5kT+XCqSdd6hGYmoRc5/wHQH9xM3/AL+M0nv0dBjXQVCzAwTlsPMpEJ4xApgrJbfxdQFM8rLzIQTFTUaoiop5mF7X8wjBL75HQo2G1H6hLMxNAyxPK/qDoH+4tQsyPMtyZbkOYxy4Wy0D7LaVaopraf8ALVRHDn5j9LnKW9rJjEEQhrGQsrsVT7cI/t+QUp5arLWu1BgnTra2RzLqmTiRFAHnEIGjkQhlU3mKjkEbFY8FRZG/80le35pVaGZiQeWiv0z9c2tNAkYx3wjyyyemF8wtnpVFwqGy5hOJdsuyRVw/mPMgFstI3yOla/RnFJj++gdVLBlxUuFXHQlSesmp2riZZMepMLUU5WCk1KRDwR1BSUl6oA5qoCKQtMV65cjTmKZEXVDTNxjCqzEKnqcAIgxwAVQCUnPqWU4nUi6KylqgTHRMOejWqGk8RUhnNUARTlZiZLDsSpPWU0/WJQtKRTYQHTLMjzLcmW5DmMcuFstA+y2l062HpkyJzGBxUgtqipQ+ULKfEqd1DTqQ/ToR6sIwBE59ULCgGDAypJakMgzypr2KyhTBUcEqM9SIvymnQVsqpPwScmRkaM0K0huiLklTUvGY1SHMEFO1SVGpWIZCJDKklKUwgeVOyspV2V1BGrVbISatCBl81wiTSC+YWz0qi4VDZcwnEu2XZIq4f0fS76XfS76XfRndv9ALZaRvkextz9Obp2RZkeZbkyy1/YdLvpd9Lvpd9LvpdmNv9cLZaB9lux6aV+fpqhfMLZ6VRcKD2XR9H0u+l30u+l2Ja+JdsuySFEMKjw1Q8NUPDVDw1Q8NUPDVDNEQoSQLZaRvkfqBZkeZbk0aIYRLhw7w5Q8OHeHDvDh3hw7VIxAgwtloH2W+nhfMLZ6VR8JiXD3hhqh4apeGqXhql4apeGqWGlFANO2W5Mq4dzHeQC2Wkb5H6gWZHmW5MuyHMZZcLZaB9lvp4XzC2elUXCQ9nzCcS7Zdkyrh3Md5ELZaRvkfqBZkeZbky7I8xjlwtnoH2W+nhfMLZ6VRcJD2fMJxLtl2TKeHcx3kQtlpG+R+oFmR5luTLsjzGOXC2egfZb6eF8wtnpVFwkPZ8wnEu2XZMp4dzHeRC2Wkb5H6gWZHmW5MuyPMY7ALZ6B9lvp4fzC2elUXCQ9nzCcS7Zbkyrh/MdZELZaRvke3HHBTAkx6ZnpnzS9V4IqmVJjTXLMjzLcmW5HmMdgFs9A+y3YTWoQr2OCiU+YYUJOEWnprUBvynmKxQU9UQJ4DrBfMLZ6VRcJD2fMJxLtluTKuH8x1kQtlpG+R7eqDAaoDhAgBLEnPVxJY4LqHqCa4HWLMjzLcmW5HmMtgFs9A+y3YVRRqQMChknu6h5f5damgxkYFRWCToeXr0dWoxSA2LV4Jmh1QvmFs9KouEh7PmE4l2y7JlYoNkHjgPxwH44D8cB+OA/HAZyKFJEFstI3yPbVIa4ST+XSHxJ6Fv3NgxKaqwMWIweqWZHmW5MuFCsh8YF+MC/GBfjAvxgX4wLMBA5ABbPQPst2HmIt8An8s0VvD5TVdEtLvL9JcwNueoy+JkS+W5hL16oXzC2elUXCQxwPD8cB+OA/HAfjgPxwH44DkIHMy7Zdki4tRCosJLnhBc8ILnhBc8ILnhBczQvRgJAtlpG+R1jSrSYrv+bmU2R1WXncuXzKVfxRyb21PfYxM0RUALXaibI6rLDqy6to+OR1alNh/t5lp7Oj1fvCDVLMjzLcmgLkYqPCkDwlA8JQPCUDwpA8KQNWgSgBBbLQPstq/xaxtXCROMMfVqiDrA+BPlFFpfaU9y+YirwSTy8T+ES/YccFKCZ+Y6jx6arNMcWqGohkgoXi+H0tJlQtyisf+dQL5hbPSqO3UpiVF/owkveEFzwgueEFzwgueEFzgiSpjPtl2TKuHcx1kAtlpG+R1azqwSAlGUsBZPG930BU+YF/3UKAUoEanMF7IT5OeA9X5hDXEPimFgypznEOBcF+ZHIdohxNemNKU4tNUlS6daYVBf935iBWmSeWwt5luqWZHmW5MtyPMY5cLZaB9ltWvajES28vyMMFLOMZhjABiHAINk4H2PzMcuC/n7eZwt3RcPRTf2qcrXHCJLRlPJwKqp+nS0OkaWwcJ/wDNQf4awtfrbUC+YWz0qi4VDZ8wnEu2XZMq4dzHWRC2Wkb5HUMlPsy8KKhctgL5iQgIU1uasipxERQs6lMBagOkCQFCFTCi8K0dc/3GX8PcoxnFGhSF4RkqsiQUwkuZVBL0yYScBP8AfzA/t/yzy2qWZHmW5MtyPMY5cLZaB9ltSU7BxWiiGZujTRRoztXZCUUSjutqLr1+37td6l1YXv1+3mdtqQ/tz7n9SQK7kNOzTC/eqP5q0LZagXzC2elUXCobPmE4l2y3JlXDuY6yIWy0jfI6lRhzFI6NhYSo+t7u7UGCNKMfrJFhTQgqAIxHqIlCBoaMlFTvzDA8I8KZ+KVNSoCSJ0Velq1dX632hJ5bJPWstbrcvqEQyPPt5ii2iS+W4V4FuqWZHmW5MtyHMY5cLZaB9ltRTDxEpIBaVQz/AIv5iGUE5b5Zo79Co1XGVVGhqiJ0iUapqnsSkhgYjktRLgzN+ZoXqSUOL4lNvo6qqkImDpVOTJmKpTgwCqFYc1Tf97fuYf7tZftqhfMLZ6VRcKD2fMJxLtluTKuHcx1kQtlpG+R1JWtKJoUL6UOAq8p8UJTXdh2UUuqULPMVRKJTSNMFSomrAnISkm8ui7wkz8ykvrBotX7qn3UqIVeSU3haReZwMq5V0gfJafkZ1bMydNkUSNH9vMtTb1Ugkujp/VLMjzLcmW5DmMcuFstA+y2rUNHLYL4VFVg8FNCrFqInFqgjSUwS3Ji4wlKpazNFMS4rpJN7ciqEW6uuXWSK64h8tVVpJerNFYqJARUlFbapKGlBo6ZqMxEp6n0xAlakeKVPRafEqm1Q/mFs9KouFB7PmE4l2y7JlXDuY6yAWy0jfI6s4QEjckJpSCTJgPt5jAymWUza1qfqgQapT1EiBL0jPyzFSry7W+Co+wpUWjTgGGDFQWl6u6dIlS/e7WWEqqq4BxBD1SzI8y3JluQ5jHLhbLQPstrdb/brd/8AMg/xutavHsOVmtQoSFLSdOqA1NnOERIoLiUlV3Tpz14a+yJ6IJMKK9UL5hbPSqLhQez5hOJdsuyRTw7mOsgFstI3yPYmaAE0RJyWqkaIkp9KSBfbrezqooHJjIqM05ui56yPMMQUWQzKUWsWZHmW5MtyHMY5cLZaB9luyVJEq4IenC0SqUJEUl9/vVNPWPEdIn81QfKrWJ0CcsL1NXHEf4tqhfMLZ6VRcKD2fMJxLtl2SLzJMCjxhE8ZRPGUTxlE8ZRPGETMzFOoSBbLSN8j24oQY4ZbTqokNOaXq9JbS84mOuWZHmWZRCrCCSYgneIJ3iCd+/AeIAPEE7VqQxwwtnoH2W7MsLVIRxyqCguUrP8AnkMCxGaBhhBgh6wXzC2elUd+hTE2SWhjCN4yheMoXjKF4yheMoWGuAVGfbLcmVWjh/pg/TB+mD9MH6YP0wZzaNkIWy0jfI/UCzI8/hBPwgn4QT8IN+EG/CDfhBPwg9I+y308L5hbPSqLhIcY+H6YP0wfpg/TB+mD9MHO1rGXbLcmVcP5jvIBbLSN8j9QLMj3B9lvp4XzC2elUXCQ9lzCcS7Zbkyrh/Md5ALZaRvkfqBZke4Pct9PC+YWz0qj4SHsuYTiXbLcmVcP5jvIBbLSN8j9NDAFFuESrRGFT0LMEKAAfcKkoSuApAxShaE5Bzhf6YF8wtnpVHwkPZcwnEu2W5Mq4fzHeQC2Wkb5H6SGAMLcIlWiMKnoWYRUhCdoxjbvphwEsKUIhGKQMQpWhuQQkL/SAvmFs9KouEh7LmE4l2y3JlXD+Y7yAWy0jfI/RQgRR2ESrRGDT0LMIrRBO0Yx+jyDhOwpQhEYpAxSlaG5wmHf6IF8wtnpVHwkPZcwnEu2W5Mp4fzHeQC2Wkb5H6CGAMKwiRaIwaeDswitEE7RjH6fIMOdhSlEIxiBilK0JzDmHf6AF8wtnpVHwkPZcwnEu2XZJApXQSe8MX70xfvTF+9MX70xfvTFmalYIlC2Wkb5HvYADCsIkWCMKnoWYRWiCdoRj9XkGHNilKIVi0+xShYE5hzD70P5hbPSqPhEVhjaPvTF+8MX7wxfvDF+8MX7wxYY6kUz7Zdkyrh3Md8PC2Wkb5HuYADCMEkWiMKnoMIsRAu0Yx+vyDDmxSlEKxafYpSsCcgxIdyF8wtnpVHwmGz5hOJdsuyZVw7mO8gFstI3yPawAGEYRItEYVPQYRYiBdoxj/Q8g4TYpSiFYlPsUpWBOQc4dqF8wtnpVHwmGz5hOJdsuyZVw7mO+HhbLSN8j2MABhGCSLRGFTwdmEVogXGMY9qJedoALh5rOS04yvz3lGOr6o+rvpBhzYpSjEYpAxSlaE5Bzh2IXzC2elUfCYbPmE4l2y7JlXDuY64eFstI3yOrAAYS4JItEYVPBsErRAuMYx7q3GndQDG9r2kxBIBxLhoTva9ruU4QtAYIR3lGLsJC9rChyf7NQphJdacb/f1ws7SjJ+JD7SUARva9pO97WfuQOvqt0spgIZWlGTve1n7gDq7ih2dxA7d7IMObFKEQrFp9ilC0J3DnDVC+YWz0qj4TDZ8wnEu2XZMq4dzHXDwtlpG+R0YADCXBJVorCp4OzCK0QLjGMbd7bjKywsk6NNGydPL2xgpThDRK0oI4cYBpgknRcOYBBhh3gGtSFgPjMzCgCHDoMAKmBsYhJAAZfYyQh3DK4he29kAOuMB7pwgUqWISSft1ygWSxaoRh+3Rpp3SBJgZGQKYEBji3Vrbo014pBpAqjZOEDaRfcdMDC4YXfzDgIxSlEKxSBilK0JyCEjohfMLZ6VR8Jhs+YTiXbLsmVcO5jvh4Wy0jfI8sABhbhEi4RhU8HZhFaIFxjaNvoNuMr1V0oICO48LQgEb+LEUMk2UpyUAlYAI1vYJHHwvbk/xOMsm2A/FhB/DG+0rWlZKN7EZFC8QTeHQaKFLKMU6QAVN/iNHESE7gcW8f/ZT/wCM2fS4hudbIPZ/RJhwEsKUohWKQMUpWhOQc4X5AvmFs9Ko+Ew2fMJxLtl2TKuHcx3kAtlpG+RYYAwrCJFojCp4OzCKkITtG0bfRBPX6PZrPcDpLq04cV4cBC8aIoAHhBBJFKSacLwoCI5wFkGsHYwQ1g0qRWmurSqlLSwUhtWjkKIGCNMb7qkFh1DHAgoDDDWgWBTy9atFFRf/ALj6QAIgQHRie5ABn4qlHYaX/cPSlSRTtUkVqmniqjf6RMOAlhChCIxSBilK0NyDnC4fzC2elUfCYbPmE4l2w4fjAA0+ZgB4KbPBTZ4KbPBTZ4MbPBTZqKdMlIcLemGkoAgpCCK0ITtG0f63kHCdplSKd429NtI0RyXorEhta2CmzwU2eCmzwU3eCm7wU3YJGvsr/wDtRe9rWgbl85/pOjUiDL9EUSwQZcLIZJymgQYZn+ixmqNEN1C0z9rdd4CBN79eEmXjhrTEyunmMGtATlK+S1NFYoMBx7GCGASn3qS5kYpV04GfglJhdenmpHUrVsF6NOPFYKCTxXSmBFZYAcwM0KtQqNU4xoKZp4Fg4ylCqWGqNSIJEKCdQsNJCLlCFedxW3ALgzWSKQnggph1hpeSxSXq168NCEDAyHDXSUXMv0WqXLJbdE1Syl0TxM/Aw1WKtC/66jva0rLYxToKayinL0zK/Qf+akF2VM7NeXDyVXMTNKwRIChU5tIihzkbRtI4Z1wwi4ae54/lKJeSWtYukCFKZ3w4ovaxYeC2mVlcTD2KsvXrWbWliTNuK84pxAJfp+JDxP0CPFkFMS8wBUWM0PvkyBfZMDZQItHM0IwKuJujuGlDHHgjtMmGWGEBgkCWJUjEWwmcDmqeycjVwSMBTdKYmCxOqTIgbp0pbKxWsQtctgoMEiwJZEyAkpRFK0BKjNhxBFXqAN0hcPMsYqqS2RinkoRI1sAi2CG0y0vHmVsZZJWzYumPEE2TSDMVM5LkqoNWHzSuWyUTFDCsGpAFcVqSc/2dlia8hFqQKUZWlYRQAFcMUMWN1qW15ThCKNcGoNICQE/QLp9+lr/fpb79LW+3T7dPt0tb7dLX+3T79LPpb7dH0+3S326Pp0+3Sz6W5/3ZgmBTmgyYBTEpTe4VnKQANAWzuoQGSQIIysWIrQAFmVGZykTzSEHDjpIAnHmACoDK0icUwBTgJ7fpWbcUZBnj3hhNw014uzP/AGDk24cQcOqCVvHj8SfiYam81n6VX69ByleoHuEYeClKFyQVehWrIl6NYjsdQ8QzvA2jZAWRSSGCiMEnSGCCK0nUqrpIKoQELlAKxGlmFL9DPDNcU0w1F5qu2l19KpKbKVaeQ8ofolK/SMTmV1ixSImilOrKICmY6S8hf8OPehRdat9KIwAXRXmgiK6RVdSkmdzgoVjigQKlajx04sxY/pWu46Js6cDjeVRcPLOHq7WvULnf2R8fcMJuGnfE5/EhzH6V3/hrRQrnQowVgqdFDg6hEhdCVCB3QrxYgH3uAbQSBSMjU6hIQuJhIYcaqoDGfqiJAmlYFahE8VR+lUo2lbDETuhS3hYtRWc0CUSYSNOBJX6b1BcpRXvCEA4/u5FSKUhSxEMwE4SaKgvSqZBBBgw/S8SHiB3Ik15gA+AH2+KFzxQueKFzxQueKFzxQueKFzxQueKFzxQueKFzxQueKFzxQueKFzxQueKFzxQueKFzxQueKFzxQueKFzxQueKFzxQueKFzxQueKFzxQueKFzxQueKFzxQueKFzxQueKFzxQueKFzxQueKFzxQueKFzxQueKFzxQueKFzxQueKFzxQueKFzxQueKFzxQueKFzxQueKFzxQueKFzxQueKFzxQueKFzxQueKFzxQueKFzxQueKFzxQueKFzxQueKFzxQueKFzxQueKFzxQueKFzxQueKFzxQueKFzxQueKFzxQueKFzxQueKFzxQueKFzxQueKFzxQueKFzxQueKFzxQueKFzxQueKFzxQueKFzxQueKFzxQueKFzxQueKFzxQueKFzxQueKFzxQueKFzxQueKFzxQueKFzxQueKFzxQueKFzxQueKFzxQueKFzxQueKFzxQueKFzxQueKFzxQueKFzxQueKFzxQueKFzxQueKFzxQueKFzxQueKFzxQueKFzxQueKFzxQueKFzxQueKFzxQueKFzxQueKFzxQueKFzxQueKFzxQueKFzxQueKFzxQueKFzxQueKFzxQueKFzxQueKFzxQueKFzxQueKFzxQueKFzxQueKFzBWpFEvvu7pF7u6Re7ukXu7pF7u6Re7ukXu7pF7u6Re7ukXu7pF7u6Re7ukXu7pF7u6Re7ukXu7pF7u6Re7ukXu7pF7u6Re7ukXu7pF7u6Re7ukXu7pF7u6Re7ukXu7pF7u6Re7ukXu7pF7u6Re7ukXu7pF7u6Re7ukXu7pF7u6Re7ukXu7pF7u6Re7ukXu7pF7u6Re7ukXu7pF7u6Re7ukXu7pF7u6Re7ukXu7pF7u6Re7ukXu7pF7u6Re7ukXu7pF7u6Re7ukXu7pF7u6Re7ukXu7pF7u6Re7ukXu7pF7u6Re7ukXu7pF7u6Re7ukXu7pF7u6Re7ukXu7pF7u6Re7ukXu7pF7u6Re7ukXu7pF7u6Re7ukXu7pF7u6Re7ukXu7pF7u6Re7ukXu7pF7u6Re7ukXu7pF7u6Re7ukXu7pF7u6Re7ukXu7pF7u6Re7ukXu7pF7u6Re7ukXu7pF7u6Re7ukXu7pF7u6Re7ukXu7pF7u6Re7ukXu7pF7u6Re7ukXu7pF7u6Re7ukXu7pF7u6Re7ukXu7pF7u6Re7ukXu7pF7u6Re7ukXu7pF7u6Re7ukXu7pF7u6Re7ukXu7pF7u6Re7ukXu7pF7u6Re7ukXu7pF7u6Re7ukXu7pF7u6Re7ukXu7pF7u6Re7ukXu7pF7u6Re7ukXu7pF7u6Re7ukXu7pF7u6Re7ukXu7pF7u6Re7ukXu7pF7u6Re7ukXu7pF7u6Re7ukXu7pF7u6Re7ukXu7pF7u6Re7ukXu7pF7u6Re7ukXu7pF7u6Re7ukXu7pFlVKERIP/66/wD/xAAuEQACAQIEBQQCAgIDAAAAAAABAgADMQQRMhIgQCETMEEzECJCI1FQFFJxkKD/2gAIAQMBAT8B/wCpappMDuLGDFOLxMUpvBVRrH+2XD1HsIuBb8jFwdNbxUVbCG/P1NB4Q7CxgxTiLilN4KqNY/1y4eo9hFwLHUYuCpi8CKukcJvz9TQfCHcWMXEuLxcUpvBVRrH+mXD1HsIuAY6jFwdMXioq2HhN+fqaD5Q7LYwYpxeLilN4KqNY88uHqPYRcAx1GLg6Yv1ioq6R5Tfn6mg8iHcWMXEuLxcUpvBVQ+vLJh6j2EXAN+RiYOmLxUVbDkTfn6mg8plBUZbGLiXF4uKU3gqo1j5lw9RrCLgWOoxMFTW/WLTVbDlTfn6mg8ymkeTDe6sPMG/P1NB5lNI4BRczsPOw8NFwMzw4b3RzJvz9TQfPQNx4k0jgpgbZkJtExAHbPDhvdEPFiR0zEW0HX59JnBK4+4lvCb8/U0HhzylBfoWi/YdZTOakH0lI7885RAILmCrlrmWynulP9uYN4F7dPdKBzzzlFLtEzOqUiNpzjvvHEmkcFLT84j2zw4b3RDw1HLVBSmKUInSV32oB/MqZKv0vGqNUcLDSyIKRT33OdhH/AEVBlYwN3qhBsJWXbUXKVqp7oSNkjA05VDd0LnKdI0/XiN+fqaDxUm+pUzLaOspZBSZQF84jBc0nb/2m4OmyJ+kEmBt6bJSXbcym4UFTAuV5SGSHOevEmkcFHT84j2zw4b3RDw1FyqCpMQe4vQSshrIMoH+uWXWVFZWDzuZkARR2KhPoYy91w3oIq9moX9DK7lmDASojFhVWB+50Ec/uBmfEb8/U0HwZeHLwJpHBTZtvQTe/+s3v/rK7NsPThw3uiHht8ZS3yevFfjN+fqaDzKaRwUtPziPbPDhvdEPMG/P1NB5lNI4KWn5xHtnhw3uiHmDfn6mg+SkncMcgnp82hXcm5fAmkcFLT84j2zw4b3RD4DiGFTZlwK5q1CvoPkjOU6mZ2HwG/P1NB8HacxlK3+dNL4WkzDMTtPntjKU6GUD9tsqDacuNNI4Kfc2z9k/ZK+/Yc+HDe6IeM4hAYhFbEZ/NRtqEzCjKmJnlFxCM+3OBwTtErfSqreA35+poPHhkB+xjoXObGVSHPSbVpjreVU2GVvbEEJ3HJZXqbSBKtTuHOUdYlfXxppHBS0/OI9s8OG90Q8WMqEAKPWIq0qeUwI6EwmJmSZivaMo+2IRn0jIh+qiU6YRchMT6RbcZvz9TQeOg31KzstAo3gCPsd5iGzaVPtSETqcp2VVsxKqmo+cfLPpKA+4lU5ueNNI4KWn5xHtnhw3uiHixVMsQwlV2qKQolHoAo9Jn3c+vQTb21BmIXdTMw5zpiVXbQsFR6f02yiGC9fWYjq4TwG/P1NB4x0m8ymcnzmYTNhLnOUWzBQzIgzdMz8Ux213zPPjTSOClp+cR7Z4cN7oh8B/iFWpDaPWCkz9Xl+kpfqbabfOeXWIO4/c8Bvz9TQfKWLX4Cxa/gTSOBMUUE/zWn+Y0fEl1yPDhvdEPhZdxHzkCODLLwG/P1NB5lNI8mG90Q8wb8/U0HlbwUXb0i4Q+pi4ZB5QSpzEXGVBfrFxy/kIuJpvY8sb8/U0HkhRdvSDCH1MXDUxAoW3KK7LYxMbUW8XHqdQi4im9jyRvz9TQfMKNRvSLhD6mLhkECgW5wOy2MXGVFvFx6/kIuIptY+Y35+poPiWi7ekXCH1MXDIIFC28K02cEj05tXZbGLjKi3iY4fkIuIptY+I35+poPEKLt6RcIfUxcMggUC3lw/5f8GKi7N7GNSCMAbGYpVFQgXn+OA/bJ6wURtJJtGpgKHFjK60wq5fx8GkO33AZ2dzBVPWdpWB2+k7SrlvuZSpoN/W0SmKjdLTtq4JT0nZp7Qxa8PmV2TSYuMqLfrFxw/IRcRSax4jfn6mgzKLRdvSDCH8jFwyLAoW3I4fIbsz6RSBTyQ9ZXZGCnOV2UuaglSoajb1bIRdvaYZ3jbewBn1jFHVT/A+MO6jNHsZSrbKu8xieubdJVIr5MDKRUFlzuJTdEJT+REIognOOF7IG4dOTV2Wxi42qt+sXHg6hFxFNrGZw35+8CgW/vA7LY/8AgU//xAA0EQABAwEGBQMDAwQDAQAAAAABAgMAETIEMRIgITAQBRNBQCJRNDMUYHFhI1ChQnAkUpD/2gAIAQIBAT8B/wDjth6ck1lTKmJJrqbtiKQg4iG6oOEVdVDCKaWnEf3WtI5f7u1aVHOttj7aaxzrF4XhtHH3HbaqxFkaqmVMqY2Tm4qseacdTdsaShJxEVdUHCKuqhhFNLTiP7bWkcv93atKjnW2x9tNY51i8Lw2i33Hbaqw6EWRqPNu1xVY802tTdscEoQrERV1QcIq6qGELS04j+y1pHL9d2rSo51tsfbTWOdXvC8Not91y2qsJ4CLI1Hm3a4pFTKSkSN9TdscUoSrERV1QcIq6qGELS04j1taRy/XdrFUd622PtprHOsXhyztHHnHbaq8VFkaqSkpGx7uKeacdTdsehUhKsYbqgxV1UMIW1Dx6WtI5f7u1aVHeuNj7aaxzq94XhtFvuuW1VlfQIsjUebePFPNOOpu2PSlCVYiKuqDhFXVQwhaWnEcXCOX+7NYqjnXGx9tNY51i8Ls7Rx5x22qsPpEWRqPNu1xTzTjqbtj1K7R4nUfpV+pRZHBbtcUisyzLEih1N2x6ldo6C8kTvInfRA6kmmnqH0y/UosjVSZZljY93FPNOOpu2NdJTnTQ+MDBKSmtdo6Fk1m83jR9409Q+mXr6S5VwoptHLRlK6Bvy6evOytJ8DkduAiyNR5tWuKYOScdTdsanT78sc2pSO7EUixkpSOL3CItv8A8wK7jmWOHt0IwhPccyx7alI8qhCYvazHa5gBEpKDqXaOhePNq2NPUPpl6rq0lu7qvKt/idMfU66QqXG6h91Sl4CMFa3KP0yn9o2whhtb+NNhEXwLaUh7c+I6n8JhFB7lRofmsKzWkzti6XUOU9ypcXi605mxpLld8rCrxTfxGwp9taLxT+MJdXc10UpYsy83r8gD20p/nUiyOC3a4qoOScdTdsanU1UFStTtHDVQFI94pFJKqLncqdpYXni/6xFIRlXmjis2AjqSohQhVXCPH3iVqNS7R0Ltc2bY09Q+mXquzyV3dV2UafE6c3+O4S4QJd3k3V8pUdjFXX31UoZZdnmlNqux2rhOx2QS6Y6sX1lKQfcmNLFyZUk2lQr/AC7sluvuTLi2GkLStQqRLu4jtKujp/afjhr3OmXVsJuikFQqYRlOXUiyNR5tWuKZT+ZSJG+pu2OLhorwF2joWkZsZlHzMqfmNJGYb6eofTL4FPQosjVtKD5lB8xA93FPMY6m7Y9Su0dC7XNq2NPUPpl+pRZGojm1a4p5px1N2x6ldo6F2ubVsaeofTL9SiyOC3a4p5ox1N2xxHF5BEA0354zMUqyngLtHQvHmzbGnqH0y+C109lxkvBeGjtJurOdzdSv8c215FhUvV3SlIeasn/HARZHBbtcU0rNptE0rqbtjgF1ANIFA4cjLTnJTiUmhndTSsSoLFRHhtWJOYV1rtHQvLWeyeyNZM4pp6h9MvgI6e8aE7fvHUfiXDIcTzujXeeSidTXnvB/jaAE7CL6beG0dwiLZU0kKV5lyHfuzjJ4CLI1bTabRFrinkYnHU3bGu8LKdhEqCdkiNApG8qXMMI2vOIzuswwDKKmMoJBjTfbG8dsGMWNa7R0Ltc2bY09Q+mXr6Tdw44XFeI86bzeK/zOtK9yW/iE0jqEtoSnyd50n6kS97vqjTiml50xl55od95Rp8fMvD6rwvOqdIxV+0OOtFkcFu1xVcjE46m7Y1vp9wVA4mEnKSYlSkI3l3FEViBlcMXsJ3SU0MbVkTSIrTePH2GNCiBrXaOhdrmzbGnqH0y9fS30IzNqNKy7Xdu7vBbypfcoK3Fb12E7SbolKQKrV/iZhe3FtLGw8y4L7N4SZ1BGS8qlzQ3957ARV2Yvf9bubS9LbUqjWAnTPY0tw+OAiyOC3a4p5px1N2xrIrMojgqmEFYCYBtHRlIWJXPvKQADk5/UXlEpTWu0dC7XNke8aeofTL4NY083eVBxexTFXlLaShnziZ5l5/7jQeRiMZXkhJUcqZeXPx2fxk4+eAiyNR5t2uL+8qmVTBjtqbtjg10AZcJXmEgYSutdo6Dd6z8efjRLGU109Q+mXwkOlAIHnmlZRZ5pUUGolSeAiyNdRKiIIzcU8046m7Y9Su0eJ1D6ZfqUWRqPNq1xTzTjqbtj0uEU+hPmG9jwIq8LPFWhKxlVhHekXdzDaO9EWPtqjnT7y1aT6ZFkajzbtcU8046m7Y9DWF5CfMN7H+oiry4YVFWPpHGG3baaxzpF3XhtHehuD7aqxy4Xlq0mUI9CiyNR5t2uLWhmYfEqPiDHU3bHGL7afMVex/qIq8LMKicfWLZbctisd6Rd3NxtHOiLH21Ry4XhrFMw24qLI11maNmquKceYx1N2xwlPNp8xV6HgQ3hZhUVY8FTgSQD6txht22msd6Pd3MNo70NY+2qOXC8tWkylOCiyNR5t2uKceYx1N2xpwin0J8w3seBFXhZhUVY8V//AF/eKWrNlAiXCtJpjLupRQCZ3iU5xhC8cwAGMS4SooMZUsqVX55BZz5DO9lBUrCd0pIzeZ3CquTxHFqOXbGKcKBvjCspIzeZ3V1KQMIOM4y27bFY70i7uYbRzoix9tVY7cLw1aTMNjpRZGo827XFVjzGOpu2ITFPIT5hvY8CKvKzCoqx9C/U0oIoErqobRlKkkikaSoJDZiG8icpTUxVe4nbCJJ7xNIkLSoj5PJ5KtlIxjjWdvIIkDaiY2CzVJEcCiEqi0KWAr4MWC8RtEE90mno3GG3baax3o93cw2jvQ3B9tVY5cLy1aTDtjEWRwUWuLkEyCZRMg1YQqKsf744w27bTXXkEyCZBMoH/IIUDh+jO8B4mfwJ3E0rAvfKZ3PPiKdCd5nFaQueaRavcIpzLuZ3RvtC6AAqKXl2hd2NI2r27zujHxCvegjJqpWgkDH9EJI7phFHKmKT5T8wqCthEKCW6GH2ISDFrT3EzbdQNDF2kkx1VUbxXuQaRZ/pAQ7OZ/EUcyTSA50ZR8ROUooYj2LNY0oFatDqikVi1lKgPmBRzZTErUokfE7lUk/ELhCM8cKsyaQfz+lngSKCLqVJNJv3K0iFUUraJQaKr5hCu3lpFgnKqJrTf9DKVl1E04qUZTX9FOkihEWVBYAMSTnKIjMqtTM6ig/Ii1KyBQMcrnTvB+lnElWEKVlQVAlXczRvNVVIG6JI+YULKcsUkmiokUH6ZShKcP8Akf8A/8QAThAAAAQCAg0JBQUGBQQDAQAAAQIDAAQREiFxkQUxkjSxNTByEyAiQVEzQHNhgTIjFBBQQgahFVJw4dFTwWIkYPCCQ7LxFmOAg5DCdKL/2gAIAQEABj8C/wDmGGgcBojIe7rorxSxEky3zGGQAwh0LtwhzjUAAqFbGIi1yIplvmOMgfs8DdaGWV/AVQBH8mP+nfpkPaLpq8IiSvZfqyXYijDGQkRxRRQroiyR9z1gOQ18OUo8w9bUiVjSIkUTGZ7sXTVUJchE4kh0CjLaS5RZo+50EWEXREKJkxvsiF2opRW51yyyoT8w8gCzIXDueSBCEWFMmynSNXytA0SElRIFKz+SwnUMBShfEWuvc+6EEMVEnmM1yiawDP7XQ2IhxU70muhcO6MMdSIPSEhVwMPgHW1IGKLNJUJGBpwECls0U7wODuUA1qn2o2Aq/i/aTFkeLUEw2OR/ehrmIjFTntPyWExhkANVFKJUh7iQZqIiSoVjOIjIGG9miIctMFSmGZmh9ORkcoEBCeooIDxCHMLG5/0/c4IIYIwAKxTDTOZwa0YElTJFpdaUulElE1GopA+YWvAREARESE2hRJzT5WMMmeaaFFELPK4OCl0KJSjadz/p245U1FFhnET+Qv5LKQyk6KhaIyYQEAUQJSEwzviLLBgMjxaoAFgL7irqGLIy6lANUH95xVyklImc6YzdEAkAdaVgCHoq+ZMR52tAQH0wiWJX4DRgqBOVtpx0JGba6gG2qs7xxv1Mtzg+nUU1QLQGIE4Vd99qXSulEe13SiOkWHk7g/JZa6UWPpolpD3v7qG54pAcomIafNztK5pDTJCpzHuMLgIaUjAnM3i4C5tzUU14uMVAokH5S87LT80q7P5aRNywPQMqXhEeQWrsPpI0THGmVNcVAlK21LrREUCl11TCodPkEPw2Wncz/pOnEJF2YKCcJWb7P9R/UcR7RdFXyh8qQcwf+RYnOMgKExeNleNg8bB42V42DxsHjZXjZXMOXRzMMnUP981mANIKy56JC3xeNg8bK8bK8bK8bK8bK8bKyopRICY94Orr9kbI0hEgcuV9GW0+jLafRltPoy2n0ZbT6MtpzAoBxlZNUNGd+kqYtgXI8jg/WSMWxW+Fcs+Yf7ymYwA+lparkij4i+ko6rAVDiYWWxo1mX0y3uZ9EW0+jLafRltPoiWn0RLT6IlpwAlKAcY5B6uv2RsjR8cu+OuVk1Q0am76apiuRhA4d79VIxbFb4Vy2Bc/7pmYZA+lpatbkkj4iL6SjquZziO4DLY0azJY34DXHIPV1+yNkaPjl3x1ysmqGjPoZpqmByNRPZfqpGL333wrlCzU5h/cMzmAA730tLVrckkfERfnoarmc4joAZbGjWZLG/Aa45B6uv2RsjR8cu+OuVk1Q0Z9LNNUwPiEp7LkqkJe98K5Qs1OYDP+2ZnMAWXWrOxW/RR8RdR6FhzMcR0gMtjRrMljfgNccg9XX7I2Ro+OXfHXKyaoaM/UZkVMD45KWXJVIS974Fw8anMBn/aPGYAsi5CrMe5+ijbdR6HcDmY4j1AGWxo1mSxvwGuOQerr9kbI0fHLvjrlZNUNGfqsyKmDxfHJSy5KpCXvB8C4eNTmUZ/2TxGALIuQqzHufoo4TqPRDmB8ZzD49UBlsaNZksb8BrjkHq6/ZGyNHxy7465WTVDRn6zMipw8XxyPZclUhCw+BcPF8IgP9g8RwCyL6WY8wP0kcJ1Hoh3PjUMNkesAy2NGsyWN+A1xyD1dfsjZGmn7KqaU6wDveJL2niS9p4kvaeJL2niS9p4kvaez9lVJxBWIMmqGjP13gVMHi+OicHJZEwWHwLlm+EQHrfs0ZdZIqvKUJjkZYuAiCLJGvGK0rjKRQe1reVMA65xGAPF9LMeYH6KOE5U6Idz41DGsj1wGWxo1mUPYl73M8SXtPEl7TxJe08SXtPEl7TxJe04ENgoSRh81gerr9kbI0a+fK77vu+77vu+7/wA5WTVDRn+A+mscPF8cjg/WSEthyIuE+Z1CA9WMlcKGOpErmBOZfkDnYLXQuwYsSaswAWYTssPu27KCgRJqJYfzGN30ZM/1Dd8dpdSLrGf+mHN1jiMAPpaQ8wP0UcJyp0Q7n6hxNZH4ADLY0azJXyO+77vu+77vuAr+ccg9XX7I2Ro+OXfHXKyaoaM/wX01TFsC5GkcH6yQlsVvhXCfMLqHqYQMET2q6S1SSBf4v/qP6mU9puopWAD5UbHVeIwA+lpdwP0UZ2XKnRDuc1Diaz8EBlsaNZksb8BrjkHq6/ZGyNHxy7465WTVDRn+E+ksYlgXI4gcO9+skJbFb4VwnzC6h03sEGYp7oK3uZMOcWMfE3dh4y7ERWqqcaw7gYxEXdFIAAKgAazO6F1IgRLc6nRhiS6hMxgB9LS1XJFGfeL6SjquahxMPf8ACAZbGjWZLG/Aa45B6uv2RsjR8cu+OuVk1Q0Z/hvpKmLYFyMIHDvfrJCWxW+FcA7hcw0KvsYFFaiNCYyCbVut9VppRl0VzCIz4iksP236dKnDRHzJXiG/Yymu/EppogMxIkakJv2NOBgkgTRTCRShpJmGQPpaWq5JI+IvpKOq5nOIj8MBlsaNZksb8BrjkHq6/ZGyNHxy7465WTVDRn+IpWOshZ+IAy2NGsyWN+A1xyD1dfsjZGj45d8dcrJqhoz/ABFKxpp0vDRhZ+IAy2NGsyWN+A1xyD1dfsjZGj45d8dcrJqhoz/EUrHWS2fiAMtjRrMljfgNccg9XiOyNkaewIjQrlOy+ih7b6KHtvooe2+ih7b6KHtvooe2/wCpIkBKQeVk1Q0Z+veUeppWN9RUL5CCZlVJDQsjWf2vFoS2P7Xi0JbH9rxaEtj+14tCWx/a8WhLY/teLQlsf2splYeGoiYAqn+1gbnDQls6byja09QC6wHqQMtjRrSZZJw8pPo4e2+ih7b6KHtvooe2+ih7b6KHtuC9qKmAUxlRsD1dfsjZGj45d8dcrJqhoz9d2UJGjCnn52hcyMuiqrQiCgPFUbqaVjfX7I2Rpb5e0LlZbAaEutpVEIdcUFDeVTmaUMvdhRYqsjFEphDlaHeiTJpifd91BhKIDMPxP2WNi1VKBTAICarqQMtjRrMljfgNccg9XX7I2Ro+OXfHXKyaoaM+nvO8727XvVO8LS7cmXdvC7zvDpErG+v2RsjSsb5e0LlZbAaEutpKneF3P7P/AOzh+xJ/t0M9yphMBa1k+7eF3nOWjBlsaNZksb8BrjkHq6/ZGyNHxy7465WTVDRn0n3FcFTZJVgovy1X3/T3ZjwiOQ4qjIRts9wbsD/UJiIJn/FJmXuZdX2cCE6OsJiDiAWVWil1SbNFIxxEKc772sf9QxZVxDyw40SFZvp26iu3JtBTIoa/P3BcC4EhiDGoGV5h7n/V3cugdYb5gVGXhWwuR7StFQhlNkUVvOAs8bFGqJeD8Qs0fGRisFBT9JNDhEzGJuLdiLKsmEwIqoJimakJGgCcajUYv4meKiT0U0wmItUsGuaBgE75yhxD+rFW5/1DFmWlUEQNIhhcOrGw+xX9oKChO+fuLcC4MtqY1E63NYdE92roCv8AvAVG/bY/Tt21Kchopqjf7nTubdT2cEyDwc4uIQUXViYpUNkgQ5pgB538rh1UrpxS51S0j36FLmAGhELloKKJlMYO+WjSsb6/ZGyNLfL2hcrLYDQl1tGJzmAoBfEeRjcn6fMCKJOliBvye0T+pLobW/MxuGdibhoe6qZdpDhRBQt5QJ33D9iT/ayQ0OQDxi3lD8LCLuzdeN9oWLSoJqCUCfa04deJUjIBe9tKzW2C5DhszFpAbuf3JcI+wQn6i4X5cotRdW7l06SRBOY4KjyeLNciJUMsnIRSOYOKrne3V41j1Jp87LdK7d1IhEFKyIIDR4e+TPdG4d1IhXZ1nQXNSmHdN7YvCsTpE+ZnjYkb3lJymFmjYmPPAQc5EKjUYWMTcm668UYtYoRI0qYdzMuKdATgcaPM5iIAAcrG49xlhhoUvSrhfk/6C7EeWJLWUxljSMNtq3IuqIe1ozADfik4i6MDdcSpECeyKIgIAz3Lhog6kVEK1rKDS2ScqxfssNGxcSmIk6SZgNO/U70tEDLY0azJY34DXHIPV1+yNkaPjl3x1ysmqGjPo4uIJfEuzt1OKXGCiYgxigHpAAyeZroYAftad1oO5kSmkKhPOEhvSFq6p8jVMYK0yGMWzP3F7YHFxhb6KZjA1Yo4zEiYjb9w3UThfXGu/UA88nCwXyAntBszFwaZbwJALBish+/mP+b/AJcLApiNBSaguHl/qTOPuL/+ouVxcUXzJImMFmTVjFIRdc1AZAkExCbzLdDAD9rhrowVyoogEo0qZQvgLmIV7KvBa6hv9CmcLcmFMhTSrCYaRKxvr9kbI0rG+XtC5WWwGhLraNQExkK5tn4criouXEZTZ+FXugey/wDs4fuRT/2sy8SkZYCxIlolviBbzMP3LdK/+AP2tJGEuPGAqmeczlC9bZAVIZNaiCHeAONixviJSh9rEpigICEhBmiIKFoKKcojOVhhCj0aKhEi2P8AAshA+UoB9jMU3KUQ+xmhSdGqookaxX+xpXPpjRRIFsXBoF+VEuRzan+dxJieZSSdtxansESuZSQTSKAyYD9y3Rq/kD9rC6sPcyISQUVDzBeCUhcbL90LjorlkBMjA4kLMt4ZVhowZbGjWZLG/Aa45B6uv2RsjRsDl3x1ysmqGjPo4qEKEzCSkWyDi7nmGiZQlQd4PpDW2gmuKpjRJ9mQpa2oH8hsjiuyN/uD3F7YrioEL6yYkBng4jhFUop187k0jRNL11ATIBb4i4W6ABwUNmNlwaxa/Toj4MBZyoVgMRf7ii4a6KQTKiIkHum4agPRzIPuIIDP+qLlcRB8qyYkCyLPBK0iCoUyfjyPpDMF4lRSiYwEAAviIsR50xH7HH6hv92lSsb6/ZGyNGxvl7QuVlsBoS62jVBIJnRMCnhyuKhaXGRWnLukHugefZfxcPP9yn/tBgspOiK+1KPcb/l0iKGomrCtnXWWMBCBSEZtVeFIfj9YgGvjJxlzzDIw0TlCxOfuh4A1IVojygAXg5xftoh6axiqlGx/w0lijMDplH7GosYZAQhjfY/bih6aJzrGGz/y0bpAURIqUAEe8HCRCY1GRLk9ygh/O4lBIJnL6hQ55ONucJpGEAMX+L84uHhlRUMeKNIgFyuND/tC47XDSAy2NGsyWN+A1xyD1dfsjZGjYHLvjrlZNUNGfR1MLs/TyuxigGkJOQXs1fpZQ6n4wPIo/Y/vi7hiGiChJFIvlSB7K40OidMxKznvzYx0LDoicwCU1LlBpqJwaHtonkco+Wi/vdSHS29Kl3M/32gkmNVDZ8rC6dyVNhGgM78gMPPZYIxf0weIUCraENIB+xlurd+gXY4vDEGonePezwkYSmme+1EbnIBdGCONIE5yMVmh4W4PsNLhFVU977GY1LaxKnSKDkBnhoklNJQJGBqGuKn7bBK1ijPieyhbhjAGG+qufy2KmK9z0Vl9mekC4h5jc7UG7MKkiISoUeVhdS5igIRxRpV3jCwQifpk66hQltEzyAfsZLpXfKQpURmhCkrAB5x73s7jwyJkzEGkY98BZo2Eh0qZ/NSrAWf74h00lANw0ObSJWN9fsjZGjY3y9oXKy2A0JdbR3r9T+9vpoxTAfpUDPZpfS50lRqpqH4A77zTXIVSNXULSVOUKim5gacPdiCTIimnRA8uKpgVTgXT6NTmZYFa433imSoh0jXgZUboQv3bAX1E6U1D9zKkiSgQgUShzA/vr6ZOVNUBpCkN57I30ofafjpyJkZrsXXWBWOUCiFHypF5gfskWEpVkOF8ov2L7t+9IcnRGIeRgBjAlub92IH6UyhpmEGEJCBfrUPymFmgosnCNYDylHnZoNCB+8oOcyUBkYH7KW543JRPUoqc0zy7n7bc256g0DDRE4VGBgrdREiMRSHhJzMLtfTaxU15zMkaoHsjfSigqfjp8ORjdm7KhVI0QopkL5US8wNeDufCIezKBRpj5hBqBCQqAkU8xT1sprpIkTiBnSAl7Rgy2NGsyWN+A1xyD1dfsjZGjVz5d8dcrJqhoz9Zv6KvTJWN9fsjZGjY3y9oXKy2A0Jdb4gDLY0azJY34DXHIPV4jsjZGmcsccgDOrxeclLTzmq85qvOarzmq85KOmeMOoFIKhZNUNGf4ilY31+zNkaZwjTkAeQHnFR5xVecVHnFR5xUecVGU54w5w2hahsstgNCXW+IAy2NGtWyj94qXuZ5yUec1XnNV5zVec1XnNVwInijKTON+wPV1+yNkaPjl3/85WTVDRn+IpWN9fsjZGlY3y9oXKy2A0Jdb4gDLY0azJY34DXHIPV1+yNkaPjl3x1ysmqGjP8AEUrG+v2RsjSsb5e0LlZbAaEut8QBlsaNZksb8BrjkHq6/ZGyNHxy7465WTVDRn+IpWN9fsjZGlY3y9oXKy2A0Jdb4gDLY0azJY34DXHIPV1+yNkaPjl3x1ysmqGjP8RSsb6/ZGyNKxvl7QuVlsBoS63xAGWxo1mSxvwGuOQerr9kbI0fHLv/AOcrJqhoz9YPELqARNMJmEWdSDTKjc5GoTGCs++YCCAGlUPexuR9RFKmcR9NYAkA9QSsb6/ZGyNKxvl7QuVlsBoS63UaK0YiQQ5BMwSLdFExzDIChy75l1jgQhAmIixG50kbnQ4yOYS9JvCtcdQoLJ8VESzpAzFOGyi0ukS/iGnBlsaNZksb8BrjkHq6/ZGyNHxy7/8A7CsmqGjP1hK4NzzDsSnkaXKPK04KHKFFMK+8dAJiF/qIYKRDc4czNcqNH10PII3zBp0rG+v2RsjSsb5e0LlZbAaEut1GNu2N0FKfSURCqY8jRpXkQFUfB17tTR+nLnmnxBtZcotKCRDyhxDzm5d9L6gubwFUNxgF6bSjURqUC0OmBlsaNZksb8BrjkHq6/ZGyNIBVKA18ve+mJbfTktvpyW305Lb6clt9OS25FUKPGVk1Q0Z+rrxBekMFAlkXE3WVrOA0Cz5+XQ1vbpcJKYHDVG//FkWJ5VCgYNMlY31+yNkaQCoUH0pLb6Ult9KS2+lJbfSktvpS22UCqFH1C5WWwGhLrdRThCmrXPXYBxd0DBXUmXeXjRHoyVWeRxN14jiFOZg1h/50ETDCFYF2hbIVuJuSoP85LPLpgZbGjWZfWLe530xLb6Ylt9MS2+mJbfTEtvpiW3AUDgPGN6wPV4jsjZGmqogAmGcx8XiwPFQtvFQeKg8VB4qDFRJECmpAyaoaM+nFM6oqrB8idb2iX08cUvxU/0ewKUUYkP9M3LY3oOCDkDaDkcNMK1JnG37/aY1WgXk5zWGKsFcNQ6IfMJpMUwHYLgExTPzM0PciAPGUb5pyB+xLJGhokPlHlcvdBxcv+24c5jcSc0x0yVjfX7I2RpnURmIvFweLvF3i7xd4uDKdJKiO0LlZbAaEutphEeR+w3JRGMXnKfJN+3RlySezhWYJVgDhlUAECkTrLzG5XDhKtb1be8SH/fqZGZb9+r7zREQcCJkCZhYluXDkBMLxlAmIv2aNooRX/8AJmjcy41BaOWNevgVl28tpLilzuiPLU6M5euJML/ly0oMtjRrTZRGGC88WK8WC28WC28WC28WC28WC24EUUgLM45B6uv2RsjR8cu+OuVk1Q0Z9Me5FzVKMqlVA5e5hda6SO0VUrSIbkDncrwAyGubISgpM1Hn5XUzxEQoBEyBMxhailxLimiIdP8A1DDKbMJCbJZKpRMeT3UP3ZABwZA/dB7jKHvECYtW6MaH9FCjRTJyC9mQoFJLyhecUELwl2wgWjzM4XNLRXoBTOW/Mb4uHVCkYSqgoofu96an4FXFJD8qswtaZKxvr9mbI0t8vaFystgNCXW0wXIg1KJjB6whzcz+94hOaqtSU/lBnIp5BKNKwzQ8MHAK9ElibThyBIqRQIHh74YsJR28SsCZaT4r8vdAo8lETZXCd9L/AHD7yQUIqBCieasxvgwRNBAsMqzmvuhCgsWNV6JEppv26MrjFAwA9wWWqYPliCDkZTc5Sj9mlBlsaNZksb8BrjkHq6/ZGyNHxy7465WTVDRn0sTFfu0xlZYAmWmsqecucWVIkHDlKmAEDh5nQuhdJOGTNfAouaU1FzeZUfcn9PQJ/RKeiYQ5R52jBw5aJE6gBxCKYyIrTAQ9y/8AlyOE7EuT3CQwTAwSF7CDQKkSc5FcRFmvJpiLhkz1hTpGsMZgAgPIx2CJE536Ie//ANgONshpkrG+v2ZsjS3y9oXKy2A0JdbSmVH5Cia0zqHGYrrSC24eGKEgTTKHjJxcV+BOpoCasEvUHcgoMSzJBJ+0DZ/wHvguzHKLg7Bso7gXPhCba6KtRUwro2X96XYPtroKV110NyID/vEyA0w/kLk0oMtjRrMljfgNccg9XX7I2Ro+OXfHXKyaoaM+ljCECuhNwlLkEcg+9KHiIgpFF/IAjfcRFgPEUsi6zXj7oRaaQlLItM0piLUUJdSGMcpREA2gVvb36JTmEfcCn71MDOEOH7oPcpFLmopphMRZIIsKoUDjRKcRfsoDxLnl4OJjRDoiUQ8f+HIHEXNQQKKKF9T3pJ/jVcSt+NWX2aZKxvr9kbI0t8vaFystgNCXW0q6YfMkcPsaCKnIvkFiyXNIf1VjTMX+VxV0BDmTL/jwcYRNY3sMMAlo8k5v2qNUkHygF8z28OqFzII3kGUzmcdHwl2lE1CKbIioh57LN9PXdKHtADIigfN7oOIl5TCQWgWfkMIfb7/YocSjGn57xLLGNVumhFXRVrOYVAmWwxWiF00yBWJjGaUJciIN7CjWoMvOHL7gY0a6UUT+DlzVaUGWxo1mSxvwGuOQerr9kbI0fHLvjrlZNUNGfSmIYJgYJCy3Sh0xOgB6ZTBesMFFFFEzcpaM63sLhQCsQqN4whUHg/vr6iW2i98iX4WkjPpVZ2mSLuhBAqooYaxHkYqw1ziEXVNRIM7bXumf/U9Mn+PH3QkaAeT0zC0QnxJCJBt+6Jh4fpBCYBzv2u68QdP2cZgmBBrFniYGHEkLDEHZ0vmFxMFdVM6W0EBnRvSf3b9NJKKLK8IqUfK6JxpRKtap/wCHvhIOdYBTFwxTBxKTONvTJWN9fsjZGlvl7QuVlsBoS62m++LhcQ0toKfKA9zCHRuCJIi8KhiDRasTGxm0ukcaV/hsNe5CFyFBMsPCcSDIr2S9cQsNJazzMtzzm/p0T0JdwOIiSAAAikNEGgF4y01jeLQJD+ZJRMoys+5chCzOl6gfxcVBCNZR2gWPctEoIHWVKXgIUJiIs11fqJMyi8RxbM3JZYxtwJy+ZEBr8HshQXIXlFWYB9r2afGsfpFPcrEnvJEMb7GaLGsidJQf4aYGWxo1mSxvwGuOQerr9kbI0fHLvjrlZNUNGfTUVCAYvMIOmNzEJv0IdNPVL7odcAqTUkPi4AC/uQaVxoDiKhUI8k+UWlBIBIqRZe6IhZcVGkWyDibkqjITcRQH8Qe/aKwCJzc4g6CKZUy8xXSiYJJQecQcoWGTS1Q99YsU0qyU5WChfZEieUhQKGmSsb6/ZGyNLfL2hcrLYDQl1upVsY2MAfZYgw0TyvTaMFCxCZhjlQIUSmAZh/gWWHhzlXiQLRTST4q/Bmu7dYP6hWYkKN8PcZM/lOFEWKClSCw0f8o3tB7Emb1YoZf5WC6wSXiuIe4vNpgZbGjWZLG/Aa45B6uv2RsjR8cu+OuVk1Q0Z+pKQMR5VAv8wv7oh7oIAheKr8wAzbMdoufzqjfH31NP6huaXgpzUAvyi042GNMDBxBzG0AwkOacTFBRAAvgDGLiiyiogOW+UunSsb6/ZGyNLfL2hcrLYDQl1upihFoFVIPILSuVD7YqCSW2OFPyj3OnCwgbT94fiH7dykkNGKRrTHn7mNyLpTTjIbhADfMAbx4uLOBU0wmLG7d0CiWCSH0yjy9zla0wMtjRrMljfgNccg9XX7I2RppHpzLO8Xvd9TAd9TAF31MAXfUwBd9TAF31MBiknTnSC+DJqhoz9YMiqQDEMEhAWKtzYovsS3SJH5N8aHmlVPnal1rsxARS8/TDkK56dKxvr9mbI001CqAYP5Bd5XAF3lcAXeVwBd5XAF3lcAXeUwBZU0yqCO0L8g87LYDQl1uqXRulFS9cQKlq7yd0FIYAXTvHKMt4qEcntEyjSlMQYIokAhCVAAacGWxo1mUPUvfhf+pgu+pgC76mALvqYAu+pgC76mALgdlSqON8O4err9kbI0uAvLyd78hMF9GTBfRkwX0ZMF9GTBfRkwWMilDjLyMmqGjP8RSsaDoy2n0ZbT6Mtp9GW0+jLafRltPoy2n0ZbWiLrfEAZbGjWZOAt7mfkJgvyEwX5CYL8hMF+QmC/ITBcBIoBxjydw9XX7I2Ro+OXfHXKyaoaM/xFKx1kut8QBlsaNZksb8BrjkHq6/ZGyNHxy7465WTVDRn+IpWOsls/EAZbGjWZLG/Aa45B6uv2RsjR8cu+OuVk1Q0Z/h0k0xM6yATWc1VhHuAGCRLxes0FZ+Dmkt4CD6OlquRiiHw0GWxo1mSxvwGuOQerr9kbI0fHLvjrlZNUNGf4VJNMTWHWQC2XNZYR7gdSIDrORQl1+RygIPoqOq5pLeAg+iparkcogPwkGWxo1mSxvwGuOQerr9kbI0fHLvjrlZNUNGf4N6SZjWAcxIBQ7366wmsVOpEB7xdQS+DyMUBfRUdVzRW8BB9FS1XROUSj3/AAUGWxo1mSxvwGuOQerr9kbI0fHLvjrlZNUNGf4F6aZjWAcxKBQ7366wm1XUiAjzi+EoB8PkYgC+io6rmit4C+jparkcgls/AQZbGjWZLG/Aa45B6uv2RsjTKnA0yhOQz73m37Xmz7Xmz7Xmz7Xmz7Xm37XRWg9mWkFc2TVDRn696aRjWAczFAod4v1lhHVdSICPOL4SgHxfiIAvo6PeD9Fa257Odh8ZBLZDroMtjRrMoBc6YS53m37Xm37Xm37Xm37Xm37Xm37XBbeF2cjjKvuHq6/ZGyNHxy7465WTVDRn61wJGHwfEUCB3i/WWEdV8KIT5xfCUAsfH+IgD4Po6I84P0VsJz2cw7nxkMWyHWQZbGjWZbG/Aa45B6uv2RsjR8cu+OuVk1Q0Z+rcCRh8HxFAgd79ZcRsOZUQn3vhKAWP7H4iANkH0dEecH6K2E57OYdz4yCFkOqgy2NGsy2N+A1xyD1dfsjZGj45d8dcrJqhoz9S4EjD4PiKBLL9ZYRsPhRAbNbkUoBY6qIplmZ+zKpFLuiADev6AAEb+lozrHr/ABkKNkHPZyHuforYT6OkHOD4iCHh1EGWxo1mWxvwGuOQerr9kbI0fHLvjrlZNUNGfTSImYfB8RQJrOaywj3A+FEB1q3IpQCx1rwHJ7pCqVzAZukcwA1lBMAUjTrcwGbmcwA+A4C+IwA5gYHIDhb9yKRTBIozF1GAffIThbdRgF+ctv3URVK5gM3W6O1LNznU5AYKJCym6jALrdHaln7qzltus4dd4yFNZBz2dEe5+ivhPo6Qc4PiIIeGlBlsaNZlsb8BrjkHq6/ZGyNHxy7465WTVDRn0UiJmF1lAms5qrCPcDqRAdatyKAB17wHIzgj5nKKRIBu8GMMQ00zOkoWdEKmYVCTkLkUJFBnXiJUS+Uo3nt4eiU5B+VlVUL8s2Yhh9MozlziyqolAhijyMKfzFrZEQJw8zpJkkPvMuQOO+LAyYVj5mf8BQrsssOhUJqmBTFIYeURZoQBmQfKwhCmkmF+XKzFRRJTlVU9lFB4M6Qk4QC8x2ZZTfsYD6ZfN3uhsS2maCOaZflEWVUhaxGtlrDaDWIiykE05B8A4yAayDns6I9z9Fa2+jpWHxEENCDLY0azJY34DXHIPV1+yNkaPjl3x1ysmqGjPvSTTMLrKBNZzWWEe4HUiA61bkUJB8C8ByOkUOI1QMFYtQxxNXKdTKRMJB+jPR5Jgz2WumASkIlZyqFrB1pv0fLKpqaz8WTVaf8AjkaaVHpB94lHlayKl4KwdI3mPxC01TeW8wGhfZZFADjeZiH5fcYCmnRvs9hhD0b5ZzZ6XLP3cPyi07LLYD4LI5QMHe+jo6rmit4C+iparkYohugy2NGsy2N+A1xyD1dfsjZGj45d8dcrJqho1PdJNMxrDrKBLLmqsI9wOpAB1q3IAl8FHZypck37TtCU2BFjcYcoPZyTGVQGmyxCCgCpy0nQMMxNMRZ/ZqJiH5+RyMMzCMxF+0QppGG+A3hezVokIN+iN9lShRKUL1b4TlkI1sSCctCdToKmKJQCqTKuiMjlYLRFEKIcIBuEV5Pm92zOD2ZKByhemL265qSmRgoUaKhbwuiOzD+abohWI1iPOwiocQpcoCzRC8qY1AAcgMFSDRULeFyknPnmxNOkc18XIxyUQGpyWMUSgHJ8JonKBg730VHVc0VvAX0VLVcjFEGDLY0azLY34DXHIPV1EgGVMolYJJ3RKBS3uB5yJgfq85FwP1eciYH6vORcD9XnIuB+rzkTA/V7JW6JRLOfk/VgXmCWjFJSch5nUiA94uQBL+95HKAg5gnR1WBebRqQxT0BPyuX3mWr+T9XnIuB+rzkXA/V5yLgfq85kwP1ecyYH6vOZMD9WhERMcU4IjOVH/5qZjyMCFXrHuH8qIogmmROQF0RlDXihNkUOMxHehdmQCz5g/JcFNuTZGNIJFrYRiNRRGotGdXOwi4kshle5xftB4jYgaspSgxufGCAmvlNzssNDlpLqXg5maJPHDSKWcgIEmKioSEoyFmSgzAmknUY8pze3JEbcpazFEHtYUwAYQ5eQX7PFKFUlyFLfYre0lKeU6FGp0jhI5ahZ4RBUEyphxGlMWZVKLE4BfmVk9mVKURDiEWt7MsQo/NSBmBdUpleQQCpkRiVCnA1YAUt9ofMCt8oFvM0SgqQEygHDKtlVUNM4zraaSq5BBTmKxUOMgLfZjpH2CAVBVWLThDqCsU0pzLJnMCpQR5uVpChEJFJKoBK9osbyhWLOoRXYIhUEgrFkQij7VJTymlIQdIazG8oc72qkSCQmrAoEAXDEiChSJ8wfN+S6PafwaQfyA0SfLNp7NRGjRCTSjF1SemPIz0/lEZOiYJgLWBAgF4RvA1O0/g1dQcjWJyTaf8Aj5WewLiNYGMZc5aR/mCbo3Rh6SRqhmDKon5TBU4iyzEKaYkqHucLPmDL7l7AZWn4uEY0eU0hacmChkyiYLwyajREbwFYnSNMphCvxaWwOkBe9kBZVPgGYScOkcai0Q90LoAg9mI1yEe/SbKlxynL8gyoJEOJk1JjUyoFKcDFJXMGKYeYKysIWOmmdOqu8IMns1IqJBmY34u5lunCFpCXzFdOkM/wyrap4uYAtUBJ3is6S4DsDjMpwYoQU1VFAlUxMpWPmNJkjwTU2Zf5a7zBSipJQBAOFqJrJqTUMEqnFidI2xMeswBeFmhof1jqBIAAGkga+QsmulF8IGrKPI4iNMUQKoakFiTRiU01KCYSGrvYmSAwSGXEDVRJfMDCHiTbNQgjMBaMTsx2fyc8mchaQANVYMYKNKJQnMpuRhDwRjSnxqByAzpErNKpjCmAdsUBIBJX2EGr+H7WMHHAIFnwH5GEPATGY8Sl4Cg010K1EftfrG2ZwvlEOVoxJkTFIHlqrEHtUqUu8N8qhhSFXkHlc1DgUO9js1Smo33syrkE3NNzYE25JjyTdBRchR5puZRmDkoqUtl00zgYOcHIVyW3SMYABrqUwoAUClF8BgH8iJy997eqDfvb05bt7QwuxJRpGDK6KyYGBrICPpFGZg52ZRNMCmTlKTTMrXMJC0U4f06fM6GwKPPO+L9jpTRONXc1ogyYbQpajMtkXDmRTo0hrkylWTAwd7iE1ESiUt4GIIpgSfN+VkJrB7ov/HK1fDK0vHK4X3JpJ3wk19Vlsi4Ys6wFg4pqQ0qiFnP8q6r7KueMJSJ5eFgUIlOnPzUWZVOLJM9/hYpe0kKmMqqLBI8QQyYcknDkmITC+D2ZVEjB+MQrYrKH2ixr52ZI94wSexhjJHTnMKXIyq7YNryjyBYcolQpx5JAxjYI5Zm8xTM66wgKqt+X5G0qXpT8JaRVCVSYBX1caITFpxPspA2d4KYOcQkBDcwDP8kxEAnJkhTwhiCbndIkOZSwxEERpzkUgXxYDGQlEhhlMDTYqplp1TAA5XsV4Yyb2xbnjQv+atiKdRgvlHkYzhDCUPmnUyxNC+AjRZUFIMxBMPKL9JAVBH7HEHGHMoYw1yG86R0RT7h/KyGZrAtdSVZRkD/zg0NQGlMOQPd6d5Qb1lqWQytGwOVwn+OVi4rW/KyYtAwKFkF8WI7UshAeVxAGOATMEpvZgcKVMKptAgHCYEvTaah/KABN7QVS0eebNGCA7Ig1NQpQmNQtLjCqc62iYvkTqpc7HZmA1gXFJKcJp8rijgMyUgAPyrEprwvoCsExSCiW857ArE50QERdNJICi0wGQhIHMUxsUhladEhQKHc5CxNsxCf4TCAMlNEOAJA6CJKIOmqnxc4DJgmmWRQ/LAxJiEwvg9oKitLnpVsE6ZjS5TD1jHUcN46jhvHUcN46jhvHUcN46jhvHUcN46jhvHUcN46jhvHUcN46jhvHUcN46jhvHUcN46jhvHUcN46jhvHUcN46jhvHUcN46jhvHUcN46jhvHUcN46jhvHUcN46jhvHUcN46jhvHUcN46jhvHUcN46jhvHUcN46jhvHUcN46jhvHUcN46jhvHUcN46jhvHUcN46jhvHUcN46jhvHUcN46jhvHUcN46jhvHUcN46jhvHUcN46jhvHUcN46jhvHUcN46jhvHUcN46jhvHUcN46jhvHUcN46jhvHUcN46jhvHUcN46jhvHUcN46jhvHUcN46jhvHUcN46jhvHUcN46jhvHUcN46jhvHUcN46jhvHUcN46jhvHUcN46jhvHUcN46jhvHUcN46jhvHUcN46jhvHUcN46jhvHUcN46jhvHUcN46jhvHUcN46jhvHUcN46jhvHUcN46jhvHUcN46jhvHUcN46jhvHUcN46jhvHUcN46jhvHUcN46jhvHUcN46jhvHUcN46jhvHUcN46jhvHUcN46jhvHUcN46jhvHUcN46jhvHUcN46jhvHUcN46jhvHUcN46jhvHUcN46jhvHUcN46jhvHUcN46jhvHUcN46jhvHUcN46jhvHUcN46jhvHUcN46jhvHUcN46jhvHUcN46jhvHUcN46jhvHUcN46jhvHUcN46jhvHUcN46jhvHUcN46jhvHUcN46jhvHUcN46jhvHUcN46jhvHUcN46jhvHUcN46jhvHUcN46jhvHUcN46jhvHUcN46jhvHUcN46jhvHUcN46jhvHUcN46jhvHUcN0EYhM48xTbmZ0bTzOjaeZ0bTzOjaeZ0bTzOjaeZ0bTzOjaeZ0bTzOjaeZ0bTzOjaeZ0bTzOjaeZ0bTzOjaeZ0bTzOjaeZ0bTzOjaeZ0bTzOjaeZ0bTzOjaeZ0bTzOjaeZ0bTzOjaeZ0bTzOjaeZ0bTzOjaeZ0bTzOjaeZ0bTzOjaeZ0bTzOjaeZ0bTzOjaeZ0bTzOjaeZ0bTzOjaeZ0bTzOjaeZ0bTzOjaeZ0bTzOjaeZ0bTzOjaeZ0bTzOjaeZ0bTzOjaeZ0bTzOjaeZ0bTzOjaeZ0bTzOjaeZ0bTzOjaeZ0bTzOjaeZ0bTzOjaeZ0bTzOjaeZ0bTzOjaeZ0bTzOjaeZ0bTzOjaeZ0bTzOjaeZ0bTzOjaeZ0bTzOjaeZ0bTzOjaeZ0bTzOjaeZ0bTzOjaeZ0bTzOjaeZ0bTzOjaeZ0bTzOjaeZ0bTzOjaeZ0bTzOjaeZ0bTzOjaeZ0bTzOjaeZ0bTzOjaeZ0bTzOjaeZ0bTzOjaeZ0bTzOjaeZ0bTzOjaeZ0bTzOjaeZ0bTzOjaeZ0bTzOjaeZ0bTzOjaeZ0bTzOjaeZ0bTzOjaeZ0bTzOjaeZ0bTzOjaeZ0bTzOjaeZ0bTzOjaeZ0bTzOjaeZ0bTzOjaeZ0bTzOjaeZ0bTzOjaeZ0bTzOjaeZ0bTzOjaeZ0bTzOjaeZ0bTzOjaeZ0bTzOjaeZ0bTzOjaeZ0bTzOjaeZ0bTzOjaeZ0bTzOjaeZ0bTzOjaeZ0bTzOjaeZ0bTzOjaeZ0bTzOjaeZ0bTzOjaeZ0bTzOjaeZ0bTzOjaeZ0bTzOjaeZ0bTzOjaeZ0bTzOjaeZ0bTzOjaeZ0bTGJubAJoqGCjMA/8AHb//xAAuEAABAgMGBgMBAQEBAQEAAAABABEhUTHxoUHwMGGx0XEgkUCBEMFQcOFgkID/2gAIAQEAAT8h/wDsMUEjCzVL3Yl9h/yEUl7uktoxVD/Wg+Snt9Qo9B/jD4cETXdLCNYMOzoxeRZooUPIR6IwPtjXHUZAOm3zADjdCBT+/aAdpdA1hIGPfIgCodpzCBjuOyfjCGTI/wCLDSi5TABPciIEetl0KnTaVPFFnTHIZANIe2VQ1ws4QkwJb3qVCDPaxAWXEz9diF+Ap6mRQLvNna7/ABYHAByTgnz3ymEVX7m1DAucWQcIwdgzScXqF9MFQLxNIyRNpc6phX5HtbmxoWgRWCyxILAZxMYqjqhNDYD5CAYAd3EA6IZ6YCaTU6lB2j/ipowOdMWKD0JInJqT4XlnBINwrzhJABfyShMQg6iIo4dj4QyEAwAoB7TYg5c3D5onC4kYDNRTLBDip8JxZxMQUEwzZZDA/wAIle/QTyR/ixpD4ArsCYhZbrxBgzEDVFx4AQicY0yRPBk8qGEulqflGZhAYaKTf5ozHJNgujLBJBOQhT+I6RgHRQdkHJtgDBQqEOwPNKDMUfp/nDf6m4MQ0gECU8Ss1WerOVnqz1Zys5AEaAONNjQJlUQPT/3Ip+sFAgHBgdMfysFY6s5WcrOVnKzlZyIt5p3r57MiWJIeSN3fjGMYwQH1QDdZhLT4P6PRrIJMR8/UCNQeMRihQEH/ANixoCZVSEpRINyDIrXKDgB2MnYgESVd+ncRxT7w/elayCEJBDQCB62ezK4cfvyqazCWnwnYCQXCOP0wpkxVZHyoZvJI2MCcRigAMLg/+pa/nEqrChFlGX4FAQA7GTkCZnsvAVz6d3HFXLoOB62ezK4cfvyqaziWnw+g5wTyfsUzlBiyKZhPQKDHcMDcgIjg4j/0O+oiZQAiSB3LfD8Co49Bk7LGZ0LwFd+ndxxVy6Dgetnsyyu/vyqaziWnw+m6BaicweqZABxbFN8xAXCFvtB/pNhAcR/5kax5kyhIDVHgr4FgqShIUTO6ZT/TJtC+BXfp3McVcOgwHrZ7Mrtx+/KprOJafD+iSgzdQcul5JvKsQiFRjmxQ5kEwX/8iMcPNhHPgV1RlJmcEdojgqPHzPoXgK59O5jirh0OA9bPZlduP35VNZxLT4f1QxnJXnStwTSXY0FnzfKFMQmC/wD4mKfHicwAYA6xa8yTvFsFX+vqLwFd+ncRxVw6DgetnsyuXH78qms4lp8P7IQzMHt4Vaj2NwTEXzoTeHMoOKEOEmC//geCWJ/BAWAg4H+XJO4CbAFf4h+n9a9BXfp3McVcOg4HrVOV6+PfIxJijVGZ36mqNUbmfqMWMHooLMJafD+6SBb8AbJqDFgQyYyE4xBNwcMDBRjohf2iQIlMrAwDPyBCERdzMsmlAcgS27CHuXvyDi4iQDAp6uSegEuAfqvaA+5eArv03CxMAn5IwBM05pqjVM05pqjVKkVQVQPWy2ZBxFOOt/5W+8rf+Vu1u1u06uX/AGWYS0+H/g+LEGyYwQmBDXqDlvmE0uLFBXFh9aA027kd7t6EBWt5Moo6M4QOwEwdUeONiX8EjGg9gK/VCgBhAkeudyZASySVr0df5Y/gXwK79OA4kOKqzTit/wCVv1v1v/K363/lOJyRUD1s9mV04/fkU1mEtPh/4sHHSQ3syYj5VR5TUHrYKoeeh9ObP7l5yBMG4pAyHD89UK7BMqqCQ3SiDNJmyElkkrFFnFuf+Jegrv07mOKuFDvsD1s9mV04/fkU1nEtPh/5PDqE2gSSPn6b5lAJbBVHD01gYcWA1V9ssU6B8xL+D+YJ0Xh1NICaKlYHdTx2h6BcACZVQclEh3ICaygYZ2Mt+aE/8i8BXfp3ccVcKHfYHrZ7Mrpx+/IprMJafD/ynT/R90I1bKI+VA9/JGFyOKxQBEcHRMae7tFyhVTqBEo54KnzQcShJRAEngjAPQajY4MSqgOyJBuWZE/FAwA7GW6NiU/8u8BXfp3ccVcOhYHrZ7Mrtx+/MprOJafD/wBB2V2+yZDJUn+feArv07mOKuHQsD1s9mV24/fkU1nEtPh/6N06xMDzD4H+294Cu/Tu44q4dCwPWz2ZXbj9+RTWYS0+H/o3T/4mbwFd+ncxxV06FgetkM6GBNacat1mHNZrzWa81mvNZrzU/I6pq1rlF8MVmEtPh/dY4AnoiIOQdR6d094HQQIGkA6wu6c94gwAMGBAGOISTolCkqgOkJ1NgH9DwFRdApa6hkyb0LwFd+ng92FVg6DRPNZtzWUc1lnNZZzWWc1lnNYo8L9EPWyWdXLid55rFZhLT4f3QePUgHhJC+ERWHkqM9K6e/NZldTx+n+n+8nkWbS0gOoOyYABOgS7gowUhiiikkkkk1JbrCggwhVhgn6Yl5cCMPSvgV36dzHFB4qATJkyZN9cB62Wzq6cXvyqazCWnw+piwinmnFE4kxRBH4W4QJQvCLgsQR9NIJwrDqiCTAR1+q0TjQP0j9gE0EtJAiPi+pGPiqqIzRliqFi6Zjj4AmKkOqs5U07p789mV5ce4LN5Fn0tIDpgGgiMOWuioM41m/AqKYG6wRBDOK0+mLsIrI6IIqPoEEEJreon9YOqCJT2A+EWdxH1WAinO1TIJsCungTkgFxhsjpXgK79O5jirp0OA9bLZ1dOL3FZVNZhLT4fTGLkBqvJC7CLFEIiBwQwQGx0e3GAodKE1iWA/AJdAQRcl7EjEDYqnnJIE0GAKLI1RBEgAQ/hHO4BF0C9SChEAAashiwAgQTDmQgIkioFBbg8ECYWd4ln3WCDsfAAR2saazEyGcVTuqtrHUlN3Z2DBhYkb/WvgQaWhNoPXyZN7Xy6ASeCAwEGUAxMqoCNcxV0VdgE1QXYtfwwJ/Vw2Eh3HF3HlCSORF5BFGoCcrTm3XMGQCOA+L4J6Rq4KFfN2YotO6e/PZlcTx7gs3kWfS0gOkAib0QTTybGbzCJbIeNBUCXUo+EPdFhpLw35RUM4IYXSKxAmhO6N+AG/OLMAion3jJmjxUIeai/alNygbJMopmoHRRIphSxywQ04DsBY8WNEOipEapnZRwDzEYIgQSALxENYhR6AQ3GDZHTkQC+GFAOQ8DvCHysJnRMQEXYp11SW4QRYGYOSgAE4IGhMakGo2QhM85ANARMhJEM2bUDvVAcCGEQDTyh2GkmA4B3i4vQ1KVRCCIYo4EuEORLSvAV36dzHFXTocB62Szq6cXuKyqaziWnw+mVAgUCMLZBt0TVEXchUl8tURgggIWPVECBofsQ/Zd7BkfqDxUBs7lXjdYEE7MG3m6NyFXxQSINF8IoTbliNwwcGQbgAQDeP6nQpoj9DAKeJAxhWhZ2LDigBVmdN0URL5QuyQ0ChB0iQ+JchMzUU44x8AnYk4MiQ25mQ3qTFRMUn/2QMGFUGM0Y107p789mV5ce/N5Fn0tIDpMyldceCm1G5FsAL9RoqXahAloFXEEhAE5ogA/QJmk5Fl4ev3g6ogWycLYuYgf8QzEiNiBUjunGCBEke5AE2JWKip/rGYgm8kCGgGboQfHB/oSTYIDUwJC8EFVDXqEFCBAweJIOVQkfgn18yEWciJjAPBRtwZwATciaY9QOuTIQGgSg4x6o49CYEwgn5JE+q27oFHSLwFd+ncxxV06Hgetks6yCfuKyqaziWnw+nDiBTigIht+eYuubgg0Eik7WI4mNEJMRIGfJV7rBisy3RDxuqhCDE2Yg2i9RBJCiozhTkED9RJMTftR5PAhGPkGBJvxECBgC5QciQgiBUXInFm+AnBuRVA7HIhkQgU6hkbMgO/IYIz9IPCF/wBIQFDdFTiHuUanymTBFS3NBn8KBgNS6e/PZlfHHvy+RZtLSA6TXwkNkgEScHkQH4sEQB4AcSWJhoyAiAwMHM6RVomKgaJxNeCAIBhwAqQ80J0DMLAhRRAZL0x4Ao/gGdAIRhQSR0J00Z8En23hScBeCwd44DIa4oMA/GkA4QKoBiX+EQSBBrHUIigMCiJPLJ8YdnYkh0hfqqwu9NujRUbBeWyGpeArv07mOKunQ4D1slnWQT9xWVTWYS0+H0yE5I4QdeWPiQdxgm6iBPKmyARpqqP1CEbMUghH9QboAbgheWyAc2UJgNE1pw5Z3RkOa+J5HuQ07ldgUdgkX8J75lApTGHzKYLBytiDgRumnCE/eCyKiMXEWGrdCgW9+qfoIO1zuIQKhzhkNJxDmKw1gVPwYkWODh4BQJMXoSWLjwgA8b4BqF8CnNWB27R+dzMlsEyYvQCEPhN/GQ8wJc4ImCoBpLIoad09+ezK+OPfl8izaWkB0iBAQIBwNCEfPgd1BqBNBAkFzf4Cxl1/aG0AyEIcEAJjB0YNpDHgdkUvF9BDQEshoB5lcIQQWzM/Ag12hm3NMGSEMHvNybI1aOZCco9dIW6tCKYFkEpGYFDaFgFaiwgE8DLSB1RTu6G/gkDAY/ySW6IoDhw7MWHFNPAny5TQu2BSx4oWoVUnFtjJMhRkvgzPYj87xAzmHyoKmB1BhN0fjOwg3I1xMCB4Xad4Cu/TuY4q6dDgPWyWdAainFTpFbBWwVsFbBTpFGpH/sswlp8PqMmTJkAGZk0GggZGJTJkyZCGJ+E53cmkmRDhkQHeijNNd0yb6g7ggGLjVunvz2ZEMA1cVtFbRW0VsFbBWwUalZlm0tIDpOjFMTUwTIBsT9RwKqeaZEOgG+zVxBQ3f7i2TJkAB9QMCPogS6hGFU2neArv07mOKAmBhTpFOkVsFbBWwVsFPNigHrZDOhrJYIpF9esxWYrMVmKf40RMRtLMJafD/wBG6e/P5kIlEBUVjqwlY6s9WerJTekDSZtLSA/z7wFd+mL00Ah4ACEEs9WQrIVkKyFZCGB+gIHrZ7Mrnx++pmiswlp8P/RunvyWZX1x7GTJlk8izaWkB/n3gK79O4jirl0OA9bLZldeP35VNZhLT4f+jdPfksyv7j35vIs+lpAf594Cu/Tuo4q5dBwPWy2dXHj9+VTWYS0+H/o3T35LMr+49+byLPpaQH+feArv07qOKuXQYD1stnVx4/flc1mEtPh/Z29i6e/JZlf3Hvz+RZ9LSA+yx9a+BXfp3UcVcugwHrZ7Mrlx++vnisglp8P7DqIBURIBELODAzxXTuAw2b1BgTewLQsHZVDguDQz17p789mV7ce/P5Fn0tID6BTUIG4+E6bEhJLwuvcUnSjAI0JYBE9D+enc6C5IZnUBwhgoAmOuXgK79O6jirl0PA9bPZlcuP31ssVkEtPh/XiSwTfEjUY49PxC+mpD5yflDvCfBo1QRPEoXViIHDqI+Ne6e/PZle3Hvy+RZ9LSA65GLsyjMogLEYvlDLxQdA/VHq7WKAOUQABE7Vw6AcEAuA95J5fuDjuyD+XrANQdiGQ10eR5B51rwFd+ndRxVy6DAetlsyC+AeDu97FKUpBGWuMDuswlp8P6xQjP8WE/AKHUsMyJXlNoMZgxT149jH/pQnb/ACEH1rp789mRgYAYE797GMYxx9TTB2LPpaQHXLTTAUeExH/ioxHuxd+ARLl+0JwEnzwvMoErIM3khL9jIwqhFP6j5tiQrmaETQKB8DWvAV36bA7IcVs/97nOc5wdVccgetTZXqO48YxKd5/pVqq1VaqtFDbwbhZhLT4fWETFQFqYQ7nBETHSJRGBMc8YxXz2EPBDdGcB1J/Cg4F8AFyr9EIQYBiSBTCv0HhRUDRBlSDigyNNh+BVE+PCcFIGaLgo5wQWKIJHyUVyL4Frm1rp789mQBgxcvureWz8rZ+Vs/K2/lN85CssDvsWbS0gOq5DAAOScFXbKBYZBV017wz3BZRZyzEZnlAOteLpEFh2mBQLZaUX4oLRIfgBvz7fEiOATp50QzbBDpMNHwyTJkAWNMHvW1rJRxgR+hQG4D1pQIYHqrwFd+mAEMAjjiSBU/zdxCEIwqMELIHrZbOrpx9CGYS0+H1cQJotKqjEpUFUYwuJzfmgw2EiMAERjBi0sd/lECRoTybwsAh9ayJRgAxTl4OTnf0VEEYHQLx/VQCB/Mfo70b0gil49UyHkCKZ7LBCAKGDgXARwUcCg1IfAnr/AEYAXJKjPr9GBWB8hYUd0ma109+TzK5nj35/Is2lpAdWMTavBU4UbjGkmAMT1hemqCEA4sTpMwHiuTEwx0Mm+n14ZBxUPxQpNQHaf0EOaDgujBfYAp+EMPzUEeRLkfCockxOpGCGAMEY5nRrAoQJIFD5me+rbMDVvAV36dzHFXLocB62WzK6cfvziazCWnw+q1BYllIgwvUD3aYLpwWkmGAMMVgvCrjoj0oBqnoJICSyLEY0R+JbD9Qw4YAUAVgxYQRDQksXk1A2Zg+hHygDiEbn1wTR+jlMYCj8QqgYDBiQg0k5Dkof7BzzURwJflrXT35PMrsePfn8izaWkB1KPvjzovl8tiwJ+MYOg96MQxL8iW/UBaP6Yh+omRJxL/TGAIXjjsrcOgvBAohD7K3mQUmh3WaSZtG6MfpnIG6cNxEmDHAZ8dW8BXfp3McVduh4HrZ7Mrpx+/KJrIJafD6pgxLxAv8AiGgVbdFRhJLuoKourKMUbMEddT9TkP6MsRHogUVo4Ugj4SQ+DCi6IVDcg/EM+w/EEELk56Sjs/luZPAIHMTF3/EGgQfdBmRyhnTJDjahEP8ARGmPDCLAQEHQBrXT35LMroePfn8izaWkB1DVIN+TUOwNHr/wQEInEoOEAY8MxuQ0VxWxiU3sqeDAeKNHi4KiSCHT/aCPmnwoqedCyt5BJWzMJXUxJFHVI+Cf1CAOc/Ipk4lkxmMHQTjuRKJSQ5ggsKMABkFyZCgAYvFFESg3iEUCaIegIHgmo0AB8DVvAV36dzHFXLocB62ezK6cfvyiazCWnw+q70cUwQyZPrZwBqcqkIoDgE5sxMQidPJMk+DqJMloYFvyUy95dUYx+CBhZDAJfn3XhR7B/gqUqiuOSO0iRxQg7vKI8EFEuDEkNE3xWNEWBOCBcgIZUBuWRWnFhzdAj5TrVqQYZS6o1HM32zavlMoIwaMClEhNgPICa7WunvyWZXQ8e/P5Fm0tIDqGqbQGdHNzInUBuXTijsWGGeVRQLUEiCXEMUdlDjAu25s5RPPTL0T8wRQT4hAMIMiN7vqLCAQSapw79TuWioTA/CRwOjaCOH4DinKJCE3QAiNsIQmzxOmUgEgbz9EIOYzNhHasxvGQ2TqsdX4cixyT+r8Ta18Cu/TuY4q5dBgPWy2dXTj6EMwlp8PrEBmq6CebTseaBsPEhGKJMJHCcENF3LCZEUcqjJgO4gEx7TrOJTIQxz3nPxRb85bBHgFBYonLlWL+EOgCgmCCg5Im5QUE4vlRdBNAdgVJkEKkjztsVd1oANrXT35LMroePfn8izaWkB1XIoVuH63kGiRikRigBi8IHpOpiUTakT8xwRR/zuLTE5wQRKFa5IdiGKiFDsP4iQpEQQ4Mxh9iFIJyzfY4AhgqAr5iEWQAo4Vx/nWvQV36dzHFXLoOB62Szq5cfQhmEtPh/SOs0IAjhEIzG7kCLwQkqGP2OieDfVRUixXh8wfB/UDCwY2MCm+2+m+o0mV5wP6oi4m+A+f1CmtdPfksyuh49+fyLNpaQH0sEvzToahOr5ANpEUKIsFlUh4pGNftnKRvWTEZ0kw3kdzzlgTXYbpqy+EhoAlPqgpGAAASCOreArv07mOKuXQYD1slnWPdjhFSIoHzOSyx+LLH4ssfiyx+J6nkclGzTxQFmEtPh/TM+0tJQZwQo45RRPQn7jjYDkqCDo+bvC+0WKIc7rte6e8SRAOTxiAhkuNzoslfiyV+LJX4s9fiy1+LJ34nVdIyGyy6WkB9IId4CKYsd+KcJwnCLfVdwcHKLVWIntJ6YVc3ZAk0zMANe8BXfpgLMgsPoBWmany8lkj8WSPxZI/Fkj8WSPxACpC6ED1s9mRRSQtWM6sIrAKwCsArAKwCIBSsBGKyCWnw/wDRunvIBDFWTVk1ZNWbVm1ZtWTVm9MD6be5eArv04S7DinNh8KsorKKyisorKKyiLEigCB62ezK5cfvyyazCWnw/wDRun2gP8+8BXfp3ccVcOhYHrZ7Mrlx9BmYS0+H/o3T7Un+feArv07mOKuHQMD1s9mVy4+gjMJafD/znNLYKPiNzFNU2ML0E0tMHPs0TAXDmVd2cP1L/pZPTgmP5t4Cu/TuY4q4UO8wPWz2ZXLj9+WTWYS0+H/lOpUgTMQOL2KaphCyqKjGIpsEBL39mVEKJxfgq/RfoX/fSaVWBH8m8BXfp3ccVcKHeYHrZ7Mrtx9BmYS0+H/jFmO9RN+6WPhRLYBRnfRulDGGyQ/jtThmFEYu5kePQfqX/XS22wDfxbwFd+ncxxVwod5getnsyuXH78smswlp8P8AwuI6JoLWJR8K4AMmdsbhQ5ugD+e2lGYU3ZkyddkJKjxa3OnYqQN/BvAV36dzHFXDoGB62Szrr1kcSbh24gAdGpq+T1orMJafD+9fBJTWQsfwTd8SZNZGOorqAf1whD1MIZB84qxIMhQqh3uiTGuh7t8Cu/TMhkPAcU2SAYrNTvV3q7xd6u9UNsXCJ0D1stmV046jO9RmfKjM+VGZ8qMz5UZnyiSZxLT4f2jIjcjUTPMQIePRDcU2EoNxXeJv7+OfNBhZ9iolYMgQ8kyxN7lfqA9m9BXfp3McU6rhUZqMz5UZnyozPlRmfKjM+fpgPWy2dXbj9+eTWcS0+H9YyA9yJNLixJBsSAwGBTYWmiUPE7G/8Px6xPlZiL/kuSeINiS4eYmTeneArv07mOKuPQYD1stnV24+gTOJafD+kfAcZIThMz5JoJCQwUYKZqoOyZA3qgQCoDig49Yux2ftEDJNtmgcBAmw31SIDBhwPfu1Qpzi2JKBwXJPBhMVX9bPRvAV36dzHFXXoOB62Wzq6cfuP1TOJafD6w0SGSXiLkgiDTEMFETmSqCsmQN7gG7h6ocyCYKKgAB4lQxhnNCKCsgmCm0HcqGdGKvgCiI2BUujTudkJAOSwR1ogjwBYo2x7Y/ZOYSMGK6IKIYHxECCHBcJloeqHMgmEAcgBugVr5CIXR3OgZycTFwrsgugDkAN0DNfIQIIcF1Q0hUAV5lViPchPTAowYhibXLkgIwabFR4hrmjal4Cu/TuY4q79BwPWy2dXTj9x+qZxLT4fRYlO5uwUW66TQUYgh5We06plUkA3vUUHa30ZDRAJoP8o9RgA8BB0WOBUe/QAIkZV0RAKAQgvtMBwo+pwRoUZ1U7eKvtCLIA4OAJGca/BUlBvto+BrVChCQIsVCILBr1Uy2+UCJgAoSSUapbipB0aYTWTC7htdAhxjAjEBCDExkcU+QOaMCWgqFQrIaAOjvBHYJgYf1I5UvhWyOmNp/4AZhUnE+l1lljvmQqmNzNEWYpjRvAV36d3HFXboMB62Wzq6cfQJnEtPh+58V2CjI3dFN0xga9ee1DGgMB/CooDTgiIVIFIEGqNmAQFb695hXP+p5CExqye/nCIg4G3QA1keD6qgtzfSHBAXA70+wsOAYpxUI/Eg51+LMppkYBfBWCGBqoxRb6IDDhMtx+gBiJmYFXtxROEMWN0QkKGlu/05bk/CvVZ9L+LsTgHT4S9uZNgujJ/VJmZOjAkEx23gK79O5jirn0HA9bLZ0fg4/flk1mEtPhvoq7JAmIjMXsU1TWBkwOYoYiamAYD+LVIM2FZpQpgjMQdDrTEIwOiCoJJOgoxHcJEImqBVVMbFCx7U8SikJZABwZjDsQMFBJmCivvxKYwi4MUFgwMRQps3QoIZGi3jPsgvZScQgGDI+gjQyTvIMbRQrUwwagyH0h4AEAiUNbwn0Eh3UpoHA0UwKDgBwBGFp6qWesE7mIeKMNzptUPNaBkf5Oz2AUdi/BDYxGAP1Sd3OntwTCvgV36d3HFXfoeB6xnEBjJwyeeQzqefeksktsk5nQZtSLTtaY4WLdFMr6N0oUAwEv/b7eqIUcWOhBCUBtMacCBh2QvCgw75775JJI4BIA3Aie/wD9qTIzAHKdTnYD/l/lEJKhpG6Ygkx9pL/PaWIY4qZzYTof4sTpWYBg8KgYQECMzr+qOxiZ5CESnzTDcowIBmGYhTjG4hOz8OMJIOV+MDuj2QcuFILDKTwW2WAdRvCB4YQVYgoBUQiJDZ0bCkwaHdUMyAQ7AoH9IROBMIHwsHgm9wYnHj0RUkeGBCCAT5hbAPKd5mxEs80foiLeCQkLkNtg5sYIl7oNU8Jr2nJPr040nUXKYAg8mUAz4RGsQmMEXIBgq6nObgpLNA2wbIjdDQ6YOJCAsQcDd06SjYO5D/FogT/ZAEUHBTUGIiZOggSEYeEXcIIDUBG0N6rtRFoADEHFDo9JrBNfx5CxSUjrvlCASJJkUlnO6DoojYXUO9MMQsbWdCy25QwZTIxIQzV/6ziRXnjXGcQnzGF0IqfuJ6qpnNiC4RHTYgkqmuER7GILAI1OyCgMeCPBEPoAD4+8O9scISpbKunhv5Np/wCBxt8mGhCE39RiEEJoA726DMHjCApFA4oHbOGDZOSY48d0NkNvX9FFW4t0LiiLTYHAO6gPEtgAaunPC0T+FCB5/gUTnMIiL5QkMdIeMVj8AwPFv1FmMUUxmj8OASdLpTFEomB7A2i0OSKfhOR9CH8nkAoFeE+C6IDaj3wRGBGINFiKbbI0QU2sCDDkhLpAYIbW6e+oUyEEPrCEaLFn8HOqjuNRBPLOJryE1Sm0DUQnSYNo1Myj86A9QTFAe1I97uSAGxYJ4QYkuhUDRbaYRIkASMBFApQxiLdJJAYQlCE6kVYlvPEgmFxJZkOBjFym6BYGocoMSywLH/AmSTAfRqACmb6jQH+mBqhSAPpkkwTJJhJCkB9GoAP0ySZvoniQKciw+iBqHQAUH1GgP9EDUOgFAb6Ji7HUR2HeQAYiBTFAlkCiCIyo+CeHDQymA6I2bHQZohVWO9iKITzQjL0RKYpDFFuIzMnYCcVFEQhiQWRbIGJ+yg0QyzALJWsLCAQQcTmb/LM1mhT6C8cJXXifcExOwJCvNZFsiQoiSPCu4RQ0yWx+Y/5W8TwMDoa0QFhQRYoedynlT98lG9VO4OOW+Zp2S8BgoJ7rQCwFqCIPNUWdX34gZO+ItNBMC95HudxwgYAPKbfFTSbdWDgiK8cwgBIf4aGpF1tRC0HD5D1yEjAICZXzx4L1GYf+JgR5QOBNGyO0eyCQXF9FBukxYI21sDM6st42CMDO7xPwBVEvVsBB46IzRgaxCKXmxiA1pEOkgbJAKCC/1C3yQ7nS2HRFFZG7OP8A5ZdPxZtJHuDUkgX5LL9UTnKgKAzepWCIIwDghTAslkWQTK4pciszv/lhACQADEo5xTDAQRLwSLYoUXzHGeqJCdAixRWcQEIgn5w7gHYOYo0UTwEDKeGcWo3yj2qAJApnMkWMESiSRBKiigeBiKuIgThkUPFGKjju4g7t/lYOHAxH0R1OgkigB4RUbJZJR+RQzhA6oGQaVKxfb2aQQOaAGCIAEDg1Cfa6gQfAVAZpBYAfCbsddkDwDFFcht6UD/MBmYWcYhO/K3ledCAbgD7FhlYZWGVhlYZWGVhlYZWGVhlYZWGVhlYZWGVhlYZWGVhlYZWGVhlYZWGVhlYZWGVhlYZWGVhlYZWGVhlYZWGVhlYZWGVhlYZWGVhlYZWGVhlYZWGVhlYZWGVhlYZWGVhlYZWGVhlYZWGVhlYZWGVhlYZWGVhlYZWGVhlYZWGVhlYZWGVhlYZWGVhlYZWGVhlYZWGVhlYZWGVhlYZWGVhlYZWGVhlYZWGVhlYZWGVhlYZWGVhlYZWGVhlYZWGVhlYZWGVhlYZWGVhlYZWGVhlYZWGVhlYZWGVhlYZWGVhlYZWGVhlYZWGVhlYZWGVhlYZWGVhlYZWGVhlYZWGVhlYZWGVhlYZWGVhlYZWGVhlYZWGVhlYZWGVhlYZWGVhlYZWGVhlYZWGVhlYZWGVhlYZWGVhlYZWGVhlYZWGVhkQBsOwJ7LG8lY3krG8lY3krG8lY3krG8lY3krG8lY3krG8lY3krG8lY3krG8lY3krG8lY3krG8lY3krG8lY3krG8lY3krG8lY3krG8lY3krG8lY3krG8lY3krG8lY3krG8lY3krG8lY3krG8lY3krG8lY3krG8lY3krG8lY3krG8lY3krG8lY3krG8lY3krG8lY3krG8lY3krG8lY3krG8lY3krG8lY3krG8lY3krG8lY3krG8lY3krG8lY3krG8lY3krG8lY3krG8lY3krG8lY3krG8lY3krG8lY3krG8lY3krG8lY3krG8lY3krG8lY3krG8lY3krG8lY3krG8lY3krG8lY3krG8lY3krG8lY3krG8lY3krG8lY3krG8lY3krG8lY3krG8lY3krG8lY3krG8lY3krG8lY3krG8lY3krG8lY3krG8lY3krG8lY3krG8lY3krG8lY3krG8lY3krG8lY3krG8lY3krG8lY3krG8lY3krG8lY3krG8lY3krG8lY3krG8lY3krG8lY3krG8lY3krG8lY3krG8lY3krG8lY3krG8lY3krG8lY3krG8lY3krG8lY3krG8lY3krG8lY3krG8lY3krG8lY3krG8lY3krG8lY3krG8lY3krG8k9ZCGdv/zt/9oADAMBAAIAAwAAABDzzzzzzzzzzzzzzzzzzzzzzzzzzzzzzzzzzzzzzzzzzzzzzzzzzzzzzzzzzzzzzzzzzzzzzzzzzzzzzzzzzzzzzzzzzzzzzzzzzzzzzzzzzzzzzzzzzzzzzzzzzzzzzzzzzzzzzzzzzzzzzzzzzzzzzzzzzzzzzzzzzzzzzzzzzzzzzzzzzzzzzzzzzzzzjTzzzzzzzzzzzzzzzzzzzzzzzzzzzzzzzzzzzzzzzzzzzzzzzzzzzzzzzzzzzzzzzzzzzzzzzzzzyzTzzzzzzzzzzzzzxBTTzzzzzzzzzzzzzzzzzzzzzzzzzzzzzzzzzzzzzzzzzzzzzzzzzzzzzzzzzzzzzzzzzzzzzzzzziRjzzzzzzzzzzzzzjQTzzzzzzzzzzzzzzzzzzzzzzzzzzzzzzzzzzzzzzzzzzzzzzzzzzzzzzzzzzzzzzzzzzzzzzzzzzhARzzzzzzzzzzzzzxxzzzzzzzzzzzzzzzzzzzzzzzzzzzzzzzzzzzzzzzzzzzzzzzzzzzzzzzzzzzzzzzzzzzzzzzzzzywTTzzzzzzzzzzzzjjr7bTzzzzjjzzzzzzzzzzzzzzzzzzzzzzzzzzzzzzzzzzzzzzzzzzzzzzzzzzzzzzzzzzzLzzzzzj7DDbTzzzzzzzzzyiyBKBTzzzyw083zjzzzzzzzzzzzzzzzzzzzzzzzzzzzzzzzzzzzzzzzzzzzzzzzzzzzPsYvbzzzzy4LDCBTzzzzzzzzzyjYIJZTzzzzz3/wD9G7Fw4888888888888888888888888888888888888888888832ZY3hADX888884ICCAU8888888888oUACUU888889//AP8A/wD/AL7W6NuPPPPPPPPPPPPPPPPPPNPPPPPPPPPPPPPPPPM8woY4wwwwww1fPPPPKqgggFPPPPPPPPPPLAjiCFPPPPPPf/8A/wD/AP8A/wD/APzX3S+MPPPPPPPPPPPPNMPPPPPPPPPPPPPN+1mUk4gQQwwwwww1vPPPPKiAABFPPPPPPPPPPOGMsJlPPPPPPf8A/wD/AP8A/wD/AP8A/wD/AP8A/wD+tn3488888888wI888888888zzSSCjDADDDDDDDDDDDDH88888qKACWU8888888888ogACCU888889/8A/wD/AP8A/wD/AP8A/wD/AP8A/wD/AP8Af3+JsPPPPPKBPPPPPP8AQ4TOLEgEMMMMMMMMMMMMMMNfzzzzyiwAJBTzzzzzzzzzygAAIBTzzzzz3/8A/wD/AP8A/wD/AP8A/wD/AP8A/wD/AP8A/wD/AP8Ao/8APPNHPPPPPPOAgwQwwwwwwwwwwwwwwwwwww1PPPPPKqggkFPPPPPPPPPPLDDjmlPPPPPPf/8A/wD/AP8A/wD/AP8A/wD7/wD/AP8A/wD/AP8A/p/888JCDD08886KBDDDDELDDDDDHPFDDDDDDDW88888sgGOcU88888888888awy4U888889/wD/AP8A5x0976/8w1U713//AP8A+n/zyu10xFTzzyqMMMMMN/gwwMwkkVkEg0MMMNXzzzzyorDDBTzzzzzzzzzzwIILxTzzzzz3/wD/AOpKPysPcvZuUSHydv8A/wDs/wDPK/vfQ1PPPKgwwwwwCepsBl7zWHSvNgwww1/PPPPKqgAlFPPPPPPPPPPPKAgvFPPPPPPf/wD/AMyIZZBlUfpMTHJSV/8A/wDz/wA8q/8Afa/PPPKgwwww0kRFJ6pRGnJRCsAwww1vPPPPKKggklPPPPPPPPPPPNPvmFPPPPPPf/8A/wD/ALrr/r7XLX/DTb3/AP8A/wDP/PKG/Em/PPPKgwwww4MMcMIEcQMgUw4Qwww1fPPPPLFMMhlPPPPPPPPPPLEgAgFPPPPPPf8A/wD/AP8A/wD/AP8A/wD/AP8A/wD/AP8A/wD/AP8A/wA/88r8/NaU888qDDDDDDDDDDDDDDDDDDDDDDDX88888+4AAWU88888888888qAAEU888889/8A/wD/AP8A/wD/AP8A/v8A/wD/AP8A/wD/AP8A/wD8/wDPK/vff1PPPKgwwwwwwwQwwwxAwxwwwwwww1/PPPPPqgglFPPPPPPPPPPKKgABHPPPPPPf/wD/AP8A/wD/AP8A/qIf/wC8j3//AP8A/wDz/wA8rW999U888qDDDDDDDEKBDAroDBpDDDDDDU88888+qCCUU88888888888m26gU888889//wD/AP8A+73/ALnPPsuwv/8A/wD/AP8Az/zy+gMMRzzzyoMMMMMMVg+IMaISJ0+EMMMMNbzzzzzi4IIJTzzzzzzzzzzgoAIZTzzzzz3/AP8A/wD8yO9oZGv2euor/wD/AP8A/wA/88/299+8888qDDDDDDI32wAIIR8FkoDDDDDV88888qeCCWU8888888888ooACWU888889/8A/wD/AP6EHxraUQlNp1//AP8A/wD8/wDPP1vff/PPPKgwwwwwyC9g7vpCPtfiQwwww0PPPPPKggAlFPPPPPPPPPPPIggAlPPPPPPf/wD/AP8A7rvDnL3Qae1F/wD/AP8A/wDz/wA8/X88+8888qDDDDDDRBhEKgLzRFLqDDDDDW88888oICCUU88888888884AwwgU888889//wD/AP8A/wD/AE/2z/72337/AP8A/wD/AM/88oNvNIU888qDDDDDDDDDxSABhCBShDDDDDV888888ICCIU8888888888oyACSU888889/wD/AP8A/wD/AP8A/wD/AP8A/wD/AP8A/wD/AP8A/wD/AD/zzzzzzzzzzy4sMMMMMMMMMMMMMMMMMMMMMNfzzzzziQAABTzzzzzzzzzyioAARTzzzzz3/wD/AP8A/wD/AP8A/wD/AP8A/wD/AP8A/wD802aX/wDPPPPPPPPPPPCIDSQygwwwwwwwwwwwwwwww1vPPPPLAgggFPPPPPPPPPPKIAgklPPPPPPf/wD/AP8A/wD/AP8A/wD/AP8A/wD/AC4U0Pc88888888888888888sdqaCHBDDDDDDDDDDDDDDU88888qGCACU888888888880AA4U888889//wD/AP8A/wD/AP8A/wD8M91/3PPPPPPPPPPPPPPPPPPPPPPPPPLLui2zwwwwwwwwwwwx/PPPPKrMMKFPPPPPPPPPPPCgghFPPPPPPf8A/wD/AP8A/wD5/vlfc8888888q08/888388888/8APPPPPPPPPPPLDWVujhSwwwww1/PPPPKqAgBFPPPPPPPPPPPKAgqlPPPPPPf/AP8A06a3vc88888888888QQsB9cX48swkFUUL5e888888888888sdKRuFCCDU88888+CCCGU88888888888mOMWU88888w0IVPc888888888888888PhKNQO+k8eMSm7mUr88888888888888888sNYCMY88888+oOMeU8888888888sMuMu88888vPc888888888888888888888888888888888888888888888888888888888sde8888s+Oeuc88888888888888888888888888888888888888888888888888888888888888888888888888888888888888888888888888888888888888888888888888888888888888888888888888888888888888888888888888888888888888888888884y888888888888888888888888888888888888888888888888888888888888888888888888888Mm4SEiQEGkeCqW8KwC888208888888888888888888888888888888888888888888888888888888888888888888888QoIq8IQA6sWAsAI4CA888aA0MqAg+88888888888888888888888888888888888888888888888888888888888888888sMsMc88sccsc8c88M888qyQMw0UU888888888888888888888888888888888888888888888888888888888888888888888i08888w88888888888sG8c88888888888888888888888888888888888888888888888888888888888888888888888QYOmc8W28888888888888888888888888888888888888888888888888888888888888888888888888888888888888muAukCgc88888888wwwwwwwwwwwwwwwwwwwwwwwwwwwwwwwwwwwwwwwwwwwwwwwwwwwwwwwwwwwwwwwwwwwwwwwwwwwwwwwygwwwwwwwww088MMMMMMMMMMMMMMMMMMMMMMMMMMMMMMMMMMMMMMMMMMMMMMMMMMMMMMMMMMMMMMMMMMMMMMMMMMMMMMMMMMMMMMMMMMM88888888888888888888888888888888888888888888888888888888888888888888888888888888888888888888888//xAAsEQEAAgIABQQCAgICAwAAAAABABExIUGhIEBxMFEQkWGBseFQwdGQoPDx/9oACAEDAQE/EP8Ap2C8f4Dkmb1CcIM0JqMUH+VBdEzT+9fzHYDxucePmacj9TN3/KPTnwhG6ZjNc5iD/Gguibpf4mMDnN3Z8zGh+o4h85u/5R9HgtPdE0hqMUFy7/wgLomaf4m4q5zjJ8w+iI+8u+vN3/KPqUZmeJjVzCamoDvQXEzT+9fzNwB43OPvL+ppwPmvSzd/yj2ItVQ2t5rDURoHaguJln96/mI2R43OLnzMPEdzhUr1s3f8o9plCqqnuqYDUxB6oLomTf3qbwDxubL7P6mDiGobzKrss3f8o9xdTlj1Oeg7jN3/ACj67ov0uWOgSwifDnPxH3KUdPNxfW16Wbv+Ueq4Iy94lksg3w+KlS4U1UdMG2WS+lnLHyZjDqBcIexLR0831hC00PwJUsTUp2haU4tStRdtSqUyz4dNdWbv+UelySxE3Cc1I0nCQ0tEqLt7QoHLPwgZnuFX6icS1LLiNErTLibqAIFPvDG+nlj5MzH6C5vqYGHGBA8Y5rTxQkbV4zFOy2JrBxlPfsTNOBU4ajHvPaK8QwdHGsxlSC05lBKnMs7sOOrN3/KPTrjBOJTKRLkTZCGw+5ZbpjQbleZVjST3iSiBSzmbaWyOnmBkPuFZG5VI6uWOjD6A5vqKJusxam+ojmk94Vinwgv9twRF+pa54OEWk4nmKqX7HCI4oYRXn3lgN/eolQaPxG1PVm7/AJR66CAPi4alErVSvkJsjvUAMdXLHyQ5tn5E/IiiX0831A4JbVStVBcINQYAUytVHZUozDUNR93Xm7/lHueWPkzHr8p6Tm+5Zu/5R7E36HLHyZmP0BzforOivUzd/wAo+poHRKiaD5t2IVFvj6HLHyZmH0BzfoAthFDcx8GYEH3q4xrh8PrcRs5zlV15u/5R6zMNwNTQmpcIHnZj4ECXFMch4hmldfLHyZjooPuX7D7l+w+4tYV56eb62IqG2vaLjgNRJmMTwIKuLuIFspnKJ9lQUOJY4683f8o9d7wIxLXmCDAKgBS1DOuM1ElL3iOeglG8NsrAVFLR9fLHyZmP0BzfWyNQq4q3K1cWIFkajoNRVR+IK8MEWjWfxfaAOBM/QGbv+Ues0+WbbSLTv3gCW3iaswRKZW1iIDaJpCj3m0Yy6Vk/PXyx8mZj9Ac31gkuuHGISmpkyYNYOdFDra7lCl/jEPbxheR/EdOcL3JgUdebv+UetKsluWGSl9FriLuRuPsRaHMV7y42zERVlxG63r5Y+TMZWXL6hzfotiHZ2PmxAbGCIC0V+ZiazB3ZGi3CMjxggdebv+UfRqV87jKV8cZnkrr5Y6KYHOfhn44+Lp5v0goeEGolxqEjuVEHTAYehm7/AJR7nlj1Ob7lm7/lHtLhwEx32iP9U2aX5gAUeoYSkmvp5f1HZDxuaqjzqCJfa5u/5R7EFaJjvtGf6pkS/M1wrtMrE4EfMzEeNzXD+9QR2PY5u/5R9UF0TGfaK39UyZfmYNXeZiJrqPmM0h43NeP71BvZ6ubv+UfR26JhvtqI/wBUyZfmaoV6NZfE739fKJp6KTqBcetlYnCjFuLxMe/vX8wRx6Obv+UejMBWiY77RH+qZMvzC6Fetz1xFUZ8xuWgR40/iJS7BVax73EZ1/oXh/ce+F0lfxuP9sT8lS1jxGje3O/jNrdJWH7gbMW2zBmbDbF7MnGpVLTZ4HCxUNkOzFYs3FA9C1Th4giWxaPt7n/ELmAqx/eIAUG/WWtCcOeX9R/A8bn/AM1giWfFV85u/wCUYJwTDfaM/wBEyRfmYpXY0kZaN/mV4F9v44U+3OCmyAfnV2sWsbRPc97m0EyXs99cfxUuUbQlu9PH8w0ZorXmo5U2Ccb3XwE3VzNk9gm/p/4gBW8FO39cPzcCMEAR1jiQcaIC/wDvGWo1Qv59/HCM4KlAN/tjho2Uv39tdnl4moR5TNR43MO/x/MAzN36ApmrFf5zMxHf/gJ//8QALBEBAAIBAQgBBQEAAwEBAAAAAQARITEgoUFRcRBhMMFAkbGB0WBQ8HDhkP/aAAgBAgEBPxD/APDC5ZLJZ/g1Bbt2S5cs9plnteaIOdreCK4GMaiZB3NUP+VQLZpbfIz+JjE6sf2Yth8H9uJWnUs3A2XSINXPJPJMQvtHdp7W+Ede9TRxnEBMo7moH/GoFsxY3yMu6Y1OrB8v4mGqfBn7tzNJ1LMiHfcDZZqfoLVmvZ4bW+EdfTAxwzKO5rB/wqBazT2/GfxMSnVj+zHsPgz924yqdTLMQ2tZuBsuk1d37VgkvznXADbtb4R19mnDOQJlHe6ZhPrUC2Yw75GfxMCnVj+zEIPg+W4tbdT7dwNl0jZvvqW9uDjtUOF7W+EdfoNFE0jEzjvdMsr6VGSzS39Z/EwLdWP7Nfh8Hy3HbTqZlHlK924Gy6TVNO3J9urusNrfCOv0ZjSPWDMjhMo7msHtUFsxh3yM/iXInVg+YTVOk/tzVrqYoS+z9BuBsstbM+81sOww2t8I6/Ts372bh8nbSXL+l3A2XSLl+gFTctziucQNrfCOv07N+2EqWDcd06n2lMbO7fJ3rYp4Hozy9W4Gyxsy3OdUo9rXDssNrfCOuzVy0tHxKY8j2uXLKOcyjhhltpm/d3SWOZfNL5o2zbl8m0tRnQ0dSYdaA4okKYFxUuWXmUPKRMH5lquJQTG3uBsuktcqV7jjmjsMNrfCOuxVxQSXfYF+IzILVjBdWWoYy0ehEuNVVOSQgENNxQmrhAN7INKXLTeIt7DN+7uk1fRty+TaHKxgOnWZMcOaBPGOEDS8tc3hKoaKrw5V0i+qx4hfODZbyFDHdxhXKeCGHMLvmcn7RppzkujxcRjYWaprlCSDptp1zEI0WrtZwxBKVoFhvgFohS/ltbgbLpHX6C1M0dlhtb4R12UB4ThjFMWGNShldmTWGgsC5aMKTQTw2XgTEADSW8GK0jiUvhsM37u6TU9C3L5No8icp0vlNEcTUfxD3ONTJnRg/t0TTprGdolTwfMSSaYBFXg40ILw4ShZ4dItQ4sN0eXSGADhLQnWD0aSz86QhgtyvF9ZXSVwBFXhpwgylKWkd1w2twNlmp+gAK5lYrzgAztb4R12RpuW6drZxuOZUHg7ayiW7Xss37uyywnhTwYNgbO5fJt3KXdRziDRUvNxzDEW8SpRDEqXtbgbLKTl7iEYPt1w5y48NrfCOv07N+7ukOUrsS7Z3L5PqdwNl0liypUw9rjhpHEFja3wjr9BWL22b93dJqejbl8no19C16dwNl0itvc+1xw0iTQ2t8I6+vJGWAs8vejBmYccIbTN+7uk1fQty+T0rEaZxxj2C2oHhwA8HPryjXDsSAIcHSdNL5uJ6NwNl0i5e59oNWzHRlPVlJp2t8I67RMgZmspUFRoXlHODsoRrbOyAkvhKgbTN+7ukF9rK5n7SuZ+0OQb2dy+TbC9ITRtoKlj19LmHa5NLL6RA8MH6ioFrNOLlxhq1wHHrU5aMnzHDt7gbVWzKmueVBXtxYRQ4bW+Eddpw40MEfaOOdl5VQjOvCZliaxDXK84xHHjMIrhuWjtM37u6TW9C3L5NvRz/OKlm6H3xNVaLf32FTsFnrwg+0/iNW84I1CURlpb/oIl12WF8prbe4Gy6R17v2tTDSCOhtb4R12k5Uiyhh8Ryln0TqSVTnLXkHMi4hccxO00SonjaZv3d0mp6FuXybYuOcLzgKCnAN358Eb0KoDeOcBvoOeB5HOAqUNcleeUuXRa++J1i394MUzUBqvTlMyryOp48eIVPFQ8+axcqKi3nb3A2XSOvc+1r76G1vhHXaAUwPIRayJAxxlFJ970rCvKL3UW8xUaXGFdbTN+7ukLaZ5TPLaLcvk9CrrLRhUecWIfh/MP55zVORyIcRBr46PHwwwitVcChawwe3l/H6hpt7gbLNTL98oLHinijEU2t8I6+ixFuDUodYQrsJfbQ22Zv2wau90rz3QBx3f/AGUt92zuXyerhPK7XiN2qdIt9gj0kcxdsm4GyywczwzwxmHt13CYio1tb4R1+nZv3sx6XyfU7gbLBllMp95NI4mhtb4R1+jpjhbMEwSWjtdIqtvsRja1GLWV+HH2bmWB64/sAtf1n8SkadfpdwNlmr6COa76AbW+EdfoEGWa99mYT5JhRrpM0r+kCoOoJnyvw/DczBeDj+zKLXMyboopKfodwNl0mru/aQmL7iITja3wjr7FAtmsW6QePuTR2uk1Ff1htD1EZbX4cfZv4meB64fkh1vXjP4iKtr7dwNl0lg5lThEcoGA+gtPa3wjr6EAtnNHSf1U09rpM0r9N2WcGO4jk2LHaUNfcFQdQQrFfh+G5kifDj+wS1/WfxcUqSn07gbLpBl74j3VdtPa3wjr3qKapqUE+aaO10maV+3X04A8NdunSKBwU8WQiSst/uXhlPunOFugMZ/MADID4zKMHNnwaY7YQrjFCsMYdeEaTKwxwZnhZvJyh7KWMOt8oRTk0HmDhKws5xz5ctYlBSvdoz1EzpX4fhuZ8OrH9mrr0z+IiqKdgm4Gy6RZ7jD2iAlTS2t8IBlZq32QnG6zQ2ukzTv6G0UaRx4ljTXB542c4u6Cr96qEQlCP/yFixo1h/fCVoOhmjGeUsl0gX0hqNBvhWL7OpYO5nPTH3IhwXjZp+/xUSQS7E88I+DIihOJGwPEARANt4/Uvpg0X0+j0O6gmSK/D/bmQHqx/YhlrmZN1wrrBm4Gy6RMypTC09quanhnjnh2hVZNaX/zmhXUEACja8M8M8MMgP8A0HUV/wCMUIqz/vOJsC1zM18Meb5QUhS5laQKOMCFo8eEGLEXSACEhHBB/uIZAad3WICtjWMwaYCNS8IFwbIiKOhlhQVbcYBSt8QEnM/Gxrrauv8ABXm9aqWyoJh+IVBKFnzOJqn2nEWYrjAK8iMsV4L3mIjEsmOD+vMSYfW/tALmT7XGajYwecxECtRVwAnh94n/AEzABW9Kvj0lC43khAcX42AQBLgxLi91quDEIGAZ1EMg1rfDBSl+Jaub/LUNvJKUVHT+w49VVw5xNczw6S3YNv1yjiVZW6IAaOTjNZ/hr0wtu0CB4+02Ct/95f4odFZCYbTcGhsq5fOi1wlxurP3UBmGN8Kq5vxAhS/5Y8K4Rz4hkrHXjBp1SVEMFzxl4ubW9YbxxX7qPhVn2iVOv+YSymK2a/8AR//EAC4QAQACAQMCBAYDAQEBAQEAAAERACEx8FFBYTBxwYGRQKEQIPGxUNFw4WCQgP/aAAgBAQABPxD/APYaEdgJwjLhhPj86AmYE3KsF7OOpREyeVNUc+bPgKfkTFyaoKp/xhW754DBjhFdelRGrd+Pqcy5CHicRincMCvWkyHfUR6/NuWQqIcvfEHevsRZJGnVZDl6VzR7OsmY+eI0rpSKQhP6PN41o2+KN7KJ4EGrWTvWRLg/4su7xsbVVwFbfhirEOQTLGWVnShJO1SrJTgI62PKRqQOIDLRZnPzczjC3IOpnUKbyRC5SovVVXzpZv4MrS7SntdTUCQtD8mr2YU85zLJZoAID/irNTPQA1VpeeujFwRpAYjE51rtXEEtR0MoYDWzhROyrrqlOepi4P8Ahm6pQkMQlHo0nFWYSALvA+/zQKECEMAD2mXsNHqNSGnBqyQYojyrk+mhrBbRDRS81KlYwTJMygHJOkGlxMZjMf8AFWnSzmEMJkbg7lWKK5YUJhoDlBPJqTVKaafDtA9rDOlnhyExQarShLMfACAA0A+adP0mIuMo4D7qnQMVtCkADA6Mk2A4AtWhABhrAk1YcHbAlnrqQRnBTXKziDLICRdI6H/FibdSOBTvMVbPQYjUGULJEEa0iY+iGN3rGiDAzOj3l8Fb0irGpDkMeSJrY+6cIEDtM/NwTP2gM/8AF3QczmKI4CxnOGsbLRCBJBPKDzVeHKMABiAgO4zQygTfAAyB0CGCpn9CuTAAQkgRmdZ/5tGZz9oTOfj/ANTJaveglX2BuRUciqGvx1/er++X96v71ZdPiKmghLGUWewROR08NeMwKQUcSXlP/wBy7MGsBTBkJE6nhhMCdAX9qo/+i/sF/YL+0X9sqf8AorkGEIUC/wAHzGaLr4Ktz/xd/U7+t39Rv6nf1uhjJQxhV2jh4ev49dzctqITW9SrG6iDpMuHpY82gT4NMExyIzZ/+vmv9UzBFmwVwM+taAdiHrZToVkx5zeo50nUscW08MTscLnoWSRxSefoL+kX9MsureZv6vf0ejQzcU26vP5jNBNPy3Hld84eHuO/4GkhLNFXZI3Uz+L0qhDdcx7QUDo+G/tNKiyBMzZ/+oQHmsILLC/Ef4NOPnbvo9bIdxhfy19r6UZqr99u5LtPHh7zwu3cfk6faN1efzGaCafluPK7pw8Pfd/AghSJ1L3o1/rR5N5PP3n0oYAdCPsFBLMAiey0w+UJI/8A0MTe1APrX3ogD+RTkI4J+A/mzIZx6has1DK5sv57dyXeePD3nhdu4/J0+2bq8/l830VJp+W48runDw9938FJoReEVEOCcUsWaJOPZrfVif4EQsuf/wCFBNzwGgm+1DNISSPw/wDme2cyPrUXp0GD7k0QsHUV7ENk5RhhD8Zq4/Jlz7WVckfZ5vAM5/3Fz3OPD2nhVOyx+euvdXn8xmwmn5bjyu6cPD33f5CXEMJS6vRDQ9nFEA3Vif4XlBx+hlok9jc/4US+6CD7n/yPY1SH1rE4aDF9ySmER0znsQ1WjhIo+stTLtUqfDSz9s+Lt3Jdp48PaeF3Dj8nT7Lurz+YzYTT8tx5XdOHh77v8oKZGIqwXQCQ9nFh4Y6f4lnUuoE+2WxoV6kvQvYo6H0/psz/AEZ0N5D+TWuotpe4RQiIGmA/BuLOsDHxSa+5RlGT4fKdXuS9dtPD2Hhdw4/J0+2bq8/l82dhix+Jdjqu6cPD33f5cA0opUqugJ9SLEAbAD/AWfP6uJ+LNyheskfcBe2qkPp/8CdPlR/K885Jn3iPrZZRMTAfVVejl8e6TWnN5gT4LZbLmy/KgZT9xd548PaeFng2HgZurz+WwhTFQVoURGdMZ7xerH2j/t/W/wDbD1vbX6b/ALf0n/bnj340ZcBcGTjXVu+cPD33f5yWgjsj6QmKsjCA38QmyoNqg/Fn6VFVqTo90iiQXkh9Lr8yAoAEq6FQwdJ3n9iTNESKbiOkjCuyDY/nBOmBSAXl6Z+cFWF4ihmp4qvvEVB7ug/k0bpyMT4JqE7LMtVY7fN7dyXeePD7SRPOjlgwMONdbmj341+k/wC39J/2zdPzNfpP+39L/wBuiMxEyCDPe9Xn8u2iA+hNRv8AVf2b7C/a39rf2taqjTXuu0cPD33f5/v9oGAGYT4JrOE6Gn2E0UVeqC85Sudxyj6RSpI5J/i6/KieUoB1IppAxUKcKizJBTPWKTTiznVI2TVOcTevVY2cdJlTgIM/LzVwsJYyzhqEFfrBZQBeQPYmknRgKPZmyYRmW/lV4+z87v3Jdh48NKSEz+yzf/xX2V+1b+1fsr9q39uqj0arfq8/ns1HHZ5XfOHh77v/AEogIdSD7FT4lEL6qCHc2H1iwwdNIKVIfYbPyLWw5UQPrmhJ0bg6YzqgzCFggMMa0jQ+T7VCeyYSlugSP8kVo9tJ49iaeNGER7mb3W8/8r5Y/o8dtku88eHtvC7lxdX4un2T9Xn89mo73yu6cPD33f8ApkHX7hj2Bg/C9ZlCBfVY47kvVF6Onv8ARognuSU+MIESkndOXURDqskUWD5zmWknUZMFBFXUg6QY65edcY4bEMOWUM2MycfIakcGCKOwlhCf8lTQGkke0NIT9PIPcveRTVmpPWkGKn9Jt3Jd548PdeF3bi6vxdPsG6vP5fNpfzHc+V3zh4e+7/1Mlh9i5nrXr56oWEPa6v4quBzXKe0FP6CgfBoRxSI4TwWaE08IjAYDXTpVdifJCEusJxBJmpJSD5T0nuYZnpFNM5Ac5n+JDQIjJAARLHXxF+txYCnsxwT/AJrgzw/8PWkPRKRx5zX61ymznWyfnOI/owse5LtPHh7rwu7cUI/F0+yfq8/ns2HY+V3Th4e+7/2AkJrUrqq63kfMsaHY+VRdf6/buS7zx4e28Lu3H5On279Xn89mw73yu6cPD33f+wNbu3B4CKYY/ITiaI6nV8PdeVSfyn+p27ku08eHuvC7tx+Tp9k/V5/L5i6dHSyc2Tn7Sc/Yul+9d84eHvu/9ga3duDwJObJzZObJzZObJzZObJz4Tjv/wCasf14Gfcl3njw8odoodH9Vh4/F0+yfq8/ltca4aRGXIiOScOs1BwxzM/GiiiydFHM7fTFq3MwysXbOHh77v8AOFYzK8J/iwJWsqH1p8iEt3bg/PWhwKXAx0xYghWOcMVJ+UuRLlyZKnr0ERjLmmiCkNJQfB2/ldXiArIXAS1CFAeqo/ipDHikdaZPmI/xYAR3n/lXhZRMfIbdyXeePD0isHo1oRhprMkYvgR8x+OvPPM61MT13JzmnLverz+XqLXvwPSwWCwWCwcWBI/au2cPD33f5JY8MIpD6WegH+K9zsJ7GctGNErK9IHyJrd24PARY4v3rPa+Sz2L5LPYs4mCvpWNm4eDtvK6vEnapmWBcQ6hGnWkr+tJkHqQelRWsZKHVeqqtGfEzGKEZFFGhyEkQ8a0xHQnpmTFGa6Pl8g432S7Dx4e08KW70oWFhYWFh0qgIvdXn860+ulUbHK75w8Pfd/EkYCuAWiogpqAU9qWExmMlCQIwomkAoDpIlWhfkqBvHkj7SWEXgJb0yUTCB+FJIUkgklMuE+NJChQ1QUPegpYbtLmetDla+iuoCv0quBzLowySC57qMMOCgqAZ6d7L5pkfRrWYAMxCQ0YJDpI/xWOzWkEuh1++vLEk+Ea3duDwCW0cvACNu4eDtvLwwKwE1yEXg1pOQOMtfK9GiMqZirFEU5GnU+NBSAZUa0yYKIAk9DNmjAsxEJ+GtByHmXID0WKrDhqjFhhAhqCQ96I5LEcJZDCEsE3qAFlcaPWkjN8gCUoKjVEwE4ugkGqS/SsGDMTFJcq6YbcbKI6JDc1PUVEXV4WD7pLvPHh7Twuycfk6fYd1efzrT7ou48rvnDw9938JsGQuaUB1L2LGyogBI6WIIREpVm6WYMicSQadaX2kCnZjCcAssFcDHUSkEZRMtz+pMB5CgSKWRE7yMwJxLQ+CUCSDvAC5ehXzIO7QMVl0AzTEdcIkzYRaKh9BGQZ1CgEQeAOeAtHQWC86fr480pPBUaMaqIVakJKzJVB0DqSiZ6TBETF0D/ABYNBgDqecYoRFX9Y0DlXpZ4DEEzgOoCwQQ50pa1lPohEZ7VqsIZx7GalAJYjvY4YMBmDJMBlEOvFS0twMo6dG40nGlRxpOQA1yAlmHsuYWg+KRWUIM1HF5h7YpCuB0sd7hZzhbhUAjBpXxqDg5w6ZXHSmPBNbu3B4BLauXgBG3cPB23ldHhLwYxAMqegVZ4wGLOcKYEhEpXj9hnMksM48nSngKATCAAdDjUbIsk0air9F0UThUkCRDVJQgsgIAJhAiSgBBidEQVYAgg+1bcApCZI3ysERCAEwEYRkwXOMVMVWQkRSdMUwV/gaBZlDVaN1T2b+Vc94SzC9bq4DLqROEotpOrjAFYyzEAxmuyc65fzMfEo1Rx8zQmOFWTBV4tmJRGDJHVZSkTTKPPhBlz+B513kjhW5S5qapjoFqrwXCv2sogegMBJTNedQojF0AgMHWwUEIZ5IBgCmMkUMttakBAPXVpeBnZmCJQEGtSGFFhMkIkqI0OKGIEubSU9vC27ku88eHtPC7Jx+Tp9l3V5/OlPui7jyu6cPD33fwu1TaQkMqk9qh/O3eax0ymJrHDGkdOkSkASSogatdKScEUaVbUqidZHDCrEeHX3qRcM8nNTlw4WJiFNy6TLqdV0OgzPeq9RMsTsT1mNc170caZUfZQ9cwgFz+qub4f5paKEMEmKdcqm8XYGEIa4sxAIWqQk8xL8bJPhWRF1VoH5zropXxKU3uFAXAjP0pwk4SXMBDImg6ogJXpZil0ZG4PeZo24FphKRww6f5QEeJOj3qc0vnXXwt24PAJbby/Ifso27h4O28ro8LDy6958SFpmjW5MJnjOxVJ0qWcwAHurUyAe7Re+mKboMGKTSyiDkmM6UoieFwxKMp8FTFDYkeZHFFGKB1EE95PhQ7GKVkKHUTpR9SvUyh0LLpFzD5ijIxQKYNMAAiKSY6JMgP0arejRBTGmPgbBmbFQlKdUlCmnHsAkXmLREDIg8ZVJXKLVYiLQ4QfhVGG7AVhKlpU+CjDMVK6HPlZhz1cWNyMOPey2MCMgph9qR94G6DJk9rIl18KWPcl2njw9p4XZOPz6Kt1efztRrou48runDw9938NmaZekSd1AokeLTIH4tzKZ1hxQh4zFJYkQYZc6URZRHIdARHFc5nvJRJRqH1sLCETSMN1CGpBki7tGGKoqgKJvFwKYIS2ZBZaI47DSZmMyZiLUJAScBl+hTTjpSJKeEj700VcJyg7BH3s4BTWVA+MPwsBiVnQKDSTTkHUVEo80SfqNWEW1OKJ80fGojBwwyw0H7egEkxB16Ug6hDCCge+c2TtVvbgozXXwt24PAJbjz8CRu3Dwdt5XR4TeyDkwRftXLGa3LKY81VVqaml0cl6uVJ4pHkgo0Ml6iC5qCPYE15zzimUvca51JHGqddcmKTNEfjiALrpzXZBRyFock/FUskichcPabdQkTQc50bLMLaBFIcy6JZ40jMmezJ7UVK99l9Yq6JBMCEnmoronMHIeUT2pzQwGYEncaSLgR0EKmneCyJ0bPDTFCB7s2H5BSLBHYCks7bnYN3LGTWURiy50auAErzkuNhmaaeFt3Jd548PaeF2Tj8nS4W7q8/najXRdx5XfOHh77v4XWjmCMiUCG15ukaQQxznOaIPQ86lsHxuWJTZTousVnBlWm38iYUdGNeqo2CKYIjuDTonSXKgOpg6VbAEziVSOhlucW2qeZ4Hk96aYbOmkAST1hnGkUSUD0DEUvdvXUIIiREJKzPBTCnhtEz2RB9qigqGU6GiMPPvW3f0G54Icsz1oVKw0TPIQGJZykwVi7NGTr5iDZL+8EyhAAADucUWNMVJasCeGSoOdPlDrcTHWj7AHr2kwRydWrCRJMxUZGDMMwFJmhqegiXuzRRYYhGFQkMx2GbF8MOQVGGMuah2TpHIkOua2jA5lpJBCMc3qrr4W7cHgEtx5+BI3bh4O28ro8Jp2QZQQidRuUEQAnQiYosYIXrU27scGIa5ZiyQB4SIRLgg000uncJlGiywHWv7Yjlbl05fE4xxTr4YaRIZggDpWkQIWmjdXmddCj+eXAJAPaqssimmRHzETTXNH1JN481g7VuzMm2SV5JMGtQ6xMMLRyMEkkk1WOwhKw4sqxOJos5KCSTzBic1sjRcGewcEuIsyuR5CEO7lPJaXrwaWqsamcyc9cVlhEyhnUzTBpSlqe4YpEglcQdEQq/AV5TcsDiyZHDH3zWCgneSTT2UxQg5YKvVJMGU0JwlzIBM6NDXSuVQQUEQnQ4M0B+TpIhmDWD4e3cl2njw9p4XZOPydPsO6vP5cov4Z1/XX9Vf1V/VX9VX/wA6/Sk912jh4e+7+LCdC+aodQosaxkjzRYISsUhMaEfaE6H2eelcgeaKpIpxOKnsLr1ohAI6mtRAHYaVOKLDgJ5+2PFiMgUkAqaRiyWGay6tGPD3bg8AkoK7Pdef4V/UX9Vf1V/VX9VQzvyKbtw8HbeV0eFoiL3E8mzNcac1l1TyoaPiWTivAKQQ1yb5rAoaAqTjSgFUnPOK44JOqzQgj7Qihhx1vcrUJCsed0QLjioEBHXmzmUHtekHbpSAPqUh1fj4Yk5j/Yu88eHtPC55va7X9df11/VX9Vf1Vf/ACqdBBe6vP5YyRq3M+hlyIY+F6Ifl+JKUp5H52HGY0FVh9rieyHh77v/AGO7cH5mYGLS+wuAydKrp9nU+/z3B63nYDNgAVENx22Hg7byuj+v27ku88eGkBdaedUukDQRpVdA8vx973vNaFrADEtb6Xq8/mM0E0/FJo9n+dds4eHvu/8AY7tweBix2mX4ea+a+aiobtw8HbeV0f16jfZLsPHh7zwu8cUI/F0ot3V5/Lts5vzHa+V2zh4e+7/2O7cHgYts5fhLZbL9qG3cPB23ldH9fDOT/sXeePD23hd44/J0+2bq8/nmiHa+V2zh4e+7/wBju3B4GLbOXgUNu4eDtvK6P6/buS7zx4e28LvHH5On23dXn880Q6LdK7Bw8Pfd/mDLEWSWRJ0snP5PazVxjx924PAxbZy8Dxt3Dwdt5XR8yJoLYT3/ABiNbDx4/T7kuw8eHtvC7xx4G7q8/ns3HcuV3Dh4e+7/ADD6+QQB0OV6BUVVgIwGFEpghBziwOdDn8iOglmFk4cDFhY+KtpAMLgY11gogEFIIg6I8Pj7tweAS2zl4H7buHg7byujxybiUkTTvKSgeIyjoEQqIwIfxKokBYEa+kGbFpgB2IYUVQacocVIV5VPL8RFs7HBlAMDxrc2hLhhh7WsmpDiLnqR4yh90l3njw9t4XeOPydPsm6vP57Nx2jldw4eHvu/y00AESvWtdobyoWoZIcTZ5UHA/Eyy9miD8s0uxMawt1cEJ6tIvPMwGXzyOgsRjxt24PAJbZy8B9t3Dwdt5XR48kQjJWw91TlJ1J6o8rF+uAkhUy8/idSjAWRbzPWSjVApzRJvDysSjqwgdqK6/ixlQZw0NJEknY2hGR1VrHhT9HEXTB9ouPF27ku88eHtPC7xx+Tp9t3V5/LYO1jNSACZayen/EIQx564JRg1gV2jh4e+7/LINaQURnhYSd0PtQ0USpmEK9UCsCCmD7yc/aftpCdA5Op8LMemLCGDywUFSNHoXqp4u7cHgAjGVMFMvzDGMYnkHEy2Kbdw8HbeV0eOoaK5SDNyAfq0ZWNCayvrtJcvw6VfQqdD1BRX6gPSoL3KAyS2I+0XuqNSg8lkzDAkGgOJQV2oTMkAcDK18ULHuS7Tx4bQUHoqEUUkkcX9M/E5znadDea5i3V5/LAUaJ0H2rRlBnTgLOZe/a7h/l3n/LvP+Xcf8oOnuz9KOdnxKyaXbOHh77v4xEBgJcxGKid2KcImPgGq44gsvKOy5zMjJDXqI4QoRjLv9ps51rCkyZ0PmkOTCw6sp8BZhn7KrbSrRcjLhsqz5UPJBx8a8d4CL2DYmQ1KyMSZU6wJGucUMBQd9Qh8kdSyaZjrUUnE2MTy7YY/rXoas5gafjG7cH5kRaSNrn1Mu1n6m3a7f8A5dv/AMu3/wCXf/8AL0Huf+KSaxnQydKQE09J4O28ro8VkQIEA6q8Xp81DWGElHGQuNCAlLRCRqUOYQuCsuQDDjyso7N6sX0Vp1fdwx1PtG4WHURn73n4SGdVfzoII+y72N4KzfcDAtEyPKLRKdhsR5wJdo662SZ5FNADlfZFOWkTSxZjtUExnDnAnwbh2T4ZUnwFnNdVPKfF27ku88eHJ0NH3rsJiprHlV8ewh6Xev8ALvX+Xev8u9f5d2/y8xRRAnHa9Xn8u0Nh0/FJu3ct2zh4e+7+LKl1wKcP1LQypoGB7iXtDLUEnVYTtQXyWQHU4i9BGc0GDpLWjhCceVTKqAMzr7UoLq8JkizRHXqV83VeqAMEpk0NGsl1ZiqVJ95/7VxTHjuJfz9oOnlmS1jHZco4U0hD3FHsWaDmgcRWJAyoMCQ6VLJwgeQTJgeU1uJomS1vIfhZSRNH26077ID1qrSdqII+LTX28XduDwBW98vAAbtw8HbeV0eJMZqnB2OqSGkknspQTexM4DOiVnijxF3kmqP8+1VYVvWU+hTQmI9AH8U4UB1xQ4kjMdH5HNWPBjpYZj3ozSEfyb0lPBJXjl+5IK9BCEHPZQdECoPKGg97Oy2Ei6ECExHPtWLQQZlNBcznPkUZSJy2Q/UfWt+JcQfyWa8rr3R6+Lt3Jdp48PaeF3Pikfi6XK3dXn88mY7Vyu0cPD33fxX7qKSL8RX6PwlzoTiZo+6iGwl7AuFxSpF1MxfjYnSchHUehdSXQomTlr8ytSeADXoeahyZyJTVeVrNU6SSvwK1p9UiyDc9E9CpwdJLQc01znSPqNYmqInPP1asQPl0nAH1+lYeDbrBJ+JXcj7y0SOt1CNQvzUkJ610pqekPxppen8OzX28XduDwJSl98vAAbtw8HbeV0eIzuc+76azksidD/CLhC1kdR+qwXvMQrsBYd69R7mm0SnxUZszqOhy8VwCAiR1g7TCzcIlm6LCd0V85bNl9yy6Er0qa+Zy0AzPBjR4sdaECbnJ0rrjTSyWdC4nWkW6iziyXTNFZQ5PFAM+5LvPHh7TwuW7xQj8X7Jurz+ezEdz5XcOHh77v4srhIOE/orPOIl1VH1CmYAll71YOU9a/wAwHwIzC6ZKYk5p0H+JSR7Is1RLMQ+NWMM+MUCcva6jQDaofxQpXVluOivvC3n+jNORL+PsUDByIkGO6oe9gkFaJZhY0Hzue065Hh7S2+1xrgnaJIRyGtfceaqBh4hCHk1xA1vawpdByA+lZeKfPqBQ8XduDwIW78vAAbtw8HbeV0eIFskPKGPrWmw49EIfGhvCEA97KUHGEkeEsyea3KBA6zfwqr5HgQ7zCCm4ZxIi9Pr3Y6lBTkb6q5EwiE5XnayTpGIOnzbLL8LEwksr0RMsUw9RQ+dlhEUaUhrI51J9dZ0ABlqoT58DcUHAp1saiW0ZpSyzq9jBVe3JMa5XNdc0tzZuBh8Wtco6vM3F8L61itEjr9FFYACPJAD08XbuS7zx4e08Lt3H5On2XdXn89mI47PK7Bw8Pfd/FNkp+iyPg2Zt4MjwdQAmOjZy72cJIISZitQ5N4dUD6q8eDOWZMNI00PNm2Vp8LBD+dg9ycAQ4TloTAQ4DQF1KGXQicYM8mcPajAl1KkSJzSUr3JTM5rdYP1FU617XXTElh1wLHapILYgdgJDOImfKtutUSMkYHOxpCXNAAOCsOf/ADRwdniwpEHVqkxe6M6HROC/EsOhFwFhXoHWyij/ANSOfYLH2R4z/oDxt24PAhbvy8ABu3Dwdt5XR4iQPGY57WH8S4FRQ6VJQFy2PueuhGageuWJs/SqYEMvROcIhinHVhJgRQZZpa/zQAxBrgT1p1MHPGEZzqPaw5nJJhg8mypih1nDPw3XmYEBS+wpIyIAr1YJs5wRzpIPtpXo86IT2k0YnmtWVJCQMCwSvtXOlelWYNGRBJGcVcs5Wx9QZHudK8hjl8OgfKvyuFIS6fQy86uaJ1q0ApecP4o1zMdG4fqq/XxXG+yXYePD2nhdu48Dd1efzzTisu6W7Zw8Pfd/G0o8o3s3IOZWc+xD6UhjhgPx1+tLnrmuAFTSYP8ALRDyHl/gFCNMnCkM6QMvnfPaoa6d5fpRYafROaTiHdge9GULgTiEdqgijcwTDzXicqCSzKIJvTfme+VTlmqXzUT73CHkACHEpfrUyLN0UEUYn6GVeICijrOGDk3iZzlaQ8QHjCH0PG3bg8CFu/LwAG7cPB23ldHiiJQezQJgp1h1ujPvckzk61vIRcx1my75pKrKcBPnQ5pyC61ICChd+rNIhzQFowvSltaAScn0YYByUwk6s3Fn7Jl30FoOrag6sh8x4hqUShNUISp6yQ1w4qrEvS5ZzdsXUFjjpYKKSmtHBFSZQ+AUS2yFwEfGaETXxdm5LvPHh7Twu3cfk6fbN1efy5ROjRPy37lu2cPD33fxkmgGn3X5DThx80S/Gra5pwBEiSA4mrxZ7kwumT0nNyCMnX7GTQOtMtBjsmOHV5VKMduDYNqZGOSPwQoRYUIupSg3J0GRSB1mKx4owKGRd4S9YrILx427cHgQsNvl+XT7CN24eDtvK6PkgtymrXIQnk1RGhWRhFZy0zguq4ED3lA8woYymDFCKmJ8rG/zjqEq3kqd4vY6ABETqEGNQXOv5KEQAFhMfVaAUPKRoFy1rLK7icURBgBgIADtBdJ4u3cl3njw9p4Vbrp+Tp9t3V5/LYK6EtFABHWBsIcNTgU7v4jBgwY0y3iGp0el0CzlLvnDw993+SMI2C9S6tnETY+5HnMJEOHrw9LkIBJOJNKSIQzMWDnSyWSyWSyXCKzhPxhE61nuyUfABJ0IjA60JDMNPgixHjbtwfmzoCASq4qWYQmiU09H7AgNBHT+4sQhpgggIEWWihIjpPk8HbeV0fJarH/jShpsaDDHagEDpTqXbFS0sEzFXIeQkGU4YczcogK9NPb8YZogTT1SdDWxKiP7MFl6tWeviyx7ku08eHNjHRM615RXOQPKxJJ3l/IQIECABM56QlLEne9Xn8vmQ9JFC92KMbn4XcPpdw+l3D6XcPpdw+libxlGrqF3Dh4e+7/2O7cH5oAESETCXdXpd1el3V6XfXpdpel316XdXpQUSQZP0UAICPB23ldHySTQjMvzm3cl3njw1CAxq+SrY6yK/TyuyfS7J9Lsn0uyfS7J9Kwbn4V/cys55Rerz+YzYTT8sU3yu+cPD33f+x3bg+Z23ldH9ft3Jdp48PdeF3bj8nT7B+rz+XjHHRMfkdl1btnDw993/sd24PmTO70/sAmd/cXeePDw2uFUbTFGfxbrK3V5/PQqO7ct2zh4e+7/ANaCwRrexHZ6cdYhIPKKtttkvSmuEORju/MiizxIGwksdAD4n+LMJEZlf5Kq1PDEWG+f9Xt3Jd548PbeF2zi6vxdPtP6vP56FR2vlds4eHvu/wDUgrB1vf35W+Xs0e0V8NeB+8tNNbCInziksSgER89FSvmsobN+YPX8KkHrtpel1+DlPprnWBCbD94f6VRvsl2Hjw914XbOLq/F+2fq8/l8zn88dr5btnDw993/AKWLnmUQ38KMgtcAp8IOuM92afqCP5TFAHsCAj+miqtTxJNVcx1mPxGsRQ5R+r0ufkOk5/AsAE5C5cn9JDPuS7zx4e28LtnF1fi6fad1efz2Yi4wfvXbOHh77v8A0MV2Hu//AAofQOcP5XO9YjB+M0haO/rKKABBGWP62Ko1yAs0FiRrIPxmogQ0kr7kUF4uyX2L3FiV9bjh/oNu5LvPHh5bXC7JxTX8XT7Turz+WxcJjDzSJ8MURkevMl1iTtze6287tf8Au7X/ALu1/wC6dDzIf7TwqEMAsEd7vnDw993+dzXjM9SPiFO6R4k+KbJIZmID2ZGg9RuVfWKSA5xn9tHWmVcGFqg1swmfeS5GCNJy+5BUSj6IN9jN7EsZ/W66fZ+anjP3F2Hjw2H/AMCsHeUMkjXW4ZX2P+39Av6Bdl/2/oF/QKm1FAl0v5vV5/Ltm6z5lfM+Kz/7ln/3LP8A7ln/ANyz1J7q0OfO7t3Th4e+7/MxNGB1EsPiEVY0jMPwGbCrjoAfgp3VeFPtMfSmQdwP8LH973oqaUYl+Ngj1yJ+Cp9LIcFyF+AXpRcFPsZqEMcfzlh+Y2bku88eHsvC6Sw5O1nk+LZ/9yz/AO5Z/wDcs/8AuVY+ss2RXv26vP55pB27ld04eHvu/wAq4JWC9GAFx8YivLPAd+gzXdUgx8QmugXV2fssUzsYI+n/AMOGk9jB/IpKOWRHtMWJXHrH+SjJx2Z9pmyh5ufyKxoOpXDj5LbuS7zx4e28LvnH5On2ndXn860grFE7bLd04eHvu/yXQLRWPjpRUv0Gn8mgiPWIvdBqwS6qQ+0i9lukfT5U5ES6BWeYmYuEPxi3MB1d/AgMo3qiY+B4pLTOpQ1fqfPgRsUyVbvPyPaYpqinWIj6Kxy8BPgs/SyWO5v5WPtMUZ8UScx/sXeePD33hVO8x+bmzdXn86046LsnLd04eHvu/iw473Rj5JHxcVcT9Z1D4qSDdEXvhq51mVr8pXseUj4Fj5h0uluysgKuClmFiM/4olc0AlTQrQLHFJ3wgrofzZuZ0CfSuijrFU5bxk+DRxkNIyfjWhnAGB867FmICa4MGqsBYpGXSIidNG9TYQa/T7vUxCgT62UYjWNj4VJATUcX1o4yZEZGiFHpl/FArOiSVEVaqgK7TDEf70sXHlEfGskgkAVJl8rJEVrHD4VEdZVQFlcSiP8AelBCDkRkaxDhiETXS+gEWiAQRyJ84bAOP50qJeiSD2MVMsy5wA9wa0HUAJ9Ya1SwzH1qihYxPhbdyXeePD33hd04/J0+ybq8/nWnHRdk5bunDw9938E0BNnFOgufdowN1cT9JvZjz/Umkk0Znq/FYE3oIHw+ddLuHO4yGE0MST9JsyOBmxXK5vKsqK6H8XWT5ODE05SoXQhpNlozpV5uDETPRw6FjuQjkGshrpZGTYIMEelEnpkQYjzBBi6Q/Dmd4rGtaNcZoZAzNrrqYbKQ9J+7f5JFHUxQ65xkp/di89CZIsg9Ig+N01RJB7b3zmm+umaZcuanmcWQ8kdtSyiMOCQSz26RVBwKMwTrGsTTr01fIwLXWEyYESxhqOLrH7siHETJNQ6VChmEQ7jEz3qsBLJcNJskrWUkA6WIlECZIADqADBT0MT6/wBB2J4h9aogmixPYgsIyDSMHuTW2U9Zwd8xWT3BlKial1sZixOn47dyXaePD23hdg4/J0+27q8/nWnFJqgd0t3Th4e+7/j1Dq6Uqh6GrYnq4KfADZpThX1elJBs0yD40boYGA/oXS7hzpoGZdB1loSKJodkI64zRozEwCzarUMUjUH6lRBtigUrUlk17UBT7LDDP+V/D8ssViEZxYjN+r+l+kelc7XFcO8H8qUhRcGIsx10+5k1AdEs/j3Qy08/SoWkvq4PgFSQfcAX6NP5SUORXvX0ysp+k0kcvPcR9L0p5jH1HRrifaLrWD1hERHvSeki3kIvSgPMkTjJpw7oLu3D+ki9tOEfWpyNpgnsXOCaQw+J/ioOgywH1i6kPJCLM9fwAz7ku08eHvvCuNpj8mubN1efy7QtejJZLJZLJZObHM/uXfOHh7zvQVgrcz6lbxa04HlFy5PBvebPtBEB7pSejIID+lKHUAJl3vTICGOohx5V4Wpxnk8sVOgRBB00Zx3qXBEyM5DgnSkIHZBVYdstVZiEudIwzAtf/EAS9rO96JqfxcaZGhuGCPrRqNOhDpx1q4GxkqSTHDFZIwIjQavnY6v6YTl8q6qyBwPduB4KAWrYM64jr+Eb24IiBxHOrSI6BBZr2YNV0SxSbJDOHDNWvUcb5Oca1T8NE1jQanS4CQc4a+9avTrDZV7rR5IYUPPP8WGCBmRdJ6rjp0qpXCbWOjZcH0M774etCdfIs9h2pxQCEZctDLjCSOX+oitFzWQVhPEnGfILkA4P/L0q77hsfgVzquEIpjfZLsPHh7bwqGF/RWObJZLJZLJcGrdXn8sZhMSRPKPewW6S2JX1W/sFfs1fsFfs1fu1ftlLHZyjKxSpyIPMEeGGwxoMO9M6Ghi96NKIARFjr/8AaxW7ZrKmgSqEVr+FflQBdYDwxrEIEhnSSntQZOhX7VX7dX7dXF8TX73X73SBWKtnWToI/wD2olfInAa0d2M9L7/8XaWftIfeT7zP2npZ+2ln7SnYQEDLKJr0+H3np95+0xZmiJTT0AmznWmako+n2m6/YIMQQiSJUMNKQKIjBerz/wCLTqx1ZTCvA5sDMRrRmcxIICanLdjqCQHfLVFNwneRSF6WJwx5ZwIdWhuY7SeBeh2qJj30BMJ6e1RSEpAgPYa1/DA3CKJ/FVKbK31rONdTSvgNiyTZBnvRGAQZKYDAmUnyatwcX+smSoUBxz6yYHnDi6g/0P0BAEOa1ISf5BlxZgbpVRCNDnWxcJyVy0lUCUecgEGj2rIxkLJZECSIrglkISxjmSCr1qUmFswOXLLzYPssIkRgYxiy7gvRkEVHNG463QCz4aHyRnTvnqUzKZAKJWSkaUvpGuNXCxp2mrDqggS6s5boELsChLHnXBY3GZydD3scOJsGIAZZ76WenJ7Kae1KGAoMSCE8UbyATAxoghxkjrerz/4sBfQRoA8Dnw0brKXRYJ9lpkgI9rFGgMsJ9gV0Qi4MIHxa7kg0gdRKq14cSULB1izahKXrUCGhn8pUZZSngwP4p3kdL5rsXKjyPQsXolYE8mNZ6jxYrFSAdRkmfJrniGMgr6Fbqe+tAMPslIaQ90IfbCh5brOrH2uLSEP6sT/BQiOuPkE3L4098t1LuvOklYDoCy0DJmdhAH8iVT2v3rZUZWMSkd4XgwWCkl+NACAgKVSccfC9Xn+eaMSwogjqO80QCdfDneCKlqqHkkfh/wADkxSIYiIZzlsci1pgUM5zWpljxiOF4zTm9CdAR1OOLm00oaTkWZ9qwsXGMGfMOZ8jWrguU3kGifei5MjBoeyz9LltzycEcMAda9yAV0xJ0xNeAqWROgDsRc0lJQQPqc97l+VVOEwnFdMzBkAZVI1r4GmwcjszJ7V5h3XDUxETR5KE0moNHpaImvvBZsRzkEmO6rimkOoSonOGwr5OWicEvNCQli9UIfSlEHTFlJhri5PWhwkwdBwlSTxDrnCE0Fp4gnXPGkYpw0nZHI9VZ40s84l1CYPey7nIjoh2loKGWWJmQfZT4VohsLeL26+9cRrWhosalRER1svOvmSnXqyFKlosIjCGuZijtM6YEoNJwmbMuHHJHaX8lAlcWbGaBy4HeaRZEEAWriKTnx73If46xTpASXQKsY0IStYKCfWMJoVRlEiXEI9BYo5XUJCSlYHKMrxSbpJ4A5qPhtqJFPdaSack0P8AwLLMPhRkgfbGeeE0GgCpN+vCM/ZwAPnSo8oIqCQ3svhcQQYvZXXwyy41vXgzgj7dMzOSbAERi9l8KDQR9lRQZFKsEyYFNKAYAKWhB6JNLgAOgfaTSHWM/YNCDyUqCHAfYI1GilWCZCJSgGAD8nBkIRui3Q6eqObKr1JmSaneyFDZhCzvcEnnWKhzyRR9bD4jHQLl7FdedPDg9kk/GxghHI5PPWh/phRzXsYfOvwRTg9BPGaBNMMnwpKGbEgUMc5aMHAUkwUgTHLLpY0skwLn6f8ALBN7oXY8/wByUBhIhJTA+diS14IYFnyihY/tGA0ZmZBwfo3Y+CwMwwfy1/ELDlYI/wCVgtgMhINxQJBMZHWlWehDEiDqmb0CauM5+qwyHkiQWXsLTcPApmXDPLcMYBISZE97DujGnkkJ9lf46hiJZYdJf4sqpB5GqZSjTdHCdOKpxtHoM4zA9S611EgQgB1lZojihRakSImI+tN21kGACVxiddX/AIbgEkrDSwRzMdfEhI5BysiPy8y3V2MGCbN0RNAdZofPSSiOZF/4m/h0LCg0sk5JHBJkjWw58sUicnWrpwEqoyvAjK4yUpyJJXuNEaaGBxwDpmvVMo2PpqJZ0sdhcTJxOZ7RNckujN6negP8CMkfDLGagM8MlSBPePrUWsAaLEia2MIIDCBZl0xY+vwRy0DmYDp74+Xj/ijpZ4tp3aOVTeZnIMfBSZxkQ+FMkVZH2ownTElg+C9BXNQ4POW6Z+zYPoN7Nw1YZdX8qJKDk1z/AMrGikqQBSiOArO4lMU50DEKHBnNGH7jCGifMp4K6RMEpNSki/YsGZNa8KCpqpBmCtijJhR8fpYbL6iWhywn3pj0xEsFX4DZtFSAedxZxIaGbND1BkntXwgIQlHqU+4eWAjiddbqW/cpPFExp/ys2rTOo0Mj6dX+KuYTrQJVAh1r7+hsrWjAY9KRsTaocCNbRDjBL3fwpIJgcPYp0AIhIj0bIGs+eogPwpIRI1MS4gLPWr1CQMy2UbosfmoX3oOsgX1eXu/8wILM1yuomRpYLQNhNHUo9uWS/mqvzGxfW7F9bsX1uxfW7F9bsX1uxfW7F9bsX1uxfW7F9bsX1uxfW7F9bsX1uxfW7F9bsX1uxfW7F9bsX1uxfW7F9bsX1uxfW7F9bsX1uxfW7F9bsX1uxfW7F9bsX1uxfW7F9bsX1uxfW7F9bsX1uxfW7F9bsX1uxfW7F9bsX1uxfW7F9bsX1uxfW7F9bsX1uxfW7F9bsX1uxfW7F9bsX1uxfW7F9bsX1uxfW7F9bsX1uxfW7F9bsX1uxfW7F9bsX1uxfW7F9bsX1uxfW7F9bsX1uxfW7F9bsX1uxfW7F9bsX1uxfW7F9bsX1uxfW7F9bsX1uxfW7F9bsX1uxfW7F9bsX1uxfW7F9bsX1uxfW7F9bsX1uxfW7F9bsX1uxfW7F9bsX1uxfW7F9bsX1uxfW7F9bsX1uxfW7F9bsX1uxfW7F9bsX1uxfW7F9bsX1uxfW7F9bsX1uxfW7F9bsX1uxfW7F9bsX1uxfW7F9bsX1uxfW7F9bsX1uxfW7F9bsX1uxfW7F9bsX1uxfW7F9bsX1uxfW7F9bsX1uxfW7F9bsX1uxfW7F9bsX1uxfW7F9bsX1uxfW7F9bsX1uxfW7F9bsX1uxfW7F9bsX1uxfW7F9bsX1uxfW7F9bsX1uxfW7F9bsX1uxfW7F9bsX1uxfW7F9bsX1uxfWyF7QI5g/wCFChQoUKFChQoUKFChQoUKFChQoUKFChQoUKFChQoUKFChQoUKFChQoUKFChQoUKFChQoUKFChQoUKFChQoUKFChQoUKFChQoUKFChQoUKFChQoUKFChQoUKFChQoUKFChQoUKFChQoUKFChQoUKFChQoUKFChX9eKFChQoUKFChQoUKFChQoUKFChQoUKFChQoUKFChQoUKFChQoUKFChQqIcxxZyYDWf/wCdv//Z)"
      ]
    },
    {
      "cell_type": "markdown",
      "metadata": {
        "id": "RoE28xmA7hG3"
      },
      "source": [
        "Основные составляющие автоэнкодера:\n",
        "1. Энкодер\n",
        "- Входной слой принимает исходные данные в их первоначальном виде.\n",
        "- Скрытые слои последовательно уменьшают размерность входных данных, захватывая важные признаки и закономерности. Эти слои составляют энкодер.\n",
        "2. Латентное пространство\n",
        "- Латентное пространство является последним скрытым слоем, где размерность уменьшается. Этот слой представляет собой сжатое кодирование входных данных. \\\\\n",
        "3. Декодер\n",
        "- Сверточные слои последовательно увеличивают размерность до изначальной и стремятся восстановить исходные данные (в контексте шумоочистки это чистый сигнал).\n",
        "---\n",
        "Во время обучения автоэнкодер учится минимизировать функцию потерь между эталонным чистым аудио (если рассматривать в контексте шумоочистки звука) и выводом сети.\n",
        "\n",
        "Рассмотрим ниже возможную реализацию сверточного автоэнкодера."
      ]
    },
    {
      "cell_type": "code",
      "execution_count": null,
      "metadata": {
        "colab": {
          "base_uri": "https://localhost:8080/",
          "height": 1000,
          "referenced_widgets": [
            "f684c1619c2c467cb7d7bb4a87e53550",
            "e91a5f99f88c49bd919fd85a282fe6e9",
            "d4b5abc07fc14dca8cf45e6a517f8b4b",
            "1267230862a941f580963c961e534393",
            "f5a5d9f98b614cf188cd2a6db07912f7",
            "4231c9d6414a484da15cc84efe0f167a",
            "cd20483288354044adb1a5cd4ba7bfba",
            "9fee101e83ad453e97c878bb5487b349",
            "6cda5fd6402b4204b7d0515e7e9753f0",
            "defb73cc55524f27b06a1d397650b424",
            "b3bd752f0ebb43cfbd27d6d640c6aec7",
            "b3dd3e4563f748c6976fad8a4a8edfcb",
            "3703e0a633574636b354beff9cd6240e",
            "67921975b1bc4f4fa9554d2852c7e18d",
            "496917ebae104071b89fb88f5f1045a3",
            "babaf0c60d7b457e880155126ca4c0b4",
            "a85c1faf515243548721fe4f686a52f7",
            "7e9f15cb101b4db395fe26d5c38b9123",
            "bb0f8aa1eea14b9abf0cd286907e41ab",
            "4673af3c3f6e47cea497022be89b6d1a",
            "11cf358fd42843edbf3e4c0cbcbbb120",
            "6fdac2e522714a1d92444fd273d9b8c6"
          ]
        },
        "id": "kDDhLgsEkP-z",
        "outputId": "6cd27912-9103-4788-f38b-078a188b6c9c"
      },
      "outputs": [
        {
          "output_type": "stream",
          "name": "stdout",
          "text": [
            "Model: \"sequential\"\n",
            "_________________________________________________________________\n",
            " Layer (type)                Output Shape              Param #   \n",
            "=================================================================\n",
            " conv1d (Conv1D)             (None, 1000, 32)          128       \n",
            "                                                                 \n",
            " max_pooling1d (MaxPooling1  (None, 500, 32)           0         \n",
            " D)                                                              \n",
            "                                                                 \n",
            " conv1d_1 (Conv1D)           (None, 500, 64)           6208      \n",
            "                                                                 \n",
            " max_pooling1d_1 (MaxPoolin  (None, 250, 64)           0         \n",
            " g1D)                                                            \n",
            "                                                                 \n",
            " conv1d_2 (Conv1D)           (None, 250, 128)          24704     \n",
            "                                                                 \n",
            " max_pooling1d_2 (MaxPoolin  (None, 125, 128)          0         \n",
            " g1D)                                                            \n",
            "                                                                 \n",
            " conv1d_3 (Conv1D)           (None, 125, 128)          49280     \n",
            "                                                                 \n",
            " up_sampling1d (UpSampling1  (None, 250, 128)          0         \n",
            " D)                                                              \n",
            "                                                                 \n",
            " conv1d_4 (Conv1D)           (None, 250, 64)           24640     \n",
            "                                                                 \n",
            " up_sampling1d_1 (UpSamplin  (None, 500, 64)           0         \n",
            " g1D)                                                            \n",
            "                                                                 \n",
            " conv1d_5 (Conv1D)           (None, 500, 32)           6176      \n",
            "                                                                 \n",
            " up_sampling1d_2 (UpSamplin  (None, 1000, 32)          0         \n",
            " g1D)                                                            \n",
            "                                                                 \n",
            " conv1d_6 (Conv1D)           (None, 1000, 1)           97        \n",
            "                                                                 \n",
            "=================================================================\n",
            "Total params: 111233 (434.50 KB)\n",
            "Trainable params: 111233 (434.50 KB)\n",
            "Non-trainable params: 0 (0.00 Byte)\n",
            "_________________________________________________________________\n",
            "None\n"
          ]
        },
        {
          "output_type": "display_data",
          "data": {
            "text/plain": [
              "0epoch [00:00, ?epoch/s]"
            ],
            "application/vnd.jupyter.widget-view+json": {
              "version_major": 2,
              "version_minor": 0,
              "model_id": "f684c1619c2c467cb7d7bb4a87e53550"
            }
          },
          "metadata": {}
        },
        {
          "output_type": "display_data",
          "data": {
            "text/plain": [
              "0batch [00:00, ?batch/s]"
            ],
            "application/vnd.jupyter.widget-view+json": {
              "version_major": 2,
              "version_minor": 0,
              "model_id": "b3dd3e4563f748c6976fad8a4a8edfcb"
            }
          },
          "metadata": {}
        },
        {
          "output_type": "error",
          "ename": "KeyboardInterrupt",
          "evalue": "",
          "traceback": [
            "\u001b[0;31m---------------------------------------------------------------------------\u001b[0m",
            "\u001b[0;31mKeyboardInterrupt\u001b[0m                         Traceback (most recent call last)",
            "\u001b[0;32m<ipython-input-7-ed88a84571cf>\u001b[0m in \u001b[0;36m<cell line: 36>\u001b[0;34m()\u001b[0m\n\u001b[1;32m     34\u001b[0m \u001b[0mmodel\u001b[0m\u001b[0;34m.\u001b[0m\u001b[0mcompile\u001b[0m\u001b[0;34m(\u001b[0m\u001b[0moptimizer\u001b[0m\u001b[0;34m=\u001b[0m\u001b[0;34m'adam'\u001b[0m\u001b[0;34m,\u001b[0m \u001b[0mloss\u001b[0m\u001b[0;34m=\u001b[0m\u001b[0;34m'mse'\u001b[0m\u001b[0;34m)\u001b[0m\u001b[0;34m\u001b[0m\u001b[0;34m\u001b[0m\u001b[0m\n\u001b[1;32m     35\u001b[0m \u001b[0mprint\u001b[0m\u001b[0;34m(\u001b[0m\u001b[0mmodel\u001b[0m\u001b[0;34m.\u001b[0m\u001b[0msummary\u001b[0m\u001b[0;34m(\u001b[0m\u001b[0;34m)\u001b[0m\u001b[0;34m)\u001b[0m\u001b[0;34m\u001b[0m\u001b[0;34m\u001b[0m\u001b[0m\n\u001b[0;32m---> 36\u001b[0;31m model.fit(train_x,\n\u001b[0m\u001b[1;32m     37\u001b[0m           \u001b[0mtrain_y\u001b[0m\u001b[0;34m,\u001b[0m\u001b[0;34m\u001b[0m\u001b[0;34m\u001b[0m\u001b[0m\n\u001b[1;32m     38\u001b[0m           \u001b[0mepochs\u001b[0m\u001b[0;34m=\u001b[0m\u001b[0;36m20\u001b[0m\u001b[0;34m,\u001b[0m\u001b[0;34m\u001b[0m\u001b[0;34m\u001b[0m\u001b[0m\n",
            "\u001b[0;32m/usr/local/lib/python3.10/dist-packages/keras/src/utils/traceback_utils.py\u001b[0m in \u001b[0;36merror_handler\u001b[0;34m(*args, **kwargs)\u001b[0m\n\u001b[1;32m     63\u001b[0m         \u001b[0mfiltered_tb\u001b[0m \u001b[0;34m=\u001b[0m \u001b[0;32mNone\u001b[0m\u001b[0;34m\u001b[0m\u001b[0;34m\u001b[0m\u001b[0m\n\u001b[1;32m     64\u001b[0m         \u001b[0;32mtry\u001b[0m\u001b[0;34m:\u001b[0m\u001b[0;34m\u001b[0m\u001b[0;34m\u001b[0m\u001b[0m\n\u001b[0;32m---> 65\u001b[0;31m             \u001b[0;32mreturn\u001b[0m \u001b[0mfn\u001b[0m\u001b[0;34m(\u001b[0m\u001b[0;34m*\u001b[0m\u001b[0margs\u001b[0m\u001b[0;34m,\u001b[0m \u001b[0;34m**\u001b[0m\u001b[0mkwargs\u001b[0m\u001b[0;34m)\u001b[0m\u001b[0;34m\u001b[0m\u001b[0;34m\u001b[0m\u001b[0m\n\u001b[0m\u001b[1;32m     66\u001b[0m         \u001b[0;32mexcept\u001b[0m \u001b[0mException\u001b[0m \u001b[0;32mas\u001b[0m \u001b[0me\u001b[0m\u001b[0;34m:\u001b[0m\u001b[0;34m\u001b[0m\u001b[0;34m\u001b[0m\u001b[0m\n\u001b[1;32m     67\u001b[0m             \u001b[0mfiltered_tb\u001b[0m \u001b[0;34m=\u001b[0m \u001b[0m_process_traceback_frames\u001b[0m\u001b[0;34m(\u001b[0m\u001b[0me\u001b[0m\u001b[0;34m.\u001b[0m\u001b[0m__traceback__\u001b[0m\u001b[0;34m)\u001b[0m\u001b[0;34m\u001b[0m\u001b[0;34m\u001b[0m\u001b[0m\n",
            "\u001b[0;32m/usr/local/lib/python3.10/dist-packages/keras/src/engine/training.py\u001b[0m in \u001b[0;36mfit\u001b[0;34m(self, x, y, batch_size, epochs, verbose, callbacks, validation_split, validation_data, shuffle, class_weight, sample_weight, initial_epoch, steps_per_epoch, validation_steps, validation_batch_size, validation_freq, max_queue_size, workers, use_multiprocessing)\u001b[0m\n\u001b[1;32m   1805\u001b[0m                         ):\n\u001b[1;32m   1806\u001b[0m                             \u001b[0mcallbacks\u001b[0m\u001b[0;34m.\u001b[0m\u001b[0mon_train_batch_begin\u001b[0m\u001b[0;34m(\u001b[0m\u001b[0mstep\u001b[0m\u001b[0;34m)\u001b[0m\u001b[0;34m\u001b[0m\u001b[0;34m\u001b[0m\u001b[0m\n\u001b[0;32m-> 1807\u001b[0;31m                             \u001b[0mtmp_logs\u001b[0m \u001b[0;34m=\u001b[0m \u001b[0mself\u001b[0m\u001b[0;34m.\u001b[0m\u001b[0mtrain_function\u001b[0m\u001b[0;34m(\u001b[0m\u001b[0miterator\u001b[0m\u001b[0;34m)\u001b[0m\u001b[0;34m\u001b[0m\u001b[0;34m\u001b[0m\u001b[0m\n\u001b[0m\u001b[1;32m   1808\u001b[0m                             \u001b[0;32mif\u001b[0m \u001b[0mdata_handler\u001b[0m\u001b[0;34m.\u001b[0m\u001b[0mshould_sync\u001b[0m\u001b[0;34m:\u001b[0m\u001b[0;34m\u001b[0m\u001b[0;34m\u001b[0m\u001b[0m\n\u001b[1;32m   1809\u001b[0m                                 \u001b[0mcontext\u001b[0m\u001b[0;34m.\u001b[0m\u001b[0masync_wait\u001b[0m\u001b[0;34m(\u001b[0m\u001b[0;34m)\u001b[0m\u001b[0;34m\u001b[0m\u001b[0;34m\u001b[0m\u001b[0m\n",
            "\u001b[0;32m/usr/local/lib/python3.10/dist-packages/tensorflow/python/util/traceback_utils.py\u001b[0m in \u001b[0;36merror_handler\u001b[0;34m(*args, **kwargs)\u001b[0m\n\u001b[1;32m    148\u001b[0m     \u001b[0mfiltered_tb\u001b[0m \u001b[0;34m=\u001b[0m \u001b[0;32mNone\u001b[0m\u001b[0;34m\u001b[0m\u001b[0;34m\u001b[0m\u001b[0m\n\u001b[1;32m    149\u001b[0m     \u001b[0;32mtry\u001b[0m\u001b[0;34m:\u001b[0m\u001b[0;34m\u001b[0m\u001b[0;34m\u001b[0m\u001b[0m\n\u001b[0;32m--> 150\u001b[0;31m       \u001b[0;32mreturn\u001b[0m \u001b[0mfn\u001b[0m\u001b[0;34m(\u001b[0m\u001b[0;34m*\u001b[0m\u001b[0margs\u001b[0m\u001b[0;34m,\u001b[0m \u001b[0;34m**\u001b[0m\u001b[0mkwargs\u001b[0m\u001b[0;34m)\u001b[0m\u001b[0;34m\u001b[0m\u001b[0;34m\u001b[0m\u001b[0m\n\u001b[0m\u001b[1;32m    151\u001b[0m     \u001b[0;32mexcept\u001b[0m \u001b[0mException\u001b[0m \u001b[0;32mas\u001b[0m \u001b[0me\u001b[0m\u001b[0;34m:\u001b[0m\u001b[0;34m\u001b[0m\u001b[0;34m\u001b[0m\u001b[0m\n\u001b[1;32m    152\u001b[0m       \u001b[0mfiltered_tb\u001b[0m \u001b[0;34m=\u001b[0m \u001b[0m_process_traceback_frames\u001b[0m\u001b[0;34m(\u001b[0m\u001b[0me\u001b[0m\u001b[0;34m.\u001b[0m\u001b[0m__traceback__\u001b[0m\u001b[0;34m)\u001b[0m\u001b[0;34m\u001b[0m\u001b[0;34m\u001b[0m\u001b[0m\n",
            "\u001b[0;32m/usr/local/lib/python3.10/dist-packages/tensorflow/python/eager/polymorphic_function/polymorphic_function.py\u001b[0m in \u001b[0;36m__call__\u001b[0;34m(self, *args, **kwds)\u001b[0m\n\u001b[1;32m    830\u001b[0m \u001b[0;34m\u001b[0m\u001b[0m\n\u001b[1;32m    831\u001b[0m       \u001b[0;32mwith\u001b[0m \u001b[0mOptionalXlaContext\u001b[0m\u001b[0;34m(\u001b[0m\u001b[0mself\u001b[0m\u001b[0;34m.\u001b[0m\u001b[0m_jit_compile\u001b[0m\u001b[0;34m)\u001b[0m\u001b[0;34m:\u001b[0m\u001b[0;34m\u001b[0m\u001b[0;34m\u001b[0m\u001b[0m\n\u001b[0;32m--> 832\u001b[0;31m         \u001b[0mresult\u001b[0m \u001b[0;34m=\u001b[0m \u001b[0mself\u001b[0m\u001b[0;34m.\u001b[0m\u001b[0m_call\u001b[0m\u001b[0;34m(\u001b[0m\u001b[0;34m*\u001b[0m\u001b[0margs\u001b[0m\u001b[0;34m,\u001b[0m \u001b[0;34m**\u001b[0m\u001b[0mkwds\u001b[0m\u001b[0;34m)\u001b[0m\u001b[0;34m\u001b[0m\u001b[0;34m\u001b[0m\u001b[0m\n\u001b[0m\u001b[1;32m    833\u001b[0m \u001b[0;34m\u001b[0m\u001b[0m\n\u001b[1;32m    834\u001b[0m       \u001b[0mnew_tracing_count\u001b[0m \u001b[0;34m=\u001b[0m \u001b[0mself\u001b[0m\u001b[0;34m.\u001b[0m\u001b[0mexperimental_get_tracing_count\u001b[0m\u001b[0;34m(\u001b[0m\u001b[0;34m)\u001b[0m\u001b[0;34m\u001b[0m\u001b[0;34m\u001b[0m\u001b[0m\n",
            "\u001b[0;32m/usr/local/lib/python3.10/dist-packages/tensorflow/python/eager/polymorphic_function/polymorphic_function.py\u001b[0m in \u001b[0;36m_call\u001b[0;34m(self, *args, **kwds)\u001b[0m\n\u001b[1;32m    903\u001b[0m         \u001b[0;31m# Lifting succeeded, so variables are initialized and we can run the\u001b[0m\u001b[0;34m\u001b[0m\u001b[0;34m\u001b[0m\u001b[0m\n\u001b[1;32m    904\u001b[0m         \u001b[0;31m# no_variable_creation function.\u001b[0m\u001b[0;34m\u001b[0m\u001b[0;34m\u001b[0m\u001b[0m\n\u001b[0;32m--> 905\u001b[0;31m         return tracing_compilation.call_function(\n\u001b[0m\u001b[1;32m    906\u001b[0m             \u001b[0margs\u001b[0m\u001b[0;34m,\u001b[0m \u001b[0mkwds\u001b[0m\u001b[0;34m,\u001b[0m \u001b[0mself\u001b[0m\u001b[0;34m.\u001b[0m\u001b[0m_no_variable_creation_config\u001b[0m\u001b[0;34m\u001b[0m\u001b[0;34m\u001b[0m\u001b[0m\n\u001b[1;32m    907\u001b[0m         )\n",
            "\u001b[0;32m/usr/local/lib/python3.10/dist-packages/tensorflow/python/eager/polymorphic_function/tracing_compilation.py\u001b[0m in \u001b[0;36mcall_function\u001b[0;34m(args, kwargs, tracing_options)\u001b[0m\n\u001b[1;32m    137\u001b[0m   \u001b[0mbound_args\u001b[0m \u001b[0;34m=\u001b[0m \u001b[0mfunction\u001b[0m\u001b[0;34m.\u001b[0m\u001b[0mfunction_type\u001b[0m\u001b[0;34m.\u001b[0m\u001b[0mbind\u001b[0m\u001b[0;34m(\u001b[0m\u001b[0;34m*\u001b[0m\u001b[0margs\u001b[0m\u001b[0;34m,\u001b[0m \u001b[0;34m**\u001b[0m\u001b[0mkwargs\u001b[0m\u001b[0;34m)\u001b[0m\u001b[0;34m\u001b[0m\u001b[0;34m\u001b[0m\u001b[0m\n\u001b[1;32m    138\u001b[0m   \u001b[0mflat_inputs\u001b[0m \u001b[0;34m=\u001b[0m \u001b[0mfunction\u001b[0m\u001b[0;34m.\u001b[0m\u001b[0mfunction_type\u001b[0m\u001b[0;34m.\u001b[0m\u001b[0munpack_inputs\u001b[0m\u001b[0;34m(\u001b[0m\u001b[0mbound_args\u001b[0m\u001b[0;34m)\u001b[0m\u001b[0;34m\u001b[0m\u001b[0;34m\u001b[0m\u001b[0m\n\u001b[0;32m--> 139\u001b[0;31m   return function._call_flat(  # pylint: disable=protected-access\n\u001b[0m\u001b[1;32m    140\u001b[0m       \u001b[0mflat_inputs\u001b[0m\u001b[0;34m,\u001b[0m \u001b[0mcaptured_inputs\u001b[0m\u001b[0;34m=\u001b[0m\u001b[0mfunction\u001b[0m\u001b[0;34m.\u001b[0m\u001b[0mcaptured_inputs\u001b[0m\u001b[0;34m\u001b[0m\u001b[0;34m\u001b[0m\u001b[0m\n\u001b[1;32m    141\u001b[0m   )\n",
            "\u001b[0;32m/usr/local/lib/python3.10/dist-packages/tensorflow/python/eager/polymorphic_function/concrete_function.py\u001b[0m in \u001b[0;36m_call_flat\u001b[0;34m(self, tensor_inputs, captured_inputs)\u001b[0m\n\u001b[1;32m   1321\u001b[0m         and executing_eagerly):\n\u001b[1;32m   1322\u001b[0m       \u001b[0;31m# No tape is watching; skip to running the function.\u001b[0m\u001b[0;34m\u001b[0m\u001b[0;34m\u001b[0m\u001b[0m\n\u001b[0;32m-> 1323\u001b[0;31m       \u001b[0;32mreturn\u001b[0m \u001b[0mself\u001b[0m\u001b[0;34m.\u001b[0m\u001b[0m_inference_function\u001b[0m\u001b[0;34m.\u001b[0m\u001b[0mcall_preflattened\u001b[0m\u001b[0;34m(\u001b[0m\u001b[0margs\u001b[0m\u001b[0;34m)\u001b[0m\u001b[0;34m\u001b[0m\u001b[0;34m\u001b[0m\u001b[0m\n\u001b[0m\u001b[1;32m   1324\u001b[0m     forward_backward = self._select_forward_and_backward_functions(\n\u001b[1;32m   1325\u001b[0m         \u001b[0margs\u001b[0m\u001b[0;34m,\u001b[0m\u001b[0;34m\u001b[0m\u001b[0;34m\u001b[0m\u001b[0m\n",
            "\u001b[0;32m/usr/local/lib/python3.10/dist-packages/tensorflow/python/eager/polymorphic_function/atomic_function.py\u001b[0m in \u001b[0;36mcall_preflattened\u001b[0;34m(self, args)\u001b[0m\n\u001b[1;32m    214\u001b[0m   \u001b[0;32mdef\u001b[0m \u001b[0mcall_preflattened\u001b[0m\u001b[0;34m(\u001b[0m\u001b[0mself\u001b[0m\u001b[0;34m,\u001b[0m \u001b[0margs\u001b[0m\u001b[0;34m:\u001b[0m \u001b[0mSequence\u001b[0m\u001b[0;34m[\u001b[0m\u001b[0mcore\u001b[0m\u001b[0;34m.\u001b[0m\u001b[0mTensor\u001b[0m\u001b[0;34m]\u001b[0m\u001b[0;34m)\u001b[0m \u001b[0;34m->\u001b[0m \u001b[0mAny\u001b[0m\u001b[0;34m:\u001b[0m\u001b[0;34m\u001b[0m\u001b[0;34m\u001b[0m\u001b[0m\n\u001b[1;32m    215\u001b[0m     \u001b[0;34m\"\"\"Calls with flattened tensor inputs and returns the structured output.\"\"\"\u001b[0m\u001b[0;34m\u001b[0m\u001b[0;34m\u001b[0m\u001b[0m\n\u001b[0;32m--> 216\u001b[0;31m     \u001b[0mflat_outputs\u001b[0m \u001b[0;34m=\u001b[0m \u001b[0mself\u001b[0m\u001b[0;34m.\u001b[0m\u001b[0mcall_flat\u001b[0m\u001b[0;34m(\u001b[0m\u001b[0;34m*\u001b[0m\u001b[0margs\u001b[0m\u001b[0;34m)\u001b[0m\u001b[0;34m\u001b[0m\u001b[0;34m\u001b[0m\u001b[0m\n\u001b[0m\u001b[1;32m    217\u001b[0m     \u001b[0;32mreturn\u001b[0m \u001b[0mself\u001b[0m\u001b[0;34m.\u001b[0m\u001b[0mfunction_type\u001b[0m\u001b[0;34m.\u001b[0m\u001b[0mpack_output\u001b[0m\u001b[0;34m(\u001b[0m\u001b[0mflat_outputs\u001b[0m\u001b[0;34m)\u001b[0m\u001b[0;34m\u001b[0m\u001b[0;34m\u001b[0m\u001b[0m\n\u001b[1;32m    218\u001b[0m \u001b[0;34m\u001b[0m\u001b[0m\n",
            "\u001b[0;32m/usr/local/lib/python3.10/dist-packages/tensorflow/python/eager/polymorphic_function/atomic_function.py\u001b[0m in \u001b[0;36mcall_flat\u001b[0;34m(self, *args)\u001b[0m\n\u001b[1;32m    249\u001b[0m         \u001b[0;32mwith\u001b[0m \u001b[0mrecord\u001b[0m\u001b[0;34m.\u001b[0m\u001b[0mstop_recording\u001b[0m\u001b[0;34m(\u001b[0m\u001b[0;34m)\u001b[0m\u001b[0;34m:\u001b[0m\u001b[0;34m\u001b[0m\u001b[0;34m\u001b[0m\u001b[0m\n\u001b[1;32m    250\u001b[0m           \u001b[0;32mif\u001b[0m \u001b[0mself\u001b[0m\u001b[0;34m.\u001b[0m\u001b[0m_bound_context\u001b[0m\u001b[0;34m.\u001b[0m\u001b[0mexecuting_eagerly\u001b[0m\u001b[0;34m(\u001b[0m\u001b[0;34m)\u001b[0m\u001b[0;34m:\u001b[0m\u001b[0;34m\u001b[0m\u001b[0;34m\u001b[0m\u001b[0m\n\u001b[0;32m--> 251\u001b[0;31m             outputs = self._bound_context.call_function(\n\u001b[0m\u001b[1;32m    252\u001b[0m                 \u001b[0mself\u001b[0m\u001b[0;34m.\u001b[0m\u001b[0mname\u001b[0m\u001b[0;34m,\u001b[0m\u001b[0;34m\u001b[0m\u001b[0;34m\u001b[0m\u001b[0m\n\u001b[1;32m    253\u001b[0m                 \u001b[0mlist\u001b[0m\u001b[0;34m(\u001b[0m\u001b[0margs\u001b[0m\u001b[0;34m)\u001b[0m\u001b[0;34m,\u001b[0m\u001b[0;34m\u001b[0m\u001b[0;34m\u001b[0m\u001b[0m\n",
            "\u001b[0;32m/usr/local/lib/python3.10/dist-packages/tensorflow/python/eager/context.py\u001b[0m in \u001b[0;36mcall_function\u001b[0;34m(self, name, tensor_inputs, num_outputs)\u001b[0m\n\u001b[1;32m   1484\u001b[0m     \u001b[0mcancellation_context\u001b[0m \u001b[0;34m=\u001b[0m \u001b[0mcancellation\u001b[0m\u001b[0;34m.\u001b[0m\u001b[0mcontext\u001b[0m\u001b[0;34m(\u001b[0m\u001b[0;34m)\u001b[0m\u001b[0;34m\u001b[0m\u001b[0;34m\u001b[0m\u001b[0m\n\u001b[1;32m   1485\u001b[0m     \u001b[0;32mif\u001b[0m \u001b[0mcancellation_context\u001b[0m \u001b[0;32mis\u001b[0m \u001b[0;32mNone\u001b[0m\u001b[0;34m:\u001b[0m\u001b[0;34m\u001b[0m\u001b[0;34m\u001b[0m\u001b[0m\n\u001b[0;32m-> 1486\u001b[0;31m       outputs = execute.execute(\n\u001b[0m\u001b[1;32m   1487\u001b[0m           \u001b[0mname\u001b[0m\u001b[0;34m.\u001b[0m\u001b[0mdecode\u001b[0m\u001b[0;34m(\u001b[0m\u001b[0;34m\"utf-8\"\u001b[0m\u001b[0;34m)\u001b[0m\u001b[0;34m,\u001b[0m\u001b[0;34m\u001b[0m\u001b[0;34m\u001b[0m\u001b[0m\n\u001b[1;32m   1488\u001b[0m           \u001b[0mnum_outputs\u001b[0m\u001b[0;34m=\u001b[0m\u001b[0mnum_outputs\u001b[0m\u001b[0;34m,\u001b[0m\u001b[0;34m\u001b[0m\u001b[0;34m\u001b[0m\u001b[0m\n",
            "\u001b[0;32m/usr/local/lib/python3.10/dist-packages/tensorflow/python/eager/execute.py\u001b[0m in \u001b[0;36mquick_execute\u001b[0;34m(op_name, num_outputs, inputs, attrs, ctx, name)\u001b[0m\n\u001b[1;32m     51\u001b[0m   \u001b[0;32mtry\u001b[0m\u001b[0;34m:\u001b[0m\u001b[0;34m\u001b[0m\u001b[0;34m\u001b[0m\u001b[0m\n\u001b[1;32m     52\u001b[0m     \u001b[0mctx\u001b[0m\u001b[0;34m.\u001b[0m\u001b[0mensure_initialized\u001b[0m\u001b[0;34m(\u001b[0m\u001b[0;34m)\u001b[0m\u001b[0;34m\u001b[0m\u001b[0;34m\u001b[0m\u001b[0m\n\u001b[0;32m---> 53\u001b[0;31m     tensors = pywrap_tfe.TFE_Py_Execute(ctx._handle, device_name, op_name,\n\u001b[0m\u001b[1;32m     54\u001b[0m                                         inputs, attrs, num_outputs)\n\u001b[1;32m     55\u001b[0m   \u001b[0;32mexcept\u001b[0m \u001b[0mcore\u001b[0m\u001b[0;34m.\u001b[0m\u001b[0m_NotOkStatusException\u001b[0m \u001b[0;32mas\u001b[0m \u001b[0me\u001b[0m\u001b[0;34m:\u001b[0m\u001b[0;34m\u001b[0m\u001b[0;34m\u001b[0m\u001b[0m\n",
            "\u001b[0;31mKeyboardInterrupt\u001b[0m: "
          ]
        }
      ],
      "source": [
        "\"\"\"\n",
        "Шумоочистка при помощи сверточного автоэнкодера\n",
        "\"\"\"\n",
        "# Создать сверточную сеть\n",
        "def create_noise_canceling_model(input_shape):\n",
        "    model = models.Sequential([\n",
        "        # Энкодер\n",
        "        layers.Conv1D(32, kernel_size=3, activation='relu', padding='same', input_shape=input_shape),\n",
        "        layers.MaxPooling1D(pool_size=2),\n",
        "        layers.Conv1D(64, kernel_size=3, activation='relu', padding='same'),\n",
        "        layers.MaxPooling1D(pool_size=2),\n",
        "        layers.Conv1D(128, kernel_size=3, activation='relu', padding='same'),\n",
        "        layers.MaxPooling1D(pool_size=2),\n",
        "        # Летнтное пространство\n",
        "        layers.Conv1D(128, kernel_size=3, activation='relu', padding='same'),\n",
        "        # Декодер\n",
        "        layers.UpSampling1D(size=2),\n",
        "        layers.Conv1D(64, kernel_size=3, activation='relu', padding='same'),\n",
        "        layers.UpSampling1D(size=2),\n",
        "        layers.Conv1D(32, kernel_size=3, activation='relu', padding='same'),\n",
        "        layers.UpSampling1D(size=2),\n",
        "        layers.Conv1D(1, kernel_size=3, activation='tanh', padding='same')\n",
        "    ])\n",
        "    return model\n",
        "\n",
        "\n",
        "# Определенить форму входных данных для модели\n",
        "input_shape = (window_size, 1)\n",
        "\n",
        "# Созданить модель для шумоочистки\n",
        "model = create_noise_canceling_model(input_shape)\n",
        "\n",
        "# Скомпилировать и обучить модель\n",
        "model.compile(optimizer='adam', loss='mse')\n",
        "print(model.summary())\n",
        "model.fit(train_x,\n",
        "          train_y,\n",
        "          epochs=20,\n",
        "          batch_size=128,\n",
        "          callbacks=[TqdmCallback(verbose=1)],\n",
        "          validation_data=(val_x, val_y),\n",
        "          verbose=0)\n",
        "\n",
        "# Сохранить обученную модель\n",
        "model.save(\"noise_cancel_conv.h5\")\n"
      ]
    },
    {
      "cell_type": "markdown",
      "metadata": {
        "id": "iVvRG0drkVAx"
      },
      "source": [
        "Чтобы не ждать обучения сети, можно загрузить заранее натренированную модель."
      ]
    },
    {
      "cell_type": "code",
      "execution_count": null,
      "metadata": {
        "id": "oZ8fHx7okWAh"
      },
      "outputs": [],
      "source": [
        "model = keras.saving.load_model(\"models/noise_cancel_conv.h5\")"
      ]
    },
    {
      "cell_type": "markdown",
      "source": [
        "Посмотрим значение функции потерь на тестовых данных."
      ],
      "metadata": {
        "id": "rDnP-UL1v-ll"
      }
    },
    {
      "cell_type": "code",
      "source": [
        "display(model.evaluate(test_x, test_y))"
      ],
      "metadata": {
        "colab": {
          "base_uri": "https://localhost:8080/",
          "height": 52
        },
        "id": "o-opolQSwHNi",
        "outputId": "a33cd3f4-6dd5-4dd1-c2d4-bd5e7faa2c74"
      },
      "execution_count": null,
      "outputs": [
        {
          "output_type": "stream",
          "name": "stdout",
          "text": [
            "188/188 [==============================] - 12s 59ms/step - loss: 0.0011\n"
          ]
        },
        {
          "output_type": "display_data",
          "data": {
            "text/plain": [
              "0.0010995211778208613"
            ]
          },
          "metadata": {}
        }
      ]
    },
    {
      "cell_type": "markdown",
      "metadata": {
        "id": "AMYxitZbkZ0g"
      },
      "source": [
        "Посмотрим, как сеть очистит 1 зашумленный файл"
      ]
    },
    {
      "cell_type": "code",
      "execution_count": null,
      "metadata": {
        "id": "F2rmBPQzkaIg",
        "colab": {
          "base_uri": "https://localhost:8080/",
          "height": 466
        },
        "outputId": "ef80cb93-f321-4ac3-f508-71f9dd0f5b06"
      },
      "outputs": [
        {
          "output_type": "stream",
          "name": "stdout",
          "text": [
            "26/26 [==============================] - 2s 48ms/step\n"
          ]
        },
        {
          "output_type": "display_data",
          "data": {
            "text/plain": [
              "<Figure size 640x480 with 3 Axes>"
            ],
            "image/png": "[encoded data removed]"
          },
          "metadata": {}
        }
      ],
      "source": [
        "preparer = DataPreparator()\n",
        "\n",
        "# Размер окна для обработки аудио\n",
        "window_size = 1000\n",
        "\n",
        "# Загрузить зашумленный аудиофайл\n",
        "noisy_audio, sr = preparer.load_file(\"music.wav\")\n",
        "\n",
        "# Изменить форму данных, чтобы они соответствовали ожидаемому формату модели\n",
        "noisy_audio = preparer.reshape_data([noisy_audio])\n",
        "noisy_audio = np.array(noisy_audio).reshape(-1, window_size, 1)\n",
        "\n",
        "# Предсказать чистый звук с помощью модели\n",
        "clean_audio = model.predict(noisy_audio).flatten()\n",
        "\n",
        "# Сохранить предсказанный чистый аудиофайл\n",
        "output_file = \"clean_audio_conv.wav\"\n",
        "preparer.save_audio(clean_audio, output_file, sr)\n",
        "\n",
        "# Преобразовать зашумленный и чистый аудиофайлы в одномерные массивы\n",
        "X = noisy_audio.flatten()\n",
        "y = clean_audio.flatten()\n",
        "\n",
        "# Построить графики для зашумленного, чистого и очищенного аудиофайлов\n",
        "lin_space = np.linspace(0, clean_audio.shape[0] / sr, clean_audio.shape[0])\n",
        "fig, axs = plt.subplots(3)\n",
        "axs[1].set_ylabel(\"Амлитуда\")\n",
        "axs[2].set_xlabel(\"Момент времени (секунды)\")\n",
        "axs[0].plot(lin_space, X, color='r')  # Красный - зашумленный\n",
        "axs[1].plot(lin_space, clean_audio, color='b')  # Синий - чистый\n",
        "axs[2].plot(lin_space, y, color='g')  # Зеленый - очищенный\n",
        "plt.show()"
      ]
    },
    {
      "cell_type": "markdown",
      "metadata": {
        "id": "gPqgd7tNk0FL"
      },
      "source": [
        "# Шумоочистка при помощи LSTM"
      ]
    },
    {
      "cell_type": "markdown",
      "metadata": {
        "id": "Tlbvz0Xck1ky"
      },
      "source": [
        "\n",
        "LSTM (Long Short-Term Memory)-сети - тип рекуррентных нейронных сетей, способный генерировать очередной вывод, учитывая предыдущие вводы/выводы сети. LSTM отличается от многих других рекуррентных нейронных сетей тем, что способен эффективно обрабатывать и запоминать долгосрочные зависимости в последовательностях данных, что делает их довольно популярными в генерации последовательностей в целом. В контексте шумоочистки, LSTM-сети обучаются на зашумленных входных данных и стремятся восстановить чистые данные. Они способны учитывать контекст и долгосрочные зависимости между данными, что делает их эффективными инструментами для решения задачи удаления шума из временных последовательностей."
      ]
    },
    {
      "cell_type": "markdown",
      "metadata": {
        "id": "Z0TcXwq_DIFT"
      },
      "source": [
        "Рассмотрим пример реализации LSTM-сети для шумоочистки звукового сигнала"
      ]
    },
    {
      "cell_type": "code",
      "execution_count": null,
      "metadata": {
        "colab": {
          "base_uri": "https://localhost:8080/",
          "height": 837,
          "referenced_widgets": [
            "5111d99e43b44fd2b1f42ed51db2e4b9",
            "fda063729cca441091c0c6589f3f0439",
            "ba87120dd05e4cb282818b8a070f9470",
            "d57a5c15bf61402da76a936a3d9b8bc8",
            "d5c1369140f248579f8596b9b9383b30",
            "46a2cb054ea84b1082089397c92dc3f1",
            "e646ae9d6d8543aaa2d815f34c81af2c",
            "5d897b8693a94868b19b203fb2fb4236",
            "1e65a3b2cb0945a3bacb2bbf14488980",
            "09a9f438e58943c2a98d66aee8d34be5",
            "c84964b6022d42c2ac1ab3d728dfcb77",
            "1a36d2f84ee44f82a05fa4870873bb3f",
            "c4d48fe5d25e443ca223025a773d088e",
            "8c410df362d847edae71d45853d2e1f8",
            "62edd8b118754f39a6b206105deaadb5",
            "536f50b5592e44f982bd62eb7de16619",
            "37a4587135614b4e855e67379f588098",
            "9385202f512f42708d7a09ce184207f2",
            "6dbe26fd955f4cf0b9694885f88893db",
            "4566dc089e7f4e0183fd1d0bc8d31992",
            "9ce09b66dcfc43678354b071fe45d9ee",
            "41dce107293746d7976d1e7b119a65fd"
          ]
        },
        "id": "GvqIEGWRk7Ku",
        "outputId": "799f280d-3b3a-4917-9597-c754439dd56c"
      },
      "outputs": [
        {
          "output_type": "stream",
          "name": "stdout",
          "text": [
            "Model: \"sequential_1\"\n",
            "_________________________________________________________________\n",
            " Layer (type)                Output Shape              Param #   \n",
            "=================================================================\n",
            " lstm (LSTM)                 (None, 1000, 64)          16896     \n",
            "                                                                 \n",
            " lstm_1 (LSTM)               (None, 1000, 64)          33024     \n",
            "                                                                 \n",
            " time_distributed (TimeDist  (None, 1000, 64)          4160      \n",
            " ributed)                                                        \n",
            "                                                                 \n",
            " lstm_2 (LSTM)               (None, 1000, 64)          33024     \n",
            "                                                                 \n",
            " lstm_3 (LSTM)               (None, 1000, 64)          33024     \n",
            "                                                                 \n",
            " time_distributed_1 (TimeDi  (None, 1000, 1)           65        \n",
            " stributed)                                                      \n",
            "                                                                 \n",
            "=================================================================\n",
            "Total params: 120193 (469.50 KB)\n",
            "Trainable params: 120193 (469.50 KB)\n",
            "Non-trainable params: 0 (0.00 Byte)\n",
            "_________________________________________________________________\n",
            "None\n"
          ]
        },
        {
          "output_type": "display_data",
          "data": {
            "text/plain": [
              "0epoch [00:00, ?epoch/s]"
            ],
            "application/vnd.jupyter.widget-view+json": {
              "version_major": 2,
              "version_minor": 0,
              "model_id": "5111d99e43b44fd2b1f42ed51db2e4b9"
            }
          },
          "metadata": {}
        },
        {
          "output_type": "display_data",
          "data": {
            "text/plain": [
              "0batch [00:00, ?batch/s]"
            ],
            "application/vnd.jupyter.widget-view+json": {
              "version_major": 2,
              "version_minor": 0,
              "model_id": "1a36d2f84ee44f82a05fa4870873bb3f"
            }
          },
          "metadata": {}
        },
        {
          "output_type": "error",
          "ename": "KeyboardInterrupt",
          "evalue": "",
          "traceback": [
            "\u001b[0;31m---------------------------------------------------------------------------\u001b[0m",
            "\u001b[0;31mKeyboardInterrupt\u001b[0m                         Traceback (most recent call last)",
            "\u001b[0;32m<ipython-input-14-5c8056a49946>\u001b[0m in \u001b[0;36m<cell line: 52>\u001b[0;34m()\u001b[0m\n\u001b[1;32m     50\u001b[0m \u001b[0mmodel\u001b[0m\u001b[0;34m.\u001b[0m\u001b[0mcompile\u001b[0m\u001b[0;34m(\u001b[0m\u001b[0moptimizer\u001b[0m\u001b[0;34m=\u001b[0m\u001b[0;34m'adam'\u001b[0m\u001b[0;34m,\u001b[0m \u001b[0mloss\u001b[0m\u001b[0;34m=\u001b[0m\u001b[0;34m'mse'\u001b[0m\u001b[0;34m)\u001b[0m\u001b[0;34m\u001b[0m\u001b[0;34m\u001b[0m\u001b[0m\n\u001b[1;32m     51\u001b[0m \u001b[0mprint\u001b[0m\u001b[0;34m(\u001b[0m\u001b[0mmodel\u001b[0m\u001b[0;34m.\u001b[0m\u001b[0msummary\u001b[0m\u001b[0;34m(\u001b[0m\u001b[0;34m)\u001b[0m\u001b[0;34m)\u001b[0m\u001b[0;34m\u001b[0m\u001b[0;34m\u001b[0m\u001b[0m\n\u001b[0;32m---> 52\u001b[0;31m \u001b[0mmodel\u001b[0m\u001b[0;34m.\u001b[0m\u001b[0mfit\u001b[0m\u001b[0;34m(\u001b[0m\u001b[0mtrain_x\u001b[0m\u001b[0;34m,\u001b[0m \u001b[0mtrain_y\u001b[0m\u001b[0;34m,\u001b[0m \u001b[0mepochs\u001b[0m\u001b[0;34m=\u001b[0m\u001b[0;36m3\u001b[0m\u001b[0;34m,\u001b[0m \u001b[0mbatch_size\u001b[0m\u001b[0;34m=\u001b[0m\u001b[0;36m32\u001b[0m\u001b[0;34m,\u001b[0m \u001b[0mcallbacks\u001b[0m\u001b[0;34m=\u001b[0m\u001b[0;34m[\u001b[0m\u001b[0mTqdmCallback\u001b[0m\u001b[0;34m(\u001b[0m\u001b[0mverbose\u001b[0m\u001b[0;34m=\u001b[0m\u001b[0;36m1\u001b[0m\u001b[0;34m)\u001b[0m\u001b[0;34m]\u001b[0m\u001b[0;34m,\u001b[0m \u001b[0mverbose\u001b[0m\u001b[0;34m=\u001b[0m\u001b[0;36m0\u001b[0m\u001b[0;34m)\u001b[0m\u001b[0;34m\u001b[0m\u001b[0;34m\u001b[0m\u001b[0m\n\u001b[0m\u001b[1;32m     53\u001b[0m \u001b[0;34m\u001b[0m\u001b[0m\n\u001b[1;32m     54\u001b[0m \u001b[0;31m# Сохранение обученной модели\u001b[0m\u001b[0;34m\u001b[0m\u001b[0;34m\u001b[0m\u001b[0m\n",
            "\u001b[0;32m/usr/local/lib/python3.10/dist-packages/keras/src/utils/traceback_utils.py\u001b[0m in \u001b[0;36merror_handler\u001b[0;34m(*args, **kwargs)\u001b[0m\n\u001b[1;32m     63\u001b[0m         \u001b[0mfiltered_tb\u001b[0m \u001b[0;34m=\u001b[0m \u001b[0;32mNone\u001b[0m\u001b[0;34m\u001b[0m\u001b[0;34m\u001b[0m\u001b[0m\n\u001b[1;32m     64\u001b[0m         \u001b[0;32mtry\u001b[0m\u001b[0;34m:\u001b[0m\u001b[0;34m\u001b[0m\u001b[0;34m\u001b[0m\u001b[0m\n\u001b[0;32m---> 65\u001b[0;31m             \u001b[0;32mreturn\u001b[0m \u001b[0mfn\u001b[0m\u001b[0;34m(\u001b[0m\u001b[0;34m*\u001b[0m\u001b[0margs\u001b[0m\u001b[0;34m,\u001b[0m \u001b[0;34m**\u001b[0m\u001b[0mkwargs\u001b[0m\u001b[0;34m)\u001b[0m\u001b[0;34m\u001b[0m\u001b[0;34m\u001b[0m\u001b[0m\n\u001b[0m\u001b[1;32m     66\u001b[0m         \u001b[0;32mexcept\u001b[0m \u001b[0mException\u001b[0m \u001b[0;32mas\u001b[0m \u001b[0me\u001b[0m\u001b[0;34m:\u001b[0m\u001b[0;34m\u001b[0m\u001b[0;34m\u001b[0m\u001b[0m\n\u001b[1;32m     67\u001b[0m             \u001b[0mfiltered_tb\u001b[0m \u001b[0;34m=\u001b[0m \u001b[0m_process_traceback_frames\u001b[0m\u001b[0;34m(\u001b[0m\u001b[0me\u001b[0m\u001b[0;34m.\u001b[0m\u001b[0m__traceback__\u001b[0m\u001b[0;34m)\u001b[0m\u001b[0;34m\u001b[0m\u001b[0;34m\u001b[0m\u001b[0m\n",
            "\u001b[0;32m/usr/local/lib/python3.10/dist-packages/keras/src/engine/training.py\u001b[0m in \u001b[0;36mfit\u001b[0;34m(self, x, y, batch_size, epochs, verbose, callbacks, validation_split, validation_data, shuffle, class_weight, sample_weight, initial_epoch, steps_per_epoch, validation_steps, validation_batch_size, validation_freq, max_queue_size, workers, use_multiprocessing)\u001b[0m\n\u001b[1;32m   1805\u001b[0m                         ):\n\u001b[1;32m   1806\u001b[0m                             \u001b[0mcallbacks\u001b[0m\u001b[0;34m.\u001b[0m\u001b[0mon_train_batch_begin\u001b[0m\u001b[0;34m(\u001b[0m\u001b[0mstep\u001b[0m\u001b[0;34m)\u001b[0m\u001b[0;34m\u001b[0m\u001b[0;34m\u001b[0m\u001b[0m\n\u001b[0;32m-> 1807\u001b[0;31m                             \u001b[0mtmp_logs\u001b[0m \u001b[0;34m=\u001b[0m \u001b[0mself\u001b[0m\u001b[0;34m.\u001b[0m\u001b[0mtrain_function\u001b[0m\u001b[0;34m(\u001b[0m\u001b[0miterator\u001b[0m\u001b[0;34m)\u001b[0m\u001b[0;34m\u001b[0m\u001b[0;34m\u001b[0m\u001b[0m\n\u001b[0m\u001b[1;32m   1808\u001b[0m                             \u001b[0;32mif\u001b[0m \u001b[0mdata_handler\u001b[0m\u001b[0;34m.\u001b[0m\u001b[0mshould_sync\u001b[0m\u001b[0;34m:\u001b[0m\u001b[0;34m\u001b[0m\u001b[0;34m\u001b[0m\u001b[0m\n\u001b[1;32m   1809\u001b[0m                                 \u001b[0mcontext\u001b[0m\u001b[0;34m.\u001b[0m\u001b[0masync_wait\u001b[0m\u001b[0;34m(\u001b[0m\u001b[0;34m)\u001b[0m\u001b[0;34m\u001b[0m\u001b[0;34m\u001b[0m\u001b[0m\n",
            "\u001b[0;32m/usr/local/lib/python3.10/dist-packages/tensorflow/python/util/traceback_utils.py\u001b[0m in \u001b[0;36merror_handler\u001b[0;34m(*args, **kwargs)\u001b[0m\n\u001b[1;32m    148\u001b[0m     \u001b[0mfiltered_tb\u001b[0m \u001b[0;34m=\u001b[0m \u001b[0;32mNone\u001b[0m\u001b[0;34m\u001b[0m\u001b[0;34m\u001b[0m\u001b[0m\n\u001b[1;32m    149\u001b[0m     \u001b[0;32mtry\u001b[0m\u001b[0;34m:\u001b[0m\u001b[0;34m\u001b[0m\u001b[0;34m\u001b[0m\u001b[0m\n\u001b[0;32m--> 150\u001b[0;31m       \u001b[0;32mreturn\u001b[0m \u001b[0mfn\u001b[0m\u001b[0;34m(\u001b[0m\u001b[0;34m*\u001b[0m\u001b[0margs\u001b[0m\u001b[0;34m,\u001b[0m \u001b[0;34m**\u001b[0m\u001b[0mkwargs\u001b[0m\u001b[0;34m)\u001b[0m\u001b[0;34m\u001b[0m\u001b[0;34m\u001b[0m\u001b[0m\n\u001b[0m\u001b[1;32m    151\u001b[0m     \u001b[0;32mexcept\u001b[0m \u001b[0mException\u001b[0m \u001b[0;32mas\u001b[0m \u001b[0me\u001b[0m\u001b[0;34m:\u001b[0m\u001b[0;34m\u001b[0m\u001b[0;34m\u001b[0m\u001b[0m\n\u001b[1;32m    152\u001b[0m       \u001b[0mfiltered_tb\u001b[0m \u001b[0;34m=\u001b[0m \u001b[0m_process_traceback_frames\u001b[0m\u001b[0;34m(\u001b[0m\u001b[0me\u001b[0m\u001b[0;34m.\u001b[0m\u001b[0m__traceback__\u001b[0m\u001b[0;34m)\u001b[0m\u001b[0;34m\u001b[0m\u001b[0;34m\u001b[0m\u001b[0m\n",
            "\u001b[0;32m/usr/local/lib/python3.10/dist-packages/tensorflow/python/eager/polymorphic_function/polymorphic_function.py\u001b[0m in \u001b[0;36m__call__\u001b[0;34m(self, *args, **kwds)\u001b[0m\n\u001b[1;32m    830\u001b[0m \u001b[0;34m\u001b[0m\u001b[0m\n\u001b[1;32m    831\u001b[0m       \u001b[0;32mwith\u001b[0m \u001b[0mOptionalXlaContext\u001b[0m\u001b[0;34m(\u001b[0m\u001b[0mself\u001b[0m\u001b[0;34m.\u001b[0m\u001b[0m_jit_compile\u001b[0m\u001b[0;34m)\u001b[0m\u001b[0;34m:\u001b[0m\u001b[0;34m\u001b[0m\u001b[0;34m\u001b[0m\u001b[0m\n\u001b[0;32m--> 832\u001b[0;31m         \u001b[0mresult\u001b[0m \u001b[0;34m=\u001b[0m \u001b[0mself\u001b[0m\u001b[0;34m.\u001b[0m\u001b[0m_call\u001b[0m\u001b[0;34m(\u001b[0m\u001b[0;34m*\u001b[0m\u001b[0margs\u001b[0m\u001b[0;34m,\u001b[0m \u001b[0;34m**\u001b[0m\u001b[0mkwds\u001b[0m\u001b[0;34m)\u001b[0m\u001b[0;34m\u001b[0m\u001b[0;34m\u001b[0m\u001b[0m\n\u001b[0m\u001b[1;32m    833\u001b[0m \u001b[0;34m\u001b[0m\u001b[0m\n\u001b[1;32m    834\u001b[0m       \u001b[0mnew_tracing_count\u001b[0m \u001b[0;34m=\u001b[0m \u001b[0mself\u001b[0m\u001b[0;34m.\u001b[0m\u001b[0mexperimental_get_tracing_count\u001b[0m\u001b[0;34m(\u001b[0m\u001b[0;34m)\u001b[0m\u001b[0;34m\u001b[0m\u001b[0;34m\u001b[0m\u001b[0m\n",
            "\u001b[0;32m/usr/local/lib/python3.10/dist-packages/tensorflow/python/eager/polymorphic_function/polymorphic_function.py\u001b[0m in \u001b[0;36m_call\u001b[0;34m(self, *args, **kwds)\u001b[0m\n\u001b[1;32m    866\u001b[0m       \u001b[0;31m# In this case we have created variables on the first call, so we run the\u001b[0m\u001b[0;34m\u001b[0m\u001b[0;34m\u001b[0m\u001b[0m\n\u001b[1;32m    867\u001b[0m       \u001b[0;31m# defunned version which is guaranteed to never create variables.\u001b[0m\u001b[0;34m\u001b[0m\u001b[0;34m\u001b[0m\u001b[0m\n\u001b[0;32m--> 868\u001b[0;31m       return tracing_compilation.call_function(\n\u001b[0m\u001b[1;32m    869\u001b[0m           \u001b[0margs\u001b[0m\u001b[0;34m,\u001b[0m \u001b[0mkwds\u001b[0m\u001b[0;34m,\u001b[0m \u001b[0mself\u001b[0m\u001b[0;34m.\u001b[0m\u001b[0m_no_variable_creation_config\u001b[0m\u001b[0;34m\u001b[0m\u001b[0;34m\u001b[0m\u001b[0m\n\u001b[1;32m    870\u001b[0m       )\n",
            "\u001b[0;32m/usr/local/lib/python3.10/dist-packages/tensorflow/python/eager/polymorphic_function/tracing_compilation.py\u001b[0m in \u001b[0;36mcall_function\u001b[0;34m(args, kwargs, tracing_options)\u001b[0m\n\u001b[1;32m    137\u001b[0m   \u001b[0mbound_args\u001b[0m \u001b[0;34m=\u001b[0m \u001b[0mfunction\u001b[0m\u001b[0;34m.\u001b[0m\u001b[0mfunction_type\u001b[0m\u001b[0;34m.\u001b[0m\u001b[0mbind\u001b[0m\u001b[0;34m(\u001b[0m\u001b[0;34m*\u001b[0m\u001b[0margs\u001b[0m\u001b[0;34m,\u001b[0m \u001b[0;34m**\u001b[0m\u001b[0mkwargs\u001b[0m\u001b[0;34m)\u001b[0m\u001b[0;34m\u001b[0m\u001b[0;34m\u001b[0m\u001b[0m\n\u001b[1;32m    138\u001b[0m   \u001b[0mflat_inputs\u001b[0m \u001b[0;34m=\u001b[0m \u001b[0mfunction\u001b[0m\u001b[0;34m.\u001b[0m\u001b[0mfunction_type\u001b[0m\u001b[0;34m.\u001b[0m\u001b[0munpack_inputs\u001b[0m\u001b[0;34m(\u001b[0m\u001b[0mbound_args\u001b[0m\u001b[0;34m)\u001b[0m\u001b[0;34m\u001b[0m\u001b[0;34m\u001b[0m\u001b[0m\n\u001b[0;32m--> 139\u001b[0;31m   return function._call_flat(  # pylint: disable=protected-access\n\u001b[0m\u001b[1;32m    140\u001b[0m       \u001b[0mflat_inputs\u001b[0m\u001b[0;34m,\u001b[0m \u001b[0mcaptured_inputs\u001b[0m\u001b[0;34m=\u001b[0m\u001b[0mfunction\u001b[0m\u001b[0;34m.\u001b[0m\u001b[0mcaptured_inputs\u001b[0m\u001b[0;34m\u001b[0m\u001b[0;34m\u001b[0m\u001b[0m\n\u001b[1;32m    141\u001b[0m   )\n",
            "\u001b[0;32m/usr/local/lib/python3.10/dist-packages/tensorflow/python/eager/polymorphic_function/concrete_function.py\u001b[0m in \u001b[0;36m_call_flat\u001b[0;34m(self, tensor_inputs, captured_inputs)\u001b[0m\n\u001b[1;32m   1321\u001b[0m         and executing_eagerly):\n\u001b[1;32m   1322\u001b[0m       \u001b[0;31m# No tape is watching; skip to running the function.\u001b[0m\u001b[0;34m\u001b[0m\u001b[0;34m\u001b[0m\u001b[0m\n\u001b[0;32m-> 1323\u001b[0;31m       \u001b[0;32mreturn\u001b[0m \u001b[0mself\u001b[0m\u001b[0;34m.\u001b[0m\u001b[0m_inference_function\u001b[0m\u001b[0;34m.\u001b[0m\u001b[0mcall_preflattened\u001b[0m\u001b[0;34m(\u001b[0m\u001b[0margs\u001b[0m\u001b[0;34m)\u001b[0m\u001b[0;34m\u001b[0m\u001b[0;34m\u001b[0m\u001b[0m\n\u001b[0m\u001b[1;32m   1324\u001b[0m     forward_backward = self._select_forward_and_backward_functions(\n\u001b[1;32m   1325\u001b[0m         \u001b[0margs\u001b[0m\u001b[0;34m,\u001b[0m\u001b[0;34m\u001b[0m\u001b[0;34m\u001b[0m\u001b[0m\n",
            "\u001b[0;32m/usr/local/lib/python3.10/dist-packages/tensorflow/python/eager/polymorphic_function/atomic_function.py\u001b[0m in \u001b[0;36mcall_preflattened\u001b[0;34m(self, args)\u001b[0m\n\u001b[1;32m    214\u001b[0m   \u001b[0;32mdef\u001b[0m \u001b[0mcall_preflattened\u001b[0m\u001b[0;34m(\u001b[0m\u001b[0mself\u001b[0m\u001b[0;34m,\u001b[0m \u001b[0margs\u001b[0m\u001b[0;34m:\u001b[0m \u001b[0mSequence\u001b[0m\u001b[0;34m[\u001b[0m\u001b[0mcore\u001b[0m\u001b[0;34m.\u001b[0m\u001b[0mTensor\u001b[0m\u001b[0;34m]\u001b[0m\u001b[0;34m)\u001b[0m \u001b[0;34m->\u001b[0m \u001b[0mAny\u001b[0m\u001b[0;34m:\u001b[0m\u001b[0;34m\u001b[0m\u001b[0;34m\u001b[0m\u001b[0m\n\u001b[1;32m    215\u001b[0m     \u001b[0;34m\"\"\"Calls with flattened tensor inputs and returns the structured output.\"\"\"\u001b[0m\u001b[0;34m\u001b[0m\u001b[0;34m\u001b[0m\u001b[0m\n\u001b[0;32m--> 216\u001b[0;31m     \u001b[0mflat_outputs\u001b[0m \u001b[0;34m=\u001b[0m \u001b[0mself\u001b[0m\u001b[0;34m.\u001b[0m\u001b[0mcall_flat\u001b[0m\u001b[0;34m(\u001b[0m\u001b[0;34m*\u001b[0m\u001b[0margs\u001b[0m\u001b[0;34m)\u001b[0m\u001b[0;34m\u001b[0m\u001b[0;34m\u001b[0m\u001b[0m\n\u001b[0m\u001b[1;32m    217\u001b[0m     \u001b[0;32mreturn\u001b[0m \u001b[0mself\u001b[0m\u001b[0;34m.\u001b[0m\u001b[0mfunction_type\u001b[0m\u001b[0;34m.\u001b[0m\u001b[0mpack_output\u001b[0m\u001b[0;34m(\u001b[0m\u001b[0mflat_outputs\u001b[0m\u001b[0;34m)\u001b[0m\u001b[0;34m\u001b[0m\u001b[0;34m\u001b[0m\u001b[0m\n\u001b[1;32m    218\u001b[0m \u001b[0;34m\u001b[0m\u001b[0m\n",
            "\u001b[0;32m/usr/local/lib/python3.10/dist-packages/tensorflow/python/eager/polymorphic_function/atomic_function.py\u001b[0m in \u001b[0;36mcall_flat\u001b[0;34m(self, *args)\u001b[0m\n\u001b[1;32m    249\u001b[0m         \u001b[0;32mwith\u001b[0m \u001b[0mrecord\u001b[0m\u001b[0;34m.\u001b[0m\u001b[0mstop_recording\u001b[0m\u001b[0;34m(\u001b[0m\u001b[0;34m)\u001b[0m\u001b[0;34m:\u001b[0m\u001b[0;34m\u001b[0m\u001b[0;34m\u001b[0m\u001b[0m\n\u001b[1;32m    250\u001b[0m           \u001b[0;32mif\u001b[0m \u001b[0mself\u001b[0m\u001b[0;34m.\u001b[0m\u001b[0m_bound_context\u001b[0m\u001b[0;34m.\u001b[0m\u001b[0mexecuting_eagerly\u001b[0m\u001b[0;34m(\u001b[0m\u001b[0;34m)\u001b[0m\u001b[0;34m:\u001b[0m\u001b[0;34m\u001b[0m\u001b[0;34m\u001b[0m\u001b[0m\n\u001b[0;32m--> 251\u001b[0;31m             outputs = self._bound_context.call_function(\n\u001b[0m\u001b[1;32m    252\u001b[0m                 \u001b[0mself\u001b[0m\u001b[0;34m.\u001b[0m\u001b[0mname\u001b[0m\u001b[0;34m,\u001b[0m\u001b[0;34m\u001b[0m\u001b[0;34m\u001b[0m\u001b[0m\n\u001b[1;32m    253\u001b[0m                 \u001b[0mlist\u001b[0m\u001b[0;34m(\u001b[0m\u001b[0margs\u001b[0m\u001b[0;34m)\u001b[0m\u001b[0;34m,\u001b[0m\u001b[0;34m\u001b[0m\u001b[0;34m\u001b[0m\u001b[0m\n",
            "\u001b[0;32m/usr/local/lib/python3.10/dist-packages/tensorflow/python/eager/context.py\u001b[0m in \u001b[0;36mcall_function\u001b[0;34m(self, name, tensor_inputs, num_outputs)\u001b[0m\n\u001b[1;32m   1484\u001b[0m     \u001b[0mcancellation_context\u001b[0m \u001b[0;34m=\u001b[0m \u001b[0mcancellation\u001b[0m\u001b[0;34m.\u001b[0m\u001b[0mcontext\u001b[0m\u001b[0;34m(\u001b[0m\u001b[0;34m)\u001b[0m\u001b[0;34m\u001b[0m\u001b[0;34m\u001b[0m\u001b[0m\n\u001b[1;32m   1485\u001b[0m     \u001b[0;32mif\u001b[0m \u001b[0mcancellation_context\u001b[0m \u001b[0;32mis\u001b[0m \u001b[0;32mNone\u001b[0m\u001b[0;34m:\u001b[0m\u001b[0;34m\u001b[0m\u001b[0;34m\u001b[0m\u001b[0m\n\u001b[0;32m-> 1486\u001b[0;31m       outputs = execute.execute(\n\u001b[0m\u001b[1;32m   1487\u001b[0m           \u001b[0mname\u001b[0m\u001b[0;34m.\u001b[0m\u001b[0mdecode\u001b[0m\u001b[0;34m(\u001b[0m\u001b[0;34m\"utf-8\"\u001b[0m\u001b[0;34m)\u001b[0m\u001b[0;34m,\u001b[0m\u001b[0;34m\u001b[0m\u001b[0;34m\u001b[0m\u001b[0m\n\u001b[1;32m   1488\u001b[0m           \u001b[0mnum_outputs\u001b[0m\u001b[0;34m=\u001b[0m\u001b[0mnum_outputs\u001b[0m\u001b[0;34m,\u001b[0m\u001b[0;34m\u001b[0m\u001b[0;34m\u001b[0m\u001b[0m\n",
            "\u001b[0;32m/usr/local/lib/python3.10/dist-packages/tensorflow/python/eager/execute.py\u001b[0m in \u001b[0;36mquick_execute\u001b[0;34m(op_name, num_outputs, inputs, attrs, ctx, name)\u001b[0m\n\u001b[1;32m     51\u001b[0m   \u001b[0;32mtry\u001b[0m\u001b[0;34m:\u001b[0m\u001b[0;34m\u001b[0m\u001b[0;34m\u001b[0m\u001b[0m\n\u001b[1;32m     52\u001b[0m     \u001b[0mctx\u001b[0m\u001b[0;34m.\u001b[0m\u001b[0mensure_initialized\u001b[0m\u001b[0;34m(\u001b[0m\u001b[0;34m)\u001b[0m\u001b[0;34m\u001b[0m\u001b[0;34m\u001b[0m\u001b[0m\n\u001b[0;32m---> 53\u001b[0;31m     tensors = pywrap_tfe.TFE_Py_Execute(ctx._handle, device_name, op_name,\n\u001b[0m\u001b[1;32m     54\u001b[0m                                         inputs, attrs, num_outputs)\n\u001b[1;32m     55\u001b[0m   \u001b[0;32mexcept\u001b[0m \u001b[0mcore\u001b[0m\u001b[0;34m.\u001b[0m\u001b[0m_NotOkStatusException\u001b[0m \u001b[0;32mas\u001b[0m \u001b[0me\u001b[0m\u001b[0;34m:\u001b[0m\u001b[0;34m\u001b[0m\u001b[0;34m\u001b[0m\u001b[0m\n",
            "\u001b[0;31mKeyboardInterrupt\u001b[0m: "
          ]
        }
      ],
      "source": [
        "\"\"\"\n",
        "Шумоочистка при помощи LSTM\n",
        "\"\"\"\n",
        "\n",
        "# Создать LSTM-сеть\n",
        "def create_noise_canceling_model(input_shape):\n",
        "    model = models.Sequential([\n",
        "        layers.LSTM(64, return_sequences=True, input_shape=input_shape),\n",
        "        layers.LSTM(64, return_sequences=True, input_shape=input_shape),\n",
        "        layers.TimeDistributed(layers.Dense(64)),\n",
        "        layers.LSTM(64, return_sequences=True, input_shape=input_shape),\n",
        "        layers.LSTM(64, return_sequences=True, input_shape=input_shape),\n",
        "        layers.TimeDistributed(layers.Dense(1)),\n",
        "    ])\n",
        "    return model\n",
        "\n",
        "\n",
        "# Определение формы входных данных для модели\n",
        "input_shape = (window_size, 1)\n",
        "\n",
        "# Создать модель LSTM для шумоочистки\n",
        "model = create_noise_canceling_model(input_shape)\n",
        "\n",
        "# Скомпилировать и обучить модель\n",
        "model.compile(optimizer='adam', loss='mse')\n",
        "print(model.summary())\n",
        "model.fit(train_x, train_y, epochs=20, batch_size=32, callbacks=[TqdmCallback(verbose=1)], verbose=0)\n",
        "\n",
        "# Сохранение обученной модели\n",
        "model.save(\"noise_cancel_lstm.h5\")\n"
      ]
    },
    {
      "cell_type": "markdown",
      "metadata": {
        "id": "TRLsnUthk_WF"
      },
      "source": [
        "Загружаем заранее натренированную модель, чтобы не ждать окончание обучения."
      ]
    },
    {
      "cell_type": "code",
      "execution_count": null,
      "metadata": {
        "id": "NgXkbGSBlAK_"
      },
      "outputs": [],
      "source": [
        "model = keras.saving.load_model(\"models/noise_cancel_lstm.h5\")"
      ]
    },
    {
      "cell_type": "markdown",
      "source": [
        "Посмотрим на значение функции ошибки на тестовых данных."
      ],
      "metadata": {
        "id": "49tWHPecxD_z"
      }
    },
    {
      "cell_type": "code",
      "source": [
        "display(model.evaluate(test_x, test_y))"
      ],
      "metadata": {
        "colab": {
          "base_uri": "https://localhost:8080/",
          "height": 52
        },
        "id": "Y7GqK82XxLOB",
        "outputId": "58b9b61d-bdf6-444c-a608-d37520614087"
      },
      "execution_count": null,
      "outputs": [
        {
          "output_type": "stream",
          "name": "stdout",
          "text": [
            "188/188 [==============================] - 107s 559ms/step - loss: 0.0016\n"
          ]
        },
        {
          "output_type": "display_data",
          "data": {
            "text/plain": [
              "0.0015806874725967646"
            ]
          },
          "metadata": {}
        }
      ]
    },
    {
      "cell_type": "markdown",
      "metadata": {
        "id": "yU-eLwyPlDPY"
      },
      "source": [
        "Посмотрим на примере одного зашумленного файла, как сеть справится с удалением шума."
      ]
    },
    {
      "cell_type": "code",
      "execution_count": null,
      "metadata": {
        "id": "1OFFvByilIPB",
        "colab": {
          "base_uri": "https://localhost:8080/",
          "height": 466
        },
        "outputId": "93ddee02-5b6d-4482-97cc-1d6fc83dad65"
      },
      "outputs": [
        {
          "output_type": "stream",
          "name": "stdout",
          "text": [
            "26/26 [==============================] - 16s 525ms/step\n"
          ]
        },
        {
          "output_type": "display_data",
          "data": {
            "text/plain": [
              "<Figure size 640x480 with 3 Axes>"
            ],
            "image/png": "[encoded data removed]"
          },
          "metadata": {}
        }
      ],
      "source": [
        "# Создать экземпляр класса DataPreparator для предварительной обработки данных\n",
        "preparer = DataPreparator()\n",
        "\n",
        "# Определить размер окна для обработки аудио\n",
        "window_size = 1000\n",
        "\n",
        "# Загрузить зашумленный аудиофайл\n",
        "noisy_audio, sr = preparer.load_file(\"music.wav\")\n",
        "\n",
        "# Изменить форму данных, чтобы они соответствовали ожидаемому формату модели\n",
        "noisy_audio = preparer.reshape_data([noisy_audio])\n",
        "noisy_audio = np.array(noisy_audio).reshape(-1, window_size, 1)\n",
        "\n",
        "# Предсказать чистый звук с помощью модели LSTM\n",
        "clean_audio = model.predict(noisy_audio).flatten()\n",
        "\n",
        "# Сохранить предсказанный чистый аудиофайл\n",
        "output_file = \"clean_audio_lstm.wav\"\n",
        "preparer.save_audio(clean_audio, output_file, sr)\n",
        "\n",
        "# Преобразовать зашумленный и чистый аудиофайлы в одномерные массивы\n",
        "X = noisy_audio.flatten()\n",
        "y = clean_audio.flatten()\n",
        "\n",
        "# Построить графики для зашумленного, чистого и очищенного аудиофайлов\n",
        "lin_space = np.linspace(0, clean_audio.shape[0] / sr, clean_audio.shape[0])\n",
        "fig, axs = plt.subplots(3)\n",
        "axs[1].set_ylabel(\"Амлитуда\")\n",
        "axs[2].set_xlabel(\"Момент времени (секунды)\")\n",
        "axs[0].plot(lin_space, X, color='r')  # Красный - зашумленный\n",
        "axs[1].plot(lin_space, clean_audio, color='b')  # Синий - чистый\n",
        "axs[2].plot(lin_space, y, color='g')  # Зеленый - очищенный\n",
        "plt.show()\n"
      ]
    },
    {
      "cell_type": "markdown",
      "source": [
        "# Задание"
      ],
      "metadata": {
        "id": "AmsNfBYR_O4-"
      }
    },
    {
      "cell_type": "markdown",
      "source": [
        "Реализуйте свою собственную нейросетевую модель для шумоочистки."
      ],
      "metadata": {
        "id": "6qe-HKoT_TRl"
      }
    },
    {
      "cell_type": "markdown",
      "source": [
        "## Возможное решение"
      ],
      "metadata": {
        "id": "FYql_cgWCh8q"
      }
    },
    {
      "cell_type": "code",
      "source": [
        "# Создать сеть\n",
        "def create_noise_canceling_model(input_shape):\n",
        "    model = models.Sequential([\n",
        "        layers.Conv1D(32, kernel_size=3, activation='relu', padding='same', input_shape=input_shape),\n",
        "        layers.Conv1D(64, kernel_size=3, activation='relu', padding='same'),\n",
        "        layers.Conv1D(128, kernel_size=3, activation='relu', padding='same'),\n",
        "        layers.Conv1D(1, kernel_size=3, activation='tanh', padding='same')\n",
        "    ])\n",
        "    return model\n",
        "\n",
        "\n",
        "# Определение формы входных данных для модели\n",
        "input_shape = (window_size, 1)\n",
        "\n",
        "# Создать модель LSTM для шумоочистки\n",
        "model = create_noise_canceling_model(input_shape)\n",
        "\n",
        "# Скомпилировать и обучить модель\n",
        "model.compile(optimizer='adam', loss='mse')\n",
        "print(model.summary())\n",
        "model.fit(train_x,\n",
        "          train_y,\n",
        "          epochs=20,\n",
        "          batch_size=32,\n",
        "          callbacks=[TqdmCallback(verbose=1)],\n",
        "          verbose=0)\n",
        "\n",
        "# Сохранение обученной модели\n",
        "model.save(\"hw_nn.h5\")"
      ],
      "metadata": {
        "id": "_obxiYMwCnL_"
      },
      "execution_count": null,
      "outputs": []
    }
  ],
  "metadata": {
    "colab": {
      "provenance": []
    },
    "kernelspec": {
      "display_name": "Python 3",
      "name": "python3"
    },
    "language_info": {
      "name": "python"
    },
    "widgets": {
      "application/vnd.jupyter.widget-state+json": {
        "f684c1619c2c467cb7d7bb4a87e53550": {
          "model_module": "@jupyter-widgets/controls",
          "model_name": "HBoxModel",
          "model_module_version": "1.5.0",
          "state": {
            "_dom_classes": [],
            "_model_module": "@jupyter-widgets/controls",
            "_model_module_version": "1.5.0",
            "_model_name": "HBoxModel",
            "_view_count": null,
            "_view_module": "@jupyter-widgets/controls",
            "_view_module_version": "1.5.0",
            "_view_name": "HBoxView",
            "box_style": "",
            "children": [
              "IPY_MODEL_e91a5f99f88c49bd919fd85a282fe6e9",
              "IPY_MODEL_d4b5abc07fc14dca8cf45e6a517f8b4b",
              "IPY_MODEL_1267230862a941f580963c961e534393"
            ],
            "layout": "IPY_MODEL_f5a5d9f98b614cf188cd2a6db07912f7"
          }
        },
        "e91a5f99f88c49bd919fd85a282fe6e9": {
          "model_module": "@jupyter-widgets/controls",
          "model_name": "HTMLModel",
          "model_module_version": "1.5.0",
          "state": {
            "_dom_classes": [],
            "_model_module": "@jupyter-widgets/controls",
            "_model_module_version": "1.5.0",
            "_model_name": "HTMLModel",
            "_view_count": null,
            "_view_module": "@jupyter-widgets/controls",
            "_view_module_version": "1.5.0",
            "_view_name": "HTMLView",
            "description": "",
            "description_tooltip": null,
            "layout": "IPY_MODEL_4231c9d6414a484da15cc84efe0f167a",
            "placeholder": "​",
            "style": "IPY_MODEL_cd20483288354044adb1a5cd4ba7bfba",
            "value": "  0%"
          }
        },
        "d4b5abc07fc14dca8cf45e6a517f8b4b": {
          "model_module": "@jupyter-widgets/controls",
          "model_name": "FloatProgressModel",
          "model_module_version": "1.5.0",
          "state": {
            "_dom_classes": [],
            "_model_module": "@jupyter-widgets/controls",
            "_model_module_version": "1.5.0",
            "_model_name": "FloatProgressModel",
            "_view_count": null,
            "_view_module": "@jupyter-widgets/controls",
            "_view_module_version": "1.5.0",
            "_view_name": "ProgressView",
            "bar_style": "",
            "description": "",
            "description_tooltip": null,
            "layout": "IPY_MODEL_9fee101e83ad453e97c878bb5487b349",
            "max": 20,
            "min": 0,
            "orientation": "horizontal",
            "style": "IPY_MODEL_6cda5fd6402b4204b7d0515e7e9753f0",
            "value": 0
          }
        },
        "1267230862a941f580963c961e534393": {
          "model_module": "@jupyter-widgets/controls",
          "model_name": "HTMLModel",
          "model_module_version": "1.5.0",
          "state": {
            "_dom_classes": [],
            "_model_module": "@jupyter-widgets/controls",
            "_model_module_version": "1.5.0",
            "_model_name": "HTMLModel",
            "_view_count": null,
            "_view_module": "@jupyter-widgets/controls",
            "_view_module_version": "1.5.0",
            "_view_name": "HTMLView",
            "description": "",
            "description_tooltip": null,
            "layout": "IPY_MODEL_defb73cc55524f27b06a1d397650b424",
            "placeholder": "​",
            "style": "IPY_MODEL_b3bd752f0ebb43cfbd27d6d640c6aec7",
            "value": " 0/20 [00:00&lt;?, ?epoch/s]"
          }
        },
        "f5a5d9f98b614cf188cd2a6db07912f7": {
          "model_module": "@jupyter-widgets/base",
          "model_name": "LayoutModel",
          "model_module_version": "1.2.0",
          "state": {
            "_model_module": "@jupyter-widgets/base",
            "_model_module_version": "1.2.0",
            "_model_name": "LayoutModel",
            "_view_count": null,
            "_view_module": "@jupyter-widgets/base",
            "_view_module_version": "1.2.0",
            "_view_name": "LayoutView",
            "align_content": null,
            "align_items": null,
            "align_self": null,
            "border": null,
            "bottom": null,
            "display": null,
            "flex": null,
            "flex_flow": null,
            "grid_area": null,
            "grid_auto_columns": null,
            "grid_auto_flow": null,
            "grid_auto_rows": null,
            "grid_column": null,
            "grid_gap": null,
            "grid_row": null,
            "grid_template_areas": null,
            "grid_template_columns": null,
            "grid_template_rows": null,
            "height": null,
            "justify_content": null,
            "justify_items": null,
            "left": null,
            "margin": null,
            "max_height": null,
            "max_width": null,
            "min_height": null,
            "min_width": null,
            "object_fit": null,
            "object_position": null,
            "order": null,
            "overflow": null,
            "overflow_x": null,
            "overflow_y": null,
            "padding": null,
            "right": null,
            "top": null,
            "visibility": null,
            "width": null
          }
        },
        "4231c9d6414a484da15cc84efe0f167a": {
          "model_module": "@jupyter-widgets/base",
          "model_name": "LayoutModel",
          "model_module_version": "1.2.0",
          "state": {
            "_model_module": "@jupyter-widgets/base",
            "_model_module_version": "1.2.0",
            "_model_name": "LayoutModel",
            "_view_count": null,
            "_view_module": "@jupyter-widgets/base",
            "_view_module_version": "1.2.0",
            "_view_name": "LayoutView",
            "align_content": null,
            "align_items": null,
            "align_self": null,
            "border": null,
            "bottom": null,
            "display": null,
            "flex": null,
            "flex_flow": null,
            "grid_area": null,
            "grid_auto_columns": null,
            "grid_auto_flow": null,
            "grid_auto_rows": null,
            "grid_column": null,
            "grid_gap": null,
            "grid_row": null,
            "grid_template_areas": null,
            "grid_template_columns": null,
            "grid_template_rows": null,
            "height": null,
            "justify_content": null,
            "justify_items": null,
            "left": null,
            "margin": null,
            "max_height": null,
            "max_width": null,
            "min_height": null,
            "min_width": null,
            "object_fit": null,
            "object_position": null,
            "order": null,
            "overflow": null,
            "overflow_x": null,
            "overflow_y": null,
            "padding": null,
            "right": null,
            "top": null,
            "visibility": null,
            "width": null
          }
        },
        "cd20483288354044adb1a5cd4ba7bfba": {
          "model_module": "@jupyter-widgets/controls",
          "model_name": "DescriptionStyleModel",
          "model_module_version": "1.5.0",
          "state": {
            "_model_module": "@jupyter-widgets/controls",
            "_model_module_version": "1.5.0",
            "_model_name": "DescriptionStyleModel",
            "_view_count": null,
            "_view_module": "@jupyter-widgets/base",
            "_view_module_version": "1.2.0",
            "_view_name": "StyleView",
            "description_width": ""
          }
        },
        "9fee101e83ad453e97c878bb5487b349": {
          "model_module": "@jupyter-widgets/base",
          "model_name": "LayoutModel",
          "model_module_version": "1.2.0",
          "state": {
            "_model_module": "@jupyter-widgets/base",
            "_model_module_version": "1.2.0",
            "_model_name": "LayoutModel",
            "_view_count": null,
            "_view_module": "@jupyter-widgets/base",
            "_view_module_version": "1.2.0",
            "_view_name": "LayoutView",
            "align_content": null,
            "align_items": null,
            "align_self": null,
            "border": null,
            "bottom": null,
            "display": null,
            "flex": null,
            "flex_flow": null,
            "grid_area": null,
            "grid_auto_columns": null,
            "grid_auto_flow": null,
            "grid_auto_rows": null,
            "grid_column": null,
            "grid_gap": null,
            "grid_row": null,
            "grid_template_areas": null,
            "grid_template_columns": null,
            "grid_template_rows": null,
            "height": null,
            "justify_content": null,
            "justify_items": null,
            "left": null,
            "margin": null,
            "max_height": null,
            "max_width": null,
            "min_height": null,
            "min_width": null,
            "object_fit": null,
            "object_position": null,
            "order": null,
            "overflow": null,
            "overflow_x": null,
            "overflow_y": null,
            "padding": null,
            "right": null,
            "top": null,
            "visibility": null,
            "width": null
          }
        },
        "6cda5fd6402b4204b7d0515e7e9753f0": {
          "model_module": "@jupyter-widgets/controls",
          "model_name": "ProgressStyleModel",
          "model_module_version": "1.5.0",
          "state": {
            "_model_module": "@jupyter-widgets/controls",
            "_model_module_version": "1.5.0",
            "_model_name": "ProgressStyleModel",
            "_view_count": null,
            "_view_module": "@jupyter-widgets/base",
            "_view_module_version": "1.2.0",
            "_view_name": "StyleView",
            "bar_color": null,
            "description_width": ""
          }
        },
        "defb73cc55524f27b06a1d397650b424": {
          "model_module": "@jupyter-widgets/base",
          "model_name": "LayoutModel",
          "model_module_version": "1.2.0",
          "state": {
            "_model_module": "@jupyter-widgets/base",
            "_model_module_version": "1.2.0",
            "_model_name": "LayoutModel",
            "_view_count": null,
            "_view_module": "@jupyter-widgets/base",
            "_view_module_version": "1.2.0",
            "_view_name": "LayoutView",
            "align_content": null,
            "align_items": null,
            "align_self": null,
            "border": null,
            "bottom": null,
            "display": null,
            "flex": null,
            "flex_flow": null,
            "grid_area": null,
            "grid_auto_columns": null,
            "grid_auto_flow": null,
            "grid_auto_rows": null,
            "grid_column": null,
            "grid_gap": null,
            "grid_row": null,
            "grid_template_areas": null,
            "grid_template_columns": null,
            "grid_template_rows": null,
            "height": null,
            "justify_content": null,
            "justify_items": null,
            "left": null,
            "margin": null,
            "max_height": null,
            "max_width": null,
            "min_height": null,
            "min_width": null,
            "object_fit": null,
            "object_position": null,
            "order": null,
            "overflow": null,
            "overflow_x": null,
            "overflow_y": null,
            "padding": null,
            "right": null,
            "top": null,
            "visibility": null,
            "width": null
          }
        },
        "b3bd752f0ebb43cfbd27d6d640c6aec7": {
          "model_module": "@jupyter-widgets/controls",
          "model_name": "DescriptionStyleModel",
          "model_module_version": "1.5.0",
          "state": {
            "_model_module": "@jupyter-widgets/controls",
            "_model_module_version": "1.5.0",
            "_model_name": "DescriptionStyleModel",
            "_view_count": null,
            "_view_module": "@jupyter-widgets/base",
            "_view_module_version": "1.2.0",
            "_view_name": "StyleView",
            "description_width": ""
          }
        },
        "b3dd3e4563f748c6976fad8a4a8edfcb": {
          "model_module": "@jupyter-widgets/controls",
          "model_name": "HBoxModel",
          "model_module_version": "1.5.0",
          "state": {
            "_dom_classes": [],
            "_model_module": "@jupyter-widgets/controls",
            "_model_module_version": "1.5.0",
            "_model_name": "HBoxModel",
            "_view_count": null,
            "_view_module": "@jupyter-widgets/controls",
            "_view_module_version": "1.5.0",
            "_view_name": "HBoxView",
            "box_style": "",
            "children": [
              "IPY_MODEL_3703e0a633574636b354beff9cd6240e",
              "IPY_MODEL_67921975b1bc4f4fa9554d2852c7e18d",
              "IPY_MODEL_496917ebae104071b89fb88f5f1045a3"
            ],
            "layout": "IPY_MODEL_babaf0c60d7b457e880155126ca4c0b4"
          }
        },
        "3703e0a633574636b354beff9cd6240e": {
          "model_module": "@jupyter-widgets/controls",
          "model_name": "HTMLModel",
          "model_module_version": "1.5.0",
          "state": {
            "_dom_classes": [],
            "_model_module": "@jupyter-widgets/controls",
            "_model_module_version": "1.5.0",
            "_model_name": "HTMLModel",
            "_view_count": null,
            "_view_module": "@jupyter-widgets/controls",
            "_view_module_version": "1.5.0",
            "_view_name": "HTMLView",
            "description": "",
            "description_tooltip": null,
            "layout": "IPY_MODEL_a85c1faf515243548721fe4f686a52f7",
            "placeholder": "​",
            "style": "IPY_MODEL_7e9f15cb101b4db395fe26d5c38b9123",
            "value": "  0%"
          }
        },
        "67921975b1bc4f4fa9554d2852c7e18d": {
          "model_module": "@jupyter-widgets/controls",
          "model_name": "FloatProgressModel",
          "model_module_version": "1.5.0",
          "state": {
            "_dom_classes": [],
            "_model_module": "@jupyter-widgets/controls",
            "_model_module_version": "1.5.0",
            "_model_name": "FloatProgressModel",
            "_view_count": null,
            "_view_module": "@jupyter-widgets/controls",
            "_view_module_version": "1.5.0",
            "_view_name": "ProgressView",
            "bar_style": "",
            "description": "",
            "description_tooltip": null,
            "layout": "IPY_MODEL_bb0f8aa1eea14b9abf0cd286907e41ab",
            "max": 146,
            "min": 0,
            "orientation": "horizontal",
            "style": "IPY_MODEL_4673af3c3f6e47cea497022be89b6d1a",
            "value": 0
          }
        },
        "496917ebae104071b89fb88f5f1045a3": {
          "model_module": "@jupyter-widgets/controls",
          "model_name": "HTMLModel",
          "model_module_version": "1.5.0",
          "state": {
            "_dom_classes": [],
            "_model_module": "@jupyter-widgets/controls",
            "_model_module_version": "1.5.0",
            "_model_name": "HTMLModel",
            "_view_count": null,
            "_view_module": "@jupyter-widgets/controls",
            "_view_module_version": "1.5.0",
            "_view_name": "HTMLView",
            "description": "",
            "description_tooltip": null,
            "layout": "IPY_MODEL_11cf358fd42843edbf3e4c0cbcbbb120",
            "placeholder": "​",
            "style": "IPY_MODEL_6fdac2e522714a1d92444fd273d9b8c6",
            "value": " 0.00/146 [00:00&lt;?, ?batch/s]"
          }
        },
        "babaf0c60d7b457e880155126ca4c0b4": {
          "model_module": "@jupyter-widgets/base",
          "model_name": "LayoutModel",
          "model_module_version": "1.2.0",
          "state": {
            "_model_module": "@jupyter-widgets/base",
            "_model_module_version": "1.2.0",
            "_model_name": "LayoutModel",
            "_view_count": null,
            "_view_module": "@jupyter-widgets/base",
            "_view_module_version": "1.2.0",
            "_view_name": "LayoutView",
            "align_content": null,
            "align_items": null,
            "align_self": null,
            "border": null,
            "bottom": null,
            "display": null,
            "flex": null,
            "flex_flow": null,
            "grid_area": null,
            "grid_auto_columns": null,
            "grid_auto_flow": null,
            "grid_auto_rows": null,
            "grid_column": null,
            "grid_gap": null,
            "grid_row": null,
            "grid_template_areas": null,
            "grid_template_columns": null,
            "grid_template_rows": null,
            "height": null,
            "justify_content": null,
            "justify_items": null,
            "left": null,
            "margin": null,
            "max_height": null,
            "max_width": null,
            "min_height": null,
            "min_width": null,
            "object_fit": null,
            "object_position": null,
            "order": null,
            "overflow": null,
            "overflow_x": null,
            "overflow_y": null,
            "padding": null,
            "right": null,
            "top": null,
            "visibility": null,
            "width": null
          }
        },
        "a85c1faf515243548721fe4f686a52f7": {
          "model_module": "@jupyter-widgets/base",
          "model_name": "LayoutModel",
          "model_module_version": "1.2.0",
          "state": {
            "_model_module": "@jupyter-widgets/base",
            "_model_module_version": "1.2.0",
            "_model_name": "LayoutModel",
            "_view_count": null,
            "_view_module": "@jupyter-widgets/base",
            "_view_module_version": "1.2.0",
            "_view_name": "LayoutView",
            "align_content": null,
            "align_items": null,
            "align_self": null,
            "border": null,
            "bottom": null,
            "display": null,
            "flex": null,
            "flex_flow": null,
            "grid_area": null,
            "grid_auto_columns": null,
            "grid_auto_flow": null,
            "grid_auto_rows": null,
            "grid_column": null,
            "grid_gap": null,
            "grid_row": null,
            "grid_template_areas": null,
            "grid_template_columns": null,
            "grid_template_rows": null,
            "height": null,
            "justify_content": null,
            "justify_items": null,
            "left": null,
            "margin": null,
            "max_height": null,
            "max_width": null,
            "min_height": null,
            "min_width": null,
            "object_fit": null,
            "object_position": null,
            "order": null,
            "overflow": null,
            "overflow_x": null,
            "overflow_y": null,
            "padding": null,
            "right": null,
            "top": null,
            "visibility": null,
            "width": null
          }
        },
        "7e9f15cb101b4db395fe26d5c38b9123": {
          "model_module": "@jupyter-widgets/controls",
          "model_name": "DescriptionStyleModel",
          "model_module_version": "1.5.0",
          "state": {
            "_model_module": "@jupyter-widgets/controls",
            "_model_module_version": "1.5.0",
            "_model_name": "DescriptionStyleModel",
            "_view_count": null,
            "_view_module": "@jupyter-widgets/base",
            "_view_module_version": "1.2.0",
            "_view_name": "StyleView",
            "description_width": ""
          }
        },
        "bb0f8aa1eea14b9abf0cd286907e41ab": {
          "model_module": "@jupyter-widgets/base",
          "model_name": "LayoutModel",
          "model_module_version": "1.2.0",
          "state": {
            "_model_module": "@jupyter-widgets/base",
            "_model_module_version": "1.2.0",
            "_model_name": "LayoutModel",
            "_view_count": null,
            "_view_module": "@jupyter-widgets/base",
            "_view_module_version": "1.2.0",
            "_view_name": "LayoutView",
            "align_content": null,
            "align_items": null,
            "align_self": null,
            "border": null,
            "bottom": null,
            "display": null,
            "flex": null,
            "flex_flow": null,
            "grid_area": null,
            "grid_auto_columns": null,
            "grid_auto_flow": null,
            "grid_auto_rows": null,
            "grid_column": null,
            "grid_gap": null,
            "grid_row": null,
            "grid_template_areas": null,
            "grid_template_columns": null,
            "grid_template_rows": null,
            "height": null,
            "justify_content": null,
            "justify_items": null,
            "left": null,
            "margin": null,
            "max_height": null,
            "max_width": null,
            "min_height": null,
            "min_width": null,
            "object_fit": null,
            "object_position": null,
            "order": null,
            "overflow": null,
            "overflow_x": null,
            "overflow_y": null,
            "padding": null,
            "right": null,
            "top": null,
            "visibility": null,
            "width": null
          }
        },
        "4673af3c3f6e47cea497022be89b6d1a": {
          "model_module": "@jupyter-widgets/controls",
          "model_name": "ProgressStyleModel",
          "model_module_version": "1.5.0",
          "state": {
            "_model_module": "@jupyter-widgets/controls",
            "_model_module_version": "1.5.0",
            "_model_name": "ProgressStyleModel",
            "_view_count": null,
            "_view_module": "@jupyter-widgets/base",
            "_view_module_version": "1.2.0",
            "_view_name": "StyleView",
            "bar_color": null,
            "description_width": ""
          }
        },
        "11cf358fd42843edbf3e4c0cbcbbb120": {
          "model_module": "@jupyter-widgets/base",
          "model_name": "LayoutModel",
          "model_module_version": "1.2.0",
          "state": {
            "_model_module": "@jupyter-widgets/base",
            "_model_module_version": "1.2.0",
            "_model_name": "LayoutModel",
            "_view_count": null,
            "_view_module": "@jupyter-widgets/base",
            "_view_module_version": "1.2.0",
            "_view_name": "LayoutView",
            "align_content": null,
            "align_items": null,
            "align_self": null,
            "border": null,
            "bottom": null,
            "display": null,
            "flex": null,
            "flex_flow": null,
            "grid_area": null,
            "grid_auto_columns": null,
            "grid_auto_flow": null,
            "grid_auto_rows": null,
            "grid_column": null,
            "grid_gap": null,
            "grid_row": null,
            "grid_template_areas": null,
            "grid_template_columns": null,
            "grid_template_rows": null,
            "height": null,
            "justify_content": null,
            "justify_items": null,
            "left": null,
            "margin": null,
            "max_height": null,
            "max_width": null,
            "min_height": null,
            "min_width": null,
            "object_fit": null,
            "object_position": null,
            "order": null,
            "overflow": null,
            "overflow_x": null,
            "overflow_y": null,
            "padding": null,
            "right": null,
            "top": null,
            "visibility": null,
            "width": null
          }
        },
        "6fdac2e522714a1d92444fd273d9b8c6": {
          "model_module": "@jupyter-widgets/controls",
          "model_name": "DescriptionStyleModel",
          "model_module_version": "1.5.0",
          "state": {
            "_model_module": "@jupyter-widgets/controls",
            "_model_module_version": "1.5.0",
            "_model_name": "DescriptionStyleModel",
            "_view_count": null,
            "_view_module": "@jupyter-widgets/base",
            "_view_module_version": "1.2.0",
            "_view_name": "StyleView",
            "description_width": ""
          }
        },
        "5111d99e43b44fd2b1f42ed51db2e4b9": {
          "model_module": "@jupyter-widgets/controls",
          "model_name": "HBoxModel",
          "model_module_version": "1.5.0",
          "state": {
            "_dom_classes": [],
            "_model_module": "@jupyter-widgets/controls",
            "_model_module_version": "1.5.0",
            "_model_name": "HBoxModel",
            "_view_count": null,
            "_view_module": "@jupyter-widgets/controls",
            "_view_module_version": "1.5.0",
            "_view_name": "HBoxView",
            "box_style": "",
            "children": [
              "IPY_MODEL_fda063729cca441091c0c6589f3f0439",
              "IPY_MODEL_ba87120dd05e4cb282818b8a070f9470",
              "IPY_MODEL_d57a5c15bf61402da76a936a3d9b8bc8"
            ],
            "layout": "IPY_MODEL_d5c1369140f248579f8596b9b9383b30"
          }
        },
        "fda063729cca441091c0c6589f3f0439": {
          "model_module": "@jupyter-widgets/controls",
          "model_name": "HTMLModel",
          "model_module_version": "1.5.0",
          "state": {
            "_dom_classes": [],
            "_model_module": "@jupyter-widgets/controls",
            "_model_module_version": "1.5.0",
            "_model_name": "HTMLModel",
            "_view_count": null,
            "_view_module": "@jupyter-widgets/controls",
            "_view_module_version": "1.5.0",
            "_view_name": "HTMLView",
            "description": "",
            "description_tooltip": null,
            "layout": "IPY_MODEL_46a2cb054ea84b1082089397c92dc3f1",
            "placeholder": "​",
            "style": "IPY_MODEL_e646ae9d6d8543aaa2d815f34c81af2c",
            "value": "  0%"
          }
        },
        "ba87120dd05e4cb282818b8a070f9470": {
          "model_module": "@jupyter-widgets/controls",
          "model_name": "FloatProgressModel",
          "model_module_version": "1.5.0",
          "state": {
            "_dom_classes": [],
            "_model_module": "@jupyter-widgets/controls",
            "_model_module_version": "1.5.0",
            "_model_name": "FloatProgressModel",
            "_view_count": null,
            "_view_module": "@jupyter-widgets/controls",
            "_view_module_version": "1.5.0",
            "_view_name": "ProgressView",
            "bar_style": "",
            "description": "",
            "description_tooltip": null,
            "layout": "IPY_MODEL_5d897b8693a94868b19b203fb2fb4236",
            "max": 3,
            "min": 0,
            "orientation": "horizontal",
            "style": "IPY_MODEL_1e65a3b2cb0945a3bacb2bbf14488980",
            "value": 0
          }
        },
        "d57a5c15bf61402da76a936a3d9b8bc8": {
          "model_module": "@jupyter-widgets/controls",
          "model_name": "HTMLModel",
          "model_module_version": "1.5.0",
          "state": {
            "_dom_classes": [],
            "_model_module": "@jupyter-widgets/controls",
            "_model_module_version": "1.5.0",
            "_model_name": "HTMLModel",
            "_view_count": null,
            "_view_module": "@jupyter-widgets/controls",
            "_view_module_version": "1.5.0",
            "_view_name": "HTMLView",
            "description": "",
            "description_tooltip": null,
            "layout": "IPY_MODEL_09a9f438e58943c2a98d66aee8d34be5",
            "placeholder": "​",
            "style": "IPY_MODEL_c84964b6022d42c2ac1ab3d728dfcb77",
            "value": " 0/3 [00:00&lt;?, ?epoch/s]"
          }
        },
        "d5c1369140f248579f8596b9b9383b30": {
          "model_module": "@jupyter-widgets/base",
          "model_name": "LayoutModel",
          "model_module_version": "1.2.0",
          "state": {
            "_model_module": "@jupyter-widgets/base",
            "_model_module_version": "1.2.0",
            "_model_name": "LayoutModel",
            "_view_count": null,
            "_view_module": "@jupyter-widgets/base",
            "_view_module_version": "1.2.0",
            "_view_name": "LayoutView",
            "align_content": null,
            "align_items": null,
            "align_self": null,
            "border": null,
            "bottom": null,
            "display": null,
            "flex": null,
            "flex_flow": null,
            "grid_area": null,
            "grid_auto_columns": null,
            "grid_auto_flow": null,
            "grid_auto_rows": null,
            "grid_column": null,
            "grid_gap": null,
            "grid_row": null,
            "grid_template_areas": null,
            "grid_template_columns": null,
            "grid_template_rows": null,
            "height": null,
            "justify_content": null,
            "justify_items": null,
            "left": null,
            "margin": null,
            "max_height": null,
            "max_width": null,
            "min_height": null,
            "min_width": null,
            "object_fit": null,
            "object_position": null,
            "order": null,
            "overflow": null,
            "overflow_x": null,
            "overflow_y": null,
            "padding": null,
            "right": null,
            "top": null,
            "visibility": null,
            "width": null
          }
        },
        "46a2cb054ea84b1082089397c92dc3f1": {
          "model_module": "@jupyter-widgets/base",
          "model_name": "LayoutModel",
          "model_module_version": "1.2.0",
          "state": {
            "_model_module": "@jupyter-widgets/base",
            "_model_module_version": "1.2.0",
            "_model_name": "LayoutModel",
            "_view_count": null,
            "_view_module": "@jupyter-widgets/base",
            "_view_module_version": "1.2.0",
            "_view_name": "LayoutView",
            "align_content": null,
            "align_items": null,
            "align_self": null,
            "border": null,
            "bottom": null,
            "display": null,
            "flex": null,
            "flex_flow": null,
            "grid_area": null,
            "grid_auto_columns": null,
            "grid_auto_flow": null,
            "grid_auto_rows": null,
            "grid_column": null,
            "grid_gap": null,
            "grid_row": null,
            "grid_template_areas": null,
            "grid_template_columns": null,
            "grid_template_rows": null,
            "height": null,
            "justify_content": null,
            "justify_items": null,
            "left": null,
            "margin": null,
            "max_height": null,
            "max_width": null,
            "min_height": null,
            "min_width": null,
            "object_fit": null,
            "object_position": null,
            "order": null,
            "overflow": null,
            "overflow_x": null,
            "overflow_y": null,
            "padding": null,
            "right": null,
            "top": null,
            "visibility": null,
            "width": null
          }
        },
        "e646ae9d6d8543aaa2d815f34c81af2c": {
          "model_module": "@jupyter-widgets/controls",
          "model_name": "DescriptionStyleModel",
          "model_module_version": "1.5.0",
          "state": {
            "_model_module": "@jupyter-widgets/controls",
            "_model_module_version": "1.5.0",
            "_model_name": "DescriptionStyleModel",
            "_view_count": null,
            "_view_module": "@jupyter-widgets/base",
            "_view_module_version": "1.2.0",
            "_view_name": "StyleView",
            "description_width": ""
          }
        },
        "5d897b8693a94868b19b203fb2fb4236": {
          "model_module": "@jupyter-widgets/base",
          "model_name": "LayoutModel",
          "model_module_version": "1.2.0",
          "state": {
            "_model_module": "@jupyter-widgets/base",
            "_model_module_version": "1.2.0",
            "_model_name": "LayoutModel",
            "_view_count": null,
            "_view_module": "@jupyter-widgets/base",
            "_view_module_version": "1.2.0",
            "_view_name": "LayoutView",
            "align_content": null,
            "align_items": null,
            "align_self": null,
            "border": null,
            "bottom": null,
            "display": null,
            "flex": null,
            "flex_flow": null,
            "grid_area": null,
            "grid_auto_columns": null,
            "grid_auto_flow": null,
            "grid_auto_rows": null,
            "grid_column": null,
            "grid_gap": null,
            "grid_row": null,
            "grid_template_areas": null,
            "grid_template_columns": null,
            "grid_template_rows": null,
            "height": null,
            "justify_content": null,
            "justify_items": null,
            "left": null,
            "margin": null,
            "max_height": null,
            "max_width": null,
            "min_height": null,
            "min_width": null,
            "object_fit": null,
            "object_position": null,
            "order": null,
            "overflow": null,
            "overflow_x": null,
            "overflow_y": null,
            "padding": null,
            "right": null,
            "top": null,
            "visibility": null,
            "width": null
          }
        },
        "1e65a3b2cb0945a3bacb2bbf14488980": {
          "model_module": "@jupyter-widgets/controls",
          "model_name": "ProgressStyleModel",
          "model_module_version": "1.5.0",
          "state": {
            "_model_module": "@jupyter-widgets/controls",
            "_model_module_version": "1.5.0",
            "_model_name": "ProgressStyleModel",
            "_view_count": null,
            "_view_module": "@jupyter-widgets/base",
            "_view_module_version": "1.2.0",
            "_view_name": "StyleView",
            "bar_color": null,
            "description_width": ""
          }
        },
        "09a9f438e58943c2a98d66aee8d34be5": {
          "model_module": "@jupyter-widgets/base",
          "model_name": "LayoutModel",
          "model_module_version": "1.2.0",
          "state": {
            "_model_module": "@jupyter-widgets/base",
            "_model_module_version": "1.2.0",
            "_model_name": "LayoutModel",
            "_view_count": null,
            "_view_module": "@jupyter-widgets/base",
            "_view_module_version": "1.2.0",
            "_view_name": "LayoutView",
            "align_content": null,
            "align_items": null,
            "align_self": null,
            "border": null,
            "bottom": null,
            "display": null,
            "flex": null,
            "flex_flow": null,
            "grid_area": null,
            "grid_auto_columns": null,
            "grid_auto_flow": null,
            "grid_auto_rows": null,
            "grid_column": null,
            "grid_gap": null,
            "grid_row": null,
            "grid_template_areas": null,
            "grid_template_columns": null,
            "grid_template_rows": null,
            "height": null,
            "justify_content": null,
            "justify_items": null,
            "left": null,
            "margin": null,
            "max_height": null,
            "max_width": null,
            "min_height": null,
            "min_width": null,
            "object_fit": null,
            "object_position": null,
            "order": null,
            "overflow": null,
            "overflow_x": null,
            "overflow_y": null,
            "padding": null,
            "right": null,
            "top": null,
            "visibility": null,
            "width": null
          }
        },
        "c84964b6022d42c2ac1ab3d728dfcb77": {
          "model_module": "@jupyter-widgets/controls",
          "model_name": "DescriptionStyleModel",
          "model_module_version": "1.5.0",
          "state": {
            "_model_module": "@jupyter-widgets/controls",
            "_model_module_version": "1.5.0",
            "_model_name": "DescriptionStyleModel",
            "_view_count": null,
            "_view_module": "@jupyter-widgets/base",
            "_view_module_version": "1.2.0",
            "_view_name": "StyleView",
            "description_width": ""
          }
        },
        "1a36d2f84ee44f82a05fa4870873bb3f": {
          "model_module": "@jupyter-widgets/controls",
          "model_name": "HBoxModel",
          "model_module_version": "1.5.0",
          "state": {
            "_dom_classes": [],
            "_model_module": "@jupyter-widgets/controls",
            "_model_module_version": "1.5.0",
            "_model_name": "HBoxModel",
            "_view_count": null,
            "_view_module": "@jupyter-widgets/controls",
            "_view_module_version": "1.5.0",
            "_view_name": "HBoxView",
            "box_style": "",
            "children": [
              "IPY_MODEL_c4d48fe5d25e443ca223025a773d088e",
              "IPY_MODEL_8c410df362d847edae71d45853d2e1f8",
              "IPY_MODEL_62edd8b118754f39a6b206105deaadb5"
            ],
            "layout": "IPY_MODEL_536f50b5592e44f982bd62eb7de16619"
          }
        },
        "c4d48fe5d25e443ca223025a773d088e": {
          "model_module": "@jupyter-widgets/controls",
          "model_name": "HTMLModel",
          "model_module_version": "1.5.0",
          "state": {
            "_dom_classes": [],
            "_model_module": "@jupyter-widgets/controls",
            "_model_module_version": "1.5.0",
            "_model_name": "HTMLModel",
            "_view_count": null,
            "_view_module": "@jupyter-widgets/controls",
            "_view_module_version": "1.5.0",
            "_view_name": "HTMLView",
            "description": "",
            "description_tooltip": null,
            "layout": "IPY_MODEL_37a4587135614b4e855e67379f588098",
            "placeholder": "​",
            "style": "IPY_MODEL_9385202f512f42708d7a09ce184207f2",
            "value": " 11%"
          }
        },
        "8c410df362d847edae71d45853d2e1f8": {
          "model_module": "@jupyter-widgets/controls",
          "model_name": "FloatProgressModel",
          "model_module_version": "1.5.0",
          "state": {
            "_dom_classes": [],
            "_model_module": "@jupyter-widgets/controls",
            "_model_module_version": "1.5.0",
            "_model_name": "FloatProgressModel",
            "_view_count": null,
            "_view_module": "@jupyter-widgets/controls",
            "_view_module_version": "1.5.0",
            "_view_name": "ProgressView",
            "bar_style": "",
            "description": "",
            "description_tooltip": null,
            "layout": "IPY_MODEL_6dbe26fd955f4cf0b9694885f88893db",
            "max": 583,
            "min": 0,
            "orientation": "horizontal",
            "style": "IPY_MODEL_4566dc089e7f4e0183fd1d0bc8d31992",
            "value": 63
          }
        },
        "62edd8b118754f39a6b206105deaadb5": {
          "model_module": "@jupyter-widgets/controls",
          "model_name": "HTMLModel",
          "model_module_version": "1.5.0",
          "state": {
            "_dom_classes": [],
            "_model_module": "@jupyter-widgets/controls",
            "_model_module_version": "1.5.0",
            "_model_name": "HTMLModel",
            "_view_count": null,
            "_view_module": "@jupyter-widgets/controls",
            "_view_module_version": "1.5.0",
            "_view_name": "HTMLView",
            "description": "",
            "description_tooltip": null,
            "layout": "IPY_MODEL_9ce09b66dcfc43678354b071fe45d9ee",
            "placeholder": "​",
            "style": "IPY_MODEL_41dce107293746d7976d1e7b119a65fd",
            "value": " 63.0/583 [02:22&lt;18:58, 2.19s/batch, loss=0.00413]"
          }
        },
        "536f50b5592e44f982bd62eb7de16619": {
          "model_module": "@jupyter-widgets/base",
          "model_name": "LayoutModel",
          "model_module_version": "1.2.0",
          "state": {
            "_model_module": "@jupyter-widgets/base",
            "_model_module_version": "1.2.0",
            "_model_name": "LayoutModel",
            "_view_count": null,
            "_view_module": "@jupyter-widgets/base",
            "_view_module_version": "1.2.0",
            "_view_name": "LayoutView",
            "align_content": null,
            "align_items": null,
            "align_self": null,
            "border": null,
            "bottom": null,
            "display": null,
            "flex": null,
            "flex_flow": null,
            "grid_area": null,
            "grid_auto_columns": null,
            "grid_auto_flow": null,
            "grid_auto_rows": null,
            "grid_column": null,
            "grid_gap": null,
            "grid_row": null,
            "grid_template_areas": null,
            "grid_template_columns": null,
            "grid_template_rows": null,
            "height": null,
            "justify_content": null,
            "justify_items": null,
            "left": null,
            "margin": null,
            "max_height": null,
            "max_width": null,
            "min_height": null,
            "min_width": null,
            "object_fit": null,
            "object_position": null,
            "order": null,
            "overflow": null,
            "overflow_x": null,
            "overflow_y": null,
            "padding": null,
            "right": null,
            "top": null,
            "visibility": null,
            "width": null
          }
        },
        "37a4587135614b4e855e67379f588098": {
          "model_module": "@jupyter-widgets/base",
          "model_name": "LayoutModel",
          "model_module_version": "1.2.0",
          "state": {
            "_model_module": "@jupyter-widgets/base",
            "_model_module_version": "1.2.0",
            "_model_name": "LayoutModel",
            "_view_count": null,
            "_view_module": "@jupyter-widgets/base",
            "_view_module_version": "1.2.0",
            "_view_name": "LayoutView",
            "align_content": null,
            "align_items": null,
            "align_self": null,
            "border": null,
            "bottom": null,
            "display": null,
            "flex": null,
            "flex_flow": null,
            "grid_area": null,
            "grid_auto_columns": null,
            "grid_auto_flow": null,
            "grid_auto_rows": null,
            "grid_column": null,
            "grid_gap": null,
            "grid_row": null,
            "grid_template_areas": null,
            "grid_template_columns": null,
            "grid_template_rows": null,
            "height": null,
            "justify_content": null,
            "justify_items": null,
            "left": null,
            "margin": null,
            "max_height": null,
            "max_width": null,
            "min_height": null,
            "min_width": null,
            "object_fit": null,
            "object_position": null,
            "order": null,
            "overflow": null,
            "overflow_x": null,
            "overflow_y": null,
            "padding": null,
            "right": null,
            "top": null,
            "visibility": null,
            "width": null
          }
        },
        "9385202f512f42708d7a09ce184207f2": {
          "model_module": "@jupyter-widgets/controls",
          "model_name": "DescriptionStyleModel",
          "model_module_version": "1.5.0",
          "state": {
            "_model_module": "@jupyter-widgets/controls",
            "_model_module_version": "1.5.0",
            "_model_name": "DescriptionStyleModel",
            "_view_count": null,
            "_view_module": "@jupyter-widgets/base",
            "_view_module_version": "1.2.0",
            "_view_name": "StyleView",
            "description_width": ""
          }
        },
        "6dbe26fd955f4cf0b9694885f88893db": {
          "model_module": "@jupyter-widgets/base",
          "model_name": "LayoutModel",
          "model_module_version": "1.2.0",
          "state": {
            "_model_module": "@jupyter-widgets/base",
            "_model_module_version": "1.2.0",
            "_model_name": "LayoutModel",
            "_view_count": null,
            "_view_module": "@jupyter-widgets/base",
            "_view_module_version": "1.2.0",
            "_view_name": "LayoutView",
            "align_content": null,
            "align_items": null,
            "align_self": null,
            "border": null,
            "bottom": null,
            "display": null,
            "flex": null,
            "flex_flow": null,
            "grid_area": null,
            "grid_auto_columns": null,
            "grid_auto_flow": null,
            "grid_auto_rows": null,
            "grid_column": null,
            "grid_gap": null,
            "grid_row": null,
            "grid_template_areas": null,
            "grid_template_columns": null,
            "grid_template_rows": null,
            "height": null,
            "justify_content": null,
            "justify_items": null,
            "left": null,
            "margin": null,
            "max_height": null,
            "max_width": null,
            "min_height": null,
            "min_width": null,
            "object_fit": null,
            "object_position": null,
            "order": null,
            "overflow": null,
            "overflow_x": null,
            "overflow_y": null,
            "padding": null,
            "right": null,
            "top": null,
            "visibility": null,
            "width": null
          }
        },
        "4566dc089e7f4e0183fd1d0bc8d31992": {
          "model_module": "@jupyter-widgets/controls",
          "model_name": "ProgressStyleModel",
          "model_module_version": "1.5.0",
          "state": {
            "_model_module": "@jupyter-widgets/controls",
            "_model_module_version": "1.5.0",
            "_model_name": "ProgressStyleModel",
            "_view_count": null,
            "_view_module": "@jupyter-widgets/base",
            "_view_module_version": "1.2.0",
            "_view_name": "StyleView",
            "bar_color": null,
            "description_width": ""
          }
        },
        "9ce09b66dcfc43678354b071fe45d9ee": {
          "model_module": "@jupyter-widgets/base",
          "model_name": "LayoutModel",
          "model_module_version": "1.2.0",
          "state": {
            "_model_module": "@jupyter-widgets/base",
            "_model_module_version": "1.2.0",
            "_model_name": "LayoutModel",
            "_view_count": null,
            "_view_module": "@jupyter-widgets/base",
            "_view_module_version": "1.2.0",
            "_view_name": "LayoutView",
            "align_content": null,
            "align_items": null,
            "align_self": null,
            "border": null,
            "bottom": null,
            "display": null,
            "flex": null,
            "flex_flow": null,
            "grid_area": null,
            "grid_auto_columns": null,
            "grid_auto_flow": null,
            "grid_auto_rows": null,
            "grid_column": null,
            "grid_gap": null,
            "grid_row": null,
            "grid_template_areas": null,
            "grid_template_columns": null,
            "grid_template_rows": null,
            "height": null,
            "justify_content": null,
            "justify_items": null,
            "left": null,
            "margin": null,
            "max_height": null,
            "max_width": null,
            "min_height": null,
            "min_width": null,
            "object_fit": null,
            "object_position": null,
            "order": null,
            "overflow": null,
            "overflow_x": null,
            "overflow_y": null,
            "padding": null,
            "right": null,
            "top": null,
            "visibility": null,
            "width": null
          }
        },
        "41dce107293746d7976d1e7b119a65fd": {
          "model_module": "@jupyter-widgets/controls",
          "model_name": "DescriptionStyleModel",
          "model_module_version": "1.5.0",
          "state": {
            "_model_module": "@jupyter-widgets/controls",
            "_model_module_version": "1.5.0",
            "_model_name": "DescriptionStyleModel",
            "_view_count": null,
            "_view_module": "@jupyter-widgets/base",
            "_view_module_version": "1.2.0",
            "_view_name": "StyleView",
            "description_width": ""
          }
        }
      }
    }
  },
  "nbformat": 4,
  "nbformat_minor": 0
}